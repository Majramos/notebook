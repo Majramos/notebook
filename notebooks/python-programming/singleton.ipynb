{
 "cells": [
  {
   "cell_type": "markdown",
   "id": "93ff9a15-45b6-442b-ae01-23ffc6ef26a7",
   "metadata": {},
   "source": [
    "# Singleton\n",
    "singleton pattern is a software design pattern that restricts the instantiation of a class to one \"single\" instance"
   ]
  },
  {
   "cell_type": "markdown",
   "id": "859e6439-aac4-4ffd-8803-b5c6bae3d7ea",
   "metadata": {},
   "source": [
    "## Simple method"
   ]
  },
  {
   "cell_type": "code",
   "execution_count": 1,
   "id": "4ad57732-b3a9-41bf-9e04-0255d5151fd2",
   "metadata": {},
   "outputs": [
    {
     "name": "stdout",
     "output_type": "stream",
     "text": [
      "Singleton Examle\n",
      "x is y=True\n"
     ]
    }
   ],
   "source": [
    "class Singleton:\n",
    "    _instance = None\n",
    "    \n",
    "    def __new__(cls, *args, **kwargs):\n",
    "        if cls._instance is None:\n",
    "            cls._instance = super().__new__(cls, *args, **kwargs)\n",
    "            \n",
    "        return cls._instance\n",
    "\n",
    "print('Singleton Examle')\n",
    "x = Singleton()\n",
    "y = Singleton()\n",
    "print(f'{x is y=}')"
   ]
  },
  {
   "cell_type": "markdown",
   "id": "7d831b60-38d4-4e41-b915-8da3d34fca7d",
   "metadata": {},
   "source": [
    "## Using metaclass"
   ]
  },
  {
   "cell_type": "code",
   "execution_count": 2,
   "id": "578451ff-b0a1-47af-bc88-ce88636ce9ec",
   "metadata": {
    "tags": []
   },
   "outputs": [
    {
     "name": "stdout",
     "output_type": "stream",
     "text": [
      "Singleton Examle\n",
      "x is y=True\n"
     ]
    }
   ],
   "source": [
    "class Singleton(type):\n",
    "    _instance = None\n",
    "\n",
    "    def __call__(cls, *args, **kwds):\n",
    "        if not cls._instance:\n",
    "            cls._instance = super().__call__(*args, **kwds)\n",
    "        return cls._instance\n",
    "\n",
    "class A(metaclass=Singleton):\n",
    "    pass\n",
    "\n",
    "print('Singleton Examle')\n",
    "x = A()\n",
    "y = A()\n",
    "print(f'{x is y=}')"
   ]
  }
 ],
 "metadata": {
  "kernelspec": {
   "display_name": "Python 3 (ipykernel)",
   "language": "python",
   "name": "python3"
  },
  "language_info": {
   "codemirror_mode": {
    "name": "ipython",
    "version": 3
   },
   "file_extension": ".py",
   "mimetype": "text/x-python",
   "name": "python",
   "nbconvert_exporter": "python",
   "pygments_lexer": "ipython3",
   "version": "3.11.9"
  }
 },
 "nbformat": 4,
 "nbformat_minor": 5
}
