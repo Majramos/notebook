{
 "cells": [
  {
   "cell_type": "markdown",
   "id": "37055282-a9c1-4b55-93f4-32c92e2adf76",
   "metadata": {},
   "source": [
    "# Move/rename files from S3\n",
    "- This notebook is to be used to move files in s3 and can be used to move/rename files from a folder\n",
    "- Use this notebook when there are a lot of files, saving time vs using WinSCP"
   ]
  },
  {
   "cell_type": "code",
   "execution_count": 41,
   "id": "cf3d96ad-ea67-4521-9be1-244440aac7d8",
   "metadata": {
    "tags": []
   },
   "outputs": [
    {
     "data": {
      "text/plain": [
       "True"
      ]
     },
     "execution_count": 41,
     "metadata": {},
     "output_type": "execute_result"
    }
   ],
   "source": [
    "import os\n",
    "import boto3\n",
    "from multiprocessing.pool import Pool\n",
    "\n",
    "import pandas as pd\n",
    "from tqdm import tqdm\n",
    "from dotenv import load_dotenv\n",
    "\n",
    "load_dotenv('../../.env')"
   ]
  },
  {
   "cell_type": "markdown",
   "id": "959b0bf7-dad6-442d-abee-bb017ac3e7d8",
   "metadata": {},
   "source": [
    "## Connect do S3"
   ]
  },
  {
   "cell_type": "code",
   "execution_count": 2,
   "id": "030dfe0d-ad8b-4c9c-8d78-bdb3ec009b27",
   "metadata": {
    "tags": []
   },
   "outputs": [],
   "source": [
    "s3_client = boto3.client(\n",
    "    's3',\n",
    "    aws_access_key_id=os.environ.get('AWS_ACCESS_KEY_ID'),\n",
    "    aws_secret_access_key=os.environ.get('AWS_SECRET_ACCESS_KEY')\n",
    ")\n",
    "\n",
    "BUCKET = 'ddpawsfs'\n",
    "KEY = 'workspace/mkt-cli-solutions/'\n",
    "\n",
    "# check if bucket exists\n",
    "list_of_buckets = [r['Name'] for r in s3_client.list_buckets()['Buckets']]\n",
    "if not BUCKET in list_of_buckets: raise Exception()"
   ]
  },
  {
   "cell_type": "markdown",
   "id": "eb1ca0be-5b09-4415-88da-22bcd9361ef3",
   "metadata": {
    "tags": []
   },
   "source": [
    "## check files to delete"
   ]
  },
  {
   "cell_type": "code",
   "execution_count": 19,
   "id": "d81bfe93-bcda-428d-8cd6-afd8432eac82",
   "metadata": {
    "tags": []
   },
   "outputs": [
    {
     "name": "stderr",
     "output_type": "stream",
     "text": [
      "245it [00:50,  4.90it/s]\n"
     ]
    },
    {
     "name": "stdout",
     "output_type": "stream",
     "text": [
      "(244967, 1)\n"
     ]
    },
    {
     "data": {
      "text/html": [
       "<div>\n",
       "<style scoped>\n",
       "    .dataframe tbody tr th:only-of-type {\n",
       "        vertical-align: middle;\n",
       "    }\n",
       "\n",
       "    .dataframe tbody tr th {\n",
       "        vertical-align: top;\n",
       "    }\n",
       "\n",
       "    .dataframe thead th {\n",
       "        text-align: right;\n",
       "    }\n",
       "</style>\n",
       "<table border=\"1\" class=\"dataframe\">\n",
       "  <thead>\n",
       "    <tr style=\"text-align: right;\">\n",
       "      <th></th>\n",
       "      <th>keys</th>\n",
       "    </tr>\n",
       "  </thead>\n",
       "  <tbody>\n",
       "    <tr>\n",
       "      <th>0</th>\n",
       "      <td>workspace/mkt-cli-solutions/margens_gas_power/...</td>\n",
       "    </tr>\n",
       "    <tr>\n",
       "      <th>1</th>\n",
       "      <td>workspace/mkt-cli-solutions/margens_gas_power/...</td>\n",
       "    </tr>\n",
       "    <tr>\n",
       "      <th>2</th>\n",
       "      <td>workspace/mkt-cli-solutions/margens_gas_power/...</td>\n",
       "    </tr>\n",
       "    <tr>\n",
       "      <th>3</th>\n",
       "      <td>workspace/mkt-cli-solutions/margens_gas_power/...</td>\n",
       "    </tr>\n",
       "    <tr>\n",
       "      <th>4</th>\n",
       "      <td>workspace/mkt-cli-solutions/margens_gas_power/...</td>\n",
       "    </tr>\n",
       "  </tbody>\n",
       "</table>\n",
       "</div>"
      ],
      "text/plain": [
       "                                                keys\n",
       "0  workspace/mkt-cli-solutions/margens_gas_power/...\n",
       "1  workspace/mkt-cli-solutions/margens_gas_power/...\n",
       "2  workspace/mkt-cli-solutions/margens_gas_power/...\n",
       "3  workspace/mkt-cli-solutions/margens_gas_power/...\n",
       "4  workspace/mkt-cli-solutions/margens_gas_power/..."
      ]
     },
     "execution_count": 19,
     "metadata": {},
     "output_type": "execute_result"
    }
   ],
   "source": [
    "paginator = s3_client.get_paginator('list_objects_v2')\n",
    "pages = paginator.paginate(Bucket=BUCKET, Prefix=KEY+'margens_gas_power/telecontagens')\n",
    "\n",
    "objects_to_copy = []\n",
    "for page in tqdm(pages):\n",
    "    for obj in page['Contents']:\n",
    "        objects_to_copy.append(obj['Key'])\n",
    "\n",
    "counter_uploaded = pd.DataFrame(objects_to_copy, columns=['keys'])\n",
    "print(counter_uploaded.shape)\n",
    "counter_uploaded.head()"
   ]
  },
  {
   "cell_type": "markdown",
   "id": "6b7bd63d-2336-4c32-b239-1785ec34381d",
   "metadata": {
    "jp-MarkdownHeadingCollapsed": true,
    "tags": []
   },
   "source": [
    "## single file\n",
    "copy a single file in S3"
   ]
  },
  {
   "cell_type": "code",
   "execution_count": 20,
   "id": "8d32ac07-a763-4f66-9f2b-19ec78c173e6",
   "metadata": {},
   "outputs": [
    {
     "data": {
      "text/plain": [
       "'workspace/mkt-cli-solutions/margens_gas_power/telecontagens/raw/year=2018/month=06/voltage=bte/173593PEPT0002000001059349TH_20180709_13.sgl'"
      ]
     },
     "execution_count": 20,
     "metadata": {},
     "output_type": "execute_result"
    }
   ],
   "source": [
    "old_key = counter_uploaded['keys'][0]\n",
    "old_key"
   ]
  },
  {
   "cell_type": "code",
   "execution_count": 38,
   "id": "16b91c10-e810-4222-bb89-e5123c9f8d68",
   "metadata": {},
   "outputs": [
    {
     "data": {
      "text/plain": [
       "'workspace/mkt-cli-solutions/smart_meters_pt/raw/year=2018/month=06/voltage=bte/173593PEPT0002000001059349TH_20180709_13.sgl'"
      ]
     },
     "execution_count": 38,
     "metadata": {},
     "output_type": "execute_result"
    }
   ],
   "source": [
    "new_key = old_key.replace('margens_gas_power/telecontagens', 'smart_meters_pt')\n",
    "new_key"
   ]
  },
  {
   "cell_type": "markdown",
   "id": "2a185994-0f3e-4436-bcea-7232b385f808",
   "metadata": {},
   "source": [
    "### copy file"
   ]
  },
  {
   "cell_type": "code",
   "execution_count": 22,
   "id": "eacb9921-48c0-4fdb-af7a-9774d85f1ff5",
   "metadata": {},
   "outputs": [],
   "source": [
    "copy_source = {'Bucket': BUCKET, 'Key': old_key}\n",
    "s3_client.copy(copy_source, BUCKET, new_key)"
   ]
  },
  {
   "cell_type": "markdown",
   "id": "19b9a170-3df1-49a2-a0eb-f23645a12566",
   "metadata": {},
   "source": [
    "### check if new file exists"
   ]
  },
  {
   "cell_type": "code",
   "execution_count": 23,
   "id": "a94240e1-499f-4d7e-a14b-7d2403a57781",
   "metadata": {},
   "outputs": [],
   "source": [
    "try:\n",
    "    s3_client.head_object(Bucket=BUCKET, Key=new_key)\n",
    "except s3_client.exceptions.ClientError as e:\n",
    "    if e.response['Error']['Code'] == '404':\n",
    "        print('Key does not exist !!!')\n",
    "    else:\n",
    "        raise"
   ]
  },
  {
   "cell_type": "markdown",
   "id": "d3190ec8-ccdc-4446-a18b-adeb16ca4178",
   "metadata": {},
   "source": [
    "### delete file"
   ]
  },
  {
   "cell_type": "raw",
   "id": "a0bca626-7e0d-4825-9a0d-4a21136632c0",
   "metadata": {
    "execution": {
     "iopub.execute_input": "2022-05-09T13:00:53.794934Z",
     "iopub.status.busy": "2022-05-09T13:00:53.794061Z",
     "iopub.status.idle": "2022-05-09T13:00:54.251069Z",
     "shell.execute_reply": "2022-05-09T13:00:54.250137Z",
     "shell.execute_reply.started": "2022-05-09T13:00:53.794912Z"
    },
    "tags": []
   },
   "source": [
    "# s3_client.delete_object(\n",
    "#     Bucket=BUCKET,\n",
    "#     Key=old_key\n",
    "# )"
   ]
  },
  {
   "cell_type": "markdown",
   "id": "5e6f3778-33b4-4dd3-aa21-32529bafc33c",
   "metadata": {},
   "source": [
    "## multi files using pagination\n",
    "- when there are more than 1000 files to be deleted, using boto will require pagination because boto only lists 1000 files at the time\n",
    "- boto3 delete function will also delete 1000 files each time"
   ]
  },
  {
   "cell_type": "markdown",
   "id": "1b4d5b27-721c-4569-a758-ee65beea63fa",
   "metadata": {},
   "source": [
    "### copy files"
   ]
  },
  {
   "cell_type": "raw",
   "id": "aeac6fbb-a52e-4a60-b10b-ea18786cc166",
   "metadata": {},
   "source": [
    "for f in tqdm(counter_uploaded.itertuples(), total=counter_uploaded.shape[0], ncols=100):\n",
    "    old_key = f.keys\n",
    "    new_key = old_key.replace('margens_gas_power/telecontagens', 'smart_meters_pt')\n",
    "\n",
    "    copy_source = {'Bucket': BUCKET, 'Key': old_key}\n",
    "    s3_client.copy(copy_source, BUCKET, new_key)"
   ]
  },
  {
   "cell_type": "code",
   "execution_count": 49,
   "id": "be992adc-d201-4b7f-bcb2-89f12a8e2cfa",
   "metadata": {
    "scrolled": true,
    "tags": []
   },
   "outputs": [
    {
     "name": "stdout",
     "output_type": "stream",
     "text": [
      "244967\n"
     ]
    },
    {
     "data": {
      "text/plain": [
       "'workspace/mkt-cli-solutions/margens_gas_power/telecontagens/raw/year=2018/month=06/voltage=bte/173593PEPT0002000001059349TH_20180709_13.sgl'"
      ]
     },
     "execution_count": 49,
     "metadata": {},
     "output_type": "execute_result"
    }
   ],
   "source": [
    "files_to_copy = counter_uploaded['keys'].tolist()\n",
    "print(len(files_to_copy))\n",
    "files_to_copy[0]"
   ]
  },
  {
   "cell_type": "code",
   "execution_count": 51,
   "id": "fed16879-4de8-4bde-88c2-34f7e6cc22d1",
   "metadata": {},
   "outputs": [],
   "source": [
    "def copy_file_in_s3(old_key):\n",
    "\n",
    "    new_key = old_key.replace('margens_gas_power/telecontagens', 'smart_meters_pt')\n",
    "\n",
    "    copy_source = {'Bucket': BUCKET, 'Key': old_key}\n",
    "    s3_client.copy(copy_source, BUCKET, new_key)"
   ]
  },
  {
   "cell_type": "code",
   "execution_count": 53,
   "id": "d1e78336-b82b-432e-8a96-927eb72a7e85",
   "metadata": {},
   "outputs": [
    {
     "name": "stderr",
     "output_type": "stream",
     "text": [
      "copy files: 100%|███████████████████████████████████████████| 244967/244967 [43:36<00:00, 93.63it/s]\n"
     ]
    }
   ],
   "source": [
    "with Pool() as p:\n",
    "    with tqdm(total=len(files_to_copy), desc='copy files', ncols=100) as pbar:\n",
    "        for _ in p.imap_unordered(copy_file_in_s3, files_to_copy):\n",
    "            pbar.update()"
   ]
  },
  {
   "cell_type": "markdown",
   "id": "f2f610e4-ba26-49b9-be03-73ad4abccb3d",
   "metadata": {},
   "source": [
    "### check copy"
   ]
  },
  {
   "cell_type": "code",
   "execution_count": 54,
   "id": "a6e8bce8-ca45-4e46-9bbd-3d6a75c3a633",
   "metadata": {},
   "outputs": [
    {
     "name": "stderr",
     "output_type": "stream",
     "text": [
      "check copy: 100%|█████████████████████████████████████████| 244967/244967 [1:10:55<00:00, 57.57it/s]\n"
     ]
    }
   ],
   "source": [
    "for f in tqdm(files_to_copy, desc='check copy', ncols=100):\n",
    "    try:\n",
    "        s3_client.head_object(Bucket=BUCKET, Key=f.replace('margens_gas_power/telecontagens', 'smart_meters_pt'))\n",
    "    except s3_client.exceptions.ClientError as e:\n",
    "        if e.response['Error']['Code'] == '404':\n",
    "            print('Key does not exist !!!')\n",
    "        else:\n",
    "            raise"
   ]
  },
  {
   "cell_type": "markdown",
   "id": "ebbaf2d5-a47f-4621-8675-89cb8d1696c1",
   "metadata": {},
   "source": [
    "## delete files"
   ]
  },
  {
   "cell_type": "code",
   "execution_count": 55,
   "id": "cef96777-d269-4cee-be92-ea3bdcc1e765",
   "metadata": {
    "tags": []
   },
   "outputs": [
    {
     "name": "stderr",
     "output_type": "stream",
     "text": [
      "244967it [05:27, 748.08it/s]\n"
     ]
    }
   ],
   "source": [
    "paginator = s3_client.get_paginator('list_objects_v2')\n",
    "pages = paginator.paginate(Bucket=BUCKET, Prefix=KEY+'margens_gas_power/telecontagens')\n",
    "\n",
    "objects_to_delete = {'Objects': []}\n",
    "\n",
    "for obj in tqdm(pages.search('Contents')):\n",
    "    objects_to_delete['Objects'].append({'Key': obj['Key']})\n",
    "\n",
    "    # flush once aws limit reached\n",
    "    if len(objects_to_delete['Objects']) >= 1000:\n",
    "        s3_client.delete_objects(Bucket=BUCKET, Delete=objects_to_delete)\n",
    "        objects_to_delete = {'Objects': []}\n",
    "        \n",
    "if len(objects_to_delete['Objects']) < 1000:\n",
    "    s3_client.delete_objects(Bucket=BUCKET, Delete=objects_to_delete)"
   ]
  },
  {
   "cell_type": "code",
   "execution_count": null,
   "id": "f2baeedd-e175-4f0c-a8f9-082fc8f63dc2",
   "metadata": {},
   "outputs": [],
   "source": []
  }
 ],
 "metadata": {
  "kernelspec": {
   "display_name": "Python 3 (ipykernel)",
   "language": "python",
   "name": "python3"
  },
  "language_info": {
   "codemirror_mode": {
    "name": "ipython",
    "version": 3
   },
   "file_extension": ".py",
   "mimetype": "text/x-python",
   "name": "python",
   "nbconvert_exporter": "python",
   "pygments_lexer": "ipython3",
   "version": "3.8.8"
  }
 },
 "nbformat": 4,
 "nbformat_minor": 5
}
