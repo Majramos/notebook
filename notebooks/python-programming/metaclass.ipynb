{
 "cells": [
  {
   "cell_type": "markdown",
   "id": "10e6faff-16e7-4465-9ba2-eaba408bb90b",
   "metadata": {},
   "source": [
    "# Using metaclasses"
   ]
  },
  {
   "cell_type": "markdown",
   "id": "3708682f-d918-4493-8f24-83577bde9ccf",
   "metadata": {},
   "source": [
    "If you want to register every animal class you create, you’d need to call register for each one this class."
   ]
  },
  {
   "cell_type": "code",
   "execution_count": 1,
   "id": "be1570c8-f88c-4177-8abe-529ffa2ea862",
   "metadata": {
    "execution": {
     "iopub.execute_input": "2023-08-06T15:54:55.495061Z",
     "iopub.status.busy": "2023-08-06T15:54:55.494674Z",
     "iopub.status.idle": "2023-08-06T15:54:55.509274Z",
     "shell.execute_reply": "2023-08-06T15:54:55.508076Z",
     "shell.execute_reply.started": "2023-08-06T15:54:55.495042Z"
    },
    "tags": []
   },
   "outputs": [],
   "source": [
    "class AnimalFactory:\n",
    "    animals = {}\n",
    "\n",
    "    @classmethod\n",
    "    def from_name(cls, name):\n",
    "        animal_class = cls.animals.get(name.lower())\n",
    "        if not animal_class:\n",
    "            raise ValueError(\"Animal not found\")\n",
    "\n",
    "        return animal_class()\n",
    "\n",
    "    @classmethod\n",
    "    def register(cls, name, animal_class):\n",
    "        cls.animals[name] = animal_class"
   ]
  },
  {
   "cell_type": "markdown",
   "id": "6c960185-35d0-4255-9a8e-dc4603d34898",
   "metadata": {},
   "source": [
    "One way of doing this, and keep your code clean, is to use a metaclass that will register the class into AnimalFactory once it’s created (the class, not the object)."
   ]
  },
  {
   "cell_type": "code",
   "execution_count": 2,
   "id": "d60b3d08-5d82-4d1a-b18e-1998f055bc34",
   "metadata": {
    "execution": {
     "iopub.execute_input": "2023-08-06T15:54:55.510759Z",
     "iopub.status.busy": "2023-08-06T15:54:55.510460Z",
     "iopub.status.idle": "2023-08-06T15:54:55.523462Z",
     "shell.execute_reply": "2023-08-06T15:54:55.518799Z",
     "shell.execute_reply.started": "2023-08-06T15:54:55.510740Z"
    },
    "tags": []
   },
   "outputs": [],
   "source": [
    "class AnimalMeta(type):\n",
    "    def __new__(cls, name, bases, namespace):\n",
    "        new_cls = super().__new__(cls, name, bases, namespace)\n",
    "        AnimalFactory.register(name.lower(), new_cls)\n",
    "        return new_cls"
   ]
  },
  {
   "cell_type": "markdown",
   "id": "fadc610d-b4bb-4210-b464-fd0e083f765f",
   "metadata": {},
   "source": [
    "Now you assign this metaclass to Animal class, that way all classes that derive from Animal will use this metaclass and be registered in AnimalFactory class."
   ]
  },
  {
   "cell_type": "code",
   "execution_count": 3,
   "id": "6b54d7fb-a22a-4f15-a82a-1b57a610b7fc",
   "metadata": {
    "execution": {
     "iopub.execute_input": "2023-08-06T15:54:55.524676Z",
     "iopub.status.busy": "2023-08-06T15:54:55.524470Z",
     "iopub.status.idle": "2023-08-06T15:54:55.534767Z",
     "shell.execute_reply": "2023-08-06T15:54:55.533535Z",
     "shell.execute_reply.started": "2023-08-06T15:54:55.524657Z"
    }
   },
   "outputs": [],
   "source": [
    "class Animal(metaclass=AnimalMeta):\n",
    "    name = \"animal\"\n",
    "\n",
    "    def sound(self):\n",
    "        print(f\"Hey, I'm {self.name}!\")"
   ]
  },
  {
   "cell_type": "code",
   "execution_count": 4,
   "id": "781639ca-d48e-442e-bd37-133f8f8dd33b",
   "metadata": {
    "execution": {
     "iopub.execute_input": "2023-08-06T15:54:55.538682Z",
     "iopub.status.busy": "2023-08-06T15:54:55.537725Z",
     "iopub.status.idle": "2023-08-06T15:54:55.549166Z",
     "shell.execute_reply": "2023-08-06T15:54:55.547272Z",
     "shell.execute_reply.started": "2023-08-06T15:54:55.538630Z"
    },
    "tags": []
   },
   "outputs": [
    {
     "name": "stdout",
     "output_type": "stream",
     "text": [
      "Hey, I'm Kitty!\n",
      "Hey, I'm Rex!\n"
     ]
    }
   ],
   "source": [
    "class Dog(Animal):\n",
    "    name = \"Rex\"\n",
    "\n",
    "\n",
    "class Cat(Animal):\n",
    "    name = \"Kitty\"\n",
    "\n",
    "\n",
    "cat = AnimalFactory.from_name(\"cat\")\n",
    "cat.sound()\n",
    "dog = AnimalFactory.from_name(\"dog\")\n",
    "dog.sound()\n"
   ]
  }
 ],
 "metadata": {
  "kernelspec": {
   "display_name": "Python 3 (ipykernel)",
   "language": "python",
   "name": "python3"
  },
  "language_info": {
   "codemirror_mode": {
    "name": "ipython",
    "version": 3
   },
   "file_extension": ".py",
   "mimetype": "text/x-python",
   "name": "python",
   "nbconvert_exporter": "python",
   "pygments_lexer": "ipython3",
   "version": "3.10.11"
  }
 },
 "nbformat": 4,
 "nbformat_minor": 5
}
