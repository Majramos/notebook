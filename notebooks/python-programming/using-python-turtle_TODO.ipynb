{
 "cells": [
  {
   "cell_type": "markdown",
   "id": "e1791043-a7e3-4dee-a546-f401570d76d8",
   "metadata": {},
   "source": [
    "# Using python turtle"
   ]
  },
  {
   "cell_type": "markdown",
   "id": "76d73bd5-64d2-4572-89f8-b52b89636bda",
   "metadata": {},
   "source": [
    "## Dependencies that may be required"
   ]
  },
  {
   "cell_type": "markdown",
   "id": "6777a1de-e7ae-4fe0-9227-7fc729d36b5d",
   "metadata": {},
   "source": [
    "In the case of error\n",
    "```\n",
    "import _tkinter # If this fails your Python may not be configured for Tk\n",
    "```\n",
    "and/or\n",
    "```\n",
    "ImportError: libtk8.6.so: cannot open shared object file: No such file or directory\n",
    "```\n",
    "Means it may be missing the **tk** package in your system (probably will happen in linux).\n",
    "TO fix install the package\n",
    "```\n",
    "sudo pacman -S tk\n",
    "sudo apt-get install tk\n",
    "```"
   ]
  },
  {
   "cell_type": "markdown",
   "id": "a70814e2",
   "metadata": {},
   "source": [
    "### use turtle in the notebook\n",
    "\n",
    "requirements:\n",
    "- [ipyturtle3](https://pypi.org/project/ipyturtle3/)"
   ]
  },
  {
   "cell_type": "markdown",
   "id": "3d8d53af-d5b5-4941-b8d8-f6c24aa9c945",
   "metadata": {
    "execution": {
     "iopub.execute_input": "2023-09-24T16:45:59.501702Z",
     "iopub.status.busy": "2023-09-24T16:45:59.501448Z",
     "iopub.status.idle": "2023-09-24T16:45:59.513487Z",
     "shell.execute_reply": "2023-09-24T16:45:59.508724Z",
     "shell.execute_reply.started": "2023-09-24T16:45:59.501684Z"
    },
    "tags": []
   },
   "source": [
    "## Testing"
   ]
  },
  {
   "cell_type": "code",
   "execution_count": null,
   "id": "9dba680b-14e0-4a38-8093-3c0a590a47bd",
   "metadata": {
    "tags": []
   },
   "outputs": [],
   "source": [
    "from random import randint\n",
    "\n",
    "import ipyturtle3 as turtle\n",
    "from ipyturtle3 import hold_canvas"
   ]
  },
  {
   "cell_type": "code",
   "execution_count": null,
   "id": "97c65efa-8e3f-486d-9137-5f58ce8db071",
   "metadata": {
    "tags": []
   },
   "outputs": [],
   "source": [
    "myCanvas1=turtle.Canvas(width=500,height=250)\n",
    "display(myCanvas1)\n",
    "\n",
    "myTS1=turtle.TurtleScreen(myCanvas1)\n",
    "myTS1.clear()\n",
    "myTS1.bgcolor(\"lightgreen\")\n",
    "\n",
    "myTS1.delay(100)\n",
    "\n",
    "# Usual turtle Non-holonomic example\n",
    "bob=turtle.Turtle(myTS1)\n",
    "bob.shape(\"turtle\")\n",
    "bob.forward(50)\n",
    "bob.left(90)\n",
    "bob.forward(50)\n",
    "bob.left(90)\n",
    "bob.forward(50)\n",
    "bob.left(90)\n",
    "bob.forward(50)\n",
    "\n",
    "#Holonomic\n",
    "jess=turtle.Turtle(myTS1, isHolonomic=True)\n",
    "jess.shape(\"square\")\n",
    "jess.moveleft(200)\n",
    "jess.moveup(100)\n",
    "jess.moveright(100)\n",
    "jess.movedown(100)\n",
    "jess.turnright(45)\n",
    "jess.turn(-45)\n",
    "jess.distance_at_angle(50,45)"
   ]
  },
  {
   "cell_type": "code",
   "execution_count": null,
   "id": "aced8e5d-8f4e-4515-92ee-1c42a2657955",
   "metadata": {
    "tags": []
   },
   "outputs": [],
   "source": [
    "myCanvas2=turtle.Canvas(width=500,height=250)\n",
    "display(myCanvas2)\n",
    "\n",
    "myTS2=turtle.TurtleScreen(myCanvas2)\n",
    "myTS2.bgcolor('black')\n",
    "myTS2.delay(0)\n",
    "\n",
    "# Rainbow benzene\n",
    "colors = ['red', 'purple', 'blue', 'green', 'orange', 'yellow']\n",
    "t = turtle.Turtle(myTS2)\n",
    "t.pensize(10)\n",
    "t.speed(0)\n",
    "for x in range(100):\n",
    "    with (hold_canvas(myCanvas2)):\n",
    "        t.pencolor(colors[x%6])\n",
    "        t.width(x//100 + 1)\n",
    "        t.forward(x)\n",
    "        t.left(59)"
   ]
  },
  {
   "cell_type": "code",
   "execution_count": null,
   "id": "e46e1ee8-fd8c-4fc2-98d0-1724a3ad6405",
   "metadata": {
    "tags": []
   },
   "outputs": [],
   "source": [
    "# screen settings\n",
    "WIDTH, HEIGHT = 1600, 900\n",
    "myCanvas3 = turtle.Canvas(width=WIDTH, height=HEIGHT)\n",
    "display(myCanvas3)\n",
    "\n",
    "screen = turtle.TurtleScreen(myCanvas3)\n",
    "# screen.setup(WIDTH, HEIGHT)\n",
    "screen.screensize(3 * WIDTH, 3 * HEIGHT)\n",
    "screen.delay(0)\n",
    "\n",
    "# turtle settings\n",
    "leo = turtle.Turtle(screen)\n",
    "leo.pensize(3)\n",
    "leo.speed(0)\n",
    "leo.penup()\n",
    "leo.setpos(WIDTH // 6, -HEIGHT // 4 - 25)\n",
    "leo.pendown()\n",
    "leo.color('green')\n",
    "\n",
    "# l-system settings\n",
    "gens = 13\n",
    "axiom = 'XY'\n",
    "chr_1, rule_1 = 'X', 'F[@[-X]+X]'\n",
    "step = 85\n",
    "angle = lambda: randint(0, 45)\n",
    "stack = []\n",
    "color = [0.35, 0.2, 0.0]\n",
    "thickness = 20\n",
    "\n",
    "\n",
    "def apply_rules(axiom):\n",
    "    return ''.join([rule_1 if chr == chr_1 else chr for chr in axiom])\n",
    "\n",
    "\n",
    "def get_result(gens, axiom):\n",
    "    for gen in range(gens):\n",
    "        axiom = apply_rules(axiom)\n",
    "    return axiom\n",
    "\n",
    "\n",
    "# turtle.pencolor('white')\n",
    "# turtle.goto(-WIDTH // 2 + 60, HEIGHT // 2 - 100)\n",
    "# turtle.clear()\n",
    "# turtle.write(f'generation: {gens}', font=(\"Arial\", 60, \"normal\"))\n",
    "\n",
    "axiom = get_result(gens, axiom)\n",
    "leo.left(90)\n",
    "leo.pensize(thickness)\n",
    "for chr in axiom:\n",
    "    leo.color(color)\n",
    "    if chr == 'F' or chr == 'X':\n",
    "        leo.forward(step)\n",
    "    elif chr == '@':\n",
    "        step -= 6\n",
    "        color[1] += 0.04\n",
    "        thickness -= 2\n",
    "        thickness = max(1, thickness)\n",
    "        leo.pensize(thickness)\n",
    "    elif chr == '+':\n",
    "        leo.right(angle())\n",
    "    elif chr == '-':\n",
    "        leo.left(angle())\n",
    "    elif chr == '[':\n",
    "        angle_, pos_ = leo.heading(), leo.pos()\n",
    "        stack.append((angle_, pos_, thickness, step, color[1]))\n",
    "    elif chr == ']':\n",
    "        angle_, pos_, thickness, step, color[1] = stack.pop()\n",
    "        leo.pensize(thickness)\n",
    "        leo.setheading(angle_)\n",
    "        leo.penup()\n",
    "        leo.goto(pos_)\n",
    "        leo.pendown()"
   ]
  }
 ],
 "metadata": {
  "kernelspec": {
   "display_name": "Python 3 (ipykernel)",
   "language": "python",
   "name": "python3"
  },
  "language_info": {
   "codemirror_mode": {
    "name": "ipython",
    "version": 3
   },
   "file_extension": ".py",
   "mimetype": "text/x-python",
   "name": "python",
   "nbconvert_exporter": "python",
   "pygments_lexer": "ipython3",
   "version": "3.11.9"
  }
 },
 "nbformat": 4,
 "nbformat_minor": 5
}
