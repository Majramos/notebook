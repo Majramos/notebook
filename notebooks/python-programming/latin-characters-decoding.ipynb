{
 "cells": [
  {
   "cell_type": "markdown",
   "id": "475c98b2-781b-45e7-912f-b3aff645752d",
   "metadata": {},
   "source": [
    "# Decode the latin characters\n",
    "\n",
    "ASCII transliterations of Unicode text:\n",
    "[Unidecode](https://pypi.org/project/Unidecode/)"
   ]
  },
  {
   "cell_type": "code",
   "execution_count": 1,
   "id": "48043a4b-49fd-4949-a8b3-8c85ffa8a601",
   "metadata": {
    "execution": {
     "iopub.execute_input": "2023-09-21T14:02:04.919007Z",
     "iopub.status.busy": "2023-09-21T14:02:04.918290Z",
     "iopub.status.idle": "2023-09-21T14:02:05.732315Z",
     "shell.execute_reply": "2023-09-21T14:02:05.731352Z",
     "shell.execute_reply.started": "2023-09-21T14:02:04.918971Z"
    },
    "tags": []
   },
   "outputs": [],
   "source": [
    "import collections\n",
    "\n",
    "import pandas as pd\n",
    "from unidecode import unidecode"
   ]
  },
  {
   "cell_type": "markdown",
   "id": "238cdd28-5a6f-49e1-aac4-d5a6dfd6d587",
   "metadata": {},
   "source": [
    "## download table of latin [graphemes](Grapheme)"
   ]
  },
  {
   "cell_type": "code",
   "execution_count": 2,
   "id": "426270a5-f5e5-4f3d-9ee2-b61a0bfff982",
   "metadata": {
    "execution": {
     "iopub.execute_input": "2023-09-21T14:02:05.734082Z",
     "iopub.status.busy": "2023-09-21T14:02:05.733405Z",
     "iopub.status.idle": "2023-09-21T14:02:09.048974Z",
     "shell.execute_reply": "2023-09-21T14:02:09.047523Z",
     "shell.execute_reply.started": "2023-09-21T14:02:05.734051Z"
    },
    "tags": []
   },
   "outputs": [],
   "source": [
    "df = pd.read_html(\n",
    "    'https://en.wikipedia.org/wiki/List_of_Latin-script_letters',\n",
    "    attrs={'class':'wikitable'}\n",
    ")"
   ]
  },
  {
   "cell_type": "markdown",
   "id": "167c7343-62b1-4942-b028-4506b6a06c22",
   "metadata": {
    "tags": []
   },
   "source": [
    "### Basic latin characters [&#x1F517;](https://en.wikipedia.org/wiki/List_of_Latin-script_letters#Basic_Latin)"
   ]
  },
  {
   "cell_type": "code",
   "execution_count": 3,
   "id": "9397fb00-31ae-4f25-9026-ce3e931c3858",
   "metadata": {
    "execution": {
     "iopub.execute_input": "2023-09-21T14:02:09.050192Z",
     "iopub.status.busy": "2023-09-21T14:02:09.049916Z",
     "iopub.status.idle": "2023-09-21T14:02:09.074392Z",
     "shell.execute_reply": "2023-09-21T14:02:09.072853Z",
     "shell.execute_reply.started": "2023-09-21T14:02:09.050175Z"
    },
    "tags": []
   },
   "outputs": [
    {
     "data": {
      "text/html": [
       "<div>\n",
       "<style scoped>\n",
       "    .dataframe tbody tr th:only-of-type {\n",
       "        vertical-align: middle;\n",
       "    }\n",
       "\n",
       "    .dataframe tbody tr th {\n",
       "        vertical-align: top;\n",
       "    }\n",
       "\n",
       "    .dataframe thead th {\n",
       "        text-align: right;\n",
       "    }\n",
       "</style>\n",
       "<table border=\"1\" class=\"dataframe\">\n",
       "  <thead>\n",
       "    <tr style=\"text-align: right;\">\n",
       "      <th></th>\n",
       "      <th>0</th>\n",
       "      <th>1</th>\n",
       "      <th>2</th>\n",
       "      <th>3</th>\n",
       "      <th>4</th>\n",
       "      <th>5</th>\n",
       "      <th>6</th>\n",
       "      <th>7</th>\n",
       "      <th>8</th>\n",
       "      <th>9</th>\n",
       "      <th>...</th>\n",
       "      <th>16</th>\n",
       "      <th>17</th>\n",
       "      <th>18</th>\n",
       "      <th>19</th>\n",
       "      <th>20</th>\n",
       "      <th>21</th>\n",
       "      <th>22</th>\n",
       "      <th>23</th>\n",
       "      <th>24</th>\n",
       "      <th>25</th>\n",
       "    </tr>\n",
       "  </thead>\n",
       "  <tbody>\n",
       "    <tr>\n",
       "      <th>0</th>\n",
       "      <td>Aa</td>\n",
       "      <td>Bb</td>\n",
       "      <td>Cc</td>\n",
       "      <td>Dd</td>\n",
       "      <td>Ee</td>\n",
       "      <td>Ff</td>\n",
       "      <td>Gg</td>\n",
       "      <td>Hh</td>\n",
       "      <td>Ii</td>\n",
       "      <td>Jj</td>\n",
       "      <td>...</td>\n",
       "      <td>Qq</td>\n",
       "      <td>Rr</td>\n",
       "      <td>Ss</td>\n",
       "      <td>Tt</td>\n",
       "      <td>Uu</td>\n",
       "      <td>Vv</td>\n",
       "      <td>Ww</td>\n",
       "      <td>Xx</td>\n",
       "      <td>Yy</td>\n",
       "      <td>Zz</td>\n",
       "    </tr>\n",
       "  </tbody>\n",
       "</table>\n",
       "<p>1 rows × 26 columns</p>\n",
       "</div>"
      ],
      "text/plain": [
       "   0   1   2   3   4   5   6   7   8   9   ...  16  17  18  19  20  21  22   \n",
       "0  Aa  Bb  Cc  Dd  Ee  Ff  Gg  Hh  Ii  Jj  ...  Qq  Rr  Ss  Tt  Uu  Vv  Ww  \\\n",
       "\n",
       "   23  24  25  \n",
       "0  Xx  Yy  Zz  \n",
       "\n",
       "[1 rows x 26 columns]"
      ]
     },
     "execution_count": 3,
     "metadata": {},
     "output_type": "execute_result"
    }
   ],
   "source": [
    "raw_base = df[0]\n",
    "raw_base.head()"
   ]
  },
  {
   "cell_type": "code",
   "execution_count": 4,
   "id": "f4ebea9f-fb03-4914-bc73-b57c25358cc9",
   "metadata": {
    "execution": {
     "iopub.execute_input": "2023-09-21T14:02:09.079718Z",
     "iopub.status.busy": "2023-09-21T14:02:09.078931Z",
     "iopub.status.idle": "2023-09-21T14:02:09.091309Z",
     "shell.execute_reply": "2023-09-21T14:02:09.089591Z",
     "shell.execute_reply.started": "2023-09-21T14:02:09.079668Z"
    },
    "tags": []
   },
   "outputs": [
    {
     "data": {
      "text/plain": [
       "'A a B b C c D d E e F f G g H h I i J j K k L l M m N n O o P p Q q R r S s T t U u V v W w X x Y y Z z'"
      ]
     },
     "execution_count": 4,
     "metadata": {},
     "output_type": "execute_result"
    }
   ],
   "source": [
    "base = raw_base.T.values.reshape(1, 26).tolist()[0]\n",
    "base = sum(map(list, base), [])\n",
    "' '.join(base)"
   ]
  },
  {
   "cell_type": "markdown",
   "id": "122e666e-819e-4984-8753-4c89457f5cb0",
   "metadata": {},
   "source": [
    "### Extensions [&#x1F517;](https://en.wikipedia.org/wiki/List_of_Latin-script_letters#Extensions)"
   ]
  },
  {
   "cell_type": "code",
   "execution_count": 5,
   "id": "23d3a8e9-262f-4071-8abe-8fbd1cabc3bd",
   "metadata": {
    "execution": {
     "iopub.execute_input": "2023-09-21T14:02:09.093586Z",
     "iopub.status.busy": "2023-09-21T14:02:09.093040Z",
     "iopub.status.idle": "2023-09-21T14:02:09.109605Z",
     "shell.execute_reply": "2023-09-21T14:02:09.108087Z",
     "shell.execute_reply.started": "2023-09-21T14:02:09.093543Z"
    },
    "tags": []
   },
   "outputs": [
    {
     "data": {
      "text/html": [
       "<div>\n",
       "<style scoped>\n",
       "    .dataframe tbody tr th:only-of-type {\n",
       "        vertical-align: middle;\n",
       "    }\n",
       "\n",
       "    .dataframe tbody tr th {\n",
       "        vertical-align: top;\n",
       "    }\n",
       "\n",
       "    .dataframe thead th {\n",
       "        text-align: right;\n",
       "    }\n",
       "</style>\n",
       "<table border=\"1\" class=\"dataframe\">\n",
       "  <thead>\n",
       "    <tr style=\"text-align: right;\">\n",
       "      <th></th>\n",
       "      <th>Letter</th>\n",
       "      <th>Name</th>\n",
       "      <th>Notes</th>\n",
       "    </tr>\n",
       "  </thead>\n",
       "  <tbody>\n",
       "    <tr>\n",
       "      <th>0</th>\n",
       "      <td>ᴀ</td>\n",
       "      <td>Small capital A</td>\n",
       "      <td>Nonstandard phonetic symbol; Uralic Phonetic A...</td>\n",
       "    </tr>\n",
       "    <tr>\n",
       "      <th>1</th>\n",
       "      <td>Ɐ ɐ ᵄ</td>\n",
       "      <td>Turned A</td>\n",
       "      <td>Near-open central vowel[3]</td>\n",
       "    </tr>\n",
       "    <tr>\n",
       "      <th>2</th>\n",
       "      <td>Ɑ ɑ ᵅ</td>\n",
       "      <td>Alpha (script A)</td>\n",
       "      <td>IPA (open back unrounded vowel); Duka, Fe'fe, ...</td>\n",
       "    </tr>\n",
       "    <tr>\n",
       "      <th>3</th>\n",
       "      <td>ꬰ</td>\n",
       "      <td>Barred alpha</td>\n",
       "      <td>Otto Bremer's phonetic transcription system fo...</td>\n",
       "    </tr>\n",
       "    <tr>\n",
       "      <th>4</th>\n",
       "      <td>ꭤ</td>\n",
       "      <td>Inverted alpha</td>\n",
       "      <td>Americanist phonetics[5]</td>\n",
       "    </tr>\n",
       "  </tbody>\n",
       "</table>\n",
       "</div>"
      ],
      "text/plain": [
       "  Letter              Name                                              Notes\n",
       "0      ᴀ   Small capital A  Nonstandard phonetic symbol; Uralic Phonetic A...\n",
       "1  Ɐ ɐ ᵄ          Turned A                         Near-open central vowel[3]\n",
       "2  Ɑ ɑ ᵅ  Alpha (script A)  IPA (open back unrounded vowel); Duka, Fe'fe, ...\n",
       "3      ꬰ      Barred alpha  Otto Bremer's phonetic transcription system fo...\n",
       "4      ꭤ    Inverted alpha                           Americanist phonetics[5]"
      ]
     },
     "execution_count": 5,
     "metadata": {},
     "output_type": "execute_result"
    }
   ],
   "source": [
    "raw_extensions = df[1]\n",
    "raw_extensions.head()"
   ]
  },
  {
   "cell_type": "code",
   "execution_count": 6,
   "id": "8e1c097f-50f1-4055-be6f-579ed4f07f17",
   "metadata": {
    "execution": {
     "iopub.execute_input": "2023-09-21T14:02:09.113839Z",
     "iopub.status.busy": "2023-09-21T14:02:09.111841Z",
     "iopub.status.idle": "2023-09-21T14:02:09.124523Z",
     "shell.execute_reply": "2023-09-21T14:02:09.122470Z",
     "shell.execute_reply.started": "2023-09-21T14:02:09.113775Z"
    },
    "tags": []
   },
   "outputs": [
    {
     "data": {
      "text/plain": [
       "['ᴀ', 'Ɐ', 'ɐ', 'ᵄ', 'Ɑ', 'ɑ', 'ᵅ', 'ꬰ', 'ꭤ', 'Ɒ']"
      ]
     },
     "execution_count": 6,
     "metadata": {},
     "output_type": "execute_result"
    }
   ],
   "source": [
    "extensions = raw_extensions['Letter'].str.split(' ').values.tolist()\n",
    "extensions = sum(extensions, [])\n",
    "extensions[:10]"
   ]
  },
  {
   "cell_type": "markdown",
   "id": "c826be8d-c6bb-4a92-8c01-ab456e12bd3a",
   "metadata": {},
   "source": [
    "### Letters with diacritics [&#x1F517;](https://en.wikipedia.org/wiki/List_of_Latin-script_letters#Letters_with_diacritics)"
   ]
  },
  {
   "cell_type": "code",
   "execution_count": 7,
   "id": "badad6df-da3e-48bd-adad-9098fb795a3f",
   "metadata": {
    "execution": {
     "iopub.execute_input": "2023-09-21T14:02:09.126129Z",
     "iopub.status.busy": "2023-09-21T14:02:09.125821Z",
     "iopub.status.idle": "2023-09-21T14:02:09.141503Z",
     "shell.execute_reply": "2023-09-21T14:02:09.140243Z",
     "shell.execute_reply.started": "2023-09-21T14:02:09.126111Z"
    },
    "tags": []
   },
   "outputs": [
    {
     "data": {
      "text/html": [
       "<div>\n",
       "<style scoped>\n",
       "    .dataframe tbody tr th:only-of-type {\n",
       "        vertical-align: middle;\n",
       "    }\n",
       "\n",
       "    .dataframe tbody tr th {\n",
       "        vertical-align: top;\n",
       "    }\n",
       "\n",
       "    .dataframe thead th {\n",
       "        text-align: right;\n",
       "    }\n",
       "</style>\n",
       "<table border=\"1\" class=\"dataframe\">\n",
       "  <thead>\n",
       "    <tr style=\"text-align: right;\">\n",
       "      <th></th>\n",
       "      <th>Letter</th>\n",
       "      <th>Name</th>\n",
       "      <th>Notes</th>\n",
       "    </tr>\n",
       "  </thead>\n",
       "  <tbody>\n",
       "    <tr>\n",
       "      <th>0</th>\n",
       "      <td>ẚ</td>\n",
       "      <td>A with right half ring</td>\n",
       "      <td>NaN</td>\n",
       "    </tr>\n",
       "    <tr>\n",
       "      <th>1</th>\n",
       "      <td>À à</td>\n",
       "      <td>A with grave</td>\n",
       "      <td>Aghem, Ahlon, Arammba, Awing, Baka, Bali (Adam...</td>\n",
       "    </tr>\n",
       "    <tr>\n",
       "      <th>2</th>\n",
       "      <td>Á á</td>\n",
       "      <td>A with acute</td>\n",
       "      <td>Afrikaans, Aghem, Ahlon, Arammba, Awing, Bafia...</td>\n",
       "    </tr>\n",
       "    <tr>\n",
       "      <th>3</th>\n",
       "      <td>Â â</td>\n",
       "      <td>A with circumflex</td>\n",
       "      <td>Awing, Bangolan, Berber, Dutch, Emilian, Ewond...</td>\n",
       "    </tr>\n",
       "    <tr>\n",
       "      <th>4</th>\n",
       "      <td>Ầ ầ</td>\n",
       "      <td>A with circumflex and grave</td>\n",
       "      <td>Vietnamese</td>\n",
       "    </tr>\n",
       "  </tbody>\n",
       "</table>\n",
       "</div>"
      ],
      "text/plain": [
       "  Letter                         Name   \n",
       "0      ẚ       A with right half ring  \\\n",
       "1    À à                 A with grave   \n",
       "2    Á á                 A with acute   \n",
       "3    Â â            A with circumflex   \n",
       "4    Ầ ầ  A with circumflex and grave   \n",
       "\n",
       "                                               Notes  \n",
       "0                                                NaN  \n",
       "1  Aghem, Ahlon, Arammba, Awing, Baka, Bali (Adam...  \n",
       "2  Afrikaans, Aghem, Ahlon, Arammba, Awing, Bafia...  \n",
       "3  Awing, Bangolan, Berber, Dutch, Emilian, Ewond...  \n",
       "4                                         Vietnamese  "
      ]
     },
     "execution_count": 7,
     "metadata": {},
     "output_type": "execute_result"
    }
   ],
   "source": [
    "raw_diacritics = df[2]\n",
    "raw_diacritics.head()"
   ]
  },
  {
   "cell_type": "code",
   "execution_count": 8,
   "id": "95457d71-1058-40f9-b07f-2f96c5716b94",
   "metadata": {
    "execution": {
     "iopub.execute_input": "2023-09-21T14:02:09.143306Z",
     "iopub.status.busy": "2023-09-21T14:02:09.142927Z",
     "iopub.status.idle": "2023-09-21T14:02:09.174507Z",
     "shell.execute_reply": "2023-09-21T14:02:09.170981Z",
     "shell.execute_reply.started": "2023-09-21T14:02:09.143286Z"
    },
    "tags": []
   },
   "outputs": [
    {
     "data": {
      "text/plain": [
       "['ẚ', 'À', 'à', 'Á', 'á', 'Â', 'â', 'Ầ', 'ầ', 'Ấ']"
      ]
     },
     "execution_count": 8,
     "metadata": {},
     "output_type": "execute_result"
    }
   ],
   "source": [
    "diacritics = raw_diacritics['Letter'].str.split(' ').values.tolist()\n",
    "diacritics = sum(diacritics, [])\n",
    "diacritics[:10]"
   ]
  },
  {
   "cell_type": "markdown",
   "id": "0ff01f20-59e8-4db6-b1ca-bf42578b8635",
   "metadata": {},
   "source": [
    "### Ligatures [&#x1F517;](https://en.wikipedia.org/wiki/List_of_Latin-script_letters#Ligatures)"
   ]
  },
  {
   "cell_type": "code",
   "execution_count": 9,
   "id": "c4822b75-ba0a-4766-a5f7-f2ad3b81a6ae",
   "metadata": {
    "execution": {
     "iopub.execute_input": "2023-09-21T14:02:09.177969Z",
     "iopub.status.busy": "2023-09-21T14:02:09.177665Z",
     "iopub.status.idle": "2023-09-21T14:02:09.190522Z",
     "shell.execute_reply": "2023-09-21T14:02:09.189208Z",
     "shell.execute_reply.started": "2023-09-21T14:02:09.177951Z"
    },
    "tags": []
   },
   "outputs": [
    {
     "data": {
      "text/html": [
       "<div>\n",
       "<style scoped>\n",
       "    .dataframe tbody tr th:only-of-type {\n",
       "        vertical-align: middle;\n",
       "    }\n",
       "\n",
       "    .dataframe tbody tr th {\n",
       "        vertical-align: top;\n",
       "    }\n",
       "\n",
       "    .dataframe thead th {\n",
       "        text-align: right;\n",
       "    }\n",
       "</style>\n",
       "<table border=\"1\" class=\"dataframe\">\n",
       "  <thead>\n",
       "    <tr style=\"text-align: right;\">\n",
       "      <th></th>\n",
       "      <th>Letter</th>\n",
       "      <th>Name</th>\n",
       "      <th>Notes</th>\n",
       "    </tr>\n",
       "  </thead>\n",
       "  <tbody>\n",
       "    <tr>\n",
       "      <th>0</th>\n",
       "      <td>Ꜳ ꜳ 𐞀</td>\n",
       "      <td>AA</td>\n",
       "      <td>Medieval Nordic vowel /aː/;[9] Superscript for...</td>\n",
       "    </tr>\n",
       "    <tr>\n",
       "      <th>1</th>\n",
       "      <td>Ꜳ́ ꜳ́</td>\n",
       "      <td>AA with acute</td>\n",
       "      <td>NaN</td>\n",
       "    </tr>\n",
       "    <tr>\n",
       "      <th>2</th>\n",
       "      <td>Ꜳ̋ ꜳ̋</td>\n",
       "      <td>AA with double acute</td>\n",
       "      <td>NaN</td>\n",
       "    </tr>\n",
       "    <tr>\n",
       "      <th>3</th>\n",
       "      <td>Ꜳ̇ ꜳ̇</td>\n",
       "      <td>AA with dot above</td>\n",
       "      <td>NaN</td>\n",
       "    </tr>\n",
       "    <tr>\n",
       "      <th>4</th>\n",
       "      <td>Ꜳ̈ ꜳ̈</td>\n",
       "      <td>AA with diaeresis</td>\n",
       "      <td>NaN</td>\n",
       "    </tr>\n",
       "  </tbody>\n",
       "</table>\n",
       "</div>"
      ],
      "text/plain": [
       "  Letter                  Name   \n",
       "0  Ꜳ ꜳ 𐞀                    AA  \\\n",
       "1  Ꜳ́ ꜳ́         AA with acute   \n",
       "2  Ꜳ̋ ꜳ̋  AA with double acute   \n",
       "3  Ꜳ̇ ꜳ̇     AA with dot above   \n",
       "4  Ꜳ̈ ꜳ̈     AA with diaeresis   \n",
       "\n",
       "                                               Notes  \n",
       "0  Medieval Nordic vowel /aː/;[9] Superscript for...  \n",
       "1                                                NaN  \n",
       "2                                                NaN  \n",
       "3                                                NaN  \n",
       "4                                                NaN  "
      ]
     },
     "execution_count": 9,
     "metadata": {},
     "output_type": "execute_result"
    }
   ],
   "source": [
    "raw_ligatures = df[3]\n",
    "raw_ligatures.head()"
   ]
  },
  {
   "cell_type": "code",
   "execution_count": 10,
   "id": "9c3d3783-7f0c-4d77-98e2-482123827296",
   "metadata": {
    "execution": {
     "iopub.execute_input": "2023-09-21T14:02:09.192455Z",
     "iopub.status.busy": "2023-09-21T14:02:09.191939Z",
     "iopub.status.idle": "2023-09-21T14:02:09.204729Z",
     "shell.execute_reply": "2023-09-21T14:02:09.203494Z",
     "shell.execute_reply.started": "2023-09-21T14:02:09.192412Z"
    },
    "tags": []
   },
   "outputs": [
    {
     "data": {
      "text/plain": [
       "['Ꜳ', 'ꜳ', '\\U00010780', 'Ꜳ́', 'ꜳ́', 'Ꜳ̋', 'ꜳ̋', 'Ꜳ̇', 'ꜳ̇', 'Ꜳ̈']"
      ]
     },
     "execution_count": 10,
     "metadata": {},
     "output_type": "execute_result"
    }
   ],
   "source": [
    "ligatures = raw_ligatures['Letter'].str.split(' ').values.tolist()\n",
    "ligatures = sum(ligatures, [])\n",
    "ligatures[:10]"
   ]
  },
  {
   "cell_type": "markdown",
   "id": "52dfc92b-e7b3-4bc3-b472-a68e4d47a3de",
   "metadata": {},
   "source": [
    "## decode all characters"
   ]
  },
  {
   "cell_type": "code",
   "execution_count": 11,
   "id": "d10a346c-a700-47fa-985c-6d200d1ca4ea",
   "metadata": {
    "execution": {
     "iopub.execute_input": "2023-09-21T14:02:09.207357Z",
     "iopub.status.busy": "2023-09-21T14:02:09.206062Z",
     "iopub.status.idle": "2023-09-21T14:02:09.215468Z",
     "shell.execute_reply": "2023-09-21T14:02:09.213826Z",
     "shell.execute_reply.started": "2023-09-21T14:02:09.207317Z"
    },
    "tags": []
   },
   "outputs": [
    {
     "name": "stdout",
     "output_type": "stream",
     "text": [
      "Number of characters 4139\n"
     ]
    }
   ],
   "source": [
    "to_decode = base + extensions + diacritics + ligatures\n",
    "print('Number of characters', len(to_decode))"
   ]
  },
  {
   "cell_type": "code",
   "execution_count": 12,
   "id": "1de83d3a-b706-481a-91c2-7d772af865c8",
   "metadata": {
    "execution": {
     "iopub.execute_input": "2023-09-21T14:02:09.218284Z",
     "iopub.status.busy": "2023-09-21T14:02:09.217750Z",
     "iopub.status.idle": "2023-09-21T14:02:09.238646Z",
     "shell.execute_reply": "2023-09-21T14:02:09.237576Z",
     "shell.execute_reply.started": "2023-09-21T14:02:09.218254Z"
    },
    "tags": []
   },
   "outputs": [],
   "source": [
    "decoded = collections.defaultdict(list)\n",
    "\n",
    "for char in to_decode:\n",
    "    _decoded = unidecode(char)\n",
    "    decoded[_decoded].append(char)\n",
    "    \n",
    "decoded = dict(decoded)"
   ]
  },
  {
   "cell_type": "code",
   "execution_count": 15,
   "id": "05eb8de2-6ea5-4587-bab1-aba5e96b14d8",
   "metadata": {
    "execution": {
     "iopub.execute_input": "2023-09-21T14:05:01.970085Z",
     "iopub.status.busy": "2023-09-21T14:05:01.969733Z",
     "iopub.status.idle": "2023-09-21T14:05:01.980988Z",
     "shell.execute_reply": "2023-09-21T14:05:01.978534Z",
     "shell.execute_reply.started": "2023-09-21T14:05:01.970066Z"
    },
    "tags": []
   },
   "outputs": [
    {
     "name": "stdout",
     "output_type": "stream",
     "text": [
      "--  A  -- \n",
      "A ᴀ Ɐ À Á Â Ầ Ấ Ẫ Ẩ Ã Ã̀ Ã́ Ã̂ Ã̌ Ã̍ Ã̎ Ā Ā̀ Ā́ Ā̂ Ā̃ Ā̃́ Ā̄ Ā̆ Ā̆́ Ā̈ Ā̊ Ā̌ Ă Ằ Ắ Ẵ Ẳ Ȧ Ȧ́ Ǡ Ä Ä́ Ä̀ Ä̂ Ä̃ Ǟ Ǟ̆ Ä̆ Ä̌ Ả Å Å Ǻ Å̂ Å̃ Å̄ Å̄̆ Å̆ A̋ Ǎ A̍ A̎ Ȁ Ȃ A̐ A̓ A̧ À̧ Á̧ Â̧ Ǎ̧ A̭ A̰ À̰ Á̰ Ā̰ Ä̰ Ä̰́ Ą Ą̀ Ą́ Ą̂ Ą̃ Ą̄ Ą̄̀ Ą̄́ Ą̄̂ Ą̄̌ Ą̇ Ą̈ Ą̈̀ Ą̈́ Ą̈̂ Ą̈̌ Ą̈̄ Ą̊ Ą̌ Ą̋ Ą̱ Ą̱̀ Ą̱́ A᷎ A̱ À̱ Á̱ Â̱ Ã̱ Ā̱ Ā̱̀ Ā̱́ Ā̱̂ Ä̱ Ä̱̀ Ä̱́ Ä̱̂ Ä̱̌ Å̱ Ǎ̱ A̱̥ Ạ Ạ́ Ạ̀ Ậ Ạ̃ Ạ̄ Ặ Ạ̈ Ạ̈̀ Ạ̈́ Ạ̈̂ Ạ̈̌ Ạ̌ Ạ̍ A̤ À̤ Á̤ Â̤ Ä̤ Ḁ Ḁ̂ Ḁ̈ A̯ A̩ À̩ Á̩ Â̩ Ã̩ Ā̩ Ǎ̩ A̩̍ A̩̓ A͔ Ā͔ Ⱥ Ⱥ̀ Ⱥ́ \n",
      "\n",
      "--  a  -- \n",
      "a ɐ ᵄ ɑ ᵅ ɒ ẚ à á â ầ ấ ẫ ẩ ã ã̀ ã́ ã̂ ã̌ ã̍ ã̎ ā ā̀ ā́ ā̂ ā̃ ā̃́ ā̄ ā̆ ā̆́ ā̈ ā̊ ā̌ ă ằ ắ ẵ ẳ ȧ ȧ́ ǡ ä ä́ ä̀ ä̂ ä̃ ǟ ǟ̆ ä̆ ä̌ ả å ǻ å̂ å̃ å̄ å̄̆ å̆ a̋ ǎ a̍ a̎ ȁ ȃ a̐ a̓ a̧ à̧ á̧ â̧ ǎ̧ a̭ a̰ à̰ á̰ ā̰ ä̰ ä̰́ ą ą̀ ą́ ą̂ ą̃ ą̄ ą̄̀ ą̄́ ą̄̂ ą̄̌ ą̇ ą̈ ą̈̀ ą̈́ ą̈̂ ą̈̌ ą̈̄ ą̊ ą̌ ą̋ ą̱ ą̱̀ ą̱́ a᷎ a̱ à̱ á̱ â̱ ã̱ ā̱ ā̱̀ ā̱́ ā̱̂ ä̱ ä̱̀ ä̱́ ä̱̂ ä̱̌ å̱ ǎ̱ a̱̥ ạ ạ́ ạ̀ ậ ạ̃ ạ̄ ặ ạ̈ ạ̈̀ ạ̈́ ạ̈̂ ạ̈̌ ạ̌ ạ̍ a̤ à̤ á̤ â̤ ä̤ ḁ ḁ̂ ḁ̈ a̯ a̩ à̩ á̩ â̩ ã̩ ā̩ ǎ̩ a̩̍ a̩̓ a͔ ā͔ ⱥ ⱥ̀ ⱥ́ ɑ̀ ɑ́ ɑ̂ ɑ̃ ɑ̄ ɑ̆ ɑ̇ ɑ̈ ɑ̊ ɑ̌ \n",
      "\n",
      "--  B  -- \n",
      "B ʙ ᴃ ᴯ B̀ B́ B̂ B̃ B̄ Ḃ B̈ B̒ B̕ Ḇ Ḇ̂ Ḅ B̤ B̥ B̬ Ƀ Ɓ Ƃ B̪ ʙ̇ ʙ̣ \n",
      "\n",
      "--  b  -- \n",
      "b b̀ b́ b̂ b̃ b̄ ḃ b̈ b̒ b̕ ḇ ḇ̂ ḅ b̤ b̥ b̬ ƀ ᵬ ᶀ ɓ ƃ b̪ \n",
      "\n",
      "--  C  -- \n",
      "C ᴄ ʗ C̀ Ć Ĉ C̃ C̄ C̄́ C̆ Ċ C̈ Č Č́ Č͑ Č̓ Č̕ Č̔ C̋ C̓ C̕ C̔ C͑ Ç Ḉ Ç̆ Ç̇ Ç̌ C̦ C̭ C̱ C̮ C̣ Ć̣ Č̣ C̥ C̬ C̯ C̨ Ȼ Ȼ̓ Ƈ \n",
      "\n",
      "--  c  -- \n",
      "c c̀ ć ĉ c̃ c̄ c̄́ c̆ ċ c̈ č č́ č͑ č̓ č̕ č̔ c̋ c̓ c̕ c̔ c͑ ç ḉ ç̆ ç̇ ç̌ c̦ c̭ c̱ c̮ c̣ ć̣ č̣ c̥ c̬ c̯ c̨ ȼ ȼ̓ ƈ ɕ \n",
      "\n",
      "--  D  -- \n",
      "D Ð ᴅ ᴆ D́ D̂ D̃ D̄ Ḋ D̊ Ď D̑ D̓ D̕ Ḑ D̦ Ḓ Ḏ D̮ Ḍ Ḍ́ Ḍ̄ D̤ D̥ D̬ D̪ Đ Đ̣ Đ̱ Ɖ Ɗ Ƌ ᴅ̇ ᴅ̣ Ð́ Ð̣ \n",
      "\n",
      "--  d  -- \n",
      "d ð ƍ d́ d̂ d̃ d̄ ḋ d̊ ď d̑ d̓ d̕ ḑ d̦ ḓ ḏ d̮ ḍ ḍ́ ḍ̄ d̤ d̥ d̬ d̪ đ đ̣ đ̱ ᵭ ᶁ ɖ ɗ ƌ ȡ ð́ ð̣ \n",
      "\n",
      "--  E  -- \n",
      "E ᴇ ᴲ Ɛ ʚ È É Ê Ề Ế Ễ Ê̄ Ê̆ Ê̌ Ể Ẽ Ẽ̀ Ẽ́ Ẽ̂ Ẽ̌ Ẽ̍ Ẽ̎ Ē Ḕ Ḗ Ē̂ Ē̃ Ē̃́ Ē̄ Ē̆ Ē̆́ Ē̌ Ē̑ Ĕ Ĕ̀ Ĕ́ Ĕ̄ Ė Ė́ Ė̃ Ė̄ Ë Ë̀ Ë́ Ë̂ Ë̃ Ë̄ Ë̌ Ẻ E̊ E̊̄ E̋ Ě Ě́ Ě̃ Ě̋ Ě̑ E̍ E̎ Ȅ Ȇ E̓ E᷎ Ȩ Ȩ̀ Ȩ́ Ȩ̂ Ḝ Ȩ̌ Ẽ̦ Ę Ę̀ Ę́ Ę̂ Ę̃ Ę̃́ Ę̄ Ę̄̀ Ę̄́ Ę̄̂ Ę̄̃ Ę̄̌ Ę̆ Ę̇ Ę̇́ Ę̈ Ę̈̀ Ę̈́ Ę̈̂ Ę̈̌ Ę̈̄ Ę̋ Ę̌ Ę̑ Ę̱ Ę̱̀ Ę̱́ Ę̣ Ę᷎ Ḙ Ḛ E̱ È̱ É̱ Ê̱ Ẽ̱ Ē̱ Ḕ̱ Ḗ̱ Ē̱̂ Ë̱ Ë̱̀ Ë̱́ Ë̱̂ Ë̱̌ Ě̱ E̮ Ē̮ Ẹ Ẹ̀ Ẹ́ Ệ Ẹ̃ Ẹ̄ Ẹ̄̀ Ẹ̄́ Ẹ̄̃ Ẹ̆ Ẹ̆̀ Ẹ̆́ Ẹ̈ Ẹ̈̀ Ẹ̈́ Ẹ̈̂ Ẹ̈̌ Ẹ̍ Ẹ̌ Ẹ̑ E̤ È̤ É̤ Ê̤ Ë̤ E̥ E̯ E̩ È̩ É̩ Ê̩ Ẽ̩ Ē̩ Ě̩ E̩̍ E̩̓ È͕ Ê͕ Ẽ͕ Ē͕ Ḕ͕ E̜ E̹ È̹ É̹ Ê̹ Ẽ̹ Ē̹ Ḕ̹ Ɇ E̞ Ɛ̀ Ɛ́ Ɛ̂ Ɛ̃ Ɛ̃̀ Ɛ̃́ Ɛ̃̂ Ɛ̃̌ Ɛ̃̍ Ɛ̃̎ Ɛ̄ Ɛ̆ Ɛ̇ Ɛ̈ Ɛ̈̀ Ɛ̈́ Ɛ̈̂ Ɛ̈̌ Ɛ̌ Ɛ̍ Ɛ̎ Ɛ̣ Ɛ̣̀ Ɛ̣́ Ɛ̣̂ Ɛ̣̃ Ɛ̣̈ Ɛ̣̈̀ Ɛ̣̈́ Ɛ̣̈̂ Ɛ̣̈̌ Ɛ̣̌ Ɛ̤ Ɛ̤̀ Ɛ̤́ Ɛ̤̂ Ɛ̤̈ Ɛ̧ Ɛ̧̀ Ɛ̧́ Ɛ̧̂ Ɛ̧̌ Ɛ̨ Ɛ̨̀ Ɛ̨́ Ɛ̨̂ Ɛ̨̄ Ɛ̨̆ Ɛ̨̈ Ɛ̨̌ Ɛ̰ Ɛ̰̀ Ɛ̰́ Ɛ̰̄ Ɛ̱ Ɛ̱̀ Ɛ̱́ Ɛ̱̂ Ɛ̱̃ Ɛ̱̈ Ɛ̱̈̀ Ɛ̱̈́ Ɛ̱̌ \n",
      "\n",
      "--  e  -- \n",
      "e ɛ ᵋ ɘ ɜ ɞ ᴈ ᵌ è é ê ề ế ễ ê̄ ê̆ ê̌ ể ẽ ẽ̀ ẽ́ ẽ̂ ẽ̌ ẽ̍ ẽ̎ ē ḕ ḗ ē̂ ē̃ ē̃́ ē̄ ē̆ ē̆́ ē̌ ē̑ ĕ ĕ̀ ĕ́ ĕ̄ ė ė́ ė̃ ė̄ ë ë̀ ë́ ë̂ ë̃ ë̄ ë̌ ẻ e̊ e̊̄ e̋ ě ě́ ě̃ ě̋ ě̑ e̍ e̎ ȅ ȇ e̓ e᷎ ȩ ȩ̀ ȩ́ ȩ̂ ḝ ȩ̌ ẽ̦ ę ę̀ ę́ ę̂ ę̃ ę̃́ ę̄ ę̄̀ ę̄́ ę̄̂ ę̄̃ ę̄̌ ę̆ ę̇ ę̇́ ę̈ ę̈̀ ę̈́ ę̈̂ ę̈̌ ę̈̄ ę̋ ę̌ ę̑ ę̱ ę̱̀ ę̱́ ę̣ ę᷎ ḙ ḛ e̱ è̱ é̱ ê̱ ẽ̱ ē̱ ḕ̱ ḗ̱ ē̱̂ ë̱ ë̱̀ ë̱́ ë̱̂ ë̱̌ ě̱ e̮ ē̮ ẹ ẹ̀ ẹ́ ệ ẹ̃ ẹ̄ ẹ̄̀ ẹ̄́ ẹ̄̃ ẹ̆ ẹ̆̀ ẹ̆́ ẹ̈ ẹ̈̀ ẹ̈́ ẹ̈̂ ẹ̈̌ ẹ̍ ẹ̌ ẹ̑ e̤ è̤ é̤ ê̤ ë̤ e̥ e̯ e̩ è̩ é̩ ê̩ ẽ̩ ē̩ ě̩ e̩̍ e̩̓ è͕ ê͕ ẽ͕ ē͕ ḕ͕ e̜ e̹ è̹ é̹ ê̹ ẽ̹ ē̹ ḕ̹ ɇ e̞ ɝ ɛ̀ ɛ́ ɛ̂ ɛ̃ ɛ̃̀ ɛ̃́ ɛ̃̂ ɛ̃̌ ɛ̃̍ ɛ̃̎ ɛ̄ ɛ̆ ɛ̇ ɛ̈ ɛ̈̀ ɛ̈́ ɛ̈̂ ɛ̈̌ ɛ̌ ɛ̍ ɛ̎ ɛ̣ ɛ̣̀ ɛ̣́ ɛ̣̂ ɛ̣̃ ɛ̣̈ ɛ̣̈̀ ɛ̣̈́ ɛ̣̈̂ ɛ̣̈̌ ɛ̣̌ ɛ̤ ɛ̤̀ ɛ̤́ ɛ̤̂ ɛ̤̈ ɛ̧ ɛ̧̀ ɛ̧́ ɛ̧̂ ɛ̧̌ ɛ̨ ɛ̨̀ ɛ̨́ ɛ̨̂ ɛ̨̄ ɛ̨̆ ɛ̨̈ ɛ̨̌ ɛ̰ ɛ̰̀ ɛ̰́ ɛ̰̄ ɛ̱ ɛ̱̀ ɛ̱́ ɛ̱̂ ɛ̱̃ ɛ̱̈ ɛ̱̈̀ ɛ̱̈́ ɛ̱̌ \n",
      "\n",
      "--  F  -- \n",
      "F Ⅎ ⅎ ɸ F̀ F́ F̃ F̄ Ḟ F̓ F̧ Ƒ F̱ F̣ \n",
      "\n",
      "--  f  -- \n",
      "f f̀ f́ f̃ f̄ ḟ f̓ f̧ ᵮ ᶂ ƒ f̱ f̣ \n",
      "\n",
      "--  G  -- \n",
      "G Ɣ ˠ G̀ Ǵ Ǵ̄ Ĝ G̃ G̃́ Ḡ Ḡ́ Ğ Ġ G̈ G̈̇ G̊ G̋ Ǧ Ǧ̈ G̑ G̒ G̓ G̕ G̔ Ģ G̦ G̱ G̱̓ G̮ G̣ G̤ G̥ G̫ Ǥ Ɠ ʛ Ɣ̓ \n",
      "\n",
      "--  g  -- \n",
      "g ɡ ɢ ᵷ ɣ g̀ ǵ ǵ̄ ĝ g̃ g̃́ ḡ ḡ́ ğ ġ g̈ g̈̇ g̊ g̋ ǧ ǧ̈ g̑ g̒ g̓ g̕ g̔ ģ g̦ g̱ g̱̓ g̮ g̣ g̤ g̥ g̫ ǥ ᶃ ɠ ɢ̇ ɢ̣ ɣ̓ \n",
      "\n",
      "--  H  -- \n",
      "H ʜ H̀ H́ Ĥ H̄ Ḣ Ḧ Ȟ H̐ H̓ H̕ Ḩ H̨ H̭ H̱ Ḫ Ḥ Ḥ̣ H̤ H̥ H̬ H̯ Ħ Ħ̥ Ⱨ ʜ̇ \n",
      "\n",
      "--  h  -- \n",
      "h h̀ h́ ĥ h̄ ḣ ḧ ȟ h̐ h̓ h̕ ḩ h̨ h̭ ẖ ḫ ḥ ḥ̣ h̤ h̥ h̬ h̯ ħ ħ̥ ɦ ʱ ⱨ h̢ ɧ ʮ ʯ \n",
      "\n",
      "--  I  -- \n",
      "I ɪ Ɩ Ì Í Î Î́ Ĩ Ĩ́ Ĩ̀ Ĩ̂ Ĩ̌ Ĩ̍ Ĩ̎ Ī Ī́ Ī̀ Ī̂ Ī̌ Ī̃ Ī̄ Ī̆ Ī̆́ Ĭ Ĭ̀ Ĭ́ İ I İ́ Ï Ï̀ Ḯ Ï̂ Ï̃ Ï̄ Ï̌ Ï̑ I̊ I̋ Ǐ Ỉ I̍ I̎ Ȉ I̐ Ȋ I᷎ Į Į̀ Į́ Į̂ Į̃ Į̄ Į̄̀ Į̄́ Į̄̂ Į̄̆ Į̄̌ Į̈ Į̈̀ Į̈́ Į̈̂ Į̈̌ Į̈̄ Į̋ Į̌ Į̱ Į̱́ Į̱̀ I̓ I̧ Í̧ Ì̧ Î̧ I̭ Ī̭ Ḭ Ḭ̀ Ḭ́ Ḭ̄ Ḭ̈ Ḭ̈́ I̱ Ì̱ Í̱ Î̱ Ǐ̱ Ĩ̱ Ï̱ Ḯ̱ Ï̱̀ Ï̱̂ Ï̱̌ Ī̱ Ī̱́ Ī̱̀ Ī̱̂ I̮ Ị Ị̀ Ị́ Ị̂ Ị̃ Ị̄ Ị̈ Ị̈̀ Ị̈́ Ị̈̂ Ị̈̌ Ị̌ Ị̍ I̤ Ì̤ Í̤ Î̤ Ï̤ I̥ Í̥ Ï̥ I̯ Í̯ Ĩ̯ I̩ I͔ Ī͔ Ɨ Ɨ̀ Ɨ́ Ɨ̂ Ɨ̌ Ɨ̃ Ɨ̄ Ɨ̈ Ɨ̧ Ɨ̧̀ Ɨ̧̂ Ɨ̧̌ Ɨ̱ Ɨ̱̀ Ɨ̱́ Ɨ̱̂ Ɨ̱̈ Ɨ̱̌ Ɨ̯ Ɩ̀ Ɩ́ Ɩ̂ Ɩ̃ Ɩ̈ Ɩ̌ \n",
      "\n",
      "--  i  -- \n",
      "i ı ᴉ ᵎ ɩ ì í î î́ ĩ ĩ́ ĩ̀ ĩ̂ ĩ̌ ĩ̍ ĩ̎ ī ī́ ī̀ ī̂ ī̌ ī̃ ī̄ ī̆ ī̆́ ĭ ĭ̀ ĭ́ i ı i̇́ ï ï̀ ḯ ï̂ ï̃ ï̄ ï̌ ï̑ i̊ i̋ ǐ ỉ i̍ i̎ ȉ i̐ ȋ i᷎ į į̀ į́ į̇́ į̂ į̃ į̇̃ į̄ į̄̀ į̄́ į̄̂ į̄̆ į̄̌ į̈ į̈̀ į̈́ į̈̂ į̈̌ į̈̄ į̋ į̌ į̱ į̱́ į̱̀ i̓ i̧ í̧ ì̧ î̧ i̭ ī̭ ḭ ḭ̀ ḭ́ ḭ̄ ḭ̈ ḭ̈́ i̱ ì̱ í̱ î̱ ǐ̱ ĩ̱ ï̱ ḯ̱ ï̱̀ ï̱̂ ï̱̌ ī̱ ī̱́ ī̱̀ ī̱̂ i̮ ị ị̀ ị́ ị̂ ị̃ ị̄ ị̈ ị̈̀ ị̈́ ị̈̂ ị̈̌ ị̌ ị̍ i̤ ì̤ í̤ î̤ ï̤ i̥ í̥ ï̥ i̯ í̯ ĩ̯ i̩ i͔ ī͔ ɨ ɨ̀ ɨ́ ɨ̂ ɨ̌ ɨ̃ ɨ̄ ɨ̈ ɨ̧ ɨ̧̀ ɨ̧̂ ɨ̧̌ ɨ̱ ɨ̱̀ ɨ̱́ ɨ̱̂ ɨ̱̈ ɨ̱̌ ɨ̯ ı̣ ı̥ ɩ̀ ɩ́ ɩ̂ ɩ̃ ɩ̈ ɩ̌ \n",
      "\n",
      "--  J  -- \n",
      "J J ᴊ J́ Ĵ J̃ J̄ J̇ J̈ J̈̇ J̊ J̋ J̌ J̌́ J̑ J̓ J᷎ J̱ J̣ J̣̌ J̥ Ɉ Ɉ̱ \n",
      "\n",
      "--  j  -- \n",
      "j ȷ j́ ĵ j̃ j̇̃ j̄ j̈ j̈̇ j̊ j̋ ǰ ǰ́ j̑ j̓ j᷎ j̱ j̣ ǰ̣ j̥ ɉ ɉ̱ ʝ ɟ ʄ \n",
      "\n",
      "--  K  -- \n",
      "K K ᴋ K̀ Ḱ K̂ K̃ K̄ K̆ K̇ K̈ Ǩ K̑ K̓ K̕ K̔ K͑ Ķ K̦ K̨ Ḵ Ḵ̓ Ḳ K̮ K̥ K̬ K̫ Ƙ Ⱪ ᴋ̇ \n",
      "\n",
      "--  k  -- \n",
      "k ʞ ĸ k̀ ḱ k̂ k̃ k̄ k̆ k̇ k̈ ǩ k̑ k̓ k̕ k̔ k͑ ķ k̦ k̨ ḵ ḵ̓ ḳ k̮ k̥ k̬ k̫ ᶄ ƙ ⱪ \n",
      "\n",
      "--  L  -- \n",
      "L ʟ ᴌ Ŀ L̀ Ĺ L̂ L̃ L̄ L̇ L̈ L̋ Ľ L̐ L̑ L̓ L̕ Ļ Ļ̂ Ļ̃ L̦ Ḽ Ḻ Ḻ̓ L̮ Ḷ Ḷ̀ Ḷ́ Ḹ Ḹ́ Ḹ̆ Ḷ̓ Ḷ̕ Ḷ̣ L̤ L̤̄ L̥ L̥̀ Ĺ̥ L̥̄ L̥̄́ L̥̄̆ L̥̕ L̩ L̩̀ L̩̓ L̯ Ł Ł̇ Ł̓ Ł̣ Ł̱ Ƚ Ⱡ Ɫ ʟ̇ ʟ̣ \n",
      "\n",
      "--  l  -- \n",
      "l ŀ l̀ ĺ l̂ l̃ l̄ l̇ l̈ l̋ ľ l̐ l̑ l̓ l̕ ļ ļ̂ ļ̃ l̦ ḽ ḻ ḻ̓ l̮ ḷ ḷ̀ ḷ́ ḹ ḹ́ ḹ̆ ḷ̓ ḷ̕ ḷ̣ l̤ l̤̄ l̥ l̥̀ ĺ̥ l̥̄ l̥̄́ l̥̄̆ l̥̕ l̩ l̩̀ l̩̓ l̯ ł ł̇ ł̓ ł̣ ł̱ ƚ ⱡ ɫ ɬ ᶅ ɭ ȴ ƛ ƛ̓ \n",
      "\n",
      "--  M  -- \n",
      "M ᴍ M̀ Ḿ M̂ M̃ M̄ M̆ Ṁ Ṁ̇ M̈ M̋ M̍ M̌ M̐ M̑ M̓ M̕̕ M͑ M̧ M̨ M̦ M̱ Ḿ̱ M̮ Ṃ Ṃ́ Ṃ̄ Ṃ̓ M̥ Ḿ̥ M̥̄ M̥̄́ M̥̄̆ M̬ M̩ M̩̀ M̩̓ M̯ Ɱ ᴍ̇ ᴍ̣ \n",
      "\n",
      "--  m  -- \n",
      "m ᵚ ᴟ m̀ ḿ m̂ m̃ m̄ m̆ ṁ ṁ̇ m̈ m̋ m̍ m̌ m̐ m̑ m̓ m̕ m͑ ᵯ m̧ m̨ m̦ m̱ ḿ̱ m̮ ṃ ṃ́ ṃ̄ ṃ̓ m̥ ḿ̥ m̥̄ m̥̄́ m̥̄̆ m̬ m̩ m̩̀ m̩̓ m̯ ᶆ m̢ ɱ \n",
      "\n",
      "--  N  -- \n",
      "N ᴎ ᴻ Ǹ Ń N̂ Ñ Ñ̈ N̄ N̆ Ṅ Ṅ̇ N̈ N̋ Ň N̐ N̑ N̍ N̓ N̕ Ņ Ņ̂ Ņ̃ N̦ N̨ Ṋ N̰ Ṉ Ṉ́ N̮ Ṇ Ṇ́ Ṇ̄ Ṇ̄́ Ṇ̓ N̤ N̥ Ǹ̥ Ń̥ Ñ̥ Ñ̥́ N̥̄ N̥̄́ N̥̄̆ N̥̄̑ Ṅ̥ N̥̑ N̥̑́ N̥̑̄ N̯ N̩ Ǹ̩ N̩̓ N̲ Ɲ Ƞ N̪ \n",
      "\n",
      "--  n  -- \n",
      "n ɴ ǹ ń n̂ ñ ñ̈ n̄ n̆ ṅ ṅ̇ n̈ n̋ ň n̐ n̑ n̍ n̓ n̕ ᵰ ņ ņ̂ ņ̃ n̦ n̨ ṋ n̰ ṉ ṉ́ n̮ ṇ ṇ́ ṇ̄ ṇ̄́ ṇ̓ n̤ n̥ ǹ̥ ń̥ ñ̥ ñ̥́ n̥̄ n̥̄́ n̥̄̆ n̥̄̑ ṅ̥ n̥̑ n̥̑́ n̥̑̄ n̯ n̩ ǹ̩ n̩̓ n̲ ɲ ƞ n̪ ᶇ ɳ ȵ ɴ̇ ɴ̣ \n",
      "\n",
      "--  O  -- \n",
      "O ᴏ ᴑ Ɔ ɷ Ò Ó Ô Ố Ồ Ỗ Ô̆ Ổ Õ Õ̍ Õ̎ Õ̀ Ṍ Õ̂ Õ̌ Ṏ Ȭ Ō Ṓ Ṑ Ō̂ Ō̃ Ō̃́ Ō̄ Ō̆ Ō̆́ Ō̈ Ō̌ Ŏ Ŏ̀ Ŏ́ Ŏ̈ Ȯ Ȯ́ Ȱ O͘ Ó͘ Ò͘ Ō͘ O̍͘ Ö Ö́ Ö̀ Ö̂ Ö̌ Ö̃ Ȫ Ȫ̆ Ö̆ Ỏ O̊ Ő Ǒ O̍ O̎ Ȍ O̐ Ȏ O̓ O̞ Ø Ø̀ Ǿ Ø̂ Ø̃ Ø̄ Ø̄́ Ø̄̆ Ø̆ Ø̇ Ø̇́ Ø̈ Ø̋ Ø̌ Ø᷎ Ø̨ Ǿ̨ Ø̨̄ Ø̣ Ø̥ Ø̰ Ǿ̰ Ø̞ Ɵ Ơ Ớ Ờ Ỡ Ơ̆ Ở O᷎ Ó᷎ O̧ Ó̧ Ò̧ Ô̧ Ǒ̧ Ǫ Ǫ̀ Ǫ́ Ǫ̂ Ǫ̃ Ǭ Ǭ̀ Ǭ́ Ǭ̂ Ǭ̃ Ǭ̆ Ǭ̌ Ǫ̆ Ǫ̆́ Ǫ̇ Ǫ̇́ Ǫ̈ Ǫ̈̀ Ǫ̈́ Ǫ̈̂ Ǫ̈̃ Ǫ̈̄ Ǫ̈̌ Ǫ̋ Ǫ̌ Ǫ̑ Ǫ̣ Ǫ̱ Ǫ̱́ Ǫ̱̀ Ǫ᷎ O̭ O̰ Ó̰ O̱ Ò̱ Ó̱ Ô̱ Ǒ̱ Õ̱ Ō̱ Ṓ̱ Ṑ̱ Ō̱̂ Ö̱ Ö̱́ Ö̱̀ Ö̱̂ Ö̱̌ O̮ Ọ Ọ̀ Ọ́ Ộ Ọ̃ Ọ̄ Ọ̄̀ Ọ̄́ Ọ̄̃ Ọ̄̆ Ọ̆ Ọ̈ Ọ̈̀ Ọ̈́ Ọ̈̂ Ọ̈̄ Ọ̈̌ Ọ̌ Ọ̑ Ợ Ọ O̤ Ò̤ Ó̤ Ô̤ Ö̤ O̥ Ō̥ O̬ O̯ O̩ Õ͔ Ō͔ O̜ O̹ Ó̹ O̲ ᴓ Ɔ́ Ɔ̀ Ɔ̂ Ɔ̌ Ɔ̃ Ɔ̃́ Ɔ̃̀ Ɔ̃̂ Ɔ̃̌ Ɔ̃̍ Ɔ̃̎ Ɔ̄ Ɔ̆ Ɔ̇ Ɔ̈ Ɔ̈̀ Ɔ̈́ Ɔ̈̂ Ɔ̈̌ Ɔ̌ Ɔ̍ Ɔ̎ Ɔ̣ Ɔ̣̀ Ɔ̣́ Ɔ̣̂ Ɔ̣̃ Ɔ̣̈ Ɔ̣̈̀ Ɔ̣̈́ Ɔ̣̈̂ Ɔ̣̈̌ Ɔ̣̌ Ɔ̤ Ɔ̤̀ Ɔ̤́ Ɔ̤̂ Ɔ̤̈ Ɔ̱ Ɔ̱̀ Ɔ̱́ Ɔ̱̂ Ɔ̱̌ Ɔ̱̃ Ɔ̱̈ Ɔ̱̈̀ Ɔ̱̈́ Ɔ̧ Ɔ̧̀ Ɔ̧́ Ɔ̧̂ Ɔ̧̌ Ɔ̨ Ɔ̨́ Ɔ̨̀ Ɔ̨̂ Ɔ̨̌ Ɔ̨̄ Ɔ̨̆ Ɔ̨̈ Ɔ̨̱ Ɔ̰ Ɔ̰̀ Ɔ̰́ Ɔ̰̄ \n",
      "\n",
      "--  o  -- \n",
      "o ɔ ò ó ô ố ồ ỗ ô̆ ổ õ õ̍ õ̎ õ̀ ṍ õ̂ õ̌ ṏ ȭ ō ṓ ṑ ō̂ ō̃ ō̃́ ō̄ ō̆ ō̆́ ō̈ ō̌ ŏ ŏ̀ ŏ́ ŏ̈ ȯ ȯ́ ȱ o͘ ó͘ ò͘ ō͘ o̍͘ ö ö́ ö̀ ö̂ ö̌ ö̃ ȫ ȫ̆ ö̆ ỏ o̊ ő ǒ o̍ o̎ ȍ o̐ ȏ o̓ o̞ ø ø̀ ǿ ø̂ ø̃ ø̄ ø̄́ ø̄̆ ø̆ ø̇ ø̇́ ø̈ ø̋ ø̌ ø᷎ ø̨ ǿ̨ ø̨̄ ø̣ ø̥ ø̰ ǿ̰ ø̞ ɵ ơ ớ ờ ỡ ơ̆ ở o᷎ ó᷎ o̧ ó̧ ò̧ ô̧ ǒ̧ ǫ ǫ̀ ǫ́ ǫ̂ ǫ̃ ǭ ǭ̀ ǭ́ ǭ̂ ǭ̃ ǭ̆ ǭ̌ ǫ̆ ǫ̆́ ǫ̇ ǫ̇́ ǫ̈ ǫ̈̀ ǫ̈́ ǫ̈̂ ǫ̈̃ ǫ̈̄ ǫ̈̌ ǫ̋ ǫ̌ ǫ̑ ǫ̣ ǫ̱ ǫ̱́ ǫ̱̀ ǫ᷎ o̭ o̰ ó̰ o̱ ò̱ ó̱ ô̱ ǒ̱ õ̱ ō̱ ṓ̱ ṑ̱ ō̱̂ ö̱ ö̱́ ö̱̀ ö̱̂ ö̱̌ o̮ ọ ọ̀ ọ́ ộ ọ̃ ọ̄ ọ̄̀ ọ̄́ ọ̄̃ ọ̄̆ ọ̆ ọ̈ ọ̈̀ ọ̈́ ọ̈̂ ọ̈̄ ọ̈̌ ọ̌ ọ̑ ợ ọ o̤ ò̤ ó̤ ô̤ ö̤ o̥ ō̥ o̬ o̯ o̩ õ͔ ō͔ o̜ o̹ ó̹ o̲ ɔ́ ɔ̀ ɔ̂ ɔ̌ ɔ̃ ɔ̃́ ɔ̃̀ ɔ̃̂ ɔ̃̌ ɔ̃̍ ɔ̃̎ ɔ̄ ɔ̆ ɔ̇ ɔ̈ ɔ̈̀ ɔ̈́ ɔ̈̂ ɔ̈̌ ɔ̌ ɔ̍ ɔ̎ ɔ̣ ɔ̣̀ ɔ̣́ ɔ̣̂ ɔ̣̃ ɔ̣̈ ɔ̣̈̀ ɔ̣̈́ ɔ̣̈̂ ɔ̣̈̌ ɔ̣̌ ɔ̤ ɔ̤̀ ɔ̤́ ɔ̤̂ ɔ̤̈ ɔ̱ ɔ̱̀ ɔ̱́ ɔ̱̂ ɔ̱̌ ɔ̱̃ ɔ̱̈ ɔ̱̈̀ ɔ̱̈́ ɔ̧ ɔ̧̀ ɔ̧́ ɔ̧̂ ɔ̧̌ ɔ̨ ɔ̨́ ɔ̨̀ ɔ̨̂ ɔ̨̌ ɔ̨̄ ɔ̨̆ ɔ̨̈ ɔ̨̱ ɔ̰ ɔ̰̀ ɔ̰́ ɔ̰̄ \n",
      "\n",
      "--  P  -- \n",
      "P ᴘ P̀ Ṕ P̃ P̄ P̆ Ṗ P̈ P̋ P̑ P̓ P̕ P̔ P͑ P̱ P̣ P̤ P̬ P̪ Ᵽ Ƥ ᴘ̇ \n",
      "\n",
      "--  p  -- \n",
      "p p̀ ṕ p̃ p̄ p̆ ṗ p̈ p̋ p̑ p̓ p̕ p̔ p͑ p̱ p̣ p̤ p̬ p̪ ᵽ ᵱ ᶈ ƥ \n",
      "\n",
      "--  Q  -- \n",
      "Q Q́ Q̃ Q̄ Q̇ Q̈ Q̋ Q̓ Q̕ Q̧ Q̣ Q̣̇ Q̣̈ Q̱ \n",
      "\n",
      "--  q  -- \n",
      "q q́ q̃ q̄ q̇ q̈ q̋ q̓ q̕ q̧ q̣ q̣̇ q̣̈ q̱ ʠ Ɋ ɋ \n",
      "\n",
      "--  R  -- \n",
      "R ʀ ᴙ ᴚ ʁ R̀ Ŕ R̂ R̃ R̄ R̆ Ṙ R̋ Ř R̍ Ȑ Ȓ R̓ R̕ Ŗ R̦ R̨ R̨̄ R̭ Ṟ Ṛ Ṛ̀ Ṛ́ Ṝ Ṝ́ Ṝ̃ Ṝ̆ R̤ R̥ R̥̀ Ŕ̥ R̥̂ R̥̃ R̥̄ R̥̄́ R̥̄̆ Ř̥ R̬ R̩ R̯ Ɍ Ɽ ʀ̇ ʀ̣ \n",
      "\n",
      "--  r  -- \n",
      "r ɹ ʴ ʶ r̀ ŕ r̂ r̃ r̄ r̆ ṙ r̋ ř r̍ ȑ ȓ r̓ r̕ ŗ r̦ r̨ r̨̄ r̭ ṟ ṛ ṛ̀ ṛ́ ṝ ṝ́ ṝ̃ ṝ̆ r̤ r̥ r̥̀ ŕ̥ r̥̂ r̥̃ r̥̄ r̥̄́ r̥̄̆ ř̥ r̬ r̩ r̯ ɍ ᵲ ɺ ᶉ ɻ ʵ ɼ ɽ ɾ ᵳ ɿ \n",
      "\n",
      "--  S  -- \n",
      "S ʃ ʅ S̀ Ś Ś̀ Ś Ṥ Ŝ S̃ S̄ S̄̒ S̆ Ṡ Ṡ̃ S̈ S̋ Š Š̀ Š́ Ṧ Š̓ S̑ S̒ S̓ S̕ Ş Ș S̨ Š̨ S̱ Ś̱ S̮ Ṣ Ṣ́ Ṣ̄ Ṩ Ṣ̌ Ṣ̕ Ṣ̱ S̤ Š̤ S̥ Ś̥ S̬ S̩ S̪ ẛ ʆ \n",
      "\n",
      "--  s  -- \n",
      "s ſ s̀ ś ś̀ ś ṥ ŝ s̃ s̄ s̄̒ s̆ ṡ ṡ̃ s̈ s̋ š š̀ š́ ṧ š̓ s̑ s̒ s̓ s̕ ş ș s̨ š̨ s̱ ś̱ s̮ ṣ ṣ́ ṣ̄ ṩ ṣ̌ ṣ̕ ṣ̱ s̤ š̤ s̥ s̬ s̩ s̪ ſ́ ſ̣ ᵴ ᶊ ʂ ȿ \n",
      "\n",
      "--  T  -- \n",
      "T ᴛ T̀ T́ T̃ T̄ T̆ T̆̀ Ṫ T̈ Ť T̑ T̓ T̕ T̔ T͑ Ţ Ț T̨ T̗ Ṱ T̰ Ṯ T̮ Ṭ Ṭ́ T̤ T̥ T̬ T̯ T̪ Ŧ Ⱦ Ƭ Ʈ ᴛ̇ ᴛ̣ \n",
      "\n",
      "--  t  -- \n",
      "t ʇ t̀ t́ t̃ t̄ t̆ t̆̀ ṫ ẗ ť t̑ t̓ t̕ t̔ t͑ ţ ț t̨ t̗ ṱ t̰ ṯ t̮ ṭ ṭ́ t̤ t̥ t̬ t̯ t̪ ŧ ⱦ ᵵ ƫ ƭ ʈ ȶ \n",
      "\n",
      "--  U  -- \n",
      "U ᴜ ʊ Ù Ú Û Ũ Ũ̀ Ṹ Ũ̂ Ũ̊ Ũ̌ Ũ̍ Ũ̎ Ū Ū̀ Ū́ Ū̂ Ū̌ Ū̃ Ū̄ Ū̆ Ū̆́ Ṻ Ū̊ Ŭ Ŭ̀ Ŭ́ U̇ U̇́ U̇̄ Ü Ǜ Ǘ Ü̂ Ü̃ Ǖ Ǖ̆ Ü̆ Ǚ Ủ Ů Ů́ Ů̃ Ű Ǔ U̍ U̎ Ȕ Ȗ U̓ U᷎ Ủ Ư Ứ Ừ Ữ Ư̆ Ử Ự U̧ Ú̧ Ù̧ Û̧ Ǔ̧ Ų Ų̀ Ų́ Ų̂ Ų̃ Ų̄ Ų̄́ Ų̄̀ Ų̄̂ Ų̄̆ Ų̄̌ Ų̆ Ų̈ Ų̈́ Ų̈̀ Ų̈̂ Ų̈̌ Ų̈̄ Ų̌ Ų̋ Ų̱ Ų̱́ Ų̱̀ Ṷ Ṵ Ṵ̀ Ṵ́ Ṵ̄ Ṵ̈ U̱ Ù̱ Ú̱ Û̱ Ũ̱ Ū̱ Ū̱́ Ū̱̀ Ū̱̂ Ü̱ Ǘ̱ Ǜ̱ Ü̱̂ Ǚ̱ Ǔ̱ Ụ Ụ̀ Ụ́ Ụ̂ Ụ̃ Ụ̄ Ụ̈ Ụ̈̀ Ụ̈́ Ụ̈̂ Ụ̈̌ Ụ̌ Ụ̍ Ṳ Ṳ̀ Ṳ́ Ṳ̂ Ṳ̈ U̥ Ü̥ U̯ Ũ̯ Ü̯ U̩ U͔ Ũ͔ Ū͔ Ʉ Ʉ̀ Ʉ́ Ʉ̂ Ʉ̃ Ʉ̄ Ʉ̈ Ʉ̌ Ʉ̧ Ʉ̰ Ʉ̰́ Ʉ̱ Ʉ̱́ Ʉ̱̀ Ʉ̱̂ Ʉ̱̈ Ʉ̱̌ Ʉ̥ ʊ̀ ʊ́ ʊ̃ \n",
      "\n",
      "--  u  -- \n",
      "u ɤ ᴝ ᵙ ᴞ ɤ̞ ù ú û ũ ũ̀ ṹ ũ̂ ũ̊ ũ̌ ũ̍ ũ̎ ū ū̀ ū́ ū̂ ū̌ ū̃ ū̄ ū̆ ū̆́ ṻ ū̊ ŭ ŭ̀ ŭ́ u̇ u̇́ u̇̄ ü ǜ ǘ ü̂ ü̃ ǖ ǖ̆ ü̆ ǚ ủ ů ů́ ů̃ ű ǔ u̍ u̎ ȕ ȗ u̓ u᷎ ủ ư ứ ừ ữ ư̆ ử ự u̧ ú̧ ù̧ û̧ ǔ̧ ų ų̀ ų́ ų̂ ų̃ ų̄ ų̄́ ų̄̀ ų̄̂ ų̄̆ ų̄̌ ų̆ ų̈ ų̈́ ų̈̀ ų̈̂ ų̈̌ ų̈̄ ų̌ ų̋ ų̱ ų̱́ ų̱̀ ṷ ṵ ṵ̀ ṵ́ ṵ̄ ṵ̈ u̱ ù̱ ú̱ û̱ ũ̱ ū̱ ū̱́ ū̱̀ ū̱̂ ü̱ ǘ̱ ǜ̱ ü̱̂ ǚ̱ ǔ̱ ụ ụ̀ ụ́ ụ̂ ụ̃ ụ̄ ụ̈ ụ̈̀ ụ̈́ ụ̈̂ ụ̈̌ ụ̌ ụ̍ ṳ ṳ̀ ṳ́ ṳ̂ ṳ̈ u̥ ü̥ u̯ ũ̯ ü̯ u̩ u͔ ũ͔ ū͔ ʉ ʉ̀ ʉ́ ʉ̂ ʉ̃ ʉ̄ ʉ̈ ʉ̌ ʉ̧ ʉ̰ ʉ̰́ ʉ̱ ʉ̱́ ʉ̱̀ ʉ̱̂ ʉ̱̈ ʉ̱̌ ʉ̥ \n",
      "\n",
      "--  V  -- \n",
      "V ᴠ V̀ V́ V̂ Ṽ Ṽ̀ Ṽ́ Ṽ̂ Ṽ̌ V̄ V̄̀ V̄́ V̄̂ V̄̃ V̄̄ V̄̆ V̄̌ V̆ V̆́ V̇ V̈ V̈̀ V̈́ V̈̂ V̈̄ V̈̌ V̊ V̋ V̌ V̍ V̏ V̐ V̓ V̧ V̨ V̨̀ V̨́ V̨̂ V̨̌ V̨̄ V̨̄́ V̨̄̀ V̨̄̂ V̨̄̌ V̨̈ V̨̈́ V̨̈̀ V̨̈̂ V̨̈̌ V̨̈̄ V̨̋ V̨̱ V̨̱́ V̨̱̀ V̨̱̂ V̨̱̌ V̱ V̱̀ V̱́ V̱̂ V̱̌ Ṽ̱ V̱̈ V̱̈́ V̱̈̀ V̱̈̂ V̱̈̌ Ṿ V̥ Ʋ Ʋ̀ Ʋ́ Ʋ̂ Ʋ̃ Ʋ̈ Ʋ̌ \n",
      "\n",
      "--  v  -- \n",
      "v v̀ v́ v̂ ṽ ṽ̀ ṽ́ ṽ̂ ṽ̌ v̄ v̄̀ v̄́ v̄̂ v̄̃ v̄̄ v̄̆ v̄̌ v̆ v̆́ v̇ v̈ v̈̀ v̈́ v̈̂ v̈̄ v̈̌ v̊ v̋ v̌ v̍ v̏ v̐ v̓ v̧ v̨ v̨̀ v̨́ v̨̂ v̨̌ v̨̄ v̨̄́ v̨̄̀ v̨̄̂ v̨̄̌ v̨̈ v̨̈́ v̨̈̀ v̨̈̂ v̨̈̌ v̨̈̄ v̨̋ v̨̱ v̨̱́ v̨̱̀ v̨̱̂ v̨̱̌ v̱ v̱̀ v̱́ v̱̂ v̱̌ ṽ̱ v̱̈ v̱̈́ v̱̈̀ v̱̈̂ v̱̈̌ ṿ v̥ ᶌ ʋ ʋ̀ ʋ́ ʋ̂ ʋ̃ ʋ̈ ʋ̌ \n",
      "\n",
      "--  W  -- \n",
      "W Ɯ ɯ ᴡ Ƿ ɰ Ẁ Ẃ Ŵ W̃ W̄ W̆ Ẇ Ẅ W̤ W̊ W̋ W̌ W̍ W̓ W̱ Ẉ W̥ W̬ \n",
      "\n",
      "--  w  -- \n",
      "w ʍ ƿ ẁ ẃ ŵ w̃ w̄ w̆ ẇ ẅ w̤ ẘ w̋ w̌ w̍ w̓ w̱ ẉ w̥ w̬ \n",
      "\n",
      "--  X  -- \n",
      "X X̀ X́ X̂ X̃ X̄ X̆ X̆́ Ẋ Ẍ X̊ X̌ X̓ X̕ X̱ X̱̓ X̣ X̣̓ X̥ \n",
      "\n",
      "--  x  -- \n",
      "x x̀ x́ x̂ x̃ x̄ x̆ x̆́ ẋ ẍ x̊ x̌ x̓ x̕ x̱ x̱̓ x̣ x̣̓ x̥ ᶍ \n",
      "\n",
      "--  Y  -- \n",
      "Y ɥ Ʊ ʏ Ȝ Ʊ̀ Ʊ́ Ʊ̃ Ỳ Ý Ŷ Ỹ Ȳ Ȳ̀ Ȳ́ Ȳ̃ Ȳ̆ Y̆ Y̆̀ Y̆́ Ẏ Ẏ́ Ÿ Ÿ́ Y̊ Y̋ Y̌ Y̍ Y̎ Y̐ Y̓ Ỷ Y᷎ Y̱ Ỵ Ỵ̣ Y̥ Y̯ Ɏ Ƴ \n",
      "\n",
      "--  y  -- \n",
      "y ʎ ȝ ỳ ý ŷ ỹ ȳ ȳ̀ ȳ́ ȳ̃ ȳ̆ y̆ y̆̀ y̆́ ẏ ẏ́ ÿ ÿ́ ẙ y̋ y̌ y̍ y̎ y̐ y̓ ỷ y᷎ y̱ ỵ ỵ̣ y̥ y̯ ɏ ƴ \n",
      "\n",
      "--  Z  -- \n",
      "Z ᴢ ʒ Z̀ Ź Ẑ Z̃ Z̄ Ż Z̈ Z̋ Ž Ž́ Ž̏ Z̑ Z̓ Z̕ Z̨ Z̗ Ẕ Z̮ Ẓ Ẓ́ Ẓ̌ Ẓ̣ Z̤ Z̥ Ƶ Ȥ Ⱬ ʒ́ ʒ̇ ʒ̥ ʓ \n",
      "\n",
      "--  z  -- \n",
      "z z̀ ź ẑ z̃ z̄ ż z̈ z̋ ž ž́ ž̏ z̑ z̓ z̕ z̨ z̗ ẕ z̮ ẓ ẓ́ ẓ̌ ẓ̣ z̤ z̥ ƶ ᵶ ᶎ ȥ ʐ ʑ ɀ ⱬ \n",
      "\n",
      "--    -- \n",
      "Ɑ ꬰ ꭤ Ɒ ᶛ 𐞄 Ꞗ ꞗ Ꞵ ꞵ ↄ Ꭓ ꭓ ꭕ ꭔ ᶞ Ꟈ ꟈ Ꝺ ꝺ ꝱ ẟ ꬲ ꬳ ꬴ ⱻ ₔ ᵊ 𐞎 Ɜ ᶟ 𐞏 Ꝼ ꝼ ꜰ ꟻ ꬵ Ᵹ ᵹ Ꟑ ꟑ ᫌ Ɡ ᶢ ꬶ 𝼁 𐞒 𝼂 ⅁ Ꝿ ꝿ 𐞑 𐞖 Ⱶ ⱶ Ꟶ ꟶ Ꜧ ꜧ ꭜ Ɪ ᶦ ꟾ ꟷ ᵻ ᶧ ᶥ Ʞ 𝼃 𝼐 ᶫ Ꝇ ꝇ ꬸ ꬹ ꬷ ꭝ ꝲ Ꞁ ꞁ ⅃ ꬺ ꟽ ꟿ ꝳ ᶰ ꬻ ꝴ ᵑ ꬼ 𝼔 𝼇 Ꟁ ꟁ ꬽ ꬾ ᵓ ᴐ ꬿ ᴒ ᴖ ᵔ ᴗ ᵕ Ꞷ ꞷ 𐞤 ꟼ ᶲ ⱷ ꞯ 𐞥 Ꞃ ꞃ ᫍ 𐞪 Ꝛ ꝛ ꭆ ꭉ ꭇ ꭈ ꭊ ꭋ ꭌ ꭅ ꝵ ꝶ Ꝝ ꝝ Ꟊ ꟊ Ꞅ ꞅ ꜱ Ꟗ ꟗ Ꟙ ꟙ ᶴ ꭍ Ꞇ ꞇ ᫎ ꝷ Ʇ 𝼍 ᶸ ꭒ ꭟ ꭎ ꭏ Ɥ ᶣ ꟺ ᶷ Ỽ ỽ ᶺ Ꟃ ꟃ ꭩ ꭖ ꭗ ꭘ ꭙ ꭙ̆ 𐞲 ꭚ 𐞠 𝼆 𐞡 ⅄ Ꝣ ꝣ ᶾ ᴣ ꭠ ꟓ ꟕ Ꝩ ꝩ Ꝫ ꝫ Ꝭ ꝭ Ꝯ ꝯ ꝰ ꝸ Ꜫ ꜫ Ꜭ ꜭ Ꜯ ꜯ Ɂ ɂ Ꜣ ꜣ Ꞌ ꞌ ꞏ ᴤ ᴥ ᵜ Ꜥ ꜥ 𐞶 𐞷 𐞸 𝼏 𝼊 𐞹 𐞵 Ꞛ ꞛ Ꞝ ꞝ Ꞟ ꞟ ᶏ Ꞻ ꞻ Ɑ̀ Ɑ́ Ɑ̂ Ɑ̃ Ɑ̄ Ɑ̆ Ɑ̇ Ɑ̈ Ɑ̊ Ɑ̌ ᶐ 𐞅 ꞔ Ꞔ 𝼝 Ꞓ ꞓ ᶝ Ꜿ ꜿ 𝼥 𐞋 𐞌 ᶑ 𐞍 Ꝺ́ ꝺ́ Ꝺ̇ ꝺ̇ ᶒ ⱸ ᶕ ᶓ ᶔ Ꞙ ꞙ ꜰ̇ Ꝼ́ ꝼ́ Ꝼ̇ ꝼ̇ Ꝼ̣ ꝼ̣ Ꞡ ꞡ 𐞓 𐞔 ꟸ 𐞕 Ɦ ꞕ 𐞗 ᶤ 𝼚 ᶖ Ꞽ ꞽ ᵼ Ʝ ᶨ ᶡ 𐞘 Ꝁ ꝁ Ꝃ ꝃ Ꝅ ꝅ Ꞣ ꞣ 𝼦 Ꝉ ꝉ ꭞ Ɬ 𐞛 𝼓 𝼑 ᶪ ᶩ ꞎ 𐞝 𝼄 𐞜 ᶬ Ꞥ ꞥ 𝼧 ᶮ Ꞑ ꞑ ᶯ 𐞢 ᶱ 𝼛 ᶗ Ꝍ ꝍ ⱺ Ꝋ ꝋ Ꝑ ꝑ Ꝓ ꝓ Ꝕ ꝕ Ꝗ ꝗ Ꝗ̃ ꝗ̃ Ꝙ ꝙ Ꞧ ꞧ ꭨ 𝼨 𐞦 𝼈 𐞧 𝼕 ⱹ 𐞨 𐞩 𝼖 Ꝛ́ ꝛ́ Ꝛ̣ ꝛ̣ Ꞩ ꞩ ꜱ̇ ꜱ̣ 𝼩 ᶳ Ʂ Ȿ 𝼞 𐞺 ẜ ẝ ᶋ ᶘ 𝼋 𝼌 𝼎 𝼪 ᶵ 𐞯 𝼉 ᶶ Ꞹ ꞹ ᵾ ᶙ ꭒ̀ ꭒ́ ꭒ̆ ꭒ̆̀ ꭒ̆́ ꭒ̄ ꭒ̄̀ ꭒ̄́ ꭒ̃ Ꞿ ꞿ ᶭ ᵿ Ꝟ ꝟ ᶹ ⱱ 𐞰 ⱴ Ꝩ́ ꝩ́ Ꝩ̇ ꝩ̇ Ꝩ̣ ꝩ̣ Ⱳ ⱳ Ỿ ỿ Ᶎ ᶼ ᶽ Ɀ ᶚ 𝼘 Ꝥ ꝥ Ꝧ ꝧ Ꜯ ꜯ 𐞳 𐞴 𐞁 𐞂 Ꜳ ꜳ 𐞀 Ꜳ́ ꜳ́ Ꜳ̋ ꜳ̋ Ꜳ̇ ꜳ̇ Ꜳ̈ ꜳ̈ Ꜳ̣ ꜳ̣ 𐞃 ꬱ Ꜵ ꜵ Ꜵ́ ꜵ́ Ꜵ̋ ꜵ̋ Ꜵ̣ ꜵ̣ Ꜷ ꜷ Ꜷ́ ꜷ́ Ꜹ ꜹ Ꜻ ꜻ Ꜹ́ ꜹ́ Ꜹ̋ ꜹ̋ Ꜻ́ ꜻ́ Ꜽ ꜽ Ꜽ̇ ꜽ̇ Ꜽ̣ ꜽ̣ 𐞊 𝼒 𝼙 𐞇 𐞉 ꭦ 𐞈 𐞐 𝼀 ꭡ Ỻ ỻ 𐞙 𐞚 𐞞 𝼅 𐞟 ꟹ 𐞣 ꭂ ꭁ ꭢ Ꝏ ꝏ Ꝏ́ ꝏ́ Ꝏ̈ ꝏ̈ Ꝏ̋ ꝏ̋ ꭃ ꭄ 𐞫 𐞮 𝼗 𝼜 ᵺ 𐞬 ꭧ 𐞭 Ꜩ ꜩ ꭀ ᵫ ꭐ ꭑ ꭣ Ꝡ ꝡ Ꝡ̈ ꝡ̈ Ꝡ̋ ꝡ̋ ꟓ ꟕ \n",
      "\n",
      "--  )  -- \n",
      "Ↄ \n",
      "\n",
      "--  3  -- \n",
      "Ǝ \n",
      "\n",
      "--  @  -- \n",
      "ǝ Ə ə ʘ ɚ Ə̀ ə̀ Ə́ ə́ Ə̂ ə̂ Ə̄ ə̄ Ə̌ ə̌ Ə̏ ə̏ \n",
      "\n",
      "--  OI  -- \n",
      "Ƣ \n",
      "\n",
      "--  oi  -- \n",
      "ƣ \n",
      "\n",
      "--  HV  -- \n",
      "Ƕ \n",
      "\n",
      "--  hv  -- \n",
      "ƕ \n",
      "\n",
      "--  ng  -- \n",
      "Ŋ Ŋ̀ Ŋ́ Ŋ̂ Ŋ̄ Ŋ̈ Ŋ̈̇ Ŋ̊ Ŋ̑ Ŋ̨ Ŋ̣ Ŋ̥ Ŋ̥́ Ŋ̥̄ Ŋ̥̄́ \n",
      "\n",
      "--  NG  -- \n",
      "ŋ ŋ̀ ŋ́ ŋ̂ ŋ̄ ŋ̈ ŋ̈̇ ŋ̊ ŋ̑ ŋ̨ ŋ̣ ŋ̥ ŋ̥́ ŋ̥̄ ŋ̥̄́ \n",
      "\n",
      "--  OU  -- \n",
      "Ȣ \n",
      "\n",
      "--  ou  -- \n",
      "ȣ \n",
      "\n",
      "--  Ou  -- \n",
      "ᴕ ᴽ \n",
      "\n",
      "--  YR  -- \n",
      "Ʀ \n",
      "\n",
      "--  2  -- \n",
      "Ƨ ƨ ƻ \n",
      "\n",
      "--  SH  -- \n",
      "Ʃ \n",
      "\n",
      "--  sh  -- \n",
      "ƪ \n",
      "\n",
      "--  ^  -- \n",
      "Ʌ ʌ \n",
      "\n",
      "--  ZH  -- \n",
      "Ʒ Ƹ Ʒ́ Ʒ̇ Ǯ Ǯ́ Ʒ̥ \n",
      "\n",
      "--  zh  -- \n",
      "ƹ ǯ ǯ́ ƺ \n",
      "\n",
      "--  Th  -- \n",
      "Þ Þ́ Þ̣ \n",
      "\n",
      "--  th  -- \n",
      "þ þ́ þ̣ \n",
      "\n",
      "--  5  -- \n",
      "Ƽ ƽ \n",
      "\n",
      "--  6  -- \n",
      "Ƅ ƅ \n",
      "\n",
      "--  ?  -- \n",
      "ʔ ʕ ˤ ʖ ʡ ʢ \n",
      "\n",
      "--  |  -- \n",
      "ǀ \n",
      "\n",
      "--  ||  -- \n",
      "ǁ \n",
      "\n",
      "--  !  -- \n",
      "ǃ \n",
      "\n",
      "--  |=  -- \n",
      "ǂ \n",
      "\n",
      "--  WW  -- \n",
      "ʬ \n",
      "\n",
      "--  ]]  -- \n",
      "ʭ \n",
      "\n",
      "--  O,o,  -- \n",
      "Ø¸ø¸ Ǿ¸ǿ¸ \n",
      "\n",
      "--  ts  -- \n",
      "ƾ ʦ \n",
      "\n",
      "--  :  -- \n",
      "ː \n",
      "\n",
      "--  a:  -- \n",
      "aː \n",
      "\n",
      "--  e:  -- \n",
      "eː \n",
      "\n",
      "--  i:  -- \n",
      "iː \n",
      "\n",
      "--  o:  -- \n",
      "oː \n",
      "\n",
      "--  u:  -- \n",
      "uː \n",
      "\n",
      "--  Z:  -- \n",
      "ʓː \n",
      "\n",
      "--  ?:  -- \n",
      "ʡː \n",
      "\n",
      "--  .  -- \n",
      "ˑ \n",
      "\n",
      "--  AE  -- \n",
      "Æ ᴭ Æ̀ Ǽ Æ̂ Æ̌ Æ̃ Ǣ ᴁ \n",
      "\n",
      "--  ae  -- \n",
      "æ æ̀ ǽ æ̂ æ̌ æ̃ ǣ æ̈ æ͔̃ æ̞ ᴂ ᵆ \n",
      "\n",
      "--  db  -- \n",
      "ȸ \n",
      "\n",
      "--  dZ  -- \n",
      "ʤ \n",
      "\n",
      "--  dz  -- \n",
      "ʣ ʥ ǳ ǆ \n",
      "\n",
      "--  DZ  -- \n",
      "Ǳ Ǆ \n",
      "\n",
      "--  Dz  -- \n",
      "ǲ ǅ \n",
      "\n",
      "--  ff  -- \n",
      "ﬀ \n",
      "\n",
      "--  ffi  -- \n",
      "ﬃ \n",
      "\n",
      "--  ffl  -- \n",
      "ﬄ \n",
      "\n",
      "--  fi  -- \n",
      "ﬁ \n",
      "\n",
      "--  fl  -- \n",
      "ﬂ \n",
      "\n",
      "--  fN  -- \n",
      "ʩ \n",
      "\n",
      "--  IJ  -- \n",
      "Ĳ \n",
      "\n",
      "--  ij  -- \n",
      "ĳ \n",
      "\n",
      "--  ls  -- \n",
      "ʪ \n",
      "\n",
      "--  lz  -- \n",
      "ʫ \n",
      "\n",
      "--  lZ  -- \n",
      "ɮ \n",
      "\n",
      "--  OE  -- \n",
      "Œ Œ̀ Œ́ Œ̂ Œ̃ Œ̄ ɶ \n",
      "\n",
      "--  oe  -- \n",
      "œ œ̀ œ́ œ̂ œ̃ œ̄ \n",
      "\n",
      "--  Oe  -- \n",
      "ᴔ \n",
      "\n",
      "--  qp  -- \n",
      "ȹ \n",
      "\n",
      "--  ss  -- \n",
      "ß ß \n",
      "\n",
      "--  st  -- \n",
      "ﬆ ﬅ \n",
      "\n",
      "--  tC  -- \n",
      "ʨ \n",
      "\n",
      "--  tS  -- \n",
      "ʧ \n",
      "\n"
     ]
    }
   ],
   "source": [
    "for k, v in decoded.items():\n",
    "    print('-- ', k, ' -- ')\n",
    "    print(' '.join(v), '\\n')"
   ]
  }
 ],
 "metadata": {
  "kernelspec": {
   "display_name": "Python 3 (ipykernel)",
   "language": "python",
   "name": "python3"
  },
  "language_info": {
   "codemirror_mode": {
    "name": "ipython",
    "version": 3
   },
   "file_extension": ".py",
   "mimetype": "text/x-python",
   "name": "python",
   "nbconvert_exporter": "python",
   "pygments_lexer": "ipython3",
   "version": "3.10.11"
  }
 },
 "nbformat": 4,
 "nbformat_minor": 5
}
