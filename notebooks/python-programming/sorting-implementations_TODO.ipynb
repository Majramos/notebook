{
 "cells": [
  {
   "cell_type": "markdown",
   "id": "77f927ab-81e8-4779-9b4a-d4a986dff7fc",
   "metadata": {},
   "source": [
    "# Implement and test sorting algorithms in python"
   ]
  },
  {
   "cell_type": "code",
   "execution_count": 1,
   "id": "4e320141-0ba9-45a3-bcae-793474eb7508",
   "metadata": {
    "execution": {
     "iopub.execute_input": "2023-07-22T00:48:30.674527Z",
     "iopub.status.busy": "2023-07-22T00:48:30.674206Z",
     "iopub.status.idle": "2023-07-22T00:48:30.884512Z",
     "shell.execute_reply": "2023-07-22T00:48:30.882588Z",
     "shell.execute_reply.started": "2023-07-22T00:48:30.674509Z"
    },
    "tags": []
   },
   "outputs": [],
   "source": [
    "import random\n",
    "\n",
    "import numpy as np"
   ]
  },
  {
   "cell_type": "markdown",
   "id": "310839e5-9e85-4aaa-9487-198f93cff28d",
   "metadata": {},
   "source": [
    "## Generate a array of random integers"
   ]
  },
  {
   "cell_type": "code",
   "execution_count": 2,
   "id": "b2be1288-fe7d-4d29-a976-462b98ba95ea",
   "metadata": {
    "execution": {
     "iopub.execute_input": "2023-07-22T00:48:30.888842Z",
     "iopub.status.busy": "2023-07-22T00:48:30.887375Z",
     "iopub.status.idle": "2023-07-22T00:48:30.909942Z",
     "shell.execute_reply": "2023-07-22T00:48:30.906254Z",
     "shell.execute_reply.started": "2023-07-22T00:48:30.888764Z"
    },
    "tags": []
   },
   "outputs": [
    {
     "data": {
      "text/plain": [
       "[9, 5, 6, 7, 5, 7, 1, 3, 8, 5]"
      ]
     },
     "execution_count": 2,
     "metadata": {},
     "output_type": "execute_result"
    }
   ],
   "source": [
    "def get_rand_int_array(size, start, stop):\n",
    "    return [random.randrange(start, stop) for _ in range(size)]\n",
    "\n",
    "get_rand_int_array(10 , 1, 10)"
   ]
  },
  {
   "cell_type": "code",
   "execution_count": 3,
   "id": "215f7040-3da2-44e7-855e-22c786c85388",
   "metadata": {
    "execution": {
     "iopub.execute_input": "2023-07-22T00:48:30.914932Z",
     "iopub.status.busy": "2023-07-22T00:48:30.912804Z",
     "iopub.status.idle": "2023-07-22T00:48:30.925735Z",
     "shell.execute_reply": "2023-07-22T00:48:30.920859Z",
     "shell.execute_reply.started": "2023-07-22T00:48:30.914888Z"
    },
    "tags": []
   },
   "outputs": [
    {
     "name": "stdout",
     "output_type": "stream",
     "text": [
      "[27, 26, 14, 8, 25, 6, 30, 11, 23, 42, 30, 16, 15, 8, 39, 9, 46, 26, 2, 11, 18, 18, 24, 47, 14]\n"
     ]
    }
   ],
   "source": [
    "to_sort_25 = get_rand_int_array(25, 1, 50)\n",
    "print(to_sort_25)"
   ]
  },
  {
   "cell_type": "markdown",
   "id": "bc4617c0-d961-4142-b474-5c4758b77f47",
   "metadata": {},
   "source": [
    "## Sorting algorithms"
   ]
  },
  {
   "cell_type": "markdown",
   "id": "ce6816f0-1971-4dfc-a9e1-57f9c2279eca",
   "metadata": {},
   "source": [
    "### Python built in sort"
   ]
  },
  {
   "cell_type": "code",
   "execution_count": 4,
   "id": "5924175b-b128-4a7c-84ff-7d37baf8a670",
   "metadata": {
    "execution": {
     "iopub.execute_input": "2023-07-22T00:48:30.935813Z",
     "iopub.status.busy": "2023-07-22T00:48:30.934932Z",
     "iopub.status.idle": "2023-07-22T00:48:32.508030Z",
     "shell.execute_reply": "2023-07-22T00:48:32.507271Z",
     "shell.execute_reply.started": "2023-07-22T00:48:30.935784Z"
    },
    "tags": []
   },
   "outputs": [
    {
     "name": "stdout",
     "output_type": "stream",
     "text": [
      "190 ns ± 6.03 ns per loop (mean ± std. dev. of 7 runs, 1,000,000 loops each)\n"
     ]
    }
   ],
   "source": [
    "to_sort_25_python_sort = to_sort_25.copy()\n",
    "\n",
    "%timeit to_sort_25_python_sort.sort()"
   ]
  },
  {
   "cell_type": "code",
   "execution_count": 5,
   "id": "fdc4251a-2e74-4f4c-bd88-5868d76912fa",
   "metadata": {
    "execution": {
     "iopub.execute_input": "2023-07-22T00:48:32.508893Z",
     "iopub.status.busy": "2023-07-22T00:48:32.508656Z",
     "iopub.status.idle": "2023-07-22T00:48:35.944387Z",
     "shell.execute_reply": "2023-07-22T00:48:35.943076Z",
     "shell.execute_reply.started": "2023-07-22T00:48:32.508875Z"
    },
    "tags": []
   },
   "outputs": [
    {
     "name": "stdout",
     "output_type": "stream",
     "text": [
      "420 ns ± 25.5 ns per loop (mean ± std. dev. of 7 runs, 1,000,000 loops each)\n"
     ]
    }
   ],
   "source": [
    "to_sort_25_python_sorted = to_sort_25.copy()\n",
    "\n",
    "%timeit sorted(to_sort_25_python_sort)"
   ]
  },
  {
   "cell_type": "markdown",
   "id": "c9acd78e-0580-45ab-8326-bd1b3e180587",
   "metadata": {},
   "source": [
    "### Numpy sort"
   ]
  },
  {
   "cell_type": "code",
   "execution_count": 6,
   "id": "d03d4d09-83c5-44c8-bec0-9458396df8f2",
   "metadata": {
    "execution": {
     "iopub.execute_input": "2023-07-22T00:48:35.950079Z",
     "iopub.status.busy": "2023-07-22T00:48:35.948097Z",
     "iopub.status.idle": "2023-07-22T00:48:38.892639Z",
     "shell.execute_reply": "2023-07-22T00:48:38.890953Z",
     "shell.execute_reply.started": "2023-07-22T00:48:35.949924Z"
    },
    "tags": []
   },
   "outputs": [
    {
     "name": "stdout",
     "output_type": "stream",
     "text": [
      "3.63 µs ± 261 ns per loop (mean ± std. dev. of 7 runs, 100,000 loops each)\n"
     ]
    }
   ],
   "source": [
    "to_sort_25_numpy = to_sort_25.copy()\n",
    "\n",
    "%timeit np.sort(to_sort_25_numpy, kind='quicksort').tolist()"
   ]
  },
  {
   "cell_type": "code",
   "execution_count": 7,
   "id": "42e2896f-371e-4cd6-b180-22ed078cae6d",
   "metadata": {
    "execution": {
     "iopub.execute_input": "2023-07-22T00:48:38.897814Z",
     "iopub.status.busy": "2023-07-22T00:48:38.896434Z",
     "iopub.status.idle": "2023-07-22T00:48:40.699406Z",
     "shell.execute_reply": "2023-07-22T00:48:40.698491Z",
     "shell.execute_reply.started": "2023-07-22T00:48:38.897717Z"
    },
    "tags": []
   },
   "outputs": [
    {
     "name": "stdout",
     "output_type": "stream",
     "text": [
      "2.19 µs ± 38.9 ns per loop (mean ± std. dev. of 7 runs, 100,000 loops each)\n"
     ]
    }
   ],
   "source": [
    "to_sort_25_numpy2 = np.asarray(to_sort_25.copy())\n",
    "\n",
    "%timeit np.sort(to_sort_25_numpy2, kind='quicksort').tolist()"
   ]
  },
  {
   "cell_type": "code",
   "execution_count": 8,
   "id": "4d6cfa57-7b81-43ba-9d8a-43ed2c8435d3",
   "metadata": {
    "execution": {
     "iopub.execute_input": "2023-07-22T00:48:40.700703Z",
     "iopub.status.busy": "2023-07-22T00:48:40.700446Z",
     "iopub.status.idle": "2023-07-22T00:48:42.469404Z",
     "shell.execute_reply": "2023-07-22T00:48:42.468302Z",
     "shell.execute_reply.started": "2023-07-22T00:48:40.700685Z"
    },
    "tags": []
   },
   "outputs": [
    {
     "name": "stdout",
     "output_type": "stream",
     "text": [
      "2.16 µs ± 28 ns per loop (mean ± std. dev. of 7 runs, 100,000 loops each)\n"
     ]
    }
   ],
   "source": [
    "to_sort_25_numpy3 = np.asarray(to_sort_25.copy())\n",
    "\n",
    "%timeit np.sort(to_sort_25_numpy3, kind='heapsort').tolist()"
   ]
  },
  {
   "cell_type": "code",
   "execution_count": 9,
   "id": "480cdeef-4f0a-4bbd-871e-928363fed242",
   "metadata": {
    "execution": {
     "iopub.execute_input": "2023-07-22T00:48:42.470625Z",
     "iopub.status.busy": "2023-07-22T00:48:42.470301Z",
     "iopub.status.idle": "2023-07-22T00:48:44.308692Z",
     "shell.execute_reply": "2023-07-22T00:48:44.306961Z",
     "shell.execute_reply.started": "2023-07-22T00:48:42.470604Z"
    },
    "tags": []
   },
   "outputs": [
    {
     "name": "stdout",
     "output_type": "stream",
     "text": [
      "2.26 µs ± 109 ns per loop (mean ± std. dev. of 7 runs, 100,000 loops each)\n"
     ]
    }
   ],
   "source": [
    "to_sort_25_numpy4 = np.asarray(to_sort_25.copy())\n",
    "\n",
    "%timeit np.sort(to_sort_25_numpy4, kind='stable').tolist()"
   ]
  },
  {
   "cell_type": "markdown",
   "id": "c6c6e8a9-af93-47dc-8590-96baf0186bc5",
   "metadata": {},
   "source": [
    "### Bubble sort"
   ]
  },
  {
   "cell_type": "code",
   "execution_count": 10,
   "id": "b387225b-a023-40d6-bfd1-71ffea92e3ed",
   "metadata": {
    "execution": {
     "iopub.execute_input": "2023-07-22T00:48:44.314524Z",
     "iopub.status.busy": "2023-07-22T00:48:44.312738Z",
     "iopub.status.idle": "2023-07-22T00:48:44.321809Z",
     "shell.execute_reply": "2023-07-22T00:48:44.320487Z",
     "shell.execute_reply.started": "2023-07-22T00:48:44.314468Z"
    },
    "tags": []
   },
   "outputs": [
    {
     "name": "stdout",
     "output_type": "stream",
     "text": [
      "[2, 6, 8, 8, 9, 11, 11, 14, 14, 15, 16, 18, 18, 23, 24, 25, 26, 26, 27, 30, 30, 39, 42, 46, 47]\n"
     ]
    }
   ],
   "source": [
    "def bubble_sort(items):\n",
    "    for i in range(len(items)):\n",
    "        for j in range(len(items) - 1 - i):\n",
    "            if items[j] > items[j + 1]:\n",
    "                items[j], items[j + 1] = items[j + 1], items[j]\n",
    "    return items\n",
    "print(bubble_sort(to_sort_25.copy()))"
   ]
  },
  {
   "cell_type": "code",
   "execution_count": 13,
   "id": "bf3dd9e0-5546-434a-8852-8eee62af9d0c",
   "metadata": {
    "execution": {
     "iopub.execute_input": "2023-07-22T00:49:36.825157Z",
     "iopub.status.busy": "2023-07-22T00:49:36.824570Z",
     "iopub.status.idle": "2023-07-22T00:49:39.413905Z",
     "shell.execute_reply": "2023-07-22T00:49:39.411738Z",
     "shell.execute_reply.started": "2023-07-22T00:49:36.825138Z"
    },
    "tags": []
   },
   "outputs": [
    {
     "name": "stdout",
     "output_type": "stream",
     "text": [
      "31.4 µs ± 314 ns per loop (mean ± std. dev. of 7 runs, 10,000 loops each)\n"
     ]
    }
   ],
   "source": [
    "to_sort_25_bubble = to_sort_25.copy()\n",
    "%timeit bubble_sort(to_sort_25_bubble)"
   ]
  }
 ],
 "metadata": {
  "kernelspec": {
   "display_name": "Python 3 (ipykernel)",
   "language": "python",
   "name": "python3"
  },
  "language_info": {
   "codemirror_mode": {
    "name": "ipython",
    "version": 3
   },
   "file_extension": ".py",
   "mimetype": "text/x-python",
   "name": "python",
   "nbconvert_exporter": "python",
   "pygments_lexer": "ipython3",
   "version": "3.10.11"
  }
 },
 "nbformat": 4,
 "nbformat_minor": 5
}
