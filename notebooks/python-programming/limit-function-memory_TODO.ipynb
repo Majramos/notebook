{
 "cells": [
  {
   "cell_type": "markdown",
   "id": "14ba18dc-2c09-4bab-9a25-20e3ae463b33",
   "metadata": {},
   "source": [
    "# Limit Function Memory Consumption in Python\n",
    "\n",
    "The idea is to have a function decorator that tracks the memory consumption of a function and stops the function in case a limit is reached.\n",
    "\n",
    "The function is run in other process \n",
    "\n",
    "Inspired on stackoverflow answer: https://stackoverflow.com/a/10117657"
   ]
  },
  {
   "cell_type": "code",
   "execution_count": 1,
   "id": "ebcb3842-5188-403b-95a1-ca29c23ebb0e",
   "metadata": {
    "execution": {
     "iopub.execute_input": "2023-06-07T16:27:29.781862Z",
     "iopub.status.busy": "2023-06-07T16:27:29.781374Z",
     "iopub.status.idle": "2023-06-07T16:27:29.807326Z",
     "shell.execute_reply": "2023-06-07T16:27:29.804519Z",
     "shell.execute_reply.started": "2023-06-07T16:27:29.781842Z"
    },
    "tags": []
   },
   "outputs": [],
   "source": [
    "import functools\n",
    "import multiprocessing \n",
    "import os\n",
    "import psutil\n",
    "import time"
   ]
  },
  {
   "cell_type": "markdown",
   "id": "2aa6d5d6-2444-474c-ad33-5fe7cc967367",
   "metadata": {},
   "source": [
    "## Required Classes"
   ]
  },
  {
   "cell_type": "code",
   "execution_count": 2,
   "id": "9e49a1d3-b09b-4170-88d4-6818bcada423",
   "metadata": {
    "execution": {
     "iopub.execute_input": "2023-06-07T16:27:31.441110Z",
     "iopub.status.busy": "2023-06-07T16:27:31.440520Z",
     "iopub.status.idle": "2023-06-07T16:27:31.450509Z",
     "shell.execute_reply": "2023-06-07T16:27:31.448836Z",
     "shell.execute_reply.started": "2023-06-07T16:27:31.441092Z"
    },
    "tags": []
   },
   "outputs": [],
   "source": [
    "class MemoryLimiter(multiprocessing.Process):\n",
    "    def __init__(self, target_function, *args, **kwargs):\n",
    "        super(MemoryLimiter, self).__init__()\n",
    "        self.target_function = target_function\n",
    "        self.args = args\n",
    "        self.kwargs = kwargs\n",
    "        self.results = None\n",
    "        \n",
    "        self.daemon = True\n",
    "        self.__has_shutdown = False\n",
    "\n",
    "    def run(self):\n",
    "        \"\"\" Overloads the threading.Thread.run \"\"\"\n",
    "\n",
    "        print(f'Calling {self.target_function.__name__} function...')\n",
    "\n",
    "        # Start the library Call\n",
    "        self.results = self.target_function(*self.args, **self.kwargs)\n",
    "\n",
    "        print(f'{self.target_function.__name__} call complete')\n",
    "        \n",
    "        # self.stop()\n",
    "        self.close()\n",
    "\n",
    "        self.__has_shutdown = True\n",
    "\n",
    "    def stop(self):\n",
    "        self.terminate()\n",
    "\n",
    "    @property\n",
    "    def is_running(self):\n",
    "        return self.is_alive()\n",
    "\n",
    "    def is_shutdown(self):\n",
    "        return self.__has_shutdown"
   ]
  },
  {
   "cell_type": "markdown",
   "id": "2a640e4c-966f-471c-84a8-060f7aac49cb",
   "metadata": {
    "tags": []
   },
   "source": [
    "## Testing"
   ]
  },
  {
   "cell_type": "code",
   "execution_count": 3,
   "id": "ea7141a8-c0d7-40be-8b77-3ba7296d7231",
   "metadata": {
    "execution": {
     "iopub.execute_input": "2023-06-07T16:27:34.235736Z",
     "iopub.status.busy": "2023-06-07T16:27:34.235366Z",
     "iopub.status.idle": "2023-06-07T16:27:34.242735Z",
     "shell.execute_reply": "2023-06-07T16:27:34.240860Z",
     "shell.execute_reply.started": "2023-06-07T16:27:34.235718Z"
    },
    "tags": []
   },
   "outputs": [],
   "source": [
    "def memory_hog(set_size, num_dict_entries, delay_per_entry=0):\n",
    "    \"\"\" This function creates a dictionary with 'num_dict_entries' of a set \n",
    "    of size 'set_size'\n",
    "    \"\"\"\n",
    "    large_dictionary = {}\n",
    "\n",
    "    for i in range(num_dict_entries):\n",
    "        time.sleep(delay_per_entry)\n",
    "        large_dictionary[f'entry_{i}']=set(range(set_size))\n",
    "\n",
    "    return len(large_dictionary)"
   ]
  },
  {
   "cell_type": "code",
   "execution_count": 4,
   "id": "eba77230-14b3-44b8-943c-81ef7057df1c",
   "metadata": {
    "execution": {
     "iopub.execute_input": "2023-06-07T16:27:36.926576Z",
     "iopub.status.busy": "2023-06-07T16:27:36.925529Z",
     "iopub.status.idle": "2023-06-07T16:27:36.949559Z",
     "shell.execute_reply": "2023-06-07T16:27:36.947360Z",
     "shell.execute_reply.started": "2023-06-07T16:27:36.926556Z"
    },
    "tags": []
   },
   "outputs": [
    {
     "name": "stdout",
     "output_type": "stream",
     "text": [
      "True\n",
      "1516\n",
      "Calling memory_hog function...\n",
      "memory_hog call complete\n"
     ]
    }
   ],
   "source": [
    "monitor_process = MemoryLimiter(memory_hog, 10000, 5000)\n",
    "monitor_process.start()\n",
    "\n",
    "print(monitor_process.is_alive())\n",
    "print(monitor_process.pid)"
   ]
  },
  {
   "cell_type": "code",
   "execution_count": 9,
   "id": "6dc9afeb-f625-4187-9d93-d6705b8d8da7",
   "metadata": {
    "execution": {
     "iopub.execute_input": "2023-06-07T16:27:46.165766Z",
     "iopub.status.busy": "2023-06-07T16:27:46.165499Z",
     "iopub.status.idle": "2023-06-07T16:27:46.170087Z",
     "shell.execute_reply": "2023-06-07T16:27:46.169061Z",
     "shell.execute_reply.started": "2023-06-07T16:27:46.165748Z"
    },
    "tags": []
   },
   "outputs": [
    {
     "name": "stdout",
     "output_type": "stream",
     "text": [
      "False\n",
      "1516\n"
     ]
    }
   ],
   "source": [
    "print(monitor_process.is_alive())\n",
    "print(monitor_process.pid)"
   ]
  },
  {
   "cell_type": "code",
   "execution_count": 10,
   "id": "89343805-c389-40bc-b16a-110faa290a79",
   "metadata": {
    "execution": {
     "iopub.execute_input": "2023-06-07T16:27:52.079916Z",
     "iopub.status.busy": "2023-06-07T16:27:52.079429Z",
     "iopub.status.idle": "2023-06-07T16:27:52.086370Z",
     "shell.execute_reply": "2023-06-07T16:27:52.084553Z",
     "shell.execute_reply.started": "2023-06-07T16:27:52.079899Z"
    },
    "tags": []
   },
   "outputs": [
    {
     "name": "stdout",
     "output_type": "stream",
     "text": [
      "False\n",
      "1516\n"
     ]
    }
   ],
   "source": [
    "print(monitor_process.is_alive())\n",
    "print(monitor_process.pid)"
   ]
  },
  {
   "cell_type": "markdown",
   "id": "7692a971-e656-42a2-8024-893dd9e7de08",
   "metadata": {},
   "source": [
    "How to shares results: https://stackoverflow.com/a/37736655/20966098"
   ]
  },
  {
   "cell_type": "code",
   "execution_count": 13,
   "id": "1932bf55-9daa-42cf-94b2-3e1f71554eda",
   "metadata": {
    "execution": {
     "iopub.execute_input": "2023-06-07T16:28:36.987300Z",
     "iopub.status.busy": "2023-06-07T16:28:36.986389Z",
     "iopub.status.idle": "2023-06-07T16:28:36.992048Z",
     "shell.execute_reply": "2023-06-07T16:28:36.990943Z",
     "shell.execute_reply.started": "2023-06-07T16:28:36.987279Z"
    },
    "tags": []
   },
   "outputs": [],
   "source": [
    "monitor_process.results"
   ]
  },
  {
   "cell_type": "code",
   "execution_count": 9,
   "id": "c3e3f707-5e92-43d1-9e6e-e38236a5952b",
   "metadata": {
    "execution": {
     "iopub.execute_input": "2023-06-07T15:30:33.466346Z",
     "iopub.status.busy": "2023-06-07T15:30:33.466058Z",
     "iopub.status.idle": "2023-06-07T15:30:37.711573Z",
     "shell.execute_reply": "2023-06-07T15:30:37.710387Z",
     "shell.execute_reply.started": "2023-06-07T15:30:33.466328Z"
    },
    "tags": []
   },
   "outputs": [
    {
     "name": "stdout",
     "output_type": "stream",
     "text": [
      "Calling memory_hog function...\n",
      "memory_hog call complete\n",
      "Max Memory Usage in MB: 3987.355\n",
      "5000\n"
     ]
    }
   ],
   "source": [
    "# memory limit of 2 GB\n",
    "mem_limit = 2000*(1024.0 ** 2)\n",
    "\n",
    "monitor_process = MemoryLimiter(memory_hog, 10000, 5000)\n",
    "monitor_thread.start()\n",
    "\n",
    "process = psutil.Process(monitor_process.pid)\n",
    "start_mem = process.memory_full_info().uss\n",
    "\n",
    "\n",
    "delta_mem, max_memory = 0, 0\n",
    "while True:\n",
    "    delta_mem = process.memory_full_info().uss - start_mem\n",
    "    if delta_mem > max_memory:\n",
    "        max_memory = delta_mem\n",
    "\n",
    "    # Check to see if the library call is complete\n",
    "    if monitor_process.is_shutdown():\n",
    "        break\n",
    "\n",
    "print(f'Max Memory Usage in MB: {max_memory / (1024.0 ** 2):.3f}')\n",
    "print(monitor_process.results) # shouldn't return any values"
   ]
  },
  {
   "cell_type": "code",
   "execution_count": 10,
   "id": "d69d3253-eb4b-43b3-9675-2c9c1352ef19",
   "metadata": {
    "execution": {
     "iopub.execute_input": "2023-06-07T15:30:44.719943Z",
     "iopub.status.busy": "2023-06-07T15:30:44.719286Z",
     "iopub.status.idle": "2023-06-07T15:30:44.724380Z",
     "shell.execute_reply": "2023-06-07T15:30:44.722959Z",
     "shell.execute_reply.started": "2023-06-07T15:30:44.719920Z"
    },
    "tags": []
   },
   "outputs": [],
   "source": [
    "del monitor_thread"
   ]
  },
  {
   "cell_type": "markdown",
   "id": "f1fe6234-5290-423a-baec-8c8852e8813b",
   "metadata": {},
   "source": [
    "### Function Decorator"
   ]
  },
  {
   "cell_type": "code",
   "execution_count": 27,
   "id": "a4128831-7963-46c6-94e6-5b34ed3b4b39",
   "metadata": {
    "execution": {
     "iopub.execute_input": "2023-06-07T13:09:46.133332Z",
     "iopub.status.busy": "2023-06-07T13:09:46.132689Z",
     "iopub.status.idle": "2023-06-07T13:09:55.008684Z",
     "shell.execute_reply": "2023-06-07T13:09:55.007781Z",
     "shell.execute_reply.started": "2023-06-07T13:09:46.133311Z"
    },
    "tags": []
   },
   "outputs": [
    {
     "name": "stdout",
     "output_type": "stream",
     "text": [
      "Calling memory_hog function...\n",
      "memory_hog call complete\n",
      "Max Memory Usage in MB: 2361.004\n"
     ]
    },
    {
     "data": {
      "text/plain": [
       "5000"
      ]
     },
     "execution_count": 27,
     "metadata": {},
     "output_type": "execute_result"
    }
   ],
   "source": [
    "def mem_monitor(_func=None, *, mem_limit=None):\n",
    "    \n",
    "    # convert mem_limit from mb to bytes\n",
    "    if mem_limit:\n",
    "        mem_limit = mem_limit*(1024.0 ** 2)\n",
    "\n",
    "    def decorator(func):\n",
    "        @functools.wraps(func)\n",
    "        def wrapper(*args, **kwargs):\n",
    "            process = psutil.Process(os.getpid())\n",
    "            start_mem = process.memory_full_info().uss\n",
    "\n",
    "            monitor_thread = MemoryLimiter(func, *args, **kwargs)\n",
    "            monitor_thread.start()\n",
    "\n",
    "            delta_mem, max_memory = 0, 0\n",
    "            while True:\n",
    "                delta_mem = process.memory_full_info().uss - start_mem\n",
    "                if delta_mem > max_memory:\n",
    "                    max_memory = delta_mem\n",
    "                    \n",
    "                if mem_limit and max_memory > mem_limit:\n",
    "                    print(f'Max memory limit hit: {max_memory / (1024.0 ** 2):.3f} > {mem_limit / (1024.0 ** 2):.3f}')\n",
    "                    monitor_thread.stop()\n",
    "\n",
    "                # Check to see if the library call is complete\n",
    "                if monitor_thread.is_shutdown():\n",
    "                    break\n",
    "\n",
    "            print(f'Max Memory Usage in MB: {max_memory / (1024.0 ** 2):.3f}')\n",
    "            return monitor_thread.results\n",
    "\n",
    "        return wrapper\n",
    "    \n",
    "    if _func is None:\n",
    "        return decorator\n",
    "    else:\n",
    "        return decorator(_func)\n",
    "\n",
    "@mem_monitor #(mem_limit=2000)\n",
    "def memory_hog(set_size, num_dict_entries, delay_per_entry=0):\n",
    "    \"\"\" This function creates a dictionary with 'num_dict_entries' of a set \n",
    "    of size 'set_size'\n",
    "    \"\"\"\n",
    "    large_dictionary = {}\n",
    "\n",
    "    for i in range(num_dict_entries):\n",
    "        time.sleep(delay_per_entry)\n",
    "        large_dictionary[f'entry_{i}']=set(range(set_size))\n",
    "\n",
    "    return len(large_dictionary)\n",
    "\n",
    "memory_hog(10000, 5000)"
   ]
  },
  {
   "cell_type": "markdown",
   "id": "363a274b-180c-4576-b840-a6124e446e19",
   "metadata": {},
   "source": [
    "## TODO:"
   ]
  },
  {
   "cell_type": "markdown",
   "id": "8e324a69-620d-4b35-b8c1-81f32cd5b3a9",
   "metadata": {},
   "source": [
    "### add controller based on the percentage used memory"
   ]
  },
  {
   "cell_type": "code",
   "execution_count": 15,
   "id": "556399a5-f6b8-42b4-9e53-47b60cf9cdbe",
   "metadata": {
    "execution": {
     "iopub.execute_input": "2023-06-07T12:51:51.503299Z",
     "iopub.status.busy": "2023-06-07T12:51:51.503054Z",
     "iopub.status.idle": "2023-06-07T12:51:51.508558Z",
     "shell.execute_reply": "2023-06-07T12:51:51.507730Z",
     "shell.execute_reply.started": "2023-06-07T12:51:51.503282Z"
    },
    "tags": []
   },
   "outputs": [
    {
     "data": {
      "text/plain": [
       "svmem(total=16670547968, available=14476906496, percent=13.2, used=1846001664, free=586092544, active=2627522560, inactive=11724406784, buffers=929017856, cached=13309435904, shared=6987776, slab=1397075968)"
      ]
     },
     "execution_count": 15,
     "metadata": {},
     "output_type": "execute_result"
    }
   ],
   "source": [
    "psutil.virtual_memory() #.total/(1024.0 ** 3)"
   ]
  },
  {
   "cell_type": "code",
   "execution_count": 74,
   "id": "478e4518-1546-4261-b58f-b6a7b77d06f4",
   "metadata": {
    "execution": {
     "iopub.execute_input": "2023-06-05T16:58:55.124566Z",
     "iopub.status.busy": "2023-06-05T16:58:55.123720Z",
     "iopub.status.idle": "2023-06-05T16:58:55.134349Z",
     "shell.execute_reply": "2023-06-05T16:58:55.132381Z",
     "shell.execute_reply.started": "2023-06-05T16:58:55.124547Z"
    },
    "tags": []
   },
   "outputs": [
    {
     "data": {
      "text/plain": [
       "False"
      ]
     },
     "execution_count": 74,
     "metadata": {},
     "output_type": "execute_result"
    }
   ],
   "source": [
    "psutil.virtual_memory().percent > 85"
   ]
  }
 ],
 "metadata": {
  "kernelspec": {
   "display_name": "Python 3 (ipykernel)",
   "language": "python",
   "name": "python3"
  },
  "language_info": {
   "codemirror_mode": {
    "name": "ipython",
    "version": 3
   },
   "file_extension": ".py",
   "mimetype": "text/x-python",
   "name": "python",
   "nbconvert_exporter": "python",
   "pygments_lexer": "ipython3",
   "version": "3.10.11"
  }
 },
 "nbformat": 4,
 "nbformat_minor": 5
}
