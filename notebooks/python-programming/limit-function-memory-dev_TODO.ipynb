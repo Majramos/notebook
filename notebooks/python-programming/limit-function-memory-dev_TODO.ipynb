{
 "cells": [
  {
   "cell_type": "code",
   "execution_count": 1,
   "id": "9f808f4a-09c2-4927-b451-6d476bf487f2",
   "metadata": {
    "execution": {
     "iopub.execute_input": "2023-06-07T16:38:40.652965Z",
     "iopub.status.busy": "2023-06-07T16:38:40.652578Z",
     "iopub.status.idle": "2023-06-07T16:38:45.758591Z",
     "shell.execute_reply": "2023-06-07T16:38:45.757442Z",
     "shell.execute_reply.started": "2023-06-07T16:38:40.652945Z"
    },
    "tags": []
   },
   "outputs": [
    {
     "name": "stdout",
     "output_type": "stream",
     "text": [
      "Worker process running...\n",
      "Worker process running...\n",
      "Worker process running...\n",
      "Worker process running...\n",
      "Worker process running...\n",
      "Worker closing down\n"
     ]
    }
   ],
   "source": [
    "from time import sleep\n",
    "from multiprocessing import Process\n",
    " \n",
    "# custom task function\n",
    "def task():\n",
    "    # execute a task in a loop\n",
    "    for i in range(5):\n",
    "        # block for a moment\n",
    "        sleep(1)\n",
    "        # report a message\n",
    "        print('Worker process running...', flush=True)\n",
    "    print('Worker closing down', flush=True)\n",
    " \n",
    "# entry point\n",
    "if __name__ == '__main__':\n",
    "    # create and configure a new process\n",
    "    process = Process(target=task)\n",
    "    # start the new process\n",
    "    process.start()\n",
    "    # wait for the new process to finish\n",
    "    process.join()"
   ]
  },
  {
   "cell_type": "code",
   "execution_count": 2,
   "id": "2a58a6ff-438c-4737-946f-717ddb22fb8d",
   "metadata": {
    "execution": {
     "iopub.execute_input": "2023-06-07T16:40:41.127812Z",
     "iopub.status.busy": "2023-06-07T16:40:41.127462Z",
     "iopub.status.idle": "2023-06-07T16:40:44.237218Z",
     "shell.execute_reply": "2023-06-07T16:40:44.235403Z",
     "shell.execute_reply.started": "2023-06-07T16:40:41.127792Z"
    },
    "tags": []
   },
   "outputs": [
    {
     "name": "stdout",
     "output_type": "stream",
     "text": [
      "Worker process running...\n",
      "Worker process running...\n",
      "Worker closing down\n",
      "Main stopping process\n"
     ]
    }
   ],
   "source": [
    "from multiprocessing import Event\n",
    " \n",
    "# custom process class\n",
    "class CustomProcess(Process):\n",
    "    # constructor\n",
    "    def __init__(self):\n",
    "        # call the parent constructor\n",
    "        Process.__init__(self)\n",
    "        # create and store an event\n",
    "        self.event = Event()\n",
    " \n",
    "    # execute task\n",
    "    def run(self):\n",
    "        # execute a task in a loop\n",
    "        for i in range(5):\n",
    "            # block for a moment\n",
    "            sleep(1)\n",
    "            # check for stop\n",
    "            if self.event.is_set():\n",
    "                break\n",
    "            # report a message\n",
    "            print('Worker process running...', flush=True)\n",
    "        print('Worker closing down', flush=True)\n",
    " \n",
    "# entry point\n",
    "if __name__ == '__main__':\n",
    "    # create a new process\n",
    "    process = CustomProcess()\n",
    "    # start the new process\n",
    "    process.start()\n",
    "    # block for a while\n",
    "    sleep(3)\n",
    "    # stop the worker process\n",
    "    print('Main stopping process')\n",
    "    process.event.set()\n",
    "    # wait for the new process to finish\n",
    "    process.join()"
   ]
  }
 ],
 "metadata": {
  "kernelspec": {
   "display_name": "Python 3 (ipykernel)",
   "language": "python",
   "name": "python3"
  },
  "language_info": {
   "codemirror_mode": {
    "name": "ipython",
    "version": 3
   },
   "file_extension": ".py",
   "mimetype": "text/x-python",
   "name": "python",
   "nbconvert_exporter": "python",
   "pygments_lexer": "ipython3",
   "version": "3.10.11"
  }
 },
 "nbformat": 4,
 "nbformat_minor": 5
}
