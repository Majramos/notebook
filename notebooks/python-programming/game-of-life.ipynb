{
 "cells": [
  {
   "cell_type": "markdown",
   "id": "7d84b6fe-f806-4213-aff4-48405dd12c9b",
   "metadata": {},
   "source": [
    "# Conway's Game of Life\n",
    "Conway's Game of Life is a classic demonstration of emergence, where higher level patterns form from a few simple rules. Fantastic patterns emerge when the game is let to run long enough.\n",
    "\n",
    "The rules here, to borrow from [Wikipedia](https://en.wikipedia.org/wiki/Conway%27s_Game_of_Life), are as follows:\n",
    "\n",
    ">Any live cell with fewer than two live neighbours dies, as if by underpopulation.  \n",
    ">Any live cell with two or three live neighbours lives on to the next generation.  \n",
    ">Any live cell with more than three live neighbours dies, as if by overpopulation.  \n",
    ">Any dead cell with exactly three live neighbours becomes a live cell, as if by reproduction.  "
   ]
  },
  {
   "cell_type": "code",
   "execution_count": 1,
   "id": "8e64984b-32aa-4848-a6e5-023853852219",
   "metadata": {
    "tags": []
   },
   "outputs": [],
   "source": [
    "from IPython.display import clear_output\n",
    "import random\n",
    "import time"
   ]
  },
  {
   "cell_type": "code",
   "execution_count": 2,
   "id": "6be7fa94-f5ba-418c-b62e-20fdc484b379",
   "metadata": {
    "tags": []
   },
   "outputs": [],
   "source": [
    "\n",
    "def new_board(x, y, num_live_cells=2, num_dead_cells=3):\n",
    "    \"\"\"Initializes a board for Conway's Game of Life\"\"\"\n",
    "    board = []\n",
    "    for i in range(0, y):\n",
    "        # Defaults to a 3:2 dead cell:live cell ratio\n",
    "        board.append([random.choice([0] * num_dead_cells + [1] * num_live_cells) for _ in range(0, x)])\n",
    "    return board\n",
    "\n",
    "        \n",
    "def get(board, x, y):\n",
    "    \"\"\"Return the value at location (x, y) on a board, wrapping around if out-of-bounds\"\"\"\n",
    "    return board[y % len(board)][x % len(board[0])]\n",
    "\n",
    "\n",
    "def assign(board, x, y, value):\n",
    "    \"\"\"Assigns a value at location (x, y) on a board, wrapping around if out-of-bounds\"\"\"\n",
    "    board[y % len(board)][x % len(board[0])] = value\n",
    "\n",
    "\n",
    "def count_neighbors(board, x, y):\n",
    "    \"\"\"Counts the number of living neighbors a cell at (x, y) on a board has\"\"\"\n",
    "    return sum([\n",
    "        get(board, x - 1, y),\n",
    "        get(board, x + 1, y),\n",
    "        get(board, x, y - 1),\n",
    "        get(board, x, y + 1),\n",
    "        get(board, x + 1, y + 1),\n",
    "        get(board, x + 1, y - 1),\n",
    "        get(board, x - 1, y + 1),\n",
    "        get(board, x - 1, y - 1)])\n",
    "\n",
    "\n",
    "def process_life(board):\n",
    "    \"\"\"Creates the next iteration from a passed state of Conway's Game of Life\"\"\"\n",
    "    next_board = new_board(len(board[0]), len(board))\n",
    "    for y in range(0, len(board)):\n",
    "        for x in range(0, len(board[y])):\n",
    "            num_neighbors = count_neighbors(board, x, y)\n",
    "            is_alive = get(board, x, y) == 1\n",
    "            if num_neighbors < 2 and is_alive:\n",
    "                assign(next_board, x, y, 0)\n",
    "            elif 2 <= num_neighbors <= 3 and is_alive:\n",
    "                assign(next_board, x, y, 1)\n",
    "            elif num_neighbors > 3 and is_alive:\n",
    "                assign(next_board, x, y, 0)\n",
    "            elif num_neighbors == 3 and not is_alive:\n",
    "                assign(next_board, x, y, 1)\n",
    "            else:\n",
    "                assign(next_board, x, y, 0)\n",
    "    return next_board\n",
    "\n",
    "\n",
    "def draw_board(board):\n",
    "    res = ''\n",
    "    for row in board:\n",
    "        for col in row:\n",
    "            if col == 1:\n",
    "                res += '* '\n",
    "            else:\n",
    "                res += '  '\n",
    "        res += '\\n'\n",
    "    return res"
   ]
  },
  {
   "cell_type": "code",
   "execution_count": 3,
   "id": "95a8d547-aedd-4765-bc93-ef85fae72464",
   "metadata": {
    "tags": []
   },
   "outputs": [
    {
     "name": "stdout",
     "output_type": "stream",
     "text": [
      "Iteration 100\n",
      "                * *                       *       \n",
      "                                        * * * *   \n",
      "                                      *     * *   \n",
      "      * *                     * * *   *         * \n",
      "      *   * *                           * * * *   \n",
      "      *     *             *                 * *   \n",
      "    * *                   *                       \n",
      "  *       *               *                       \n",
      "      *                                           \n",
      "* *   * *                                         \n",
      "* *   * *                                         \n",
      "    * *                                           \n",
      "                                                  \n",
      "                                                  \n",
      "                                                  \n",
      "                                *   * * *         \n",
      "    *                         *   *       *       \n",
      "  *   *                             *             \n",
      "*     *                               *   *       \n",
      "  * *                           *       *         \n",
      "                            * *                   \n",
      "                                                  \n",
      "                                                  \n",
      "                  *                               \n",
      "                *   *                             \n",
      "\n"
     ]
    }
   ],
   "source": [
    "board = new_board(25, 25)\n",
    "\n",
    "NUM_ITERATIONS = 100\n",
    "\n",
    "for i in range(0, NUM_ITERATIONS):\n",
    "    print('Iteration ' + str(i + 1))\n",
    "    board = process_life(board)\n",
    "    res = draw_board(board)\n",
    "    print(res)\n",
    "    time.sleep(0.1)\n",
    "    clear_output(wait=True)"
   ]
  }
 ],
 "metadata": {
  "kernelspec": {
   "display_name": "Python 3 (ipykernel)",
   "language": "python",
   "name": "python3"
  },
  "language_info": {
   "codemirror_mode": {
    "name": "ipython",
    "version": 3
   },
   "file_extension": ".py",
   "mimetype": "text/x-python",
   "name": "python",
   "nbconvert_exporter": "python",
   "pygments_lexer": "ipython3",
   "version": "3.11.9"
  }
 },
 "nbformat": 4,
 "nbformat_minor": 5
}
