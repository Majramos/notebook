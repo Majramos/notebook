{
 "cells": [
  {
   "cell_type": "markdown",
   "id": "6057b53c-5a4f-4e0f-afa3-f7f21d55c44e",
   "metadata": {},
   "source": [
    "# Compare if-else statements to dictionaries and match statement"
   ]
  },
  {
   "cell_type": "code",
   "execution_count": 1,
   "id": "bd3b9e29-54a9-4cb0-b59c-97ed5c0aba4d",
   "metadata": {
    "execution": {
     "iopub.execute_input": "2023-08-31T10:57:15.367318Z",
     "iopub.status.busy": "2023-08-31T10:57:15.366953Z",
     "iopub.status.idle": "2023-08-31T10:57:15.384975Z",
     "shell.execute_reply": "2023-08-31T10:57:15.382961Z",
     "shell.execute_reply.started": "2023-08-31T10:57:15.367273Z"
    },
    "tags": []
   },
   "outputs": [],
   "source": [
    "import random"
   ]
  },
  {
   "cell_type": "code",
   "execution_count": 2,
   "id": "8a5b9a58-eece-4ad8-a2fd-e581c459feb8",
   "metadata": {
    "execution": {
     "iopub.execute_input": "2023-08-31T10:57:15.387132Z",
     "iopub.status.busy": "2023-08-31T10:57:15.386396Z",
     "iopub.status.idle": "2023-08-31T10:57:15.396546Z",
     "shell.execute_reply": "2023-08-31T10:57:15.394859Z",
     "shell.execute_reply.started": "2023-08-31T10:57:15.387066Z"
    },
    "tags": []
   },
   "outputs": [],
   "source": [
    "def order_pizza():\n",
    "    # print(\"You ordered a pizza.\")\n",
    "    return \"You ordered a pizza.\"\n",
    "\n",
    "def order_pasta():\n",
    "    # print(\"You ordered pasta.\")\n",
    "    return \"You ordered pasta.\"\n",
    "\n",
    "def order_salad():\n",
    "    # print(\"You ordered a salad.\")\n",
    "    return \"You ordered pasta.\"\n",
    "\n",
    "def order_burger():\n",
    "    # print(\"You ordered a burger.\")\n",
    "    return \"You ordered a burger.\"\n",
    "\n",
    "def order_sandwich():\n",
    "    # print(\"You ordered a sandwich.\")\n",
    "    return \"You ordered a sandwich.\"\n",
    "    \n",
    "def order_invalid():\n",
    "    # print(\"Invalid choice.\")\n",
    "    return \"Invalid choice.\""
   ]
  },
  {
   "cell_type": "code",
   "execution_count": 3,
   "id": "da37521d-ee05-46de-bf89-9830e94af23a",
   "metadata": {
    "execution": {
     "iopub.execute_input": "2023-08-31T10:57:15.398904Z",
     "iopub.status.busy": "2023-08-31T10:57:15.398370Z",
     "iopub.status.idle": "2023-08-31T10:57:15.427486Z",
     "shell.execute_reply": "2023-08-31T10:57:15.425815Z",
     "shell.execute_reply.started": "2023-08-31T10:57:15.398866Z"
    },
    "tags": []
   },
   "outputs": [],
   "source": [
    "# generate a array random orders to loop trough and time it\n",
    "random_orders_10 = [random.randint(1, 6) for i in range(10)]\n",
    "random_orders_100 = [random.randint(1, 6) for i in range(100)]\n",
    "random_orders_1000 = [random.randint(1, 6) for i in range(1000)]\n",
    "random_orders_10000 = [random.randint(1, 6) for i in range(10000)]"
   ]
  },
  {
   "cell_type": "markdown",
   "id": "9d11479e-b6ee-4725-8ced-975fa6ed4434",
   "metadata": {},
   "source": [
    "## Using if-elif-else statements"
   ]
  },
  {
   "cell_type": "code",
   "execution_count": 4,
   "id": "ddfae85b-fe16-4e78-b6c0-b85ffd0f920e",
   "metadata": {
    "execution": {
     "iopub.execute_input": "2023-08-31T10:57:15.432850Z",
     "iopub.status.busy": "2023-08-31T10:57:15.431501Z",
     "iopub.status.idle": "2023-08-31T10:57:15.441624Z",
     "shell.execute_reply": "2023-08-31T10:57:15.439683Z",
     "shell.execute_reply.started": "2023-08-31T10:57:15.432812Z"
    },
    "tags": []
   },
   "outputs": [],
   "source": [
    "def take_if_order(choice):\n",
    "    if choice == 1:\n",
    "        order_pizza()\n",
    "    elif choice == 2:\n",
    "        order_pasta()\n",
    "    elif choice == 3:\n",
    "        order_salad()\n",
    "    elif choice == 4:\n",
    "        order_burger()\n",
    "    elif choice == 5:\n",
    "        order_sandwich()\n",
    "    else:\n",
    "        order_invalid()\n",
    "        \n",
    "take_if_order(1)"
   ]
  },
  {
   "cell_type": "code",
   "execution_count": 5,
   "id": "bab0f8ff-9f29-405c-aa07-29c3f5a7760f",
   "metadata": {
    "execution": {
     "iopub.execute_input": "2023-08-31T10:57:15.445611Z",
     "iopub.status.busy": "2023-08-31T10:57:15.444827Z",
     "iopub.status.idle": "2023-08-31T10:57:17.074569Z",
     "shell.execute_reply": "2023-08-31T10:57:17.073562Z",
     "shell.execute_reply.started": "2023-08-31T10:57:15.445524Z"
    },
    "tags": []
   },
   "outputs": [
    {
     "name": "stdout",
     "output_type": "stream",
     "text": [
      "1.97 µs ± 22 ns per loop (mean ± std. dev. of 7 runs, 100,000 loops each)\n"
     ]
    }
   ],
   "source": [
    "%%timeit\n",
    "for choice in random_orders_10:\n",
    "    take_if_order(choice)"
   ]
  },
  {
   "cell_type": "code",
   "execution_count": 6,
   "id": "cfa24205-9ecb-4ac1-960c-a6f7f608200b",
   "metadata": {
    "execution": {
     "iopub.execute_input": "2023-08-31T10:57:17.076073Z",
     "iopub.status.busy": "2023-08-31T10:57:17.075678Z",
     "iopub.status.idle": "2023-08-31T10:57:32.996930Z",
     "shell.execute_reply": "2023-08-31T10:57:32.995741Z",
     "shell.execute_reply.started": "2023-08-31T10:57:17.076054Z"
    },
    "tags": []
   },
   "outputs": [
    {
     "name": "stdout",
     "output_type": "stream",
     "text": [
      "19.6 µs ± 343 ns per loop (mean ± std. dev. of 7 runs, 100,000 loops each)\n"
     ]
    }
   ],
   "source": [
    "%%timeit\n",
    "for choice in random_orders_100:\n",
    "    take_if_order(choice)"
   ]
  },
  {
   "cell_type": "code",
   "execution_count": 7,
   "id": "d1351a5a-a208-45b2-bf74-fa07d75dd27d",
   "metadata": {
    "execution": {
     "iopub.execute_input": "2023-08-31T10:57:32.998920Z",
     "iopub.status.busy": "2023-08-31T10:57:32.998604Z",
     "iopub.status.idle": "2023-08-31T10:57:34.697817Z",
     "shell.execute_reply": "2023-08-31T10:57:34.696573Z",
     "shell.execute_reply.started": "2023-08-31T10:57:32.998902Z"
    },
    "tags": []
   },
   "outputs": [
    {
     "name": "stdout",
     "output_type": "stream",
     "text": [
      "207 µs ± 10.7 µs per loop (mean ± std. dev. of 7 runs, 1,000 loops each)\n"
     ]
    }
   ],
   "source": [
    "%%timeit\n",
    "for choice in random_orders_1000:\n",
    "    take_if_order(choice)"
   ]
  },
  {
   "cell_type": "code",
   "execution_count": 8,
   "id": "370f9487-0fd9-4979-8e5c-0d09dbdb0ef3",
   "metadata": {
    "execution": {
     "iopub.execute_input": "2023-08-31T10:57:34.699315Z",
     "iopub.status.busy": "2023-08-31T10:57:34.698964Z",
     "iopub.status.idle": "2023-08-31T10:57:36.342453Z",
     "shell.execute_reply": "2023-08-31T10:57:36.341290Z",
     "shell.execute_reply.started": "2023-08-31T10:57:34.699289Z"
    },
    "tags": []
   },
   "outputs": [
    {
     "name": "stdout",
     "output_type": "stream",
     "text": [
      "2 ms ± 11.7 µs per loop (mean ± std. dev. of 7 runs, 100 loops each)\n"
     ]
    }
   ],
   "source": [
    "%%timeit\n",
    "for choice in random_orders_10000:\n",
    "    take_if_order(choice)"
   ]
  },
  {
   "cell_type": "markdown",
   "id": "b35aae6e-025e-4fad-84b8-83dc9cb87ede",
   "metadata": {
    "jp-MarkdownHeadingCollapsed": true,
    "tags": []
   },
   "source": [
    "## Using dictionaries"
   ]
  },
  {
   "cell_type": "code",
   "execution_count": 9,
   "id": "2c4a46a0-610a-4150-b410-77934e69eb43",
   "metadata": {
    "execution": {
     "iopub.execute_input": "2023-08-31T10:57:36.344381Z",
     "iopub.status.busy": "2023-08-31T10:57:36.343982Z",
     "iopub.status.idle": "2023-08-31T10:57:36.356758Z",
     "shell.execute_reply": "2023-08-31T10:57:36.354394Z",
     "shell.execute_reply.started": "2023-08-31T10:57:36.344340Z"
    },
    "tags": []
   },
   "outputs": [
    {
     "data": {
      "text/plain": [
       "'You ordered a pizza.'"
      ]
     },
     "execution_count": 9,
     "metadata": {},
     "output_type": "execute_result"
    }
   ],
   "source": [
    "switch = {\n",
    "    1: order_pizza,\n",
    "    2: order_pasta,\n",
    "    3: order_salad,\n",
    "    4: order_burger,\n",
    "    5: order_sandwich,\n",
    "}\n",
    "\n",
    "func = switch.get(1, order_invalid)\n",
    "func()"
   ]
  },
  {
   "cell_type": "code",
   "execution_count": 10,
   "id": "f819c1c8-63eb-4440-ba5d-843a4beae099",
   "metadata": {
    "execution": {
     "iopub.execute_input": "2023-08-31T10:57:36.358681Z",
     "iopub.status.busy": "2023-08-31T10:57:36.358294Z",
     "iopub.status.idle": "2023-08-31T10:57:42.880431Z",
     "shell.execute_reply": "2023-08-31T10:57:42.879221Z",
     "shell.execute_reply.started": "2023-08-31T10:57:36.358662Z"
    },
    "tags": []
   },
   "outputs": [
    {
     "name": "stdout",
     "output_type": "stream",
     "text": [
      "800 ns ± 16 ns per loop (mean ± std. dev. of 7 runs, 1,000,000 loops each)\n"
     ]
    }
   ],
   "source": [
    "%%timeit\n",
    "for choice in random_orders_10:\n",
    "    switch.get(choice, order_invalid)"
   ]
  },
  {
   "cell_type": "code",
   "execution_count": 11,
   "id": "3b28b74a-42bd-4368-af47-efa5106144db",
   "metadata": {
    "execution": {
     "iopub.execute_input": "2023-08-31T10:57:42.883808Z",
     "iopub.status.busy": "2023-08-31T10:57:42.881945Z",
     "iopub.status.idle": "2023-08-31T10:57:48.905486Z",
     "shell.execute_reply": "2023-08-31T10:57:48.904308Z",
     "shell.execute_reply.started": "2023-08-31T10:57:42.883737Z"
    },
    "tags": []
   },
   "outputs": [
    {
     "name": "stdout",
     "output_type": "stream",
     "text": [
      "7.37 µs ± 155 ns per loop (mean ± std. dev. of 7 runs, 100,000 loops each)\n"
     ]
    }
   ],
   "source": [
    "%%timeit\n",
    "for choice in random_orders_100:\n",
    "    switch.get(choice, order_invalid)"
   ]
  },
  {
   "cell_type": "code",
   "execution_count": 12,
   "id": "62934186-f904-4d14-8cfe-09549ade003e",
   "metadata": {
    "execution": {
     "iopub.execute_input": "2023-08-31T10:57:48.907845Z",
     "iopub.status.busy": "2023-08-31T10:57:48.906786Z",
     "iopub.status.idle": "2023-08-31T10:57:55.023396Z",
     "shell.execute_reply": "2023-08-31T10:57:55.021685Z",
     "shell.execute_reply.started": "2023-08-31T10:57:48.907822Z"
    },
    "tags": []
   },
   "outputs": [
    {
     "name": "stdout",
     "output_type": "stream",
     "text": [
      "75 µs ± 1.74 µs per loop (mean ± std. dev. of 7 runs, 10,000 loops each)\n"
     ]
    }
   ],
   "source": [
    "%%timeit\n",
    "for choice in random_orders_1000:\n",
    "    switch.get(choice, order_invalid)"
   ]
  },
  {
   "cell_type": "code",
   "execution_count": 13,
   "id": "13d047e5-ee70-4063-b985-c3716f489dec",
   "metadata": {
    "execution": {
     "iopub.execute_input": "2023-08-31T10:57:55.027012Z",
     "iopub.status.busy": "2023-08-31T10:57:55.026715Z",
     "iopub.status.idle": "2023-08-31T10:58:01.082132Z",
     "shell.execute_reply": "2023-08-31T10:58:01.080877Z",
     "shell.execute_reply.started": "2023-08-31T10:57:55.026994Z"
    },
    "tags": []
   },
   "outputs": [
    {
     "name": "stdout",
     "output_type": "stream",
     "text": [
      "747 µs ± 10.9 µs per loop (mean ± std. dev. of 7 runs, 1,000 loops each)\n"
     ]
    }
   ],
   "source": [
    "%%timeit\n",
    "for choice in random_orders_10000:\n",
    "    switch.get(choice, order_invalid)"
   ]
  },
  {
   "cell_type": "markdown",
   "id": "ee5dd258-0bcb-4ac0-98a9-85efe7aab9f6",
   "metadata": {},
   "source": [
    "## Using the match statement "
   ]
  },
  {
   "cell_type": "code",
   "execution_count": 14,
   "id": "7440b072-694b-438b-af04-bb8d55b3ac99",
   "metadata": {
    "execution": {
     "iopub.execute_input": "2023-08-31T10:58:01.084607Z",
     "iopub.status.busy": "2023-08-31T10:58:01.083544Z",
     "iopub.status.idle": "2023-08-31T10:58:01.091182Z",
     "shell.execute_reply": "2023-08-31T10:58:01.089950Z",
     "shell.execute_reply.started": "2023-08-31T10:58:01.084580Z"
    },
    "tags": []
   },
   "outputs": [],
   "source": [
    "def take_match_order(choice):\n",
    "    match choice:\n",
    "        case 1:\n",
    "            order_pizza()\n",
    "        case 2:\n",
    "            order_pasta()\n",
    "        case 3:\n",
    "            order_salad()\n",
    "        case 4:\n",
    "            order_burger()\n",
    "        case 5:\n",
    "            order_sandwich()\n",
    "        case _:\n",
    "            order_invalid\n",
    "\n",
    "take_match_order(1)"
   ]
  },
  {
   "cell_type": "code",
   "execution_count": 15,
   "id": "160a3959-ef3f-425a-99f4-17bf82fa6173",
   "metadata": {
    "execution": {
     "iopub.execute_input": "2023-08-31T10:58:01.093505Z",
     "iopub.status.busy": "2023-08-31T10:58:01.093072Z",
     "iopub.status.idle": "2023-08-31T10:58:02.658395Z",
     "shell.execute_reply": "2023-08-31T10:58:02.657100Z",
     "shell.execute_reply.started": "2023-08-31T10:58:01.093451Z"
    },
    "tags": []
   },
   "outputs": [
    {
     "name": "stdout",
     "output_type": "stream",
     "text": [
      "1.88 µs ± 77.4 ns per loop (mean ± std. dev. of 7 runs, 100,000 loops each)\n"
     ]
    }
   ],
   "source": [
    "%%timeit\n",
    "for choice in random_orders_10:\n",
    "    take_match_order(choice)"
   ]
  },
  {
   "cell_type": "code",
   "execution_count": 16,
   "id": "507cb3c1-9120-4aa9-8069-f9131a4c1d41",
   "metadata": {
    "execution": {
     "iopub.execute_input": "2023-08-31T10:58:02.660306Z",
     "iopub.status.busy": "2023-08-31T10:58:02.659855Z",
     "iopub.status.idle": "2023-08-31T10:58:20.807890Z",
     "shell.execute_reply": "2023-08-31T10:58:20.804259Z",
     "shell.execute_reply.started": "2023-08-31T10:58:02.660230Z"
    },
    "tags": []
   },
   "outputs": [
    {
     "name": "stdout",
     "output_type": "stream",
     "text": [
      "22.9 µs ± 2.6 µs per loop (mean ± std. dev. of 7 runs, 100,000 loops each)\n"
     ]
    }
   ],
   "source": [
    "%%timeit\n",
    "for choice in random_orders_100:\n",
    "    take_match_order(choice)"
   ]
  },
  {
   "cell_type": "code",
   "execution_count": 17,
   "id": "25cb210f-a1bf-4d66-8c80-7cf801046676",
   "metadata": {
    "execution": {
     "iopub.execute_input": "2023-08-31T10:58:20.811272Z",
     "iopub.status.busy": "2023-08-31T10:58:20.810665Z",
     "iopub.status.idle": "2023-08-31T10:58:22.669627Z",
     "shell.execute_reply": "2023-08-31T10:58:22.667603Z",
     "shell.execute_reply.started": "2023-08-31T10:58:20.811219Z"
    },
    "tags": []
   },
   "outputs": [
    {
     "name": "stdout",
     "output_type": "stream",
     "text": [
      "218 µs ± 23.9 µs per loop (mean ± std. dev. of 7 runs, 1,000 loops each)\n"
     ]
    }
   ],
   "source": [
    "%%timeit\n",
    "for choice in random_orders_1000:\n",
    "    take_match_order(choice)"
   ]
  },
  {
   "cell_type": "code",
   "execution_count": 18,
   "id": "1aebc550-12da-443f-a491-3d305fc5f2d7",
   "metadata": {
    "execution": {
     "iopub.execute_input": "2023-08-31T10:58:22.672714Z",
     "iopub.status.busy": "2023-08-31T10:58:22.671975Z",
     "iopub.status.idle": "2023-08-31T10:58:24.654702Z",
     "shell.execute_reply": "2023-08-31T10:58:24.652867Z",
     "shell.execute_reply.started": "2023-08-31T10:58:22.672642Z"
    },
    "tags": []
   },
   "outputs": [
    {
     "name": "stdout",
     "output_type": "stream",
     "text": [
      "2.4 ms ± 188 µs per loop (mean ± std. dev. of 7 runs, 100 loops each)\n"
     ]
    }
   ],
   "source": [
    "%%timeit\n",
    "for choice in random_orders_10000:\n",
    "    take_match_order(choice)"
   ]
  }
 ],
 "metadata": {
  "kernelspec": {
   "display_name": "Python 3 (ipykernel)",
   "language": "python",
   "name": "python3"
  },
  "language_info": {
   "codemirror_mode": {
    "name": "ipython",
    "version": 3
   },
   "file_extension": ".py",
   "mimetype": "text/x-python",
   "name": "python",
   "nbconvert_exporter": "python",
   "pygments_lexer": "ipython3",
   "version": "3.10.11"
  }
 },
 "nbformat": 4,
 "nbformat_minor": 5
}
