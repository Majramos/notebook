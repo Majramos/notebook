{
 "cells": [
  {
   "cell_type": "markdown",
   "id": "111186ac-ebb5-4821-b034-cefb05193d4b",
   "metadata": {},
   "source": [
    "# Make a dump from a sqllite database as a backup\n",
    "- https://docs.python.org/3/library/sqlite3.html#sqlite3.Connection.iterdump"
   ]
  },
  {
   "cell_type": "code",
   "execution_count": 1,
   "id": "9cb7e67b-942a-4d1a-a2d5-d9818d841bd8",
   "metadata": {},
   "outputs": [],
   "source": [
    "import sqlite3\n",
    "from pathlib import Path"
   ]
  },
  {
   "cell_type": "code",
   "execution_count": 2,
   "id": "41f9a241-b987-4572-8ff7-b0638a6ea96a",
   "metadata": {},
   "outputs": [],
   "source": [
    "DATA_PATH = Path().resolve().parent.parent/\"data\"\n",
    "# print(DATA_PATH)"
   ]
  },
  {
   "cell_type": "markdown",
   "id": "7086d0bd-3ded-4475-806a-5f4adffc095e",
   "metadata": {},
   "source": [
    "## Create dummy database"
   ]
  },
  {
   "cell_type": "markdown",
   "id": "541f6f00-8240-4787-a27f-71baae9dff22",
   "metadata": {},
   "source": [
    "### Load raw dummy data"
   ]
  },
  {
   "cell_type": "code",
   "execution_count": 3,
   "id": "0ed32bec-9eb2-4900-aef0-0658e767cd90",
   "metadata": {},
   "outputs": [
    {
     "name": "stdout",
     "output_type": "stream",
     "text": [
      "True\n",
      "26570\n"
     ]
    },
    {
     "data": {
      "text/plain": [
       "['\"city\",\"city_ascii\",\"lat\",\"lng\",\"country\",\"iso2\",\"iso3\",\"admin_name\",\"capital\",\"population\",\"id\"\\n',\n",
       " '\"Tokyo\",\"Tokyo\",\"35.6897\",\"139.6922\",\"Japan\",\"JP\",\"JPN\",\"Tōkyō\",\"primary\",\"37977000\",\"1392685764\"\\n',\n",
       " '\"Jakarta\",\"Jakarta\",\"-6.2146\",\"106.8451\",\"Indonesia\",\"ID\",\"IDN\",\"Jakarta\",\"primary\",\"34540000\",\"1360771077\"\\n',\n",
       " '\"Delhi\",\"Delhi\",\"28.6600\",\"77.2300\",\"India\",\"IN\",\"IND\",\"Delhi\",\"admin\",\"29617000\",\"1356872604\"\\n',\n",
       " '\"Mumbai\",\"Mumbai\",\"18.9667\",\"72.8333\",\"India\",\"IN\",\"IND\",\"Mahārāshtra\",\"admin\",\"23355000\",\"1356226629\"\\n']"
      ]
     },
     "execution_count": 3,
     "metadata": {},
     "output_type": "execute_result"
    }
   ],
   "source": [
    "raw_file = DATA_PATH/\"datasets\"/\"simplemaps_worldcities.csv\"\n",
    "print(raw_file.is_file())  # check if exists\n",
    "\n",
    "# check first lines\n",
    "with open(raw_file, \"r\") as rfile:\n",
    "    lines = rfile.readlines()\n",
    "\n",
    "print(len(lines))\n",
    "lines[:5]"
   ]
  },
  {
   "cell_type": "code",
   "execution_count": 4,
   "id": "367d72cb-f612-480a-bad0-cf2e38e3752a",
   "metadata": {
    "scrolled": true
   },
   "outputs": [],
   "source": [
    "# create db in memory\n",
    "try:\n",
    "    conn = sqlite3.connect(\":memory:\")\n",
    "except sqlite3.Error as e:\n",
    "    print(e)\n",
    "\n",
    "# Table Definition\n",
    "create_table = \"\"\"\n",
    "    CREATE TABLE IF NOT EXISTS simplemaps_worldcities(\n",
    "        city VARCHAR(255) NOT NULL,\n",
    "        city_ascii VARCHAR(255) NOT NULL,\n",
    "        lat DOUBLE NOT NULL,\n",
    "        lng DOUBLE NOT NULL,\n",
    "        country VARCHAR(255) NOT NULL,\n",
    "        iso2 VARCHAR(255) NOT NULL,\n",
    "        iso3 VARCHAR(255) NOT NULL,\n",
    "        admin_name VARCHAR(255) NOT NULL,\n",
    "        capital VARCHAR(255) NOT NULL,\n",
    "        population INTEGER NOT NULL,\n",
    "        id INTEGER PRIMARY KEY\n",
    "    );\n",
    "\"\"\"\n",
    "\n",
    "cursor = conn.cursor()\n",
    "cursor.execute(create_table)\n",
    "\n",
    "# Insert values\n",
    "# insert_values = \"\"\"\n",
    "#     INSERT INTO simplemaps_worldcities (\n",
    "#         city,city_ascii,lat,lng,country,iso2,iso3,admin_name,capital,population,id\n",
    "#     )\n",
    "#     VALUES\n",
    "#     (\"Tokyo\",\"Tokyo\",35.6897,139.6922,\"Japan\",\"JP\",\"JPN\",\"Tōkyō\",\"primary\",37977000,1392685764);\n",
    "# \"\"\"\n",
    "# cursor.execute(insert_values)\n",
    "for line in lines[1:]:\n",
    "    insert_values = f\"\"\"\n",
    "        INSERT INTO simplemaps_worldcities (\n",
    "            city,city_ascii,lat,lng,country,iso2,iso3,admin_name,capital,population,id\n",
    "        )\n",
    "        VALUES\n",
    "        ({line});\n",
    "    \"\"\"\n",
    "    cursor.execute(insert_values)\n",
    "\n",
    "# cursor.execute(\"\"\"SELECT \"name\", \"type\", \"sql\" FROM sqlite_master;\"\"\")\n",
    "# cursor.fetchall()\n",
    "\n",
    "with open(DATA_PATH/\"dump.sql\", \"w\") as f:\n",
    "    for line in conn.iterdump():\n",
    "        f.write(f\"{line}\\n\")"
   ]
  },
  {
   "cell_type": "code",
   "execution_count": 5,
   "id": "a052e02f-8d09-406b-a040-508614ff9647",
   "metadata": {},
   "outputs": [
    {
     "data": {
      "text/plain": [
       "[('simplemaps_worldcities',\n",
       "  'table',\n",
       "  'CREATE TABLE simplemaps_worldcities(\\n        city VARCHAR(255) NOT NULL,\\n        city_ascii VARCHAR(255) NOT NULL,\\n        lat DOUBLE NOT NULL,\\n        lng DOUBLE NOT NULL,\\n        country VARCHAR(255) NOT NULL,\\n        iso2 VARCHAR(255) NOT NULL,\\n        iso3 VARCHAR(255) NOT NULL,\\n        admin_name VARCHAR(255) NOT NULL,\\n        capital VARCHAR(255) NOT NULL,\\n        population INTEGER NOT NULL,\\n        id INTEGER PRIMARY KEY\\n    )')]"
      ]
     },
     "execution_count": 5,
     "metadata": {},
     "output_type": "execute_result"
    }
   ],
   "source": [
    "# create db in memory\n",
    "try:\n",
    "    conn = sqlite3.connect(\":memory:\")\n",
    "except sqlite3.Error as e:\n",
    "    print(e)\n",
    "\n",
    "with open(DATA_PATH/\"dump.sql\", \"r\") as sql_file:\n",
    "    sql_script = sql_file.read()\n",
    "\n",
    "cursor = conn.cursor()\n",
    "cursor.executescript(sql_script)\n",
    "\n",
    "cursor.execute(\"\"\"SELECT \"name\", \"type\", \"sql\" FROM sqlite_master;\"\"\")\n",
    "cursor.fetchall()"
   ]
  }
 ],
 "metadata": {
  "kernelspec": {
   "display_name": "Python 3 (ipykernel)",
   "language": "python",
   "name": "python3"
  },
  "language_info": {
   "codemirror_mode": {
    "name": "ipython",
    "version": 3
   },
   "file_extension": ".py",
   "mimetype": "text/x-python",
   "name": "python",
   "nbconvert_exporter": "python",
   "pygments_lexer": "ipython3",
   "version": "3.11.9"
  }
 },
 "nbformat": 4,
 "nbformat_minor": 5
}
