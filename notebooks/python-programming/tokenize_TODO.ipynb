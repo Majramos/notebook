{
 "cells": [
  {
   "cell_type": "markdown",
   "id": "bbfc6a6f-5d6e-4f08-9967-63cae6f43885",
   "metadata": {},
   "source": [
    "# Python Tokenize\n",
    "https://docs.python.org/3/library/tokenize.html"
   ]
  },
  {
   "cell_type": "code",
   "execution_count": 1,
   "id": "bb51aa80-74fb-4ff3-b149-86c5a9c2b732",
   "metadata": {
    "execution": {
     "iopub.execute_input": "2023-08-08T22:44:49.196414Z",
     "iopub.status.busy": "2023-08-08T22:44:49.195052Z",
     "iopub.status.idle": "2023-08-08T22:44:49.211678Z",
     "shell.execute_reply": "2023-08-08T22:44:49.210343Z",
     "shell.execute_reply.started": "2023-08-08T22:44:49.196351Z"
    },
    "tags": []
   },
   "outputs": [],
   "source": [
    "import io\n",
    "import tokenize"
   ]
  },
  {
   "cell_type": "code",
   "execution_count": 16,
   "id": "b56ace7e-ae42-4410-bce9-7d004f4a6a2f",
   "metadata": {
    "execution": {
     "iopub.execute_input": "2023-08-08T22:50:47.783670Z",
     "iopub.status.busy": "2023-08-08T22:50:47.783363Z",
     "iopub.status.idle": "2023-08-08T22:50:47.788949Z",
     "shell.execute_reply": "2023-08-08T22:50:47.787835Z",
     "shell.execute_reply.started": "2023-08-08T22:50:47.783653Z"
    },
    "tags": []
   },
   "outputs": [],
   "source": [
    "script_py = \"\"\"\n",
    "# My amazing foo function.\n",
    "def foo():\n",
    "    \\\"\"\" docstring \\\"\"\"\n",
    "    # I will print\n",
    "    print \"Hello\"\n",
    "    return 0   # Return the value\n",
    "\n",
    "# Maaaaaaain\n",
    "if __name__ == \"__main__\":\n",
    "    # this is main\n",
    "    print \"Main\" \n",
    "\"\"\""
   ]
  },
  {
   "cell_type": "code",
   "execution_count": 27,
   "id": "33b46429-fd0c-4c29-84da-66718d44718c",
   "metadata": {
    "execution": {
     "iopub.execute_input": "2023-08-08T22:56:10.945467Z",
     "iopub.status.busy": "2023-08-08T22:56:10.943333Z",
     "iopub.status.idle": "2023-08-08T22:56:10.953369Z",
     "shell.execute_reply": "2023-08-08T22:56:10.951779Z",
     "shell.execute_reply.started": "2023-08-08T22:56:10.945371Z"
    },
    "tags": []
   },
   "outputs": [
    {
     "data": {
      "text/plain": [
       "61"
      ]
     },
     "execution_count": 27,
     "metadata": {},
     "output_type": "execute_result"
    }
   ],
   "source": [
    "# token types as integer\n",
    "tokenize.COMMENT"
   ]
  },
  {
   "cell_type": "code",
   "execution_count": 30,
   "id": "f1bc72a9-9c3f-40af-8a5e-5c4cac45b52e",
   "metadata": {
    "execution": {
     "iopub.execute_input": "2023-08-08T22:57:45.351014Z",
     "iopub.status.busy": "2023-08-08T22:57:45.350707Z",
     "iopub.status.idle": "2023-08-08T22:57:45.365423Z",
     "shell.execute_reply": "2023-08-08T22:57:45.362726Z",
     "shell.execute_reply.started": "2023-08-08T22:57:45.350996Z"
    },
    "tags": []
   },
   "outputs": [
    {
     "name": "stdout",
     "output_type": "stream",
     "text": [
      "\n",
      " (1, 0)\n",
      "# My amazing foo function.\n",
      " (2, 0)\n",
      "# My amazing foo function.\n",
      " (2, 26)\n",
      "def foo():\n",
      " (3, 0)\n",
      "def foo():\n",
      " (3, 4)\n",
      "def foo():\n",
      " (3, 7)\n",
      "def foo():\n",
      " (3, 8)\n",
      "def foo():\n",
      " (3, 9)\n",
      "def foo():\n",
      " (3, 10)\n",
      "    \"\"\" docstring \"\"\"\n",
      " (4, 0)\n",
      "    \"\"\" docstring \"\"\"\n",
      " (4, 4)\n",
      "    \"\"\" docstring \"\"\"\n",
      " (4, 21)\n",
      "    # I will print\n",
      " (5, 4)\n",
      "    # I will print\n",
      " (5, 18)\n",
      "    print \"Hello\"\n",
      " (6, 4)\n",
      "    print \"Hello\"\n",
      " (6, 10)\n",
      "    print \"Hello\"\n",
      " (6, 17)\n",
      "    return 0   # Return the value\n",
      " (7, 4)\n",
      "    return 0   # Return the value\n",
      " (7, 11)\n",
      "    return 0   # Return the value\n",
      " (7, 15)\n",
      "    return 0   # Return the value\n",
      " (7, 33)\n",
      "\n",
      " (8, 0)\n",
      "# Maaaaaaain\n",
      " (9, 0)\n",
      "# Maaaaaaain\n",
      " (9, 12)\n",
      "if __name__ == \"__main__\":\n",
      " (10, 0)\n",
      "if __name__ == \"__main__\":\n",
      " (10, 0)\n",
      "if __name__ == \"__main__\":\n",
      " (10, 3)\n",
      "if __name__ == \"__main__\":\n",
      " (10, 12)\n",
      "if __name__ == \"__main__\":\n",
      " (10, 15)\n",
      "if __name__ == \"__main__\":\n",
      " (10, 25)\n",
      "if __name__ == \"__main__\":\n",
      " (10, 26)\n",
      "    # this is main\n",
      " (11, 4)\n",
      "    # this is main\n",
      " (11, 18)\n",
      "    print \"Main\" \n",
      " (12, 0)\n",
      "    print \"Main\" \n",
      " (12, 4)\n",
      "    print \"Main\" \n",
      " (12, 10)\n",
      "    print \"Main\" \n",
      " (12, 17)\n",
      " (13, 0)\n",
      " (13, 0)\n"
     ]
    }
   ],
   "source": [
    "fileObj = io.StringIO(script_py)\n",
    "\n",
    "for toktype, tok, start, end, line in tokenize.generate_tokens(fileObj.readline):\n",
    "    \n",
    "    print(line, start)\n",
    "    \n",
    "    # we can also use token.tok_name[toktype] instead of 'COMMENT'\n",
    "    # from the token module \n",
    "    # if toktype == tokenize.COMMENT:\n",
    "    #     print('COMMENT' + \" \" + tok)"
   ]
  }
 ],
 "metadata": {
  "kernelspec": {
   "display_name": "Python 3 (ipykernel)",
   "language": "python",
   "name": "python3"
  },
  "language_info": {
   "codemirror_mode": {
    "name": "ipython",
    "version": 3
   },
   "file_extension": ".py",
   "mimetype": "text/x-python",
   "name": "python",
   "nbconvert_exporter": "python",
   "pygments_lexer": "ipython3",
   "version": "3.10.11"
  }
 },
 "nbformat": 4,
 "nbformat_minor": 5
}
