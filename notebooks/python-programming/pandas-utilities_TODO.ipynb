{
 "cells": [
  {
   "cell_type": "markdown",
   "id": "5e805b0a-55ba-453c-b7ee-a177567b690c",
   "metadata": {},
   "source": [
    "# Pandas utilities functions"
   ]
  },
  {
   "cell_type": "code",
   "execution_count": null,
   "id": "a2507dc9-2dd1-40b2-8f19-26d6370d7740",
   "metadata": {},
   "outputs": [],
   "source": [
    "import pandas as pd"
   ]
  },
  {
   "cell_type": "code",
   "execution_count": null,
   "id": "856caf71-07bd-46ef-9cb5-3d8248e32176",
   "metadata": {},
   "outputs": [],
   "source": [
    "def calc_var_simple_mean(df, name):\n",
    "    ''' Calcular a media simples entre as colunas do dataframe '''\n",
    "    return df.mean(axis=1).to_frame().rename(columns={0: name+'_mean'})"
   ]
  },
  {
   "cell_type": "code",
   "execution_count": null,
   "id": "6ecc3c64-ac53-403f-a062-1f2fc3e83d68",
   "metadata": {},
   "outputs": [],
   "source": [
    "def calc_var_weighted_mean(df, weights, name):\n",
    "    ''' Calcular a weighted mean entre as colunas do dataframe \n",
    "    \n",
    "    : params :\n",
    "    df: dataframe com dados de input\n",
    "    weights (dict): dict em que as keys sao os nomes das colunas do dataframe e\n",
    "                    os values sao os respectivos pesos\n",
    "                    \n",
    "    : returns :\n",
    "    output: dataframe com a media da variavel\n",
    "    '''\n",
    "    \n",
    "    output = df.copy()\n",
    "    \n",
    "    for d, w in weights.items():\n",
    "        output[d] = output[d]*w\n",
    "        \n",
    "    output = output.sum(axis=1)\n",
    "    \n",
    "    return output.to_frame().rename(columns={0: name+'_mean'})"
   ]
  },
  {
   "cell_type": "code",
   "execution_count": null,
   "id": "8513a7b0-1cf7-4731-b70c-a57a7513886e",
   "metadata": {},
   "outputs": [],
   "source": [
    "def simplify_time_series(df, target, cutoff='std'):\n",
    "    ''' Converter uma serie temporal em 1 e -1\n",
    "    \n",
    "    # TODO: replace with np.where/np.select\n",
    "    \n",
    "    \n",
    "    : params :\n",
    "    df: dataframe\n",
    "    target (str): nome da coluna para calcular\n",
    "    cutoff (float/int): valor de cutoff ao qual\n",
    "    '''\n",
    "    \n",
    "    if cutoff == 'std':\n",
    "        cutoff = df[target].std()\n",
    "    \n",
    "    df_columns = list(df.columns)\n",
    "    df_columns.remove(target)\n",
    "    output = df.copy().drop(columns=df_columns)\n",
    "    for i in output.itertuples():\n",
    "        index, residual = i[0], i[1]\n",
    "        \n",
    "        if residual >= cutoff:\n",
    "            output[target].loc[index] = 1\n",
    "        elif residual <= cutoff*-1:\n",
    "            output[target].loc[index] = -1\n",
    "        else:\n",
    "            output[target].loc[index] = 0\n",
    "    \n",
    "    return output"
   ]
  }
 ],
 "metadata": {
  "kernelspec": {
   "display_name": "Python 3 (ipykernel)",
   "language": "python",
   "name": "python3"
  },
  "language_info": {
   "codemirror_mode": {
    "name": "ipython",
    "version": 3
   },
   "file_extension": ".py",
   "mimetype": "text/x-python",
   "name": "python",
   "nbconvert_exporter": "python",
   "pygments_lexer": "ipython3",
   "version": "3.10.11"
  }
 },
 "nbformat": 4,
 "nbformat_minor": 5
}
