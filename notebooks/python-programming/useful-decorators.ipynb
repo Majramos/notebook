{
 "cells": [
  {
   "cell_type": "markdown",
   "id": "9a674516-95a4-4ed8-acc9-a5f8f724e3e0",
   "metadata": {},
   "source": [
    "# Useful Decorators"
   ]
  },
  {
   "cell_type": "code",
   "execution_count": 1,
   "id": "1581c56b-4385-447f-9bae-cf71b56de0bc",
   "metadata": {
    "execution": {
     "iopub.execute_input": "2023-08-06T15:41:23.692176Z",
     "iopub.status.busy": "2023-08-06T15:41:23.691905Z",
     "iopub.status.idle": "2023-08-06T15:41:23.775117Z",
     "shell.execute_reply": "2023-08-06T15:41:23.774098Z",
     "shell.execute_reply.started": "2023-08-06T15:41:23.692154Z"
    },
    "tags": []
   },
   "outputs": [],
   "source": [
    "import logging\n",
    "import requests\n",
    "import time\n",
    "from functools import wraps"
   ]
  },
  {
   "cell_type": "markdown",
   "id": "4f5b6596-83b7-4cb5-8ec8-2d4ddb329641",
   "metadata": {},
   "source": [
    "## logging\n",
    "log a function call"
   ]
  },
  {
   "cell_type": "markdown",
   "id": "7a47285d-e398-46db-b68c-28208be01049",
   "metadata": {},
   "source": [
    "### definition"
   ]
  },
  {
   "cell_type": "code",
   "execution_count": 2,
   "id": "a0695879-822e-4404-88bc-8397670bd3c9",
   "metadata": {
    "execution": {
     "iopub.execute_input": "2023-08-06T15:41:23.778255Z",
     "iopub.status.busy": "2023-08-06T15:41:23.778040Z",
     "iopub.status.idle": "2023-08-06T15:41:23.790860Z",
     "shell.execute_reply": "2023-08-06T15:41:23.787571Z",
     "shell.execute_reply.started": "2023-08-06T15:41:23.778236Z"
    },
    "tags": []
   },
   "outputs": [],
   "source": [
    "logging.basicConfig(level=logging.INFO)\n",
    "\n",
    "def logger(func):\n",
    "    @wraps(func)\n",
    "    def wrapper(*args, **kwargs):\n",
    "        logging.info(f\"Executing {func.__name__}\")\n",
    "        result = func(*args, **kwargs)\n",
    "        logging.info(f\"Finished executing {func.__name__}\")\n",
    "        return result\n",
    "    return wrapper"
   ]
  },
  {
   "cell_type": "markdown",
   "id": "5f805ed4-9714-4a53-b113-9df05e72230d",
   "metadata": {},
   "source": [
    "### testing"
   ]
  },
  {
   "cell_type": "code",
   "execution_count": 3,
   "id": "f18a0f4b-42df-4ea2-9801-a4d3d94dea74",
   "metadata": {
    "execution": {
     "iopub.execute_input": "2023-08-06T15:41:23.793696Z",
     "iopub.status.busy": "2023-08-06T15:41:23.793302Z",
     "iopub.status.idle": "2023-08-06T15:41:23.809525Z",
     "shell.execute_reply": "2023-08-06T15:41:23.807584Z",
     "shell.execute_reply.started": "2023-08-06T15:41:23.793673Z"
    },
    "tags": []
   },
   "outputs": [
    {
     "name": "stderr",
     "output_type": "stream",
     "text": [
      "INFO:root:Executing test_func_logger\n",
      "INFO:root:Finished executing test_func_logger\n"
     ]
    },
    {
     "name": "stdout",
     "output_type": "stream",
     "text": [
      "test_func_logger\n"
     ]
    }
   ],
   "source": [
    "@logger\n",
    "def test_func_logger():\n",
    "    print('test_func_logger')\n",
    "    \n",
    "test_func_logger()"
   ]
  },
  {
   "cell_type": "markdown",
   "id": "e154c5eb-6ee2-4ab2-a4cf-66806a53f942",
   "metadata": {},
   "source": [
    "## retry\n",
    "retry a function call"
   ]
  },
  {
   "cell_type": "markdown",
   "id": "36c5a444-2286-4772-bcd3-ac081ca424b0",
   "metadata": {},
   "source": [
    "### definition"
   ]
  },
  {
   "cell_type": "code",
   "execution_count": 4,
   "id": "7dc9b425-b445-461b-bbda-112a793c04b9",
   "metadata": {
    "execution": {
     "iopub.execute_input": "2023-08-06T15:41:23.813647Z",
     "iopub.status.busy": "2023-08-06T15:41:23.812059Z",
     "iopub.status.idle": "2023-08-06T15:41:23.824832Z",
     "shell.execute_reply": "2023-08-06T15:41:23.823105Z",
     "shell.execute_reply.started": "2023-08-06T15:41:23.813585Z"
    },
    "tags": []
   },
   "outputs": [],
   "source": [
    "def retry(max_tries=3, delay_seconds=1):\n",
    "    def decorator_retry(func):\n",
    "        @wraps(func)\n",
    "        def wrapper_retry(*args, **kwargs):\n",
    "            tries = 0\n",
    "            for tries in range(max_tries):\n",
    "                try:\n",
    "                    return func(*args, **kwargs)\n",
    "                except Exception as e:\n",
    "                    tries += 1\n",
    "                    if tries == max_tries:\n",
    "                        raise e\n",
    "                    time.sleep(delay_seconds)\n",
    "        return wrapper_retry\n",
    "    return decorator_retry"
   ]
  },
  {
   "cell_type": "markdown",
   "id": "267e587f-e4f9-4822-bf38-7708d2739009",
   "metadata": {},
   "source": [
    "### testing"
   ]
  },
  {
   "cell_type": "code",
   "execution_count": 8,
   "id": "f75943a9-d282-440f-b51c-4ab1e10e3049",
   "metadata": {
    "execution": {
     "iopub.execute_input": "2023-08-06T15:41:45.026189Z",
     "iopub.status.busy": "2023-08-06T15:41:45.024867Z",
     "iopub.status.idle": "2023-08-06T15:41:45.134517Z",
     "shell.execute_reply": "2023-08-06T15:41:45.133470Z",
     "shell.execute_reply.started": "2023-08-06T15:41:45.026163Z"
    },
    "tags": []
   },
   "outputs": [
    {
     "name": "stdout",
     "output_type": "stream",
     "text": [
      "{\n",
      "  \"userId\": 1,\n",
      "  \"id\": 1,\n",
      "  \"title\": \"delectus aut autem\",\n",
      "  \"completed\": false\n",
      "}\n"
     ]
    }
   ],
   "source": [
    "@retry(max_tries=5, delay_seconds=2)\n",
    "def call_dummy_api():\n",
    "    response = requests.get(\"https://jsonplaceholder.typicode.com/todos/1\")\n",
    "    return response\n",
    "\n",
    "print(call_dummy_api().text)"
   ]
  },
  {
   "cell_type": "markdown",
   "id": "a5e1b670-5bcd-4288-be74-168ea4124955",
   "metadata": {
    "execution": {
     "iopub.execute_input": "2023-08-06T15:30:42.887875Z",
     "iopub.status.busy": "2023-08-06T15:30:42.887382Z",
     "iopub.status.idle": "2023-08-06T15:30:42.898588Z",
     "shell.execute_reply": "2023-08-06T15:30:42.895255Z",
     "shell.execute_reply.started": "2023-08-06T15:30:42.887848Z"
    },
    "tags": []
   },
   "source": [
    "## function call timing\n",
    "time a function call duration"
   ]
  },
  {
   "cell_type": "markdown",
   "id": "0d2ff515-6e1c-4b39-a952-25c311c13fda",
   "metadata": {},
   "source": [
    "### definition"
   ]
  },
  {
   "cell_type": "code",
   "execution_count": 10,
   "id": "44fecb48-e3a0-461c-bdd5-88d4582d7982",
   "metadata": {
    "execution": {
     "iopub.execute_input": "2023-08-06T15:46:49.449850Z",
     "iopub.status.busy": "2023-08-06T15:46:49.449403Z",
     "iopub.status.idle": "2023-08-06T15:46:49.463404Z",
     "shell.execute_reply": "2023-08-06T15:46:49.461300Z",
     "shell.execute_reply.started": "2023-08-06T15:46:49.449828Z"
    },
    "tags": []
   },
   "outputs": [],
   "source": [
    "def timeit(func):\n",
    "    @wraps(func)\n",
    "    def wrapper(*args, **kwargs):\n",
    "        start_time = time.perf_counter()\n",
    "        result = func(*args, **kwargs)\n",
    "        end_time = time.perf_counter()\n",
    "        print(f\"Function {func.__name__} took {end_time - start_time} seconds to run.\")\n",
    "        return result\n",
    "    return wrapper"
   ]
  },
  {
   "cell_type": "markdown",
   "id": "17f79bdb-e140-412e-961a-f970a297dcb6",
   "metadata": {},
   "source": [
    "### testing"
   ]
  },
  {
   "cell_type": "code",
   "execution_count": 14,
   "id": "21c4e136-56a7-4757-938d-3c413750ccd7",
   "metadata": {
    "execution": {
     "iopub.execute_input": "2023-08-06T15:47:20.004264Z",
     "iopub.status.busy": "2023-08-06T15:47:20.003337Z",
     "iopub.status.idle": "2023-08-06T15:47:22.011223Z",
     "shell.execute_reply": "2023-08-06T15:47:22.009619Z",
     "shell.execute_reply.started": "2023-08-06T15:47:20.004244Z"
    },
    "tags": []
   },
   "outputs": [
    {
     "name": "stdout",
     "output_type": "stream",
     "text": [
      "Function time_function took 2.0021577839997917 seconds to run.\n"
     ]
    }
   ],
   "source": [
    "@timeit\n",
    "def time_function():\n",
    "    time.sleep(2)\n",
    "    \n",
    "time_function()"
   ]
  }
 ],
 "metadata": {
  "kernelspec": {
   "display_name": "Python 3 (ipykernel)",
   "language": "python",
   "name": "python3"
  },
  "language_info": {
   "codemirror_mode": {
    "name": "ipython",
    "version": 3
   },
   "file_extension": ".py",
   "mimetype": "text/x-python",
   "name": "python",
   "nbconvert_exporter": "python",
   "pygments_lexer": "ipython3",
   "version": "3.10.11"
  }
 },
 "nbformat": 4,
 "nbformat_minor": 5
}
