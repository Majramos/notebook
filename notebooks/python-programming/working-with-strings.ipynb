{
 "cells": [
  {
   "cell_type": "markdown",
   "id": "2f9efe0a-4ffa-41b9-aa5b-67b21200026c",
   "metadata": {},
   "source": [
    "# Working with strings"
   ]
  },
  {
   "cell_type": "markdown",
   "id": "6f4b33e6-e4e2-414f-9e7d-b31ca22505df",
   "metadata": {},
   "source": [
    "## working with string module"
   ]
  },
  {
   "cell_type": "code",
   "execution_count": 1,
   "id": "724e2364-0b59-4313-9f3d-fa1677d30b86",
   "metadata": {},
   "outputs": [],
   "source": [
    "import re\n",
    "import string\n",
    "from collections import Counter"
   ]
  },
  {
   "cell_type": "code",
   "execution_count": 2,
   "id": "bad8f50b-32e0-4a36-840c-3d054eaef3be",
   "metadata": {},
   "outputs": [
    {
     "name": "stdout",
     "output_type": "stream",
     "text": [
      "Hello World! This Is A Test.\n"
     ]
    }
   ],
   "source": [
    "text = \"hello world! this is a test.\"\n",
    "capitalized_text = string.capwords(text)\n",
    "print(capitalized_text)  # Output: \"Hello World! This Is A Test.\""
   ]
  },
  {
   "cell_type": "code",
   "execution_count": 3,
   "id": "9657e093-8070-4bfc-a6c4-e7670b889e0e",
   "metadata": {},
   "outputs": [
    {
     "name": "stdout",
     "output_type": "stream",
     "text": [
      "Hello, John!\n"
     ]
    }
   ],
   "source": [
    "template = string.Template('Hello, $name!')\n",
    "result = template.substitute(name='John')\n",
    "print(result) # Output: 'Hello, John!'"
   ]
  },
  {
   "cell_type": "code",
   "execution_count": 4,
   "id": "d8b82580-5623-4e03-8bf7-0a5650b60d2f",
   "metadata": {},
   "outputs": [
    {
     "name": "stdout",
     "output_type": "stream",
     "text": [
      "Hello world Welcome to Python\n"
     ]
    }
   ],
   "source": [
    "# Remove all punctuation from a text\n",
    "def remove_punctuation(text):\n",
    "    return re.sub(f'[{re.escape(string.punctuation)}]', '', text)\n",
    "\n",
    "sample_text = \"Hello, world! Welcome to Python.\"\n",
    "clean_text = remove_punctuation(sample_text)\n",
    "print(clean_text)  # Output: \"Hello world Welcome to Python\""
   ]
  },
  {
   "cell_type": "code",
   "execution_count": 5,
   "id": "9f95a664-335e-4d34-ba2c-92aebd02704c",
   "metadata": {},
   "outputs": [
    {
     "name": "stdout",
     "output_type": "stream",
     "text": [
      "Counter({' ': 5, 'l': 3, 't': 3, 's': 3, 'h': 2, 'e': 2, 'o': 2, 'i': 2, 'w': 1, 'r': 1, 'd': 1, 'a': 1})\n"
     ]
    }
   ],
   "source": [
    "def count_letters(text):\n",
    "    # Remove punctuation and convert to lowercase\n",
    "    clean_text = text.translate(str.maketrans('', '', string.punctuation)).lower()\n",
    "    # Count the frequency of each letter\n",
    "    return Counter(clean_text)\n",
    "\n",
    "sample_text = \"Hello, world! This is a test.\"\n",
    "letter_counts = count_letters(sample_text)\n",
    "print(letter_counts)  "
   ]
  },
  {
   "cell_type": "markdown",
   "id": "d6203421-68d7-4c7a-850c-d6b854e05aac",
   "metadata": {},
   "source": [
    "## str center() method"
   ]
  },
  {
   "cell_type": "markdown",
   "id": "522d59e3-1513-4d5a-a16c-7feac56d130d",
   "metadata": {},
   "source": [
    "```\n",
    "string.center(length, character)\n",
    "```\n",
    "|Parameter|Description|\n",
    "|---|---|\r",
    "|\n",
    "length|\tRequired. The length of the returned strin|g|\r\n",
    "characte|r\tOptional. The character to fill the missing space on each side. Default is \" \" (spac|e)"
   ]
  },
  {
   "cell_type": "code",
   "execution_count": 6,
   "id": "5d76d3df-8a49-4fb0-8175-6c828b648123",
   "metadata": {},
   "outputs": [
    {
     "name": "stdout",
     "output_type": "stream",
     "text": [
      "       banana       \n"
     ]
    }
   ],
   "source": [
    "txt = \"banana\"\n",
    "\n",
    "x = txt.center(20)\n",
    "\n",
    "print(x)"
   ]
  },
  {
   "cell_type": "markdown",
   "id": "576d1f1c-dcef-4102-88ed-8a2f642a8352",
   "metadata": {},
   "source": [
    "## Draw a tree\n",
    "```\n",
    "     *\n",
    "    ***\n",
    "   *****\n",
    "  *******\n",
    " *********\n",
    "***********\n",
    "     *\n",
    "```"
   ]
  },
  {
   "cell_type": "markdown",
   "id": "0f6e184f-9486-414f-8dc1-e48e6f9bfacd",
   "metadata": {},
   "source": [
    "## estimating spaces\n",
    "\n",
    "```\n",
    "-----*\n",
    "----***\n",
    "---*****\n",
    "--*******\n",
    "-*********\n",
    "***********\n",
    "-----*\n",
    "```\n",
    "- number of stars increases by 2, starting at 1\n",
    "- number of spaces decreases by 1 starting at height - 1"
   ]
  },
  {
   "cell_type": "code",
   "execution_count": 7,
   "id": "a8f51286-46ca-4d69-be0d-6bb668417fce",
   "metadata": {},
   "outputs": [
    {
     "name": "stdout",
     "output_type": "stream",
     "text": [
      "     *\n",
      "    ***\n",
      "   *****\n",
      "  *******\n",
      " *********\n",
      "***********\n",
      "     *\n"
     ]
    }
   ],
   "source": [
    "def draw_tree(height: int) -> None:\n",
    "    space = height - 1  # starting space\n",
    "    stars = 1  # start at the top with one star\n",
    "\n",
    "    for i in range(1, height + 1):\n",
    "        print(\" \" * space, \"*\" * stars, sep=\"\")\n",
    "        stars += 2\n",
    "        space -= 1\n",
    "    print(\" \" * (height - 1), \"*\", sep=\"\")\n",
    "\n",
    "draw_tree(6)"
   ]
  },
  {
   "cell_type": "markdown",
   "id": "84a05f6d-0d38-4d58-8d95-1a7b77bd74f9",
   "metadata": {},
   "source": [
    "### using center() method"
   ]
  },
  {
   "cell_type": "code",
   "execution_count": 8,
   "id": "fa106d9d-124a-49f3-a9e6-bed7bc009e42",
   "metadata": {},
   "outputs": [
    {
     "name": "stdout",
     "output_type": "stream",
     "text": [
      "     *     \n",
      "    ***    \n",
      "   *****   \n",
      "  *******  \n",
      " ********* \n",
      "***********\n",
      "     *     \n"
     ]
    }
   ],
   "source": [
    "def draw_tree(height: int) -> None:\n",
    "    max_length = height * 2 - 1\n",
    "    stars = 1  # start at the top with one star\n",
    "\n",
    "    for i in range(1, height + 1):\n",
    "        print((\"*\" * stars).center(max_length))\n",
    "        stars += 2\n",
    "    print(\"*\".center(max_length))\n",
    "\n",
    "draw_tree(6)"
   ]
  }
 ],
 "metadata": {
  "kernelspec": {
   "display_name": "Python 3 (ipykernel)",
   "language": "python",
   "name": "python3"
  },
  "language_info": {
   "codemirror_mode": {
    "name": "ipython",
    "version": 3
   },
   "file_extension": ".py",
   "mimetype": "text/x-python",
   "name": "python",
   "nbconvert_exporter": "python",
   "pygments_lexer": "ipython3",
   "version": "3.11.9"
  }
 },
 "nbformat": 4,
 "nbformat_minor": 5
}
