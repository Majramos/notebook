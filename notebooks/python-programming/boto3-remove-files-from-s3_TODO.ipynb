{
 "cells": [
  {
   "cell_type": "markdown",
   "id": "37055282-a9c1-4b55-93f4-32c92e2adf76",
   "metadata": {},
   "source": [
    "# Remove files from S3\n",
    "- This notebook is to be used to remove files from s3 and can be used to mass remove files from a folder\n",
    "- Use this notebook when there are a lot of files to be removed, saving time vs using WinSCP"
   ]
  },
  {
   "cell_type": "code",
   "execution_count": 1,
   "id": "cf3d96ad-ea67-4521-9be1-244440aac7d8",
   "metadata": {
    "tags": []
   },
   "outputs": [
    {
     "data": {
      "text/plain": [
       "True"
      ]
     },
     "execution_count": 1,
     "metadata": {},
     "output_type": "execute_result"
    }
   ],
   "source": [
    "import os\n",
    "import boto3\n",
    "import pandas as pd\n",
    "\n",
    "from tqdm import tqdm\n",
    "from dotenv import load_dotenv\n",
    "\n",
    "load_dotenv()"
   ]
  },
  {
   "cell_type": "markdown",
   "id": "959b0bf7-dad6-442d-abee-bb017ac3e7d8",
   "metadata": {},
   "source": [
    "## Connect do S3"
   ]
  },
  {
   "cell_type": "code",
   "execution_count": 2,
   "id": "030dfe0d-ad8b-4c9c-8d78-bdb3ec009b27",
   "metadata": {
    "tags": []
   },
   "outputs": [],
   "source": [
    "s3_client = boto3.client(\n",
    "    's3',\n",
    "    aws_access_key_id=os.environ.get('AWS_ACCESS_KEY_ID'),\n",
    "    aws_secret_access_key=os.environ.get('AWS_SECRET_ACCESS_KEY')\n",
    ")\n",
    "\n",
    "BUCKET = 'ddpawsfs'\n",
    "KEY = 'workspace/mkt-cli-solutions/namos/'\n",
    "\n",
    "# check if bucket exists\n",
    "list_of_buckets = [r['Name'] for r in s3_client.list_buckets()['Buckets']]\n",
    "if not BUCKET in list_of_buckets: raise Exception()"
   ]
  },
  {
   "cell_type": "markdown",
   "id": "eb1ca0be-5b09-4415-88da-22bcd9361ef3",
   "metadata": {
    "tags": []
   },
   "source": [
    "## check files to delete"
   ]
  },
  {
   "cell_type": "code",
   "execution_count": 5,
   "id": "d81bfe93-bcda-428d-8cd6-afd8432eac82",
   "metadata": {
    "tags": []
   },
   "outputs": [
    {
     "name": "stderr",
     "output_type": "stream",
     "text": [
      "55it [00:14,  3.92it/s]"
     ]
    },
    {
     "name": "stdout",
     "output_type": "stream",
     "text": [
      "(54002, 1)\n"
     ]
    },
    {
     "name": "stderr",
     "output_type": "stream",
     "text": [
      "\n"
     ]
    },
    {
     "data": {
      "text/html": [
       "<div>\n",
       "<style scoped>\n",
       "    .dataframe tbody tr th:only-of-type {\n",
       "        vertical-align: middle;\n",
       "    }\n",
       "\n",
       "    .dataframe tbody tr th {\n",
       "        vertical-align: top;\n",
       "    }\n",
       "\n",
       "    .dataframe thead th {\n",
       "        text-align: right;\n",
       "    }\n",
       "</style>\n",
       "<table border=\"1\" class=\"dataframe\">\n",
       "  <thead>\n",
       "    <tr style=\"text-align: right;\">\n",
       "      <th></th>\n",
       "      <th>0</th>\n",
       "    </tr>\n",
       "  </thead>\n",
       "  <tbody>\n",
       "    <tr>\n",
       "      <th>0</th>\n",
       "      <td>workspace/mkt-cli-solutions/namos/ixcard/_SUCCESS</td>\n",
       "    </tr>\n",
       "    <tr>\n",
       "      <th>1</th>\n",
       "      <td>workspace/mkt-cli-solutions/namos/ixcard/year=...</td>\n",
       "    </tr>\n",
       "    <tr>\n",
       "      <th>2</th>\n",
       "      <td>workspace/mkt-cli-solutions/namos/ixcard/year=...</td>\n",
       "    </tr>\n",
       "    <tr>\n",
       "      <th>3</th>\n",
       "      <td>workspace/mkt-cli-solutions/namos/ixcard/year=...</td>\n",
       "    </tr>\n",
       "    <tr>\n",
       "      <th>4</th>\n",
       "      <td>workspace/mkt-cli-solutions/namos/ixcard/year=...</td>\n",
       "    </tr>\n",
       "  </tbody>\n",
       "</table>\n",
       "</div>"
      ],
      "text/plain": [
       "                                                   0\n",
       "0  workspace/mkt-cli-solutions/namos/ixcard/_SUCCESS\n",
       "1  workspace/mkt-cli-solutions/namos/ixcard/year=...\n",
       "2  workspace/mkt-cli-solutions/namos/ixcard/year=...\n",
       "3  workspace/mkt-cli-solutions/namos/ixcard/year=...\n",
       "4  workspace/mkt-cli-solutions/namos/ixcard/year=..."
      ]
     },
     "execution_count": 5,
     "metadata": {},
     "output_type": "execute_result"
    }
   ],
   "source": [
    "paginator = s3_client.get_paginator('list_objects_v2')\n",
    "pages = paginator.paginate(Bucket=BUCKET, Prefix=KEY+'ixcard')\n",
    "\n",
    "objects_to_delete = []\n",
    "for page in tqdm(pages):\n",
    "    for obj in page['Contents']:\n",
    "        objects_to_delete.append(obj['Key'])\n",
    "\n",
    "counter_uploaded = pd.DataFrame(objects_to_delete)\n",
    "print(counter_uploaded.shape)\n",
    "counter_uploaded.head()"
   ]
  },
  {
   "cell_type": "markdown",
   "id": "6b7bd63d-2336-4c32-b239-1785ec34381d",
   "metadata": {
    "tags": []
   },
   "source": [
    "## single file\n",
    "delete a single file frm S3"
   ]
  },
  {
   "cell_type": "raw",
   "id": "a0bca626-7e0d-4825-9a0d-4a21136632c0",
   "metadata": {
    "execution": {
     "iopub.execute_input": "2022-05-09T13:00:53.794934Z",
     "iopub.status.busy": "2022-05-09T13:00:53.794061Z",
     "iopub.status.idle": "2022-05-09T13:00:54.251069Z",
     "shell.execute_reply": "2022-05-09T13:00:54.250137Z",
     "shell.execute_reply.started": "2022-05-09T13:00:53.794912Z"
    },
    "tags": []
   },
   "source": [
    "# s3_client.delete_object(\n",
    "#     Bucket=BUCKET,\n",
    "#     Key=counter_uploaded.iloc[0][0]'\n",
    "# )"
   ]
  },
  {
   "cell_type": "markdown",
   "id": "5e6f3778-33b4-4dd3-aa21-32529bafc33c",
   "metadata": {},
   "source": [
    "## multi files using pagination\n",
    "- when there are more than 1000 files to be deleted, using boto will require pagination because boto only lists 1000 files at the time\n",
    "- boto3 delete function will also delete 1000 files each time"
   ]
  },
  {
   "cell_type": "code",
   "execution_count": 6,
   "id": "cef96777-d269-4cee-be92-ea3bdcc1e765",
   "metadata": {
    "tags": []
   },
   "outputs": [
    {
     "name": "stderr",
     "output_type": "stream",
     "text": [
      "54002it [01:15, 716.93it/s]\n"
     ]
    }
   ],
   "source": [
    "paginator = s3_client.get_paginator('list_objects_v2')\n",
    "pages = paginator.paginate(Bucket=BUCKET, Prefix=KEY+'ixcard')\n",
    "\n",
    "objects_to_delete = {'Objects': []}\n",
    "\n",
    "for obj in tqdm(pages.search('Contents')):\n",
    "    objects_to_delete['Objects'].append({'Key': obj['Key']})\n",
    "\n",
    "    # flush once aws limit reached\n",
    "    if len(objects_to_delete['Objects']) >= 1000:\n",
    "        s3_client.delete_objects(Bucket=BUCKET, Delete=objects_to_delete)\n",
    "        objects_to_delete = {'Objects': []}\n",
    "        \n",
    "if len(objects_to_delete['Objects']) < 1000:\n",
    "    s3_client.delete_objects(Bucket=BUCKET, Delete=objects_to_delete)"
   ]
  },
  {
   "cell_type": "code",
   "execution_count": null,
   "id": "f2baeedd-e175-4f0c-a8f9-082fc8f63dc2",
   "metadata": {},
   "outputs": [],
   "source": []
  }
 ],
 "metadata": {
  "kernelspec": {
   "display_name": "Python 3 (ipykernel)",
   "language": "python",
   "name": "python3"
  },
  "language_info": {
   "codemirror_mode": {
    "name": "ipython",
    "version": 3
   },
   "file_extension": ".py",
   "mimetype": "text/x-python",
   "name": "python",
   "nbconvert_exporter": "python",
   "pygments_lexer": "ipython3",
   "version": "3.8.8"
  }
 },
 "nbformat": 4,
 "nbformat_minor": 5
}
