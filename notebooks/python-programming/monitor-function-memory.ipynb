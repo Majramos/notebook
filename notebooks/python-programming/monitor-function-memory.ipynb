{
 "cells": [
  {
   "cell_type": "markdown",
   "id": "14ba18dc-2c09-4bab-9a25-20e3ae463b33",
   "metadata": {},
   "source": [
    "# Monitor Function Memory Consumption in Python\n",
    "\n",
    "The idea is to have a function decorator that tracks the memory consumption of a function and stops the function in case a limit is reached.\n",
    "\n",
    "Based on stackoverflow answer: https://stackoverflow.com/a/10117657"
   ]
  },
  {
   "cell_type": "code",
   "execution_count": 1,
   "id": "ebcb3842-5188-403b-95a1-ca29c23ebb0e",
   "metadata": {
    "execution": {
     "iopub.execute_input": "2023-06-07T15:40:37.412304Z",
     "iopub.status.busy": "2023-06-07T15:40:37.411685Z",
     "iopub.status.idle": "2023-06-07T15:40:37.420513Z",
     "shell.execute_reply": "2023-06-07T15:40:37.419084Z",
     "shell.execute_reply.started": "2023-06-07T15:40:37.412270Z"
    },
    "tags": []
   },
   "outputs": [],
   "source": [
    "import functools\n",
    "import os\n",
    "import psutil\n",
    "import threading\n",
    "import time"
   ]
  },
  {
   "cell_type": "markdown",
   "id": "33fd9dda-cf8d-437f-a959-c33128dfb64d",
   "metadata": {},
   "source": [
    "## Memory Resource Monitor"
   ]
  },
  {
   "cell_type": "code",
   "execution_count": 2,
   "id": "961e21ab-135a-4207-8358-110d8abb48b7",
   "metadata": {
    "execution": {
     "iopub.execute_input": "2023-06-07T15:40:39.927928Z",
     "iopub.status.busy": "2023-06-07T15:40:39.927593Z",
     "iopub.status.idle": "2023-06-07T15:40:39.937407Z",
     "shell.execute_reply": "2023-06-07T15:40:39.936027Z",
     "shell.execute_reply.started": "2023-06-07T15:40:39.927910Z"
    },
    "tags": []
   },
   "outputs": [],
   "source": [
    "class MemoryMonitor(threading.Thread):\n",
    "    def __init__(self, target_function, *args, **kwargs):\n",
    "        super(MemoryMonitor, self).__init__()\n",
    "        self.target_function = target_function\n",
    "        self.args = args\n",
    "        self.kwargs = kwargs\n",
    "        self.results = None\n",
    "        self.daemon = True\n",
    "        self.event = threading.Event()\n",
    "        self.event.set()\n",
    "        self.__has_shutdown = False\n",
    "\n",
    "    def run(self):\n",
    "        \"\"\" Overloads the threading.Thread.run \"\"\"\n",
    "\n",
    "        # Call the User's Startup functions\n",
    "        self.startup()\n",
    "\n",
    "        # Loop until the thread is stopped\n",
    "        while self.is_running:\n",
    "            self.mainloop()\n",
    "\n",
    "        # Clean up\n",
    "        self.cleanup()\n",
    "        self.__has_shutdown = True\n",
    "\n",
    "    def stop(self):\n",
    "        self.event.clear()\n",
    "    \n",
    "    @property\n",
    "    def is_running(self):\n",
    "        return self.event.is_set()\n",
    "\n",
    "    @property\n",
    "    def is_shutdown(self):\n",
    "        return self.__has_shutdown\n",
    "\n",
    "    def startup(self):\n",
    "        print(f'Monitoring {self.target_function.__name__} function')\n",
    "\n",
    "    def cleanup(self):\n",
    "        print(f'{self.target_function.__name__} call complete')\n",
    "\n",
    "    def mainloop(self):\n",
    "        # Start the library Call\n",
    "        self.results = self.target_function(*self.args, **self.kwargs)\n",
    "\n",
    "        # Kill the thread when complete\n",
    "        self.stop()"
   ]
  },
  {
   "cell_type": "markdown",
   "id": "2a640e4c-966f-471c-84a8-060f7aac49cb",
   "metadata": {},
   "source": [
    "## Testing the monitor function"
   ]
  },
  {
   "cell_type": "markdown",
   "id": "f24e549e-b245-4347-af38-ad67421cfe91",
   "metadata": {
    "execution": {
     "iopub.execute_input": "2023-06-05T14:48:25.389863Z",
     "iopub.status.busy": "2023-06-05T14:48:25.389529Z",
     "iopub.status.idle": "2023-06-05T14:48:25.396424Z",
     "shell.execute_reply": "2023-06-05T14:48:25.394825Z",
     "shell.execute_reply.started": "2023-06-05T14:48:25.389826Z"
    },
    "tags": []
   },
   "source": [
    "### Define a testing function that uses alot of memory"
   ]
  },
  {
   "cell_type": "code",
   "execution_count": 3,
   "id": "0a223015-0248-4254-a720-463145df3b64",
   "metadata": {
    "execution": {
     "iopub.execute_input": "2023-06-07T15:40:42.315220Z",
     "iopub.status.busy": "2023-06-07T15:40:42.314831Z",
     "iopub.status.idle": "2023-06-07T15:40:42.320803Z",
     "shell.execute_reply": "2023-06-07T15:40:42.319606Z",
     "shell.execute_reply.started": "2023-06-07T15:40:42.315202Z"
    },
    "tags": []
   },
   "outputs": [],
   "source": [
    "def memory_hog(set_size, num_dict_entries, delay_per_entry=0):\n",
    "    \"\"\" This function creates a dictionary with 'num_dict_entries' of a set \n",
    "    of size 'set_size'\n",
    "    \"\"\"\n",
    "    large_dictionary = {}\n",
    "\n",
    "    for i in range(num_dict_entries):\n",
    "        time.sleep(delay_per_entry)\n",
    "        large_dictionary[f'entry_{i}'] = set(range(set_size))\n",
    "\n",
    "    return len(large_dictionary)\n",
    "\n",
    "# out = memory_hog(10000, 15000) "
   ]
  },
  {
   "cell_type": "markdown",
   "id": "dd446191-b785-4f86-acba-132d033d8d20",
   "metadata": {},
   "source": [
    "### run memory monitor"
   ]
  },
  {
   "cell_type": "code",
   "execution_count": 4,
   "id": "0a5b5cf1-c8b9-4af8-8bd9-45f9e7cb418a",
   "metadata": {
    "execution": {
     "iopub.execute_input": "2023-06-07T15:40:44.519849Z",
     "iopub.status.busy": "2023-06-07T15:40:44.518936Z",
     "iopub.status.idle": "2023-06-07T15:40:48.547484Z",
     "shell.execute_reply": "2023-06-07T15:40:48.546204Z",
     "shell.execute_reply.started": "2023-06-07T15:40:44.519830Z"
    },
    "tags": []
   },
   "outputs": [
    {
     "name": "stdout",
     "output_type": "stream",
     "text": [
      "Monitoring memory_hog function\n",
      "memory_hog call complete\n",
      "MAX Memory Usage in MB: 3711.160\n"
     ]
    }
   ],
   "source": [
    "process = psutil.Process(os.getpid())\n",
    "start_mem = process.memory_full_info().uss\n",
    "\n",
    "mythread = MemoryMonitor(memory_hog, 10000, 5000)\n",
    "mythread.start()\n",
    "\n",
    "delta_mem = 0\n",
    "max_memory = 0\n",
    "\n",
    "while True:\n",
    "    delta_mem = process.memory_full_info().uss - start_mem\n",
    "    if delta_mem > max_memory:\n",
    "        max_memory = delta_mem\n",
    "\n",
    "    # Check to see if the library call is complete\n",
    "    if mythread.is_shutdown:\n",
    "        break\n",
    "\n",
    "print(f'MAX Memory Usage in MB: {max_memory / (1024.0 ** 2):.3f}')"
   ]
  },
  {
   "cell_type": "code",
   "execution_count": 6,
   "id": "5d422c07-a71d-4a51-a880-0f4287200ac8",
   "metadata": {
    "execution": {
     "iopub.execute_input": "2023-06-05T22:16:46.629277Z",
     "iopub.status.busy": "2023-06-05T22:16:46.628959Z",
     "iopub.status.idle": "2023-06-05T22:16:46.636062Z",
     "shell.execute_reply": "2023-06-05T22:16:46.634433Z",
     "shell.execute_reply.started": "2023-06-05T22:16:46.629254Z"
    },
    "tags": []
   },
   "outputs": [],
   "source": [
    "# reset memory in testing\n",
    "# del mythread"
   ]
  },
  {
   "cell_type": "markdown",
   "id": "c2f828c3-ecab-440a-a4b3-f8a07250ca0f",
   "metadata": {},
   "source": [
    "## Using it as function decorator"
   ]
  },
  {
   "cell_type": "code",
   "execution_count": 5,
   "id": "6397e44f-4398-480c-84e7-b9bd65bfef20",
   "metadata": {
    "execution": {
     "iopub.execute_input": "2023-06-07T15:40:53.709551Z",
     "iopub.status.busy": "2023-06-07T15:40:53.709078Z",
     "iopub.status.idle": "2023-06-07T15:40:53.718720Z",
     "shell.execute_reply": "2023-06-07T15:40:53.717405Z",
     "shell.execute_reply.started": "2023-06-07T15:40:53.709523Z"
    },
    "tags": []
   },
   "outputs": [],
   "source": [
    "def mem_monitor(func):\n",
    "    @functools.wraps(func)\n",
    "    def wrapper(*args, **kwargs):\n",
    "        process = psutil.Process(os.getpid())\n",
    "        start_mem = process.memory_full_info().uss\n",
    "\n",
    "        func_thread = MemoryMonitor(func, *args, **kwargs)\n",
    "        func_thread.start()\n",
    "\n",
    "        delta_mem, max_memory = 0, 0\n",
    "        while True:\n",
    "            delta_mem = process.memory_full_info().uss - start_mem\n",
    "            if delta_mem > max_memory:\n",
    "                max_memory = delta_mem\n",
    "\n",
    "            # Check to see if the library call is complete\n",
    "            if func_thread.is_shutdown:\n",
    "                break\n",
    "\n",
    "        print(f'Max Memory Usage in MB: {max_memory / (1024.0 ** 2):.3f}')\n",
    "        return func_thread.results\n",
    "    return wrapper"
   ]
  },
  {
   "cell_type": "code",
   "execution_count": 6,
   "id": "8c60289f-0fb7-42cd-af51-46a6303eadfa",
   "metadata": {
    "execution": {
     "iopub.execute_input": "2023-06-07T15:41:02.967639Z",
     "iopub.status.busy": "2023-06-07T15:41:02.966724Z",
     "iopub.status.idle": "2023-06-07T15:41:06.692537Z",
     "shell.execute_reply": "2023-06-07T15:41:06.691645Z",
     "shell.execute_reply.started": "2023-06-07T15:41:02.967598Z"
    },
    "tags": []
   },
   "outputs": [
    {
     "name": "stdout",
     "output_type": "stream",
     "text": [
      "Monitoring memory_hog_decorated function\n",
      "memory_hog_decorated call complete\n",
      "Max Memory Usage in MB: 3779.367\n"
     ]
    },
    {
     "data": {
      "text/plain": [
       "5000"
      ]
     },
     "execution_count": 6,
     "metadata": {},
     "output_type": "execute_result"
    }
   ],
   "source": [
    "@mem_monitor\n",
    "def memory_hog_decorated(set_size, num_dict_entries, delay_per_entry=0):\n",
    "    \"\"\" This function creates a dictionary with 'num_dict_entries' of a set \n",
    "    of size 'set_size'\n",
    "    \"\"\"\n",
    "    large_dictionary = {}\n",
    "\n",
    "    for i in range(num_dict_entries):\n",
    "        time.sleep(delay_per_entry)\n",
    "        large_dictionary[f'entry_{i}'] = set(range(set_size))\n",
    "\n",
    "    return len(large_dictionary)\n",
    "\n",
    "memory_hog_decorated(10000, 5000) "
   ]
  }
 ],
 "metadata": {
  "kernelspec": {
   "display_name": "Python 3 (ipykernel)",
   "language": "python",
   "name": "python3"
  },
  "language_info": {
   "codemirror_mode": {
    "name": "ipython",
    "version": 3
   },
   "file_extension": ".py",
   "mimetype": "text/x-python",
   "name": "python",
   "nbconvert_exporter": "python",
   "pygments_lexer": "ipython3",
   "version": "3.10.11"
  }
 },
 "nbformat": 4,
 "nbformat_minor": 5
}
