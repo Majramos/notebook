{
 "cells": [
  {
   "cell_type": "markdown",
   "id": "0158f95f-f8aa-49e2-b25a-ea4df0d7a15b",
   "metadata": {},
   "source": [
    "# Custom dict like class"
   ]
  },
  {
   "cell_type": "code",
   "execution_count": 1,
   "id": "9bd5446a-d917-43ea-8c96-84b6c401cbd8",
   "metadata": {},
   "outputs": [],
   "source": [
    "class ExtendedDict(dict):\n",
    "    def apply(self, action):\n",
    "        for key, value in self.items():\n",
    "            self[key] = action(value)\n",
    "\n",
    "    def remove(self, key):\n",
    "        del self[key]\n",
    "\n",
    "    def is_empty(self):\n",
    "        return len(self) == 0"
   ]
  },
  {
   "cell_type": "code",
   "execution_count": 2,
   "id": "fb462e57-8a88-45f3-a77a-81c6780b31d7",
   "metadata": {},
   "outputs": [
    {
     "name": "stdout",
     "output_type": "stream",
     "text": [
      "\t\t raw dict: {'one': 1, 'two': 2, 'three': 3}\n",
      "apply x**2 to every value: {'one': 1, 'two': 4, 'three': 9}\n",
      "\t     remove a key: {'one': 1, 'three': 9}\n"
     ]
    },
    {
     "data": {
      "text/plain": [
       "False"
      ]
     },
     "execution_count": 2,
     "metadata": {},
     "output_type": "execute_result"
    }
   ],
   "source": [
    "numbers = ExtendedDict({\"one\": 1, \"two\": 2, \"three\": 3})\n",
    "print(\"\\t\\t raw dict:\", numbers)\n",
    "\n",
    "numbers.apply(lambda x: x**2)\n",
    "print(\"apply x**2 to every value:\", numbers)\n",
    "\n",
    "\n",
    "numbers.remove(\"two\")\n",
    "print(\"\\t     remove a key:\", numbers)\n",
    "\n",
    "\n",
    "numbers.is_empty()"
   ]
  },
  {
   "cell_type": "markdown",
   "id": "f641eec4-b787-417e-8046-e047ff2d0ad0",
   "metadata": {},
   "source": [
    "## make dict keys accessible as attributes"
   ]
  },
  {
   "cell_type": "code",
   "execution_count": 3,
   "id": "a3fca047-4293-4d83-8880-95fcaabed228",
   "metadata": {},
   "outputs": [
    {
     "data": {
      "text/plain": [
       "(1, 1)"
      ]
     },
     "execution_count": 3,
     "metadata": {},
     "output_type": "execute_result"
    }
   ],
   "source": [
    "raw_dict = {\"one\": 1, \"two\": 2, \"three\": 3}\n",
    "raw_dict[\"one\"], raw_dict.get(\"one\") #, raw_dict.one <- this raises an error"
   ]
  },
  {
   "cell_type": "code",
   "execution_count": 4,
   "id": "bd4a0380-0551-41ac-98e3-615a1014b864",
   "metadata": {},
   "outputs": [
    {
     "data": {
      "text/plain": [
       "(1, 1, 1)"
      ]
     },
     "execution_count": 4,
     "metadata": {},
     "output_type": "execute_result"
    }
   ],
   "source": [
    "class AttrDict(dict):\n",
    "    def __init__(self, **kwargs):\n",
    "        dict.__init__(self, kwargs)\n",
    "        self.__dict__ = self\n",
    "\n",
    "attr_dict = AttrDict(**{\"one\": 1, \"two\": 2, \"three\": 3})\n",
    "\n",
    "attr_dict[\"one\"], attr_dict.get(\"one\"), attr_dict.one"
   ]
  },
  {
   "cell_type": "markdown",
   "id": "e1ee7754-b004-4700-8576-9cfccd42084a",
   "metadata": {},
   "source": [
    "## using [UserDict](https://docs.python.org/3/library/collections.html#collections.UserDict)\n",
    "\n",
    "- UserDict is a convenient wrapper around a regular dict object, specially designed for subclassing purposes\n",
    "- Inheriting from UserDict may imply a performance cost because this class is written in pure Python"
   ]
  },
  {
   "cell_type": "code",
   "execution_count": 5,
   "id": "ed4e69b5-33ef-4dd1-bca2-143fd10b3f02",
   "metadata": {},
   "outputs": [],
   "source": [
    "from collections import UserDict\n",
    "\n",
    "\n",
    "class UpperCaseDict(UserDict):\n",
    "    def __setitem__(self, key, value):\n",
    "        key = key.upper()\n",
    "        super().__setitem__(key, value)"
   ]
  },
  {
   "cell_type": "code",
   "execution_count": 6,
   "id": "adc78bd5-a39f-431e-b459-2afe2a08107c",
   "metadata": {},
   "outputs": [
    {
     "data": {
      "text/plain": [
       "{'ONE': 1, 'TWO': 2, 'THREE': 3, 'FOUR': 4, 'FIVE': 5}"
      ]
     },
     "execution_count": 6,
     "metadata": {},
     "output_type": "execute_result"
    }
   ],
   "source": [
    "numbers = UpperCaseDict({\"one\": 1, \"two\": 2})\n",
    "\n",
    "numbers[\"three\"] = 3\n",
    "numbers.update({\"four\": 4})\n",
    "numbers.setdefault(\"five\", 5)\n",
    "\n",
    "numbers"
   ]
  }
 ],
 "metadata": {
  "kernelspec": {
   "display_name": "Python 3 (ipykernel)",
   "language": "python",
   "name": "python3"
  },
  "language_info": {
   "codemirror_mode": {
    "name": "ipython",
    "version": 3
   },
   "file_extension": ".py",
   "mimetype": "text/x-python",
   "name": "python",
   "nbconvert_exporter": "python",
   "pygments_lexer": "ipython3",
   "version": "3.11.9"
  }
 },
 "nbformat": 4,
 "nbformat_minor": 5
}
