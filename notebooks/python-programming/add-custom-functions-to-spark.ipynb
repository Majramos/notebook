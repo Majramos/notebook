{
 "cells": [
  {
   "cell_type": "markdown",
   "id": "ef699e02-30a1-40aa-a9de-a9c8ce44ba8c",
   "metadata": {},
   "source": [
    "# Add custom functions to spark"
   ]
  },
  {
   "cell_type": "code",
   "execution_count": null,
   "id": "213566cb-5b88-4f24-9df0-757d0268fa4e",
   "metadata": {},
   "outputs": [],
   "source": [
    "import pyspark.sql.functions as f\n",
    "from pyspark.sql import DataFrame"
   ]
  },
  {
   "cell_type": "markdown",
   "id": "0d2f65ce-c99c-47cb-8036-b58cf270d299",
   "metadata": {},
   "source": [
    "## Add pipe to spark\n",
    "add the [pandas.DataFrame.pipe](https://pandas.pydata.org/docs/reference/api/pandas.DataFrame.pipe.html) method functionality to pyspark"
   ]
  },
  {
   "cell_type": "code",
   "execution_count": null,
   "id": "6ae890c7-64b3-4f4a-a030-d0401b1c263f",
   "metadata": {},
   "outputs": [],
   "source": [
    "def pipe(self, func, *args, **kwargs):\n",
    "    \"\"\" custom pipe method\n",
    "    Apply chainable functions that expect DataFrames\n",
    "    \"\"\"\n",
    "    return func(self, *args, **kwargs)\n",
    "\n",
    "# add method to class\n",
    "DataFrame.pipe = pipe"
   ]
  },
  {
   "cell_type": "markdown",
   "id": "183a9e7d-23d2-40d4-8214-86e0bb0f98ed",
   "metadata": {},
   "source": [
    "## Add melt to spark\n",
    "add the [pandas.melt](https://pandas.pydata.org/docs/reference/api/pandas.melt.html) function to pyspark"
   ]
  },
  {
   "cell_type": "code",
   "execution_count": null,
   "id": "7835e79f-5706-4198-a7a5-df3c50daaf1e",
   "metadata": {},
   "outputs": [],
   "source": [
    "def melt_df(df, id_vars, value_vars=None, var_name=\"variable\", value_name=\"value\"):\n",
    "    \"\"\" custom melt function\n",
    "    Convert DataFrame from wide to long format\n",
    "    \"\"\"\n",
    "    \n",
    "    if not value_vars:\n",
    "        value_vars = [i for i in df.columns if i not in id_vars]\n",
    "\n",
    "    _vars_and_vals = f.array(*( f.struct(f.lit(c).alias(var_name), f.col(c).alias(value_name)) for c in value_vars))\n",
    "\n",
    "    # Add to the DataFrame and explode\n",
    "    _tmp = df.withColumn(\"_vars_and_vals\", f.explode(_vars_and_vals))\n",
    "\n",
    "    cols = id_vars + [ f.col(\"_vars_and_vals\")[x].alias(x) for x in [var_name, value_name] ]\n",
    "    return _tmp.select(*cols)"
   ]
  }
 ],
 "metadata": {
  "kernelspec": {
   "display_name": "Python 3 (ipykernel)",
   "language": "python",
   "name": "python3"
  },
  "language_info": {
   "codemirror_mode": {
    "name": "ipython",
    "version": 3
   },
   "file_extension": ".py",
   "mimetype": "text/x-python",
   "name": "python",
   "nbconvert_exporter": "python",
   "pygments_lexer": "ipython3",
   "version": "3.11.9"
  }
 },
 "nbformat": 4,
 "nbformat_minor": 5
}
