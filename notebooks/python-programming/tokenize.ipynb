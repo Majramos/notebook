{
 "cells": [
  {
   "cell_type": "markdown",
   "id": "bbfc6a6f-5d6e-4f08-9967-63cae6f43885",
   "metadata": {},
   "source": [
    "# Python Tokenize\n",
    "https://docs.python.org/3/library/tokenize.html"
   ]
  },
  {
   "cell_type": "code",
   "execution_count": 1,
   "id": "bb51aa80-74fb-4ff3-b149-86c5a9c2b732",
   "metadata": {
    "tags": []
   },
   "outputs": [],
   "source": [
    "import io\n",
    "import tokenize"
   ]
  },
  {
   "cell_type": "code",
   "execution_count": 2,
   "id": "b56ace7e-ae42-4410-bce9-7d004f4a6a2f",
   "metadata": {
    "tags": []
   },
   "outputs": [],
   "source": [
    "script_py = \"\"\"\n",
    "# My amazing foo function.\n",
    "def foo():\n",
    "    \\\"\"\" docstring \\\"\"\"\n",
    "    # I will print\n",
    "    print \"Hello\"\n",
    "    return 0   # Return the value\n",
    "\n",
    "# Maaaaaaain\n",
    "if __name__ == \"__main__\":\n",
    "    # this is main\n",
    "    print \"Main\" \n",
    "\"\"\""
   ]
  },
  {
   "cell_type": "code",
   "execution_count": 3,
   "id": "33b46429-fd0c-4c29-84da-66718d44718c",
   "metadata": {
    "tags": []
   },
   "outputs": [
    {
     "data": {
      "text/plain": [
       "61"
      ]
     },
     "execution_count": 3,
     "metadata": {},
     "output_type": "execute_result"
    }
   ],
   "source": [
    "# token types as integer\n",
    "tokenize.COMMENT"
   ]
  },
  {
   "cell_type": "markdown",
   "id": "1e716c0a-f152-4e70-9ac2-8c62fc570aae",
   "metadata": {},
   "source": [
    "TokenInfo(type=63 (ENCODING), string='utf-8', start=(0, 0), end=(0, 0), line='')\n",
    "- `type=63 (ENCODING)` token type\n",
    "- `string='utf-8'` token string\n",
    "- `start=(0, 0)` (srow, scol) row and column start of token\n",
    "- `end=(0, 0)` row and column end of token\n",
    "- `line=''` line string on which the token was found"
   ]
  },
  {
   "cell_type": "code",
   "execution_count": 4,
   "id": "f1bc72a9-9c3f-40af-8a5e-5c4cac45b52e",
   "metadata": {
    "tags": []
   },
   "outputs": [
    {
     "name": "stdout",
     "output_type": "stream",
     "text": [
      "TokenInfo(type=62 (NL), string='\\n', start=(1, 0), end=(1, 1), line='\\n')\n",
      "TokenInfo(type=61 (COMMENT), string='# My amazing foo function.', start=(2, 0), end=(2, 26), line='# My amazing foo function.\\n')\n",
      "TokenInfo(type=62 (NL), string='\\n', start=(2, 26), end=(2, 27), line='# My amazing foo function.\\n')\n",
      "TokenInfo(type=1 (NAME), string='def', start=(3, 0), end=(3, 3), line='def foo():\\n')\n",
      "TokenInfo(type=1 (NAME), string='foo', start=(3, 4), end=(3, 7), line='def foo():\\n')\n",
      "TokenInfo(type=54 (OP), string='(', start=(3, 7), end=(3, 8), line='def foo():\\n')\n",
      "TokenInfo(type=54 (OP), string=')', start=(3, 8), end=(3, 9), line='def foo():\\n')\n",
      "TokenInfo(type=54 (OP), string=':', start=(3, 9), end=(3, 10), line='def foo():\\n')\n",
      "TokenInfo(type=4 (NEWLINE), string='\\n', start=(3, 10), end=(3, 11), line='def foo():\\n')\n",
      "TokenInfo(type=5 (INDENT), string='    ', start=(4, 0), end=(4, 4), line='    \"\"\" docstring \"\"\"\\n')\n",
      "TokenInfo(type=3 (STRING), string='\"\"\" docstring \"\"\"', start=(4, 4), end=(4, 21), line='    \"\"\" docstring \"\"\"\\n')\n",
      "TokenInfo(type=4 (NEWLINE), string='\\n', start=(4, 21), end=(4, 22), line='    \"\"\" docstring \"\"\"\\n')\n",
      "TokenInfo(type=61 (COMMENT), string='# I will print', start=(5, 4), end=(5, 18), line='    # I will print\\n')\n",
      "TokenInfo(type=62 (NL), string='\\n', start=(5, 18), end=(5, 19), line='    # I will print\\n')\n",
      "TokenInfo(type=1 (NAME), string='print', start=(6, 4), end=(6, 9), line='    print \"Hello\"\\n')\n",
      "TokenInfo(type=3 (STRING), string='\"Hello\"', start=(6, 10), end=(6, 17), line='    print \"Hello\"\\n')\n",
      "TokenInfo(type=4 (NEWLINE), string='\\n', start=(6, 17), end=(6, 18), line='    print \"Hello\"\\n')\n",
      "TokenInfo(type=1 (NAME), string='return', start=(7, 4), end=(7, 10), line='    return 0   # Return the value\\n')\n",
      "TokenInfo(type=2 (NUMBER), string='0', start=(7, 11), end=(7, 12), line='    return 0   # Return the value\\n')\n",
      "TokenInfo(type=61 (COMMENT), string='# Return the value', start=(7, 15), end=(7, 33), line='    return 0   # Return the value\\n')\n",
      "TokenInfo(type=4 (NEWLINE), string='\\n', start=(7, 33), end=(7, 34), line='    return 0   # Return the value\\n')\n",
      "TokenInfo(type=62 (NL), string='\\n', start=(8, 0), end=(8, 1), line='\\n')\n",
      "TokenInfo(type=61 (COMMENT), string='# Maaaaaaain', start=(9, 0), end=(9, 12), line='# Maaaaaaain\\n')\n",
      "TokenInfo(type=62 (NL), string='\\n', start=(9, 12), end=(9, 13), line='# Maaaaaaain\\n')\n",
      "TokenInfo(type=6 (DEDENT), string='', start=(10, 0), end=(10, 0), line='if __name__ == \"__main__\":\\n')\n",
      "TokenInfo(type=1 (NAME), string='if', start=(10, 0), end=(10, 2), line='if __name__ == \"__main__\":\\n')\n",
      "TokenInfo(type=1 (NAME), string='__name__', start=(10, 3), end=(10, 11), line='if __name__ == \"__main__\":\\n')\n",
      "TokenInfo(type=54 (OP), string='==', start=(10, 12), end=(10, 14), line='if __name__ == \"__main__\":\\n')\n",
      "TokenInfo(type=3 (STRING), string='\"__main__\"', start=(10, 15), end=(10, 25), line='if __name__ == \"__main__\":\\n')\n",
      "TokenInfo(type=54 (OP), string=':', start=(10, 25), end=(10, 26), line='if __name__ == \"__main__\":\\n')\n",
      "TokenInfo(type=4 (NEWLINE), string='\\n', start=(10, 26), end=(10, 27), line='if __name__ == \"__main__\":\\n')\n",
      "TokenInfo(type=61 (COMMENT), string='# this is main', start=(11, 4), end=(11, 18), line='    # this is main\\n')\n",
      "TokenInfo(type=62 (NL), string='\\n', start=(11, 18), end=(11, 19), line='    # this is main\\n')\n",
      "TokenInfo(type=5 (INDENT), string='    ', start=(12, 0), end=(12, 4), line='    print \"Main\" \\n')\n",
      "TokenInfo(type=1 (NAME), string='print', start=(12, 4), end=(12, 9), line='    print \"Main\" \\n')\n",
      "TokenInfo(type=3 (STRING), string='\"Main\"', start=(12, 10), end=(12, 16), line='    print \"Main\" \\n')\n",
      "TokenInfo(type=4 (NEWLINE), string='\\n', start=(12, 17), end=(12, 18), line='    print \"Main\" \\n')\n",
      "TokenInfo(type=6 (DEDENT), string='', start=(13, 0), end=(13, 0), line='')\n",
      "TokenInfo(type=0 (ENDMARKER), string='', start=(13, 0), end=(13, 0), line='')\n"
     ]
    }
   ],
   "source": [
    "fileObj = io.StringIO(script_py)\n",
    "\n",
    "for token in tokenize.generate_tokens(fileObj.readline):\n",
    "    print(token)"
   ]
  }
 ],
 "metadata": {
  "kernelspec": {
   "display_name": "Python 3 (ipykernel)",
   "language": "python",
   "name": "python3"
  },
  "language_info": {
   "codemirror_mode": {
    "name": "ipython",
    "version": 3
   },
   "file_extension": ".py",
   "mimetype": "text/x-python",
   "name": "python",
   "nbconvert_exporter": "python",
   "pygments_lexer": "ipython3",
   "version": "3.11.9"
  }
 },
 "nbformat": 4,
 "nbformat_minor": 5
}
