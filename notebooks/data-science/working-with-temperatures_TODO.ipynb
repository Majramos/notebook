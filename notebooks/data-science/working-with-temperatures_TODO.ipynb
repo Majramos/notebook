{
 "cells": [
  {
   "cell_type": "markdown",
   "id": "7e6c239c-0ace-4b86-8d6a-376c339d71b5",
   "metadata": {},
   "source": [
    "# Working with temperatures"
   ]
  },
  {
   "cell_type": "code",
   "execution_count": null,
   "id": "f6f301f9-b0d5-44f6-8ebb-56252e3d1d73",
   "metadata": {},
   "outputs": [],
   "source": [
    "from datetime import datetime\n",
    "\n",
    "import matplotlib.pyplot as plt\n",
    "import numpy as np\n",
    "import pandas as pd\n",
    "from geopy import distance\n",
    "from scipy.optimize import curve_fit\n",
    "from scipy.signal import filtfilt, butter"
   ]
  },
  {
   "cell_type": "markdown",
   "id": "2138f003-013e-4e6c-bb8e-4b4159f5255c",
   "metadata": {},
   "source": [
    "## Calculate Cycle of timeseries"
   ]
  },
  {
   "cell_type": "markdown",
   "id": "364fefe4-4bb5-43f4-a83d-dd97c32dcfd9",
   "metadata": {},
   "source": [
    "### Using Mean"
   ]
  },
  {
   "cell_type": "code",
   "execution_count": null,
   "id": "a55c1400-eff7-4686-8e00-3bb9905530f0",
   "metadata": {},
   "outputs": [],
   "source": [
    "def calc_cycle_avg(df, target, smooth=True, freq=0.05):\n",
    "    ''' Calcular o ciclo sasonal de uma variavel\n",
    "    \n",
    "    : params :\n",
    "    df: dataframe com dados de input \n",
    "    target (str): nome da coluna alvo\n",
    "    smooth (bool): dar uma smoothing a media final usando order 3 lowpass \n",
    "                   butterworth filter\n",
    "    freq (float): input para o smoothing\n",
    "    \n",
    "    : returns :\n",
    "    output: dataframe com dados originais mais o ciclo sasonal\n",
    "    '''\n",
    "    \n",
    "    df['yearday'] = df.index.dayofyear\n",
    "    avg_cycle = df[target].groupby(df['yearday']).mean()\n",
    "    \n",
    "    if smooth:  # dar smooth usando filtro lowass butterworth de ordem 3\n",
    "        smooth_cycle = filtfilt(*butter(3, freq), avg_cycle)\n",
    "        avg_cycle = pd.Series(smooth_cycle,\n",
    "                              index=pd.RangeIndex(start=1, stop=367, step=1))\n",
    "    \n",
    "    output = df.copy()\n",
    "    output['seasonal_cycle'] = avg_cycle[df.index.dayofyear].to_numpy()\n",
    "    \n",
    "    return output.drop(columns=['yearday'])"
   ]
  },
  {
   "cell_type": "markdown",
   "id": "1313775e-8b73-4dfd-9e01-f0c6027f242e",
   "metadata": {},
   "source": [
    "### Using polynomial "
   ]
  },
  {
   "cell_type": "code",
   "execution_count": null,
   "id": "073a31a4-e761-4a74-9099-fcaedf6c5bc1",
   "metadata": {},
   "outputs": [],
   "source": [
    "def calc_cycle_poly(df, target, degree, period=365):\n",
    "    ''' Calcular o ciclo sasonal de uma variavel usando polinomial do tipo \n",
    "    y = ... + x^2*b3 + x^1*b4 + b5\n",
    "    \n",
    "    : params :\n",
    "    df: dataframe com dados de input \n",
    "    target (str): nome da coluna alvo\n",
    "    degree (int): ordem do polinomial para usar\n",
    "    period (int): duracao do perido, default 365 para dados diarios num periodo\n",
    "                  anual\n",
    "    \n",
    "    : returns :\n",
    "    output: dataframe com dados originais mais o ciclo sasonal)\n",
    "    '''\n",
    "\n",
    "    X = [i%period for i in range(0, len(df))]\n",
    "\n",
    "    coef = np.polyfit(X, df[target].to_numpy(), degree)\n",
    "\n",
    "    # create curve\n",
    "    curve = []\n",
    "    for i in range(len(X)):\n",
    "        value = coef[-1]\n",
    "        for d in range(degree):\n",
    "            value += X[i]**(degree-d)*coef[d]\n",
    "        curve.append(value)\n",
    "    \n",
    "    output = df.copy()\n",
    "    output['seasonal_cycle'] = curve\n",
    "    \n",
    "    return output"
   ]
  },
  {
   "cell_type": "markdown",
   "id": "0a899d4d-027d-481b-9771-7cbfc20d3a06",
   "metadata": {},
   "source": [
    "### Using a sinusoidal function"
   ]
  },
  {
   "cell_type": "code",
   "execution_count": null,
   "id": "be6225b6-7ba4-4cd5-b823-d5f4cf0a0ab9",
   "metadata": {},
   "outputs": [],
   "source": [
    "def sine_fit_func(x, b1, b2, b3, b4, period=365):\n",
    "    ''' funcao sine para fazer fit \n",
    "    https://www.hindawi.com/journals/amete/2015/837293/\n",
    "    '''\n",
    "    return (b1+(b2*x)+b3*np.sin((2*np.pi/period)*x)+b4*np.cos((2*np.pi/period)*x))\n",
    "\n",
    "\n",
    "def calc_cycle_sin(df, target, period=365):\n",
    "    ''' Calcular o ciclo sasonal de uma variavel usando funcao do type sinosoidal\n",
    "    \n",
    "    : params :\n",
    "    df: dataframe com dados de input \n",
    "    target (str): nome da coluna alvo\n",
    "    period (int): duracao do perido, default 365 para dados diarios num periodo\n",
    "                  anual\n",
    "    \n",
    "    : returns :\n",
    "    output: dataframe com dados originais mais o ciclo sasonal)\n",
    "    '''\n",
    "    \n",
    "    X = np.arange(0, len(df))\n",
    "\n",
    "    param, _ = curve_fit(sine_fit_func, X, df[target].to_numpy(),\n",
    "                         p0=[1, 1, 1, 1, period])\n",
    "\n",
    "    output = df.copy()\n",
    "    output['seasonal_cycle'] = sine_fit_func(X, *param)\n",
    "    \n",
    "    return output"
   ]
  }
 ],
 "metadata": {
  "kernelspec": {
   "display_name": "Python 3 (ipykernel)",
   "language": "python",
   "name": "python3"
  },
  "language_info": {
   "codemirror_mode": {
    "name": "ipython",
    "version": 3
   },
   "file_extension": ".py",
   "mimetype": "text/x-python",
   "name": "python",
   "nbconvert_exporter": "python",
   "pygments_lexer": "ipython3",
   "version": "3.10.11"
  }
 },
 "nbformat": 4,
 "nbformat_minor": 5
}
