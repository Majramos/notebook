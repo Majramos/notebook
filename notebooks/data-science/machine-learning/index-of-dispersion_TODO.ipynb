{
 "cells": [
  {
   "cell_type": "markdown",
   "id": "7c28287e-d3e6-4a10-8d1a-3a758f484e86",
   "metadata": {},
   "source": [
    "# Index of dispersion\n",
    "> In probability theory and statistics, the index of dispersion,[1] dispersion index, coefficient of dispersion, relative variance, or variance-to-mean ratio (VMR), like the coefficient of variation, is a normalized measure of the dispersion of a probability distribution: it is a measure used to quantify whether a set of observed occurrences are clustered or dispersed compared to a standard statistical model."
   ]
  },
  {
   "cell_type": "markdown",
   "id": "583ef441-9534-4466-adaf-0e58c7b0adec",
   "metadata": {},
   "source": [
    "## Definition\n",
    "It is defined as the ratio of the variance $\\sigma ^{2}$ to the mean $\\mu$\n",
    "\n",
    "$$\n",
    "    D = \\frac{\\sigma ^{2}}{\\mu}\n",
    "$$\n",
    "\n",
    "It is only defined when the mean $\\mu$ is non-zero, and is generally only used for positive statistics, such as count data or time between events, or where the underlying distribution is assumed to be the exponential distribution or Poisson distribution"
   ]
  },
  {
   "cell_type": "markdown",
   "id": "4dfb03b8-6162-47c6-b50a-11bd2f147016",
   "metadata": {},
   "source": [
    "## Interpretation\n",
    "|VMR| |\n",
    "|---|---|\n",
    "|VMR = 0|not dispersed|\n",
    "|0 < VMR < 1|under-dispersed|\n",
    "|VMR = 1||\n",
    "|VMR > 1|over-dispersed|\n"
   ]
  },
  {
   "cell_type": "markdown",
   "id": "59ca4862-c310-4b37-8fd3-e74f9800e7b6",
   "metadata": {},
   "source": [
    "## References\n",
    "- [Index of dispersion](https://en.wikipedia.org/wiki/Index_of_dispersion)\n",
    "- [Fano Factor](https://en.wikipedia.org/wiki/Fano_factor)"
   ]
  }
 ],
 "metadata": {
  "kernelspec": {
   "display_name": "Python 3 (ipykernel)",
   "language": "python",
   "name": "python3"
  },
  "language_info": {
   "codemirror_mode": {
    "name": "ipython",
    "version": 3
   },
   "file_extension": ".py",
   "mimetype": "text/x-python",
   "name": "python",
   "nbconvert_exporter": "python",
   "pygments_lexer": "ipython3",
   "version": "3.10.11"
  }
 },
 "nbformat": 4,
 "nbformat_minor": 5
}
