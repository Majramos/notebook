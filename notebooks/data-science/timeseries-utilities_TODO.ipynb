{
 "cells": [
  {
   "cell_type": "markdown",
   "id": "4ec9b265-1538-44d9-b43e-3ecc2096ef81",
   "metadata": {},
   "source": [
    "# Timeseries Utilities"
   ]
  },
  {
   "cell_type": "code",
   "execution_count": 1,
   "id": "76cc78bb-2d89-4218-a720-9fea2c107848",
   "metadata": {
    "execution": {
     "iopub.execute_input": "2023-08-06T16:34:53.427406Z",
     "iopub.status.busy": "2023-08-06T16:34:53.425711Z",
     "iopub.status.idle": "2023-08-06T16:34:54.354977Z",
     "shell.execute_reply": "2023-08-06T16:34:54.352417Z",
     "shell.execute_reply.started": "2023-08-06T16:34:53.427356Z"
    },
    "tags": []
   },
   "outputs": [],
   "source": [
    "import calendar\n",
    "\n",
    "import pandas as pd\n",
    "import numpy as np"
   ]
  },
  {
   "cell_type": "markdown",
   "id": "40288f7a-bf00-4643-9284-f76cc1978be2",
   "metadata": {},
   "source": [
    "## Decompose Date"
   ]
  },
  {
   "cell_type": "code",
   "execution_count": null,
   "id": "f12e667b-149f-4a65-91a5-482a19bdd68d",
   "metadata": {},
   "outputs": [],
   "source": [
    "def decompose_dates(\n",
    "    df: pd.DataFrame,\n",
    "    feature_list: list[str] = _FEATURES_LIST\n",
    ") -> tuple[pd.DataFrame, list[str]]:\n",
    "    \"\"\" Decompose a datetime index into datetime components.\n",
    "\n",
    "    Parameters\n",
    "    ----------\n",
    "    df : dataframe\n",
    "        Dataframe with a index of type datetime.\n",
    "    feature_list : list[str]\n",
    "        List with a select datetime features.\n",
    "\n",
    "    Returns\n",
    "    -------\n",
    "    output : dataframe\n",
    "        Original dataframe plus the a set a features from\n",
    "    feature_list : list[str]\n",
    "        List with features to be exported\n",
    "    \"\"\"\n",
    "\n",
    "    output = df.copy()\n",
    "    output['year'] = output.index.year\n",
    "    output['month'] = output.index.month  # 1-12\n",
    "\n",
    "    output['week'] = output.index.isocalendar().week.astype('int64')\n",
    "    output['week'] = np.where((output['month'] == 1) & (output['week'] >= 52), 0, output['week'])\n",
    "\n",
    "    output['day'] = output.index.dayofyear  # 1-365\n",
    "    output['dayofmonth'] = output.index.day  # 1-31\n",
    "    output['dayofweek'] = output.index.weekday  # 0-6\n",
    "\n",
    "    output['hour'] = output.index.hour  # 0-23\n",
    "\n",
    "    return output[feature_list], feature_list"
   ]
  },
  {
   "cell_type": "markdown",
   "id": "a9735191-19f1-4eeb-b068-2831bb92d94d",
   "metadata": {},
   "source": [
    "## Fix day of the year in leap years"
   ]
  },
  {
   "cell_type": "code",
   "execution_count": null,
   "id": "86465f7e-ab52-414d-808d-5d68e015acc3",
   "metadata": {},
   "outputs": [],
   "source": [
    "def fix_day_of_year(df: pd.DataFrame) -> pd.DataFrame:\n",
    "    \"\"\" Fix day of the year due to leap years having one more day (29th Feb)\n",
    "\n",
    "    Parameters\n",
    "    ----------\n",
    "    df : dataframe\n",
    "        Dataframe with columns for year, month, day\n",
    "\n",
    "    Returns\n",
    "    -------\n",
    "    output : dataframe\n",
    "    \"\"\"\n",
    "\n",
    "    output = df.copy()\n",
    "\n",
    "    if set(['year', 'month', 'day']).issubset(set(output.columns)):\n",
    "        # check if year is leap\n",
    "        output['is_leap'] = output.apply(lambda x: calendar.isleap(x['year']), axis=1)\n",
    "\n",
    "        def _fix_day(x):\n",
    "            if not x['is_leap']:\n",
    "                # if not leap and is past march, add 1 to year day\n",
    "                return x['day']+1 if x['month'] >= 3 else x['day']\n",
    "            else:\n",
    "                return x['day']\n",
    "\n",
    "        output['day'] = output.apply(_fix_day, axis=1)\n",
    "\n",
    "        return output.drop('is_leap', axis=1)\n",
    "    else:\n",
    "        raise Exception('Dataframe missing one of the following columns: year, month, day')"
   ]
  }
 ],
 "metadata": {
  "kernelspec": {
   "display_name": "Python 3 (ipykernel)",
   "language": "python",
   "name": "python3"
  },
  "language_info": {
   "codemirror_mode": {
    "name": "ipython",
    "version": 3
   },
   "file_extension": ".py",
   "mimetype": "text/x-python",
   "name": "python",
   "nbconvert_exporter": "python",
   "pygments_lexer": "ipython3",
   "version": "3.10.11"
  }
 },
 "nbformat": 4,
 "nbformat_minor": 5
}
