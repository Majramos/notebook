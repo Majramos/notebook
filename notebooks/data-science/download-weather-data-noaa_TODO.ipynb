{
 "cells": [
  {
   "cell_type": "markdown",
   "id": "cdf51c8b-ecee-4737-805b-3ced617951b9",
   "metadata": {},
   "source": [
    "# Download Weather NOAA Data\n",
    "\n",
    "The Global Historical Climatology Network daily (GHCNd) is an integrated database of daily climate summaries from land surface stations across the globe. GHCNd is made up of daily climate records from numerous sources that have been integrated and subjected to a common suite of quality assurance reviews"
   ]
  },
  {
   "cell_type": "markdown",
   "id": "4e841d2e-45f9-4f93-b035-d509defc1d66",
   "metadata": {},
   "source": [
    "AWS CLI Access (No AWS account required)\n",
    "``` bash\n",
    "aws s3 ls --no-sign-request s3://noaa-ghcn-pds/\n",
    "```"
   ]
  },
  {
   "cell_type": "code",
   "execution_count": 7,
   "id": "9fc4d2d9-6142-47db-a863-cf43eda3666a",
   "metadata": {
    "execution": {
     "iopub.execute_input": "2023-08-05T00:30:08.451301Z",
     "iopub.status.busy": "2023-08-05T00:30:08.450291Z",
     "iopub.status.idle": "2023-08-05T00:30:09.252375Z",
     "shell.execute_reply": "2023-08-05T00:30:09.251436Z",
     "shell.execute_reply.started": "2023-08-05T00:30:08.451277Z"
    },
    "tags": []
   },
   "outputs": [],
   "source": [
    "import io\n",
    "from pathlib import Path\n",
    "\n",
    "import boto3\n",
    "import pandas as pd\n",
    "from botocore import UNSIGNED\n",
    "from botocore.client import Config"
   ]
  },
  {
   "cell_type": "code",
   "execution_count": 12,
   "id": "f25ae2d9-1e63-4b43-87b6-edc9181ab3df",
   "metadata": {
    "execution": {
     "iopub.execute_input": "2023-08-05T00:31:26.639274Z",
     "iopub.status.busy": "2023-08-05T00:31:26.638262Z",
     "iopub.status.idle": "2023-08-05T00:31:26.648919Z",
     "shell.execute_reply": "2023-08-05T00:31:26.646878Z",
     "shell.execute_reply.started": "2023-08-05T00:31:26.639227Z"
    },
    "tags": []
   },
   "outputs": [
    {
     "name": "stdout",
     "output_type": "stream",
     "text": [
      "/home/pyuser/workspace/data/noaa\n"
     ]
    }
   ],
   "source": [
    "DATA_PATH = Path().resolve().parent.parent/'data'/'noaa'\n",
    "print(DATA_PATH)"
   ]
  },
  {
   "cell_type": "code",
   "execution_count": 14,
   "id": "0e6b6c2c-9805-4d08-8392-09c678e337be",
   "metadata": {
    "execution": {
     "iopub.execute_input": "2023-08-05T00:32:38.097421Z",
     "iopub.status.busy": "2023-08-05T00:32:38.096448Z",
     "iopub.status.idle": "2023-08-05T00:32:38.104980Z",
     "shell.execute_reply": "2023-08-05T00:32:38.103416Z",
     "shell.execute_reply.started": "2023-08-05T00:32:38.097394Z"
    },
    "tags": []
   },
   "outputs": [],
   "source": [
    "BUCKET = 'noaa-ghcn-pds'"
   ]
  },
  {
   "cell_type": "markdown",
   "id": "17fa3a2c-1b5a-47b8-aa49-1b23fa0e3343",
   "metadata": {},
   "source": [
    "## Download a file"
   ]
  },
  {
   "cell_type": "code",
   "execution_count": 5,
   "id": "07efdee3-c800-4e3d-98f7-2f6c4af71083",
   "metadata": {
    "execution": {
     "iopub.execute_input": "2023-08-05T00:22:13.354576Z",
     "iopub.status.busy": "2023-08-05T00:22:13.353318Z",
     "iopub.status.idle": "2023-08-05T00:22:13.370821Z",
     "shell.execute_reply": "2023-08-05T00:22:13.369936Z",
     "shell.execute_reply.started": "2023-08-05T00:22:13.354556Z"
    },
    "tags": []
   },
   "outputs": [],
   "source": [
    "# create a s3 client without signin\n",
    "s3_client = boto3.client('s3', config=Config(signature_version=UNSIGNED))"
   ]
  },
  {
   "cell_type": "code",
   "execution_count": 13,
   "id": "acb54f1a-8fc0-4f18-9b42-482e0a8c5f35",
   "metadata": {
    "execution": {
     "iopub.execute_input": "2023-08-05T00:31:39.118080Z",
     "iopub.status.busy": "2023-08-05T00:31:39.117658Z",
     "iopub.status.idle": "2023-08-05T00:31:43.814600Z",
     "shell.execute_reply": "2023-08-05T00:31:43.813729Z",
     "shell.execute_reply.started": "2023-08-05T00:31:39.118062Z"
    },
    "tags": []
   },
   "outputs": [],
   "source": [
    "# Download the file from S3\n",
    "s3_client.download_file(BUCKET, 'ghcnd-stations.txt', DATA_PATH/'ghcnd-stations.txt')"
   ]
  },
  {
   "cell_type": "markdown",
   "id": "7c4a1e84-d4f9-457c-9a59-ae9b7a4a9088",
   "metadata": {},
   "source": [
    "### Download and read directly"
   ]
  },
  {
   "cell_type": "markdown",
   "id": "f7d49823-2572-4017-a258-516ed5c2dfa4",
   "metadata": {},
   "source": [
    "|Variable|Columns|Type|Example|\n",
    "|-----|-----|-----|-----|\n",
    "|ID|1-11|Character|EI000003980|\n",
    "|LATITUDE|13-20|Real|55.3717|\n",
    "|LONGITUDE|22-30|Real|-7.3400|\n",
    "|ELEVATION|32-37|Real|21.0|\n",
    "|STATE|39-40|Character|\n",
    "|NAME|42-71|Character|MALIN HEAD|\n",
    "|GSN FLAG|73-75|Character|GSN|\n",
    "|HCN/CRN FLAG|77-79|Character|\n",
    "|WMO ID|81-85|Character|03980|"
   ]
  },
  {
   "cell_type": "code",
   "execution_count": 26,
   "id": "df672d19-c301-4042-8492-acbe2f930182",
   "metadata": {
    "execution": {
     "iopub.execute_input": "2023-08-05T00:52:16.971670Z",
     "iopub.status.busy": "2023-08-05T00:52:16.971140Z",
     "iopub.status.idle": "2023-08-05T00:52:20.574020Z",
     "shell.execute_reply": "2023-08-05T00:52:20.572337Z",
     "shell.execute_reply.started": "2023-08-05T00:52:16.971652Z"
    },
    "tags": []
   },
   "outputs": [
    {
     "data": {
      "text/html": [
       "<div>\n",
       "<style scoped>\n",
       "    .dataframe tbody tr th:only-of-type {\n",
       "        vertical-align: middle;\n",
       "    }\n",
       "\n",
       "    .dataframe tbody tr th {\n",
       "        vertical-align: top;\n",
       "    }\n",
       "\n",
       "    .dataframe thead th {\n",
       "        text-align: right;\n",
       "    }\n",
       "</style>\n",
       "<table border=\"1\" class=\"dataframe\">\n",
       "  <thead>\n",
       "    <tr style=\"text-align: right;\">\n",
       "      <th></th>\n",
       "      <th>ID</th>\n",
       "      <th>LATITUDE</th>\n",
       "      <th>LONGITUDE</th>\n",
       "      <th>ELEVATION</th>\n",
       "      <th>STATE</th>\n",
       "      <th>NAME</th>\n",
       "      <th>GSN FLAG</th>\n",
       "      <th>HCN/CRN FLAG</th>\n",
       "      <th>WMO ID</th>\n",
       "    </tr>\n",
       "  </thead>\n",
       "  <tbody>\n",
       "    <tr>\n",
       "      <th>0</th>\n",
       "      <td>CW00011604</td>\n",
       "      <td>17.1167</td>\n",
       "      <td>-61.7833</td>\n",
       "      <td>10.1</td>\n",
       "      <td>NaN</td>\n",
       "      <td>T JOHNS COOLIDGE FLD</td>\n",
       "      <td>NaN</td>\n",
       "      <td>NaN</td>\n",
       "      <td>NaN</td>\n",
       "    </tr>\n",
       "    <tr>\n",
       "      <th>1</th>\n",
       "      <td>CW00011647</td>\n",
       "      <td>17.1333</td>\n",
       "      <td>-61.7833</td>\n",
       "      <td>19.2</td>\n",
       "      <td>NaN</td>\n",
       "      <td>T JOHNS</td>\n",
       "      <td>NaN</td>\n",
       "      <td>NaN</td>\n",
       "      <td>NaN</td>\n",
       "    </tr>\n",
       "    <tr>\n",
       "      <th>2</th>\n",
       "      <td>E000041196</td>\n",
       "      <td>25.3330</td>\n",
       "      <td>55.5170</td>\n",
       "      <td>34.0</td>\n",
       "      <td>NaN</td>\n",
       "      <td>HARJAH INTER. AIRP</td>\n",
       "      <td>SN</td>\n",
       "      <td>NaN</td>\n",
       "      <td>1196.0</td>\n",
       "    </tr>\n",
       "    <tr>\n",
       "      <th>3</th>\n",
       "      <td>EM00041194</td>\n",
       "      <td>25.2550</td>\n",
       "      <td>55.3640</td>\n",
       "      <td>10.4</td>\n",
       "      <td>NaN</td>\n",
       "      <td>UBAI INTL</td>\n",
       "      <td>NaN</td>\n",
       "      <td>NaN</td>\n",
       "      <td>1194.0</td>\n",
       "    </tr>\n",
       "    <tr>\n",
       "      <th>4</th>\n",
       "      <td>EM00041217</td>\n",
       "      <td>24.4330</td>\n",
       "      <td>54.6510</td>\n",
       "      <td>26.8</td>\n",
       "      <td>NaN</td>\n",
       "      <td>BU DHABI INTL</td>\n",
       "      <td>NaN</td>\n",
       "      <td>NaN</td>\n",
       "      <td>1217.0</td>\n",
       "    </tr>\n",
       "  </tbody>\n",
       "</table>\n",
       "</div>"
      ],
      "text/plain": [
       "           ID  LATITUDE  LONGITUDE  ELEVATION STATE                  NAME   \n",
       "0  CW00011604   17.1167   -61.7833       10.1   NaN  T JOHNS COOLIDGE FLD  \\\n",
       "1  CW00011647   17.1333   -61.7833       19.2   NaN               T JOHNS   \n",
       "2  E000041196   25.3330    55.5170       34.0   NaN    HARJAH INTER. AIRP   \n",
       "3  EM00041194   25.2550    55.3640       10.4   NaN             UBAI INTL   \n",
       "4  EM00041217   24.4330    54.6510       26.8   NaN         BU DHABI INTL   \n",
       "\n",
       "  GSN FLAG HCN/CRN FLAG  WMO ID  \n",
       "0      NaN          NaN     NaN  \n",
       "1      NaN          NaN     NaN  \n",
       "2       SN          NaN  1196.0  \n",
       "3      NaN          NaN  1194.0  \n",
       "4      NaN          NaN  1217.0  "
      ]
     },
     "execution_count": 26,
     "metadata": {},
     "output_type": "execute_result"
    }
   ],
   "source": [
    "obj = s3_client.get_object(Bucket=BUCKET, Key='ghcnd-stations.txt')\n",
    "data = io.BytesIO(obj['Body'].read())\n",
    "pd.read_fwf(\n",
    "    data,\n",
    "    colspecs=[\n",
    "        (1, 12),\n",
    "        (13, 21),\n",
    "        (22, 31),\n",
    "        (32, 38),\n",
    "        (39, 41),\n",
    "        (42, 72),\n",
    "        (73, 76),\n",
    "        (77, 80),\n",
    "        (81, 86),\n",
    "    ],\n",
    "    header=None,\n",
    "    names=[\n",
    "        'ID',\n",
    "        'LATITUDE',\n",
    "        'LONGITUDE',\n",
    "        'ELEVATION',\n",
    "        'STATE',\n",
    "        'NAME',\n",
    "        'GSN FLAG',\n",
    "        'HCN/CRN FLAG',\n",
    "        'WMO ID',\n",
    "    ]\n",
    ").head()"
   ]
  },
  {
   "cell_type": "markdown",
   "id": "8cf56b76-4527-4a37-9cae-29f3cb79aef6",
   "metadata": {},
   "source": [
    "## References\n",
    "\n",
    "- [docs.opendata.aws/noaa-ghcn-pds](https://docs.opendata.aws/noaa-ghcn-pds/readme.html)\n",
    "- [AWS S3 Explorer](https://noaa-ghcn-pds.s3.amazonaws.com/index.html)\n",
    "- [Registry of Open Data on AWS](https://registry.opendata.aws/noaa-ghcn/)\n",
    "- [github.com/awslabs/open-data-docs](https://github.com/awslabs/open-data-docs)"
   ]
  }
 ],
 "metadata": {
  "kernelspec": {
   "display_name": "Python 3 (ipykernel)",
   "language": "python",
   "name": "python3"
  },
  "language_info": {
   "codemirror_mode": {
    "name": "ipython",
    "version": 3
   },
   "file_extension": ".py",
   "mimetype": "text/x-python",
   "name": "python",
   "nbconvert_exporter": "python",
   "pygments_lexer": "ipython3",
   "version": "3.10.11"
  }
 },
 "nbformat": 4,
 "nbformat_minor": 5
}
