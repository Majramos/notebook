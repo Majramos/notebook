{
 "cells": [
  {
   "cell_type": "markdown",
   "id": "ba9005ee-541e-4e83-81e0-c9fcea8bb7ea",
   "metadata": {},
   "source": [
    "# Check if cuda is available to use with pytorch"
   ]
  },
  {
   "cell_type": "code",
   "execution_count": 3,
   "id": "d0af26cb-22a5-4e2b-a466-31df13bfedfd",
   "metadata": {
    "execution": {
     "iopub.execute_input": "2023-08-06T18:12:24.895391Z",
     "iopub.status.busy": "2023-08-06T18:12:24.894378Z",
     "iopub.status.idle": "2023-08-06T18:12:24.908827Z",
     "shell.execute_reply": "2023-08-06T18:12:24.906897Z",
     "shell.execute_reply.started": "2023-08-06T18:12:24.895368Z"
    },
    "tags": []
   },
   "outputs": [
    {
     "name": "stdout",
     "output_type": "stream",
     "text": [
      "No module named 'torch'\n"
     ]
    }
   ],
   "source": [
    "import subprocess\n",
    "\n",
    "try:\n",
    "    import torch\n",
    "except Exception as e:\n",
    "    print(str(e))\n",
    "else:\n",
    "    pass"
   ]
  },
  {
   "cell_type": "markdown",
   "id": "fdbb8379-c92d-4eeb-86a7-3945aafab0ad",
   "metadata": {},
   "source": [
    "## using a subprocess"
   ]
  },
  {
   "cell_type": "code",
   "execution_count": 4,
   "id": "0c334f1f-9d5d-4527-9c9a-a8c242ba55f2",
   "metadata": {
    "execution": {
     "iopub.execute_input": "2023-08-06T18:12:33.506164Z",
     "iopub.status.busy": "2023-08-06T18:12:33.505450Z",
     "iopub.status.idle": "2023-08-06T18:12:33.672104Z",
     "shell.execute_reply": "2023-08-06T18:12:33.671334Z",
     "shell.execute_reply.started": "2023-08-06T18:12:33.506140Z"
    },
    "tags": []
   },
   "outputs": [
    {
     "name": "stdout",
     "output_type": "stream",
     "text": [
      "Sun Aug  6 18:12:33 2023       \n",
      "+-----------------------------------------------------------------------------+\n",
      "| NVIDIA-SMI 525.60.07    Driver Version: 527.27       CUDA Version: 12.0     |\n",
      "|-------------------------------+----------------------+----------------------+\n",
      "| GPU  Name        Persistence-M| Bus-Id        Disp.A | Volatile Uncorr. ECC |\n",
      "| Fan  Temp  Perf  Pwr:Usage/Cap|         Memory-Usage | GPU-Util  Compute M. |\n",
      "|                               |                      |               MIG M. |\n",
      "|===============================+======================+======================|\n",
      "|   0  Quadro RTX 3000     On   | 00000000:01:00.0  On |                  N/A |\n",
      "| N/A   67C    P8     7W /  N/A |    135MiB /  6144MiB |      5%      Default |\n",
      "|                               |                      |                  N/A |\n",
      "+-------------------------------+----------------------+----------------------+\n",
      "                                                                               \n",
      "+-----------------------------------------------------------------------------+\n",
      "| Processes:                                                                  |\n",
      "|  GPU   GI   CI        PID   Type   Process name                  GPU Memory |\n",
      "|        ID   ID                                                   Usage      |\n",
      "|=============================================================================|\n",
      "|    0   N/A  N/A        26      G   /Xwayland                       N/A      |\n",
      "|    0   N/A  N/A        29      G   /Xwayland                       N/A      |\n",
      "|    0   N/A  N/A        31      G   /Xwayland                       N/A      |\n",
      "+-----------------------------------------------------------------------------+\n",
      "\n"
     ]
    }
   ],
   "source": [
    "# %% get information about gpu\n",
    "gpu_out = subprocess.run(\n",
    "    r'nvidia-smi',\n",
    "    stdout=subprocess.PIPE\n",
    ").stdout.decode('utf-8')\n",
    "print(gpu_out)"
   ]
  },
  {
   "cell_type": "markdown",
   "id": "e8552115-a72b-4392-9ba7-6e09c6fcc002",
   "metadata": {},
   "source": [
    "## using pytorch directly"
   ]
  },
  {
   "cell_type": "code",
   "execution_count": null,
   "id": "1f58a88b-d981-444f-9cf3-8f4541fcb1f1",
   "metadata": {},
   "outputs": [],
   "source": [
    "have_cuda = torch.cuda.is_available()\n",
    "print('cuda is available: ', have_cuda)"
   ]
  },
  {
   "cell_type": "code",
   "execution_count": null,
   "id": "cd401e83-70b5-4233-af73-8230a677fbd7",
   "metadata": {},
   "outputs": [],
   "source": [
    "# get more information about graphics\n",
    "device = torch.device('cuda')\n",
    "# get current device\n",
    "current_device = torch.cuda.current_device()\n",
    "print('current device index :', current_device)\n",
    "\n",
    "# get device name\n",
    "device_name = torch.cuda.get_device_name(current_device)\n",
    "print('device 0 name :', device_name)\n",
    "\n",
    "# some testing\n",
    "test = torch.FloatTensor([0, 1, 2]).to(device)\n",
    "print('tensor was sent to cuda:', test.is_cuda)"
   ]
  }
 ],
 "metadata": {
  "kernelspec": {
   "display_name": "Python 3 (ipykernel)",
   "language": "python",
   "name": "python3"
  },
  "language_info": {
   "codemirror_mode": {
    "name": "ipython",
    "version": 3
   },
   "file_extension": ".py",
   "mimetype": "text/x-python",
   "name": "python",
   "nbconvert_exporter": "python",
   "pygments_lexer": "ipython3",
   "version": "3.10.11"
  }
 },
 "nbformat": 4,
 "nbformat_minor": 5
}
