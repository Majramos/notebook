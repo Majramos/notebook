{
 "cells": [
  {
   "cell_type": "markdown",
   "metadata": {},
   "source": [
    "# Convert CRS"
   ]
  },
  {
   "cell_type": "code",
   "execution_count": 8,
   "metadata": {
    "execution": {
     "iopub.execute_input": "2021-03-01T19:06:08.513306Z",
     "iopub.status.busy": "2021-03-01T19:06:08.513306Z",
     "iopub.status.idle": "2021-03-01T19:06:09.039662Z",
     "shell.execute_reply": "2021-03-01T19:06:09.039662Z",
     "shell.execute_reply.started": "2021-03-01T19:06:08.513306Z"
    }
   },
   "outputs": [],
   "source": [
    "from pyproj import CRS\n",
    "from pyproj import Transformer\n",
    "\n",
    "import geopandas"
   ]
  },
  {
   "cell_type": "markdown",
   "metadata": {},
   "source": [
    "## Carta Administrativa Oficial de Portugal em formato GeoJSON\n",
    "\n",
    "Estes ficheiros foram gerados pelo Qgis através do serviço [WFS](http://www.dgterritorio.pt/cartografia_e_geodesia/cartografia/carta_administrativa_oficial_de_portugal__caop_/) providenciado pela Direção-Geral do Território.\n",
    "\n",
    "Os sistemas de coordenadas são os seguintes:\n",
    "\n",
    "- Portugal Continental - PT-TM06/ETRS89 - EPSG: 3763\n",
    "- Madeira - PTRA08-UTM/ITRF93 Fuso 28N - EPSG: 5016\n",
    "- Açores Grupo Central - PTRA08-UTM/ITRF93 Fuso 26N - EPSG: 5015\n",
    "- Açores Grupo Oriental - PTRA08-UTM/ITRF93 Fuso 26N - EPSG: 5015\n",
    "- Açores Grupo Ocidental - PTRA08-UTM/ITRF93 Fuso 25N - EPSG: 5014\n",
    "\n",
    "\n",
    "https://luiscarlosmadeira.blogs.sapo.pt/42487.html"
   ]
  },
  {
   "cell_type": "code",
   "execution_count": 3,
   "metadata": {
    "execution": {
     "iopub.execute_input": "2021-03-01T18:18:26.677394Z",
     "iopub.status.busy": "2021-03-01T18:18:26.677394Z",
     "iopub.status.idle": "2021-03-01T18:18:26.697431Z",
     "shell.execute_reply": "2021-03-01T18:18:26.697431Z",
     "shell.execute_reply.started": "2021-03-01T18:18:26.677394Z"
    }
   },
   "outputs": [
    {
     "data": {
      "text/plain": [
       "<Projected CRS: EPSG:3763>\n",
       "Name: ETRS89 / Portugal TM06\n",
       "Axis Info [cartesian]:\n",
       "- X[east]: Easting (metre)\n",
       "- Y[north]: Northing (metre)\n",
       "Area of Use:\n",
       "- name: Portugal - mainland - onshore.\n",
       "- bounds: (-9.56, 36.95, -6.19, 42.16)\n",
       "Coordinate Operation:\n",
       "- name: Portugual TM06\n",
       "- method: Transverse Mercator\n",
       "Datum: European Terrestrial Reference System 1989\n",
       "- Ellipsoid: GRS 1980\n",
       "- Prime Meridian: Greenwich"
      ]
     },
     "execution_count": 3,
     "metadata": {},
     "output_type": "execute_result"
    }
   ],
   "source": [
    "crs_3763 = CRS.from_epsg(3763)\n",
    "crs_3763"
   ]
  },
  {
   "cell_type": "code",
   "execution_count": 4,
   "metadata": {
    "execution": {
     "iopub.execute_input": "2021-03-01T18:18:34.434546Z",
     "iopub.status.busy": "2021-03-01T18:18:34.434546Z",
     "iopub.status.idle": "2021-03-01T18:18:34.456505Z",
     "shell.execute_reply": "2021-03-01T18:18:34.455545Z",
     "shell.execute_reply.started": "2021-03-01T18:18:34.434546Z"
    }
   },
   "outputs": [
    {
     "data": {
      "text/plain": [
       "<Geographic 2D CRS: EPSG:4258>\n",
       "Name: ETRS89\n",
       "Axis Info [ellipsoidal]:\n",
       "- Lat[north]: Geodetic latitude (degree)\n",
       "- Lon[east]: Geodetic longitude (degree)\n",
       "Area of Use:\n",
       "- name: Europe - onshore and offshore: Albania; Andorra; Austria; Belgium; Bosnia and Herzegovina; Bulgaria; Croatia; Cyprus; Czechia; Denmark; Estonia; Faroe Islands; Finland; France; Germany; Gibraltar; Greece; Hungary; Ireland; Italy; Kosovo; Latvia; Liechtenstein; Lithuania; Luxembourg; Malta; Moldova; Monaco; Montenegro; Netherlands; North Macedonia; Norway including Svalbard and Jan Mayen; Poland; Portugal; Romania; San Marino; Serbia; Slovakia; Slovenia; Spain; Sweden; Switzerland; United Kingdom (UK) including Channel Islands and Isle of Man; Vatican City State.\n",
       "- bounds: (-16.1, 32.88, 40.18, 84.17)\n",
       "Datum: European Terrestrial Reference System 1989\n",
       "- Ellipsoid: GRS 1980\n",
       "- Prime Meridian: Greenwich"
      ]
     },
     "execution_count": 4,
     "metadata": {},
     "output_type": "execute_result"
    }
   ],
   "source": [
    "crs_4258 = CRS.from_epsg(4258)\n",
    "crs_4258"
   ]
  },
  {
   "cell_type": "code",
   "execution_count": 5,
   "metadata": {
    "execution": {
     "iopub.execute_input": "2021-03-01T18:18:40.478222Z",
     "iopub.status.busy": "2021-03-01T18:18:40.478222Z",
     "iopub.status.idle": "2021-03-01T18:18:40.511231Z",
     "shell.execute_reply": "2021-03-01T18:18:40.510234Z",
     "shell.execute_reply.started": "2021-03-01T18:18:40.478222Z"
    }
   },
   "outputs": [
    {
     "data": {
      "text/plain": [
       "<Conversion Transformer: pipeline>\n",
       "Description: Inverse of Portugual TM06\n",
       "Area of Use:\n",
       "- name: Portugal - mainland - onshore.\n",
       "- bounds: (-9.56, 36.95, -6.19, 42.16)"
      ]
     },
     "execution_count": 5,
     "metadata": {},
     "output_type": "execute_result"
    }
   ],
   "source": [
    "transformer = Transformer.from_crs(crs_3763, crs_4258)\n",
    "transformer"
   ]
  },
  {
   "cell_type": "code",
   "execution_count": 6,
   "metadata": {
    "execution": {
     "iopub.execute_input": "2021-03-01T18:18:46.654787Z",
     "iopub.status.busy": "2021-03-01T18:18:46.654787Z",
     "iopub.status.idle": "2021-03-01T18:18:46.658787Z",
     "shell.execute_reply": "2021-03-01T18:18:46.658787Z",
     "shell.execute_reply.started": "2021-03-01T18:18:46.654787Z"
    }
   },
   "outputs": [
    {
     "data": {
      "text/plain": [
       "(41.064752290378365, -8.272018782443231)"
      ]
     },
     "execution_count": 6,
     "metadata": {},
     "output_type": "execute_result"
    }
   ],
   "source": [
    "transformer.transform(-11675.8126, 155078.3514)"
   ]
  },
  {
   "cell_type": "code",
   "execution_count": 12,
   "metadata": {
    "execution": {
     "iopub.execute_input": "2021-03-01T19:06:48.376770Z",
     "iopub.status.busy": "2021-03-01T19:06:48.376770Z",
     "iopub.status.idle": "2021-03-01T19:07:06.372862Z",
     "shell.execute_reply": "2021-03-01T19:07:06.372862Z",
     "shell.execute_reply.started": "2021-03-01T19:06:48.376770Z"
    }
   },
   "outputs": [
    {
     "data": {
      "text/html": [
       "<div>\n",
       "<style scoped>\n",
       "    .dataframe tbody tr th:only-of-type {\n",
       "        vertical-align: middle;\n",
       "    }\n",
       "\n",
       "    .dataframe tbody tr th {\n",
       "        vertical-align: top;\n",
       "    }\n",
       "\n",
       "    .dataframe thead th {\n",
       "        text-align: right;\n",
       "    }\n",
       "</style>\n",
       "<table border=\"1\" class=\"dataframe\">\n",
       "  <thead>\n",
       "    <tr style=\"text-align: right;\">\n",
       "      <th></th>\n",
       "      <th>Dicofre</th>\n",
       "      <th>Freguesia</th>\n",
       "      <th>Concelho</th>\n",
       "      <th>Distrito</th>\n",
       "      <th>Area_Ha</th>\n",
       "      <th>Des_Simpli</th>\n",
       "      <th>geometry</th>\n",
       "    </tr>\n",
       "  </thead>\n",
       "  <tbody>\n",
       "    <tr>\n",
       "      <th>0</th>\n",
       "      <td>010103</td>\n",
       "      <td>Aguada de Cima</td>\n",
       "      <td>ÁGUEDA</td>\n",
       "      <td>AVEIRO</td>\n",
       "      <td>2839.31</td>\n",
       "      <td>Aguada de Cima</td>\n",
       "      <td>POLYGON ((-23153.704 98134.039, -22875.069 977...</td>\n",
       "    </tr>\n",
       "    <tr>\n",
       "      <th>1</th>\n",
       "      <td>010109</td>\n",
       "      <td>Fermentelos</td>\n",
       "      <td>ÁGUEDA</td>\n",
       "      <td>AVEIRO</td>\n",
       "      <td>858.20</td>\n",
       "      <td>Fermentelos</td>\n",
       "      <td>POLYGON ((-32142.508 98702.545, -32161.288 986...</td>\n",
       "    </tr>\n",
       "    <tr>\n",
       "      <th>2</th>\n",
       "      <td>010112</td>\n",
       "      <td>Macinhata do Vouga</td>\n",
       "      <td>ÁGUEDA</td>\n",
       "      <td>AVEIRO</td>\n",
       "      <td>3195.44</td>\n",
       "      <td>Macinhata do Vouga</td>\n",
       "      <td>POLYGON ((-20560.758 113803.912, -20550.798 11...</td>\n",
       "    </tr>\n",
       "    <tr>\n",
       "      <th>3</th>\n",
       "      <td>010119</td>\n",
       "      <td>Valongo do Vouga</td>\n",
       "      <td>ÁGUEDA</td>\n",
       "      <td>AVEIRO</td>\n",
       "      <td>4320.11</td>\n",
       "      <td>Valongo do Vouga</td>\n",
       "      <td>POLYGON ((-22002.741 110943.503, -21999.021 11...</td>\n",
       "    </tr>\n",
       "    <tr>\n",
       "      <th>4</th>\n",
       "      <td>010121</td>\n",
       "      <td>União das freguesias de Águeda e Borralha</td>\n",
       "      <td>ÁGUEDA</td>\n",
       "      <td>AVEIRO</td>\n",
       "      <td>3602.93</td>\n",
       "      <td>Águeda e Borralha</td>\n",
       "      <td>POLYGON ((-21105.293 105071.326, -21079.433 10...</td>\n",
       "    </tr>\n",
       "  </tbody>\n",
       "</table>\n",
       "</div>"
      ],
      "text/plain": [
       "  Dicofre                                  Freguesia Concelho Distrito  \\\n",
       "0  010103                             Aguada de Cima   ÁGUEDA   AVEIRO   \n",
       "1  010109                                Fermentelos   ÁGUEDA   AVEIRO   \n",
       "2  010112                         Macinhata do Vouga   ÁGUEDA   AVEIRO   \n",
       "3  010119                           Valongo do Vouga   ÁGUEDA   AVEIRO   \n",
       "4  010121  União das freguesias de Águeda e Borralha   ÁGUEDA   AVEIRO   \n",
       "\n",
       "   Area_Ha          Des_Simpli  \\\n",
       "0  2839.31      Aguada de Cima   \n",
       "1   858.20         Fermentelos   \n",
       "2  3195.44  Macinhata do Vouga   \n",
       "3  4320.11    Valongo do Vouga   \n",
       "4  3602.93   Águeda e Borralha   \n",
       "\n",
       "                                            geometry  \n",
       "0  POLYGON ((-23153.704 98134.039, -22875.069 977...  \n",
       "1  POLYGON ((-32142.508 98702.545, -32161.288 986...  \n",
       "2  POLYGON ((-20560.758 113803.912, -20550.798 11...  \n",
       "3  POLYGON ((-22002.741 110943.503, -21999.021 11...  \n",
       "4  POLYGON ((-21105.293 105071.326, -21079.433 10...  "
      ]
     },
     "execution_count": 12,
     "metadata": {},
     "output_type": "execute_result"
    }
   ],
   "source": [
    "df = geopandas.read_file('ContinenteFreguesias.geojson')\n",
    "df.head()"
   ]
  },
  {
   "cell_type": "code",
   "execution_count": 13,
   "metadata": {
    "execution": {
     "iopub.execute_input": "2021-03-01T19:07:27.388011Z",
     "iopub.status.busy": "2021-03-01T19:07:27.388011Z",
     "iopub.status.idle": "2021-03-01T19:07:27.403963Z",
     "shell.execute_reply": "2021-03-01T19:07:27.403001Z",
     "shell.execute_reply.started": "2021-03-01T19:07:27.388011Z"
    }
   },
   "outputs": [
    {
     "data": {
      "text/plain": [
       "<Projected CRS: EPSG:3763>\n",
       "Name: ETRS89 / Portugal TM06\n",
       "Axis Info [cartesian]:\n",
       "- X[east]: Easting (metre)\n",
       "- Y[north]: Northing (metre)\n",
       "Area of Use:\n",
       "- name: Portugal - mainland - onshore.\n",
       "- bounds: (-9.56, 36.95, -6.19, 42.16)\n",
       "Coordinate Operation:\n",
       "- name: Portugual TM06\n",
       "- method: Transverse Mercator\n",
       "Datum: European Terrestrial Reference System 1989\n",
       "- Ellipsoid: GRS 1980\n",
       "- Prime Meridian: Greenwich"
      ]
     },
     "execution_count": 13,
     "metadata": {},
     "output_type": "execute_result"
    }
   ],
   "source": [
    "df.crs"
   ]
  },
  {
   "cell_type": "code",
   "execution_count": 16,
   "metadata": {
    "execution": {
     "iopub.execute_input": "2021-03-01T19:07:55.723567Z",
     "iopub.status.busy": "2021-03-01T19:07:55.722531Z",
     "iopub.status.idle": "2021-03-01T19:07:58.198527Z",
     "shell.execute_reply": "2021-03-01T19:07:58.197492Z",
     "shell.execute_reply.started": "2021-03-01T19:07:55.722531Z"
    }
   },
   "outputs": [
    {
     "data": {
      "text/html": [
       "<div>\n",
       "<style scoped>\n",
       "    .dataframe tbody tr th:only-of-type {\n",
       "        vertical-align: middle;\n",
       "    }\n",
       "\n",
       "    .dataframe tbody tr th {\n",
       "        vertical-align: top;\n",
       "    }\n",
       "\n",
       "    .dataframe thead th {\n",
       "        text-align: right;\n",
       "    }\n",
       "</style>\n",
       "<table border=\"1\" class=\"dataframe\">\n",
       "  <thead>\n",
       "    <tr style=\"text-align: right;\">\n",
       "      <th></th>\n",
       "      <th>Dicofre</th>\n",
       "      <th>Freguesia</th>\n",
       "      <th>Concelho</th>\n",
       "      <th>Distrito</th>\n",
       "      <th>Area_Ha</th>\n",
       "      <th>Des_Simpli</th>\n",
       "      <th>geometry</th>\n",
       "    </tr>\n",
       "  </thead>\n",
       "  <tbody>\n",
       "    <tr>\n",
       "      <th>0</th>\n",
       "      <td>010103</td>\n",
       "      <td>Aguada de Cima</td>\n",
       "      <td>ÁGUEDA</td>\n",
       "      <td>AVEIRO</td>\n",
       "      <td>2839.31</td>\n",
       "      <td>Aguada de Cima</td>\n",
       "      <td>POLYGON ((-8.40646 40.55173, -8.40316 40.54844...</td>\n",
       "    </tr>\n",
       "    <tr>\n",
       "      <th>1</th>\n",
       "      <td>010109</td>\n",
       "      <td>Fermentelos</td>\n",
       "      <td>ÁGUEDA</td>\n",
       "      <td>AVEIRO</td>\n",
       "      <td>858.20</td>\n",
       "      <td>Fermentelos</td>\n",
       "      <td>POLYGON ((-8.51261 40.55655, -8.51283 40.55638...</td>\n",
       "    </tr>\n",
       "    <tr>\n",
       "      <th>2</th>\n",
       "      <td>010112</td>\n",
       "      <td>Macinhata do Vouga</td>\n",
       "      <td>ÁGUEDA</td>\n",
       "      <td>AVEIRO</td>\n",
       "      <td>3195.44</td>\n",
       "      <td>Macinhata do Vouga</td>\n",
       "      <td>POLYGON ((-8.37636 40.69291, -8.37624 40.69271...</td>\n",
       "    </tr>\n",
       "    <tr>\n",
       "      <th>3</th>\n",
       "      <td>010119</td>\n",
       "      <td>Valongo do Vouga</td>\n",
       "      <td>ÁGUEDA</td>\n",
       "      <td>AVEIRO</td>\n",
       "      <td>4320.11</td>\n",
       "      <td>Valongo do Vouga</td>\n",
       "      <td>POLYGON ((-8.39332 40.66712, -8.39328 40.66711...</td>\n",
       "    </tr>\n",
       "    <tr>\n",
       "      <th>4</th>\n",
       "      <td>010121</td>\n",
       "      <td>União das freguesias de Águeda e Borralha</td>\n",
       "      <td>ÁGUEDA</td>\n",
       "      <td>AVEIRO</td>\n",
       "      <td>3602.93</td>\n",
       "      <td>Águeda e Borralha</td>\n",
       "      <td>POLYGON ((-8.38251 40.61426, -8.38220 40.61425...</td>\n",
       "    </tr>\n",
       "  </tbody>\n",
       "</table>\n",
       "</div>"
      ],
      "text/plain": [
       "  Dicofre                                  Freguesia Concelho Distrito  \\\n",
       "0  010103                             Aguada de Cima   ÁGUEDA   AVEIRO   \n",
       "1  010109                                Fermentelos   ÁGUEDA   AVEIRO   \n",
       "2  010112                         Macinhata do Vouga   ÁGUEDA   AVEIRO   \n",
       "3  010119                           Valongo do Vouga   ÁGUEDA   AVEIRO   \n",
       "4  010121  União das freguesias de Águeda e Borralha   ÁGUEDA   AVEIRO   \n",
       "\n",
       "   Area_Ha          Des_Simpli  \\\n",
       "0  2839.31      Aguada de Cima   \n",
       "1   858.20         Fermentelos   \n",
       "2  3195.44  Macinhata do Vouga   \n",
       "3  4320.11    Valongo do Vouga   \n",
       "4  3602.93   Águeda e Borralha   \n",
       "\n",
       "                                            geometry  \n",
       "0  POLYGON ((-8.40646 40.55173, -8.40316 40.54844...  \n",
       "1  POLYGON ((-8.51261 40.55655, -8.51283 40.55638...  \n",
       "2  POLYGON ((-8.37636 40.69291, -8.37624 40.69271...  \n",
       "3  POLYGON ((-8.39332 40.66712, -8.39328 40.66711...  \n",
       "4  POLYGON ((-8.38251 40.61426, -8.38220 40.61425...  "
      ]
     },
     "execution_count": 16,
     "metadata": {},
     "output_type": "execute_result"
    }
   ],
   "source": [
    "converted = df.to_crs(epsg=4258)\n",
    "converted.head()"
   ]
  },
  {
   "cell_type": "code",
   "execution_count": 17,
   "metadata": {
    "execution": {
     "iopub.execute_input": "2021-03-01T19:09:16.515622Z",
     "iopub.status.busy": "2021-03-01T19:09:16.515622Z",
     "iopub.status.idle": "2021-03-01T19:09:35.099113Z",
     "shell.execute_reply": "2021-03-01T19:09:35.099113Z",
     "shell.execute_reply.started": "2021-03-01T19:09:16.515622Z"
    }
   },
   "outputs": [],
   "source": [
    "converted.to_file(\"ContinenteFreguesias2.geojson\", driver='GeoJSON')"
   ]
  }
 ],
 "metadata": {
  "kernelspec": {
   "display_name": "Python 3 (ipykernel)",
   "language": "python",
   "name": "python3"
  },
  "language_info": {
   "codemirror_mode": {
    "name": "ipython",
    "version": 3
   },
   "file_extension": ".py",
   "mimetype": "text/x-python",
   "name": "python",
   "nbconvert_exporter": "python",
   "pygments_lexer": "ipython3",
   "version": "3.10.11"
  }
 },
 "nbformat": 4,
 "nbformat_minor": 4
}
