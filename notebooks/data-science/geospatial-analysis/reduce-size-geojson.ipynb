{
 "cells": [
  {
   "cell_type": "markdown",
   "id": "fbeca3d4-134d-4ede-8268-489f9dee9f01",
   "metadata": {
    "editable": true,
    "slideshow": {
     "slide_type": ""
    },
    "tags": []
   },
   "source": [
    "# Reduce size of a geojson file\n",
    "- [geopandas](https://geopandas.org/en/stable/index.html)\n",
    "- [shapely](https://shapely.readthedocs.io/en/stable/index.html)"
   ]
  },
  {
   "cell_type": "code",
   "execution_count": 1,
   "id": "793e5e94-41d7-44bb-b293-eb5bcbc4229d",
   "metadata": {
    "editable": true,
    "slideshow": {
     "slide_type": ""
    },
    "tags": []
   },
   "outputs": [],
   "source": [
    "import os\n",
    "import re\n",
    "import zipfile\n",
    "from pathlib import Path\n",
    "\n",
    "import geopandas\n",
    "import pandas as pd\n",
    "import shapely"
   ]
  },
  {
   "cell_type": "code",
   "execution_count": 2,
   "id": "b61d7c5d-80da-4898-8b5e-4ca0ab3623e8",
   "metadata": {
    "editable": true,
    "slideshow": {
     "slide_type": ""
    },
    "tags": []
   },
   "outputs": [
    {
     "name": "stdout",
     "output_type": "stream",
     "text": [
      "/home/pyuser/workspace/data\n"
     ]
    }
   ],
   "source": [
    "DATA_PATH = Path().resolve().parent.parent.parent/\"data\"\n",
    "print(DATA_PATH)"
   ]
  },
  {
   "cell_type": "code",
   "execution_count": 3,
   "id": "0078c3f0-7140-4c48-b522-5c2964b9a2b0",
   "metadata": {
    "editable": true,
    "slideshow": {
     "slide_type": ""
    },
    "tags": []
   },
   "outputs": [
    {
     "name": "stdout",
     "output_type": "stream",
     "text": [
      "3809372\n"
     ]
    },
    {
     "data": {
      "text/html": [
       "<div>\n",
       "<style scoped>\n",
       "    .dataframe tbody tr th:only-of-type {\n",
       "        vertical-align: middle;\n",
       "    }\n",
       "\n",
       "    .dataframe tbody tr th {\n",
       "        vertical-align: top;\n",
       "    }\n",
       "\n",
       "    .dataframe thead th {\n",
       "        text-align: right;\n",
       "    }\n",
       "</style>\n",
       "<table border=\"1\" class=\"dataframe\">\n",
       "  <thead>\n",
       "    <tr style=\"text-align: right;\">\n",
       "      <th></th>\n",
       "      <th>Dico</th>\n",
       "      <th>ILHA</th>\n",
       "      <th>N_FREGUESI</th>\n",
       "      <th>NUT1_DSG</th>\n",
       "      <th>NUT2_DSG</th>\n",
       "      <th>NUT3_DSG</th>\n",
       "      <th>AREA_HA</th>\n",
       "      <th>MUNICIPIO</th>\n",
       "      <th>Ilha_1</th>\n",
       "      <th>geometry</th>\n",
       "    </tr>\n",
       "  </thead>\n",
       "  <tbody>\n",
       "    <tr>\n",
       "      <th>0</th>\n",
       "      <td>4301</td>\n",
       "      <td>ILHA TERCEIRA (AÇORES)</td>\n",
       "      <td>19</td>\n",
       "      <td>REGIÃO AUTÓNOMA DOS AÇORES</td>\n",
       "      <td>REGIÃO AUTÓNOMA DOS AÇORES</td>\n",
       "      <td>REGIÃO AUTÓNOMA DOS AÇORES</td>\n",
       "      <td>23899.66</td>\n",
       "      <td>ANGRA DO HEROÍSMO</td>\n",
       "      <td>None</td>\n",
       "      <td>MULTIPOLYGON (((476244.715 4294864.237, 476268...</td>\n",
       "    </tr>\n",
       "    <tr>\n",
       "      <th>1</th>\n",
       "      <td>4302</td>\n",
       "      <td>ILHA TERCEIRA (AÇORES)</td>\n",
       "      <td>11</td>\n",
       "      <td>REGIÃO AUTÓNOMA DOS AÇORES</td>\n",
       "      <td>REGIÃO AUTÓNOMA DOS AÇORES</td>\n",
       "      <td>REGIÃO AUTÓNOMA DOS AÇORES</td>\n",
       "      <td>16127.06</td>\n",
       "      <td>PRAIA DA VITÓRIA</td>\n",
       "      <td>None</td>\n",
       "      <td>MULTIPOLYGON (((477611.616 4294952.730, 477610...</td>\n",
       "    </tr>\n",
       "    <tr>\n",
       "      <th>2</th>\n",
       "      <td>4401</td>\n",
       "      <td>ILHA DA GRACIOSA (AÇORES)</td>\n",
       "      <td>4</td>\n",
       "      <td>REGIÃO AUTÓNOMA DOS AÇORES</td>\n",
       "      <td>REGIÃO AUTÓNOMA DOS AÇORES</td>\n",
       "      <td>REGIÃO AUTÓNOMA DOS AÇORES</td>\n",
       "      <td>6065.78</td>\n",
       "      <td>SANTA CRUZ DA GRACIOSA</td>\n",
       "      <td>None</td>\n",
       "      <td>MULTIPOLYGON (((411000.327 4327966.149, 411001...</td>\n",
       "    </tr>\n",
       "    <tr>\n",
       "      <th>3</th>\n",
       "      <td>4501</td>\n",
       "      <td>ILHA DE SÃO JORGE (AÇORES)</td>\n",
       "      <td>5</td>\n",
       "      <td>REGIÃO AUTÓNOMA DOS AÇORES</td>\n",
       "      <td>REGIÃO AUTÓNOMA DOS AÇORES</td>\n",
       "      <td>REGIÃO AUTÓNOMA DOS AÇORES</td>\n",
       "      <td>12626.40</td>\n",
       "      <td>CALHETA DE S. JORGE</td>\n",
       "      <td>None</td>\n",
       "      <td>MULTIPOLYGON (((412150.957 4279935.107, 412172...</td>\n",
       "    </tr>\n",
       "    <tr>\n",
       "      <th>4</th>\n",
       "      <td>4502</td>\n",
       "      <td>ILHA DE SÃO JORGE (AÇORES)</td>\n",
       "      <td>6</td>\n",
       "      <td>REGIÃO AUTÓNOMA DOS AÇORES</td>\n",
       "      <td>REGIÃO AUTÓNOMA DOS AÇORES</td>\n",
       "      <td>REGIÃO AUTÓNOMA DOS AÇORES</td>\n",
       "      <td>11738.38</td>\n",
       "      <td>VELAS</td>\n",
       "      <td>None</td>\n",
       "      <td>MULTIPOLYGON (((385605.028 4290516.349, 385603...</td>\n",
       "    </tr>\n",
       "  </tbody>\n",
       "</table>\n",
       "</div>"
      ],
      "text/plain": [
       "   Dico                        ILHA N_FREGUESI                    NUT1_DSG  \\\n",
       "0  4301      ILHA TERCEIRA (AÇORES)         19  REGIÃO AUTÓNOMA DOS AÇORES   \n",
       "1  4302      ILHA TERCEIRA (AÇORES)         11  REGIÃO AUTÓNOMA DOS AÇORES   \n",
       "2  4401   ILHA DA GRACIOSA (AÇORES)          4  REGIÃO AUTÓNOMA DOS AÇORES   \n",
       "3  4501  ILHA DE SÃO JORGE (AÇORES)          5  REGIÃO AUTÓNOMA DOS AÇORES   \n",
       "4  4502  ILHA DE SÃO JORGE (AÇORES)          6  REGIÃO AUTÓNOMA DOS AÇORES   \n",
       "\n",
       "                     NUT2_DSG                    NUT3_DSG   AREA_HA  \\\n",
       "0  REGIÃO AUTÓNOMA DOS AÇORES  REGIÃO AUTÓNOMA DOS AÇORES  23899.66   \n",
       "1  REGIÃO AUTÓNOMA DOS AÇORES  REGIÃO AUTÓNOMA DOS AÇORES  16127.06   \n",
       "2  REGIÃO AUTÓNOMA DOS AÇORES  REGIÃO AUTÓNOMA DOS AÇORES   6065.78   \n",
       "3  REGIÃO AUTÓNOMA DOS AÇORES  REGIÃO AUTÓNOMA DOS AÇORES  12626.40   \n",
       "4  REGIÃO AUTÓNOMA DOS AÇORES  REGIÃO AUTÓNOMA DOS AÇORES  11738.38   \n",
       "\n",
       "                MUNICIPIO Ilha_1  \\\n",
       "0       ANGRA DO HEROÍSMO   None   \n",
       "1        PRAIA DA VITÓRIA   None   \n",
       "2  SANTA CRUZ DA GRACIOSA   None   \n",
       "3     CALHETA DE S. JORGE   None   \n",
       "4                   VELAS   None   \n",
       "\n",
       "                                            geometry  \n",
       "0  MULTIPOLYGON (((476244.715 4294864.237, 476268...  \n",
       "1  MULTIPOLYGON (((477611.616 4294952.730, 477610...  \n",
       "2  MULTIPOLYGON (((411000.327 4327966.149, 411001...  \n",
       "3  MULTIPOLYGON (((412150.957 4279935.107, 412172...  \n",
       "4  MULTIPOLYGON (((385605.028 4290516.349, 385603...  "
      ]
     },
     "execution_count": 3,
     "metadata": {},
     "output_type": "execute_result"
    }
   ],
   "source": [
    "target = DATA_PATH/\"datasets\"/\"geojson\"/\"acores_central_concelhos.geojson\"\n",
    "\n",
    "raw_size = os.path.getsize(target)\n",
    "raw_geojson = geopandas.read_file(target)\n",
    "print(raw_size)\n",
    "raw_geojson.head()"
   ]
  },
  {
   "cell_type": "markdown",
   "id": "46e9d532-ba9d-4d6d-8ea9-d2f683db3584",
   "metadata": {},
   "source": [
    "## Reduce/optimize types of features"
   ]
  },
  {
   "cell_type": "code",
   "execution_count": 4,
   "id": "d88b3cfa-2e6b-41f8-9d91-c09de4201785",
   "metadata": {},
   "outputs": [
    {
     "data": {
      "text/html": [
       "<div>\n",
       "<style scoped>\n",
       "    .dataframe tbody tr th:only-of-type {\n",
       "        vertical-align: middle;\n",
       "    }\n",
       "\n",
       "    .dataframe tbody tr th {\n",
       "        vertical-align: top;\n",
       "    }\n",
       "\n",
       "    .dataframe thead th {\n",
       "        text-align: right;\n",
       "    }\n",
       "</style>\n",
       "<table border=\"1\" class=\"dataframe\">\n",
       "  <thead>\n",
       "    <tr style=\"text-align: right;\">\n",
       "      <th></th>\n",
       "      <th>Dico</th>\n",
       "      <th>ILHA</th>\n",
       "      <th>N_FREGUESI</th>\n",
       "      <th>NUT1_DSG</th>\n",
       "      <th>AREA_HA</th>\n",
       "      <th>MUNICIPIO</th>\n",
       "      <th>geometry</th>\n",
       "    </tr>\n",
       "  </thead>\n",
       "  <tbody>\n",
       "    <tr>\n",
       "      <th>0</th>\n",
       "      <td>4301</td>\n",
       "      <td>ILHA TERCEIRA (AÇORES)</td>\n",
       "      <td>19</td>\n",
       "      <td>REGIÃO AUTÓNOMA DOS AÇORES</td>\n",
       "      <td>23899.66</td>\n",
       "      <td>ANGRA DO HEROÍSMO</td>\n",
       "      <td>MULTIPOLYGON (((476244.715 4294864.237, 476268...</td>\n",
       "    </tr>\n",
       "    <tr>\n",
       "      <th>1</th>\n",
       "      <td>4302</td>\n",
       "      <td>ILHA TERCEIRA (AÇORES)</td>\n",
       "      <td>11</td>\n",
       "      <td>REGIÃO AUTÓNOMA DOS AÇORES</td>\n",
       "      <td>16127.06</td>\n",
       "      <td>PRAIA DA VITÓRIA</td>\n",
       "      <td>MULTIPOLYGON (((477611.616 4294952.730, 477610...</td>\n",
       "    </tr>\n",
       "    <tr>\n",
       "      <th>2</th>\n",
       "      <td>4401</td>\n",
       "      <td>ILHA DA GRACIOSA (AÇORES)</td>\n",
       "      <td>4</td>\n",
       "      <td>REGIÃO AUTÓNOMA DOS AÇORES</td>\n",
       "      <td>6065.78</td>\n",
       "      <td>SANTA CRUZ DA GRACIOSA</td>\n",
       "      <td>MULTIPOLYGON (((411000.327 4327966.149, 411001...</td>\n",
       "    </tr>\n",
       "    <tr>\n",
       "      <th>3</th>\n",
       "      <td>4501</td>\n",
       "      <td>ILHA DE SÃO JORGE (AÇORES)</td>\n",
       "      <td>5</td>\n",
       "      <td>REGIÃO AUTÓNOMA DOS AÇORES</td>\n",
       "      <td>12626.40</td>\n",
       "      <td>CALHETA DE S. JORGE</td>\n",
       "      <td>MULTIPOLYGON (((412150.957 4279935.107, 412172...</td>\n",
       "    </tr>\n",
       "    <tr>\n",
       "      <th>4</th>\n",
       "      <td>4502</td>\n",
       "      <td>ILHA DE SÃO JORGE (AÇORES)</td>\n",
       "      <td>6</td>\n",
       "      <td>REGIÃO AUTÓNOMA DOS AÇORES</td>\n",
       "      <td>11738.38</td>\n",
       "      <td>VELAS</td>\n",
       "      <td>MULTIPOLYGON (((385605.028 4290516.349, 385603...</td>\n",
       "    </tr>\n",
       "  </tbody>\n",
       "</table>\n",
       "</div>"
      ],
      "text/plain": [
       "   Dico                        ILHA N_FREGUESI                    NUT1_DSG  \\\n",
       "0  4301      ILHA TERCEIRA (AÇORES)         19  REGIÃO AUTÓNOMA DOS AÇORES   \n",
       "1  4302      ILHA TERCEIRA (AÇORES)         11  REGIÃO AUTÓNOMA DOS AÇORES   \n",
       "2  4401   ILHA DA GRACIOSA (AÇORES)          4  REGIÃO AUTÓNOMA DOS AÇORES   \n",
       "3  4501  ILHA DE SÃO JORGE (AÇORES)          5  REGIÃO AUTÓNOMA DOS AÇORES   \n",
       "4  4502  ILHA DE SÃO JORGE (AÇORES)          6  REGIÃO AUTÓNOMA DOS AÇORES   \n",
       "\n",
       "    AREA_HA               MUNICIPIO  \\\n",
       "0  23899.66       ANGRA DO HEROÍSMO   \n",
       "1  16127.06        PRAIA DA VITÓRIA   \n",
       "2   6065.78  SANTA CRUZ DA GRACIOSA   \n",
       "3  12626.40     CALHETA DE S. JORGE   \n",
       "4  11738.38                   VELAS   \n",
       "\n",
       "                                            geometry  \n",
       "0  MULTIPOLYGON (((476244.715 4294864.237, 476268...  \n",
       "1  MULTIPOLYGON (((477611.616 4294952.730, 477610...  \n",
       "2  MULTIPOLYGON (((411000.327 4327966.149, 411001...  \n",
       "3  MULTIPOLYGON (((412150.957 4279935.107, 412172...  \n",
       "4  MULTIPOLYGON (((385605.028 4290516.349, 385603...  "
      ]
     },
     "execution_count": 4,
     "metadata": {},
     "output_type": "execute_result"
    }
   ],
   "source": [
    "feature_optimized_geojson = raw_geojson.drop(columns=[\"Ilha_1\", \"NUT2_DSG\", \"NUT3_DSG\"])\n",
    "feature_optimized_geojson.head()"
   ]
  },
  {
   "cell_type": "code",
   "execution_count": 5,
   "id": "f62a46c9-ea70-479c-a160-a6911a846e7f",
   "metadata": {
    "editable": true,
    "slideshow": {
     "slide_type": ""
    },
    "tags": []
   },
   "outputs": [],
   "source": [
    "feature_optimized_geojson.to_file(DATA_PATH/\"datasets\"/\"geojson\"/\"acores_central_concelhos_feature_optimized.geojson\", driver=\"GeoJSON\")"
   ]
  },
  {
   "cell_type": "code",
   "execution_count": 6,
   "id": "de8743d2-0cd2-4f96-a5c1-5b2de9a5b703",
   "metadata": {},
   "outputs": [
    {
     "name": "stdout",
     "output_type": "stream",
     "text": [
      "Optimized size: 3808418\n",
      "Decrease %: -0.02504\n"
     ]
    }
   ],
   "source": [
    "feature_optimized_size = os.path.getsize(DATA_PATH/\"datasets\"/\"geojson\"/\"acores_central_concelhos_feature_optimized.geojson\")\n",
    "print(\"Optimized size:\", feature_optimized_size)\n",
    "print(\"Decrease %:\", round(((feature_optimized_size/raw_size)-1)*100, 5))"
   ]
  },
  {
   "cell_type": "markdown",
   "id": "ab3969f8-a48b-4363-8c33-151abec8faa6",
   "metadata": {},
   "source": [
    "## Remove white space in file\n",
    "- columns of type string need attention to not remove space between words"
   ]
  },
  {
   "cell_type": "code",
   "execution_count": 7,
   "id": "486c2fbc-dcf9-467d-b406-aeb98c8389b5",
   "metadata": {},
   "outputs": [
    {
     "name": "stdout",
     "output_type": "stream",
     "text": [
      "2911002\n"
     ]
    },
    {
     "data": {
      "text/plain": [
       "'{\"type\": \"FeatureCollection\", \"features\": [{\"id\": \"0\", \"type\": \"Feature\", \"properties\": {\"Dico\": \"4301\", \"ILHA\": \"ILHA_TERCEIRA_(AÇORES)\", \"N_FREGUESI\": \"19\", \"NUT1_DSG\": \"REGIÃO_AUTÓNOMA_DOS_AÇORES\", \"NUT2_DSG\": \"REGIÃO_AUTÓNOMA_DOS_AÇORES\", \"NUT3_DSG\": \"REGIÃO_AUTÓNOMA_DOS_AÇORES\", \"AREA_HA\": \"23899.66\", \"MUNICIPIO\": \"ANGRA_DO_HEROÍSMO\", \"Ilha_1\": null}, \"geometry\": {\"type\": \"MultiPolygon\", \"coordinates\": [[[[476244.71494166786, 4294864.2366526285], [476268.4333811403, 4294860.226543266], [476286.96213518886, 4294860.726458786], [476313.25041803933, 4294854.236437442], [476338.7786414076, 4294847.236319872], [476348.8779605238, 4294845.236273366], [476362.3071012544, 4294845.236212132], [476365.09694130113, 4294844.726198705], [476367.6866903216, 4294843.736286588], [476370.52652228496, 4294842.226273765], [476372.936374672, 4294839.726262071], [476375.21623868047, 4294838.2362512555], [476378.4059562306, 4294837.726236863], [476383.9356430812, 4294837.726211553], [476406.6541632897,'"
      ]
     },
     "execution_count": 7,
     "metadata": {},
     "output_type": "execute_result"
    }
   ],
   "source": [
    "whitespace_optimized_geojson = raw_geojson.replace(\" \", \"_\", regex=True).to_json(ensure_ascii=False)\n",
    "print(len(whitespace_optimized_geojson))\n",
    "whitespace_optimized_geojson[:1000]"
   ]
  },
  {
   "cell_type": "code",
   "execution_count": 8,
   "id": "edf4b0af-7ee3-4140-8088-40843a6a19ad",
   "metadata": {},
   "outputs": [
    {
     "name": "stdout",
     "output_type": "stream",
     "text": [
      "2766529\n",
      "{\"type\":\"FeatureCollection\",\"features\":[{\"id\":\"0\",\"type\":\"Feature\",\"properties\":{\"Dico\":\"4301\",\"ILHA\":\"ILHA_TERCEIRA_(AÇORES)\",\"N_FREGUESI\":\"19\",\"NUT1_DSG\":\"REGIÃO_AUTÓNOMA_DOS_AÇORES\",\"NUT2_DSG\":\"REGIÃO_AUTÓNOMA_DOS_AÇORES\",\"NUT3_DSG\":\"REGIÃO_AUTÓNOMA_DOS_AÇORES\",\"AREA_HA\":\"23899.66\",\"MUNICIPIO\":\"ANGRA_DO_HEROÍSMO\",\"Ilha_1\":null},\"geometry\":{\"type\":\"MultiPolygon\",\"coordinates\":[[[[476244.71494166786,4294864.2366526285],[476268.4333811403,4294860.226543266],[476286.96213518886,4294860.726458786],[476313.25041803933,4294854.236437442],[476338.7786414076,4294847.236319872],[476348.8779605238,4294845.236273366],[476362.3071012544,4294845.236212132],[476365.09694130113,4294844.726198705],[476367.6866903216,4294843.736286588],[476370.52652228496,4294842.226273765],[476372.936374672,4294839.726262071],[476375.21623868047,4294838.2362512555],[476378.4059562306,4294837.726236863],[476383.9356430812,4294837.726211553],[476406.6541632897,4294838.726107615],[476415.05359588226,4294840.236069515],\n"
     ]
    }
   ],
   "source": [
    "optimized_file_str = re.sub(r\"\\s\", \"\", whitespace_optimized_geojson)\n",
    "\n",
    "print(len(optimized_file_str))\n",
    "print(optimized_file_str[:1000])"
   ]
  },
  {
   "cell_type": "code",
   "execution_count": 9,
   "id": "977db139-ec53-4fbb-9291-382b73185ff4",
   "metadata": {
    "editable": true,
    "slideshow": {
     "slide_type": ""
    },
    "tags": []
   },
   "outputs": [],
   "source": [
    "with open(DATA_PATH/\"datasets\"/\"geojson\"/\"acores_central_concelhos_whitespace_optimized.geojson\", \"w\") as text_file:\n",
    "    text_file.write(optimized_file_str)"
   ]
  },
  {
   "cell_type": "code",
   "execution_count": 10,
   "id": "a58a803b-5a8d-42a7-bb78-4747614fb71f",
   "metadata": {},
   "outputs": [
    {
     "name": "stdout",
     "output_type": "stream",
     "text": [
      "Optimized size: 2766624\n",
      "Decrease %: -27.37323\n"
     ]
    }
   ],
   "source": [
    "whitespace_optimized_size = os.path.getsize(DATA_PATH/\"datasets\"/\"geojson\"/\"acores_central_concelhos_whitespace_optimized.geojson\")\n",
    "print(\"Optimized size:\", whitespace_optimized_size)\n",
    "print(\"Decrease %:\", round(((whitespace_optimized_size/raw_size)-1)*100, 5))"
   ]
  },
  {
   "cell_type": "markdown",
   "id": "c15e9c14-329a-4bec-a181-e61d8d67cca0",
   "metadata": {
    "editable": true,
    "slideshow": {
     "slide_type": ""
    },
    "tags": []
   },
   "source": [
    "## Reduce decimal precision of points\n",
    "- based on answer https://gis.stackexchange.com/a/476234\n",
    "- using [shapely.set_precision()](https://shapely.readthedocs.io/en/stable/reference/shapely.set_precision.html#shapely.set_precision)\n",
    "- more about precison on https://xkcd.com/2170/"
   ]
  },
  {
   "cell_type": "code",
   "execution_count": 11,
   "id": "f85ae030-8341-4974-ad91-f7206c126332",
   "metadata": {},
   "outputs": [
    {
     "data": {
      "text/html": [
       "<div>\n",
       "<style scoped>\n",
       "    .dataframe tbody tr th:only-of-type {\n",
       "        vertical-align: middle;\n",
       "    }\n",
       "\n",
       "    .dataframe tbody tr th {\n",
       "        vertical-align: top;\n",
       "    }\n",
       "\n",
       "    .dataframe thead th {\n",
       "        text-align: right;\n",
       "    }\n",
       "</style>\n",
       "<table border=\"1\" class=\"dataframe\">\n",
       "  <thead>\n",
       "    <tr style=\"text-align: right;\">\n",
       "      <th></th>\n",
       "      <th>Dico</th>\n",
       "      <th>ILHA</th>\n",
       "      <th>N_FREGUESI</th>\n",
       "      <th>NUT1_DSG</th>\n",
       "      <th>NUT2_DSG</th>\n",
       "      <th>NUT3_DSG</th>\n",
       "      <th>AREA_HA</th>\n",
       "      <th>MUNICIPIO</th>\n",
       "      <th>Ilha_1</th>\n",
       "      <th>geometry</th>\n",
       "    </tr>\n",
       "  </thead>\n",
       "  <tbody>\n",
       "    <tr>\n",
       "      <th>0</th>\n",
       "      <td>4301</td>\n",
       "      <td>ILHA TERCEIRA (AÇORES)</td>\n",
       "      <td>19</td>\n",
       "      <td>REGIÃO AUTÓNOMA DOS AÇORES</td>\n",
       "      <td>REGIÃO AUTÓNOMA DOS AÇORES</td>\n",
       "      <td>REGIÃO AUTÓNOMA DOS AÇORES</td>\n",
       "      <td>23899.66</td>\n",
       "      <td>ANGRA DO HEROÍSMO</td>\n",
       "      <td>None</td>\n",
       "      <td>POLYGON ((476268.433 4294860.227, 476286.962 4...</td>\n",
       "    </tr>\n",
       "    <tr>\n",
       "      <th>1</th>\n",
       "      <td>4302</td>\n",
       "      <td>ILHA TERCEIRA (AÇORES)</td>\n",
       "      <td>11</td>\n",
       "      <td>REGIÃO AUTÓNOMA DOS AÇORES</td>\n",
       "      <td>REGIÃO AUTÓNOMA DOS AÇORES</td>\n",
       "      <td>REGIÃO AUTÓNOMA DOS AÇORES</td>\n",
       "      <td>16127.06</td>\n",
       "      <td>PRAIA DA VITÓRIA</td>\n",
       "      <td>None</td>\n",
       "      <td>POLYGON ((477610.056 4294950.230, 477609.116 4...</td>\n",
       "    </tr>\n",
       "    <tr>\n",
       "      <th>2</th>\n",
       "      <td>4401</td>\n",
       "      <td>ILHA DA GRACIOSA (AÇORES)</td>\n",
       "      <td>4</td>\n",
       "      <td>REGIÃO AUTÓNOMA DOS AÇORES</td>\n",
       "      <td>REGIÃO AUTÓNOMA DOS AÇORES</td>\n",
       "      <td>REGIÃO AUTÓNOMA DOS AÇORES</td>\n",
       "      <td>6065.78</td>\n",
       "      <td>SANTA CRUZ DA GRACIOSA</td>\n",
       "      <td>None</td>\n",
       "      <td>POLYGON ((411001.887 4327964.159, 411002.886 4...</td>\n",
       "    </tr>\n",
       "    <tr>\n",
       "      <th>3</th>\n",
       "      <td>4501</td>\n",
       "      <td>ILHA DE SÃO JORGE (AÇORES)</td>\n",
       "      <td>5</td>\n",
       "      <td>REGIÃO AUTÓNOMA DOS AÇORES</td>\n",
       "      <td>REGIÃO AUTÓNOMA DOS AÇORES</td>\n",
       "      <td>REGIÃO AUTÓNOMA DOS AÇORES</td>\n",
       "      <td>12626.40</td>\n",
       "      <td>CALHETA DE S. JORGE</td>\n",
       "      <td>None</td>\n",
       "      <td>POLYGON ((412172.735 4279930.607, 412193.384 4...</td>\n",
       "    </tr>\n",
       "    <tr>\n",
       "      <th>4</th>\n",
       "      <td>4502</td>\n",
       "      <td>ILHA DE SÃO JORGE (AÇORES)</td>\n",
       "      <td>6</td>\n",
       "      <td>REGIÃO AUTÓNOMA DOS AÇORES</td>\n",
       "      <td>REGIÃO AUTÓNOMA DOS AÇORES</td>\n",
       "      <td>REGIÃO AUTÓNOMA DOS AÇORES</td>\n",
       "      <td>11738.38</td>\n",
       "      <td>VELAS</td>\n",
       "      <td>None</td>\n",
       "      <td>POLYGON ((385603.838 4290513.349, 385603.808 4...</td>\n",
       "    </tr>\n",
       "  </tbody>\n",
       "</table>\n",
       "</div>"
      ],
      "text/plain": [
       "   Dico                        ILHA N_FREGUESI                    NUT1_DSG  \\\n",
       "0  4301      ILHA TERCEIRA (AÇORES)         19  REGIÃO AUTÓNOMA DOS AÇORES   \n",
       "1  4302      ILHA TERCEIRA (AÇORES)         11  REGIÃO AUTÓNOMA DOS AÇORES   \n",
       "2  4401   ILHA DA GRACIOSA (AÇORES)          4  REGIÃO AUTÓNOMA DOS AÇORES   \n",
       "3  4501  ILHA DE SÃO JORGE (AÇORES)          5  REGIÃO AUTÓNOMA DOS AÇORES   \n",
       "4  4502  ILHA DE SÃO JORGE (AÇORES)          6  REGIÃO AUTÓNOMA DOS AÇORES   \n",
       "\n",
       "                     NUT2_DSG                    NUT3_DSG   AREA_HA  \\\n",
       "0  REGIÃO AUTÓNOMA DOS AÇORES  REGIÃO AUTÓNOMA DOS AÇORES  23899.66   \n",
       "1  REGIÃO AUTÓNOMA DOS AÇORES  REGIÃO AUTÓNOMA DOS AÇORES  16127.06   \n",
       "2  REGIÃO AUTÓNOMA DOS AÇORES  REGIÃO AUTÓNOMA DOS AÇORES   6065.78   \n",
       "3  REGIÃO AUTÓNOMA DOS AÇORES  REGIÃO AUTÓNOMA DOS AÇORES  12626.40   \n",
       "4  REGIÃO AUTÓNOMA DOS AÇORES  REGIÃO AUTÓNOMA DOS AÇORES  11738.38   \n",
       "\n",
       "                MUNICIPIO Ilha_1  \\\n",
       "0       ANGRA DO HEROÍSMO   None   \n",
       "1        PRAIA DA VITÓRIA   None   \n",
       "2  SANTA CRUZ DA GRACIOSA   None   \n",
       "3     CALHETA DE S. JORGE   None   \n",
       "4                   VELAS   None   \n",
       "\n",
       "                                            geometry  \n",
       "0  POLYGON ((476268.433 4294860.227, 476286.962 4...  \n",
       "1  POLYGON ((477610.056 4294950.230, 477609.116 4...  \n",
       "2  POLYGON ((411001.887 4327964.159, 411002.886 4...  \n",
       "3  POLYGON ((412172.735 4279930.607, 412193.384 4...  \n",
       "4  POLYGON ((385603.838 4290513.349, 385603.808 4...  "
      ]
     },
     "execution_count": 11,
     "metadata": {},
     "output_type": "execute_result"
    }
   ],
   "source": [
    "geometry_optimized_geojson = raw_geojson.assign(geometry=lambda x: shapely.set_precision(x[\"geometry\"], grid_size=0.000001))\n",
    "geometry_optimized_geojson.head()"
   ]
  },
  {
   "cell_type": "code",
   "execution_count": 12,
   "id": "20d57809-d0f0-45ff-9f24-ad3c08fec330",
   "metadata": {},
   "outputs": [],
   "source": [
    "geometry_optimized_geojson.to_file(DATA_PATH/\"datasets\"/\"geojson\"/\"acores_central_concelhos_precision_optimized.geojson\", driver=\"GeoJSON\")"
   ]
  },
  {
   "cell_type": "code",
   "execution_count": 13,
   "id": "a2edd5be-e6c1-4aec-910c-59f006fcbc49",
   "metadata": {},
   "outputs": [
    {
     "name": "stdout",
     "output_type": "stream",
     "text": [
      "Optimized size: 3455216\n",
      "Decrease %: 24.88925\n"
     ]
    }
   ],
   "source": [
    "geometry_optimized_size = os.path.getsize(DATA_PATH/\"datasets\"/\"geojson\"/\"acores_central_concelhos_precision_optimized.geojson\")\n",
    "print(\"Optimized size:\", geometry_optimized_size)\n",
    "print(\"Decrease %:\", round(((geometry_optimized_size/whitespace_optimized_size)-1)*100, 5))"
   ]
  },
  {
   "cell_type": "markdown",
   "id": "3b27b651-1f90-40b5-a09c-550c764e19ba",
   "metadata": {},
   "source": [
    "## Compress geojson with zip\n",
    "- geopandas can decompress zip but not gzip"
   ]
  },
  {
   "cell_type": "code",
   "execution_count": 14,
   "id": "1b19432a-174d-4c9f-b24d-d8cbca073234",
   "metadata": {},
   "outputs": [],
   "source": [
    "with open(target, 'r') as f_in:\n",
    "    with zipfile.ZipFile(DATA_PATH/\"datasets\"/\"geojson\"/\"acores_central_concelhos_compressed_optimized.geojson.zip\", mode=\"w\", compression=zipfile.ZIP_DEFLATED) as archive:\n",
    "        archive.writestr(\"acores_central_concelhos_compressed_optimized.geojson\", f_in.read())"
   ]
  },
  {
   "cell_type": "code",
   "execution_count": 15,
   "id": "e4f7ff49-9236-4229-8b31-c916948a7a3e",
   "metadata": {},
   "outputs": [
    {
     "name": "stdout",
     "output_type": "stream",
     "text": [
      "Optimized size: 1535482\n",
      "Decrease %: -59.69199\n"
     ]
    }
   ],
   "source": [
    "compressed_optimized_size = os.path.getsize(DATA_PATH/\"datasets\"/\"geojson\"/\"acores_central_concelhos_compressed_optimized.geojson.zip\")\n",
    "print(\"Optimized size:\", compressed_optimized_size)\n",
    "print(\"Decrease %:\", round(((compressed_optimized_size/raw_size)-1)*100, 5))"
   ]
  },
  {
   "cell_type": "markdown",
   "id": "3027ab52-6cf0-4bb2-9831-fc6a212b37aa",
   "metadata": {},
   "source": [
    "## Combining methods"
   ]
  },
  {
   "cell_type": "code",
   "execution_count": 16,
   "id": "70f4b88f-3aca-4beb-9dd7-1b56c5218893",
   "metadata": {
    "editable": true,
    "slideshow": {
     "slide_type": ""
    },
    "tags": []
   },
   "outputs": [],
   "source": [
    "def write_optimized_geojson(\n",
    "    raw_geojson,\n",
    "    output_file,\n",
    "    precision=None,\n",
    "    features=None,\n",
    "    remove_whitespace=True,\n",
    "    zip=True,\n",
    "):\n",
    "\n",
    "    if not isinstance(output_file, Path):\n",
    "        raise TypeError(\"output_file should be an instance of Path\")\n",
    "    geojson = raw_geojson.copy()\n",
    "\n",
    "    if precision:\n",
    "        geojson[\"geometry\"] = shapely.set_precision(\n",
    "            geojson[\"geometry\"], grid_size=precision\n",
    "        )\n",
    "\n",
    "    if features:\n",
    "        geojson = geojson.drop(columns=features)\n",
    "\n",
    "    if remove_whitespace:\n",
    "        geojson_string = re.sub(\n",
    "            r\"\\s\", \"\", geojson.replace(\" \", \"_\", regex=True).to_json(ensure_ascii=False)\n",
    "        )\n",
    "    else:\n",
    "        geojson_string = geojson.to_json(ensure_ascii=False)\n",
    "\n",
    "    if zip:\n",
    "        _zip_name = output_file.with_suffix(output_file.suffix + \".zip\")\n",
    "        with zipfile.ZipFile(\n",
    "            _zip_name, mode=\"w\", compression=zipfile.ZIP_DEFLATED\n",
    "        ) as zf:\n",
    "            zf.writestr(output_file.name, geojson_string)\n",
    "    else:\n",
    "        with open(output_file, \"w\") as text_file:\n",
    "            text_file.write(geojson_string)\n",
    "\n",
    "write_optimized_geojson(\n",
    "    raw_geojson,\n",
    "    DATA_PATH/\"datasets\"/\"geojson\"/\"acores_central_concelhos_full_optimized.geojson\",\n",
    "    precision=0.000001,\n",
    "    features=[\"Ilha_1\", \"NUT2_DSG\", \"NUT3_DSG\"]\n",
    ")"
   ]
  },
  {
   "cell_type": "code",
   "execution_count": 17,
   "id": "885c9278-6ba2-4139-ac9d-ff0b5406d4f5",
   "metadata": {},
   "outputs": [
    {
     "name": "stdout",
     "output_type": "stream",
     "text": [
      "Optimized size: 881574\n",
      "Decrease %: -76.85776\n"
     ]
    }
   ],
   "source": [
    "full_optimized_size = os.path.getsize(DATA_PATH/\"datasets\"/\"geojson\"/\"acores_central_concelhos_full_optimized.geojson.zip\")\n",
    "print(\"Optimized size:\", full_optimized_size)\n",
    "print(\"Decrease %:\", round(((full_optimized_size/raw_size)-1)*100, 5))"
   ]
  }
 ],
 "metadata": {
  "kernelspec": {
   "display_name": "Python 3 (ipykernel)",
   "language": "python",
   "name": "python3"
  },
  "language_info": {
   "codemirror_mode": {
    "name": "ipython",
    "version": 3
   },
   "file_extension": ".py",
   "mimetype": "text/x-python",
   "name": "python",
   "nbconvert_exporter": "python",
   "pygments_lexer": "ipython3",
   "version": "3.11.9"
  }
 },
 "nbformat": 4,
 "nbformat_minor": 5
}
