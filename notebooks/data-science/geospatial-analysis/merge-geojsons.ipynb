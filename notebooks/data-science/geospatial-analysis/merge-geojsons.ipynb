{
 "cells": [
  {
   "cell_type": "markdown",
   "metadata": {
    "editable": true,
    "slideshow": {
     "slide_type": ""
    },
    "tags": []
   },
   "source": [
    "# Merge two or more geojsons files\n",
    "- [geopandas.org](https://geopandas.org/en/stable/index.html)\n",
    "- [folium](https://python-visualization.github.io/folium/index.html)"
   ]
  },
  {
   "cell_type": "code",
   "execution_count": 1,
   "metadata": {
    "editable": true,
    "slideshow": {
     "slide_type": ""
    },
    "tags": []
   },
   "outputs": [],
   "source": [
    "from pathlib import Path\n",
    "\n",
    "import folium\n",
    "import geopandas\n",
    "import pandas as pd\n",
    "from branca.element import Figure"
   ]
  },
  {
   "cell_type": "code",
   "execution_count": 2,
   "metadata": {
    "tags": []
   },
   "outputs": [
    {
     "name": "stdout",
     "output_type": "stream",
     "text": [
      "/home/pyuser/workspace/data\n"
     ]
    }
   ],
   "source": [
    "DATA_PATH = Path().resolve().parent.parent.parent/\"data\"\n",
    "print(DATA_PATH)"
   ]
  },
  {
   "cell_type": "markdown",
   "metadata": {},
   "source": [
    "## Load data"
   ]
  },
  {
   "cell_type": "code",
   "execution_count": 3,
   "metadata": {
    "editable": true,
    "slideshow": {
     "slide_type": ""
    },
    "tags": []
   },
   "outputs": [
    {
     "data": {
      "text/html": [
       "<div>\n",
       "<style scoped>\n",
       "    .dataframe tbody tr th:only-of-type {\n",
       "        vertical-align: middle;\n",
       "    }\n",
       "\n",
       "    .dataframe tbody tr th {\n",
       "        vertical-align: top;\n",
       "    }\n",
       "\n",
       "    .dataframe thead th {\n",
       "        text-align: right;\n",
       "    }\n",
       "</style>\n",
       "<table border=\"1\" class=\"dataframe\">\n",
       "  <thead>\n",
       "    <tr style=\"text-align: right;\">\n",
       "      <th></th>\n",
       "      <th>DI</th>\n",
       "      <th>Distrito</th>\n",
       "      <th>N_Freguesi</th>\n",
       "      <th>N_Concelho</th>\n",
       "      <th>Area_Ha</th>\n",
       "      <th>geometry</th>\n",
       "    </tr>\n",
       "  </thead>\n",
       "  <tbody>\n",
       "    <tr>\n",
       "      <th>0</th>\n",
       "      <td>01</td>\n",
       "      <td>AVEIRO</td>\n",
       "      <td>147</td>\n",
       "      <td>19</td>\n",
       "      <td>280094.16</td>\n",
       "      <td>MULTIPOLYGON (((-8.27202 41.06475, -8.26862 41...</td>\n",
       "    </tr>\n",
       "    <tr>\n",
       "      <th>1</th>\n",
       "      <td>02</td>\n",
       "      <td>BEJA</td>\n",
       "      <td>75</td>\n",
       "      <td>14</td>\n",
       "      <td>1026332.49</td>\n",
       "      <td>MULTIPOLYGON (((-7.28303 38.32993, -7.28298 38...</td>\n",
       "    </tr>\n",
       "    <tr>\n",
       "      <th>2</th>\n",
       "      <td>03</td>\n",
       "      <td>BRAGA</td>\n",
       "      <td>347</td>\n",
       "      <td>14</td>\n",
       "      <td>270610.54</td>\n",
       "      <td>MULTIPOLYGON (((-8.04964 41.81636, -8.04910 41...</td>\n",
       "    </tr>\n",
       "    <tr>\n",
       "      <th>3</th>\n",
       "      <td>04</td>\n",
       "      <td>BRAGANÇA</td>\n",
       "      <td>226</td>\n",
       "      <td>12</td>\n",
       "      <td>659853.71</td>\n",
       "      <td>MULTIPOLYGON (((-6.79998 41.98916, -6.79790 41...</td>\n",
       "    </tr>\n",
       "    <tr>\n",
       "      <th>4</th>\n",
       "      <td>05</td>\n",
       "      <td>CASTELO BRANCO</td>\n",
       "      <td>120</td>\n",
       "      <td>11</td>\n",
       "      <td>662747.31</td>\n",
       "      <td>MULTIPOLYGON (((-7.29277 40.41613, -7.29026 40...</td>\n",
       "    </tr>\n",
       "  </tbody>\n",
       "</table>\n",
       "</div>"
      ],
      "text/plain": [
       "   DI        Distrito N_Freguesi N_Concelho     Area_Ha  \\\n",
       "0  01          AVEIRO        147         19   280094.16   \n",
       "1  02            BEJA         75         14  1026332.49   \n",
       "2  03           BRAGA        347         14   270610.54   \n",
       "3  04        BRAGANÇA        226         12   659853.71   \n",
       "4  05  CASTELO BRANCO        120         11   662747.31   \n",
       "\n",
       "                                            geometry  \n",
       "0  MULTIPOLYGON (((-8.27202 41.06475, -8.26862 41...  \n",
       "1  MULTIPOLYGON (((-7.28303 38.32993, -7.28298 38...  \n",
       "2  MULTIPOLYGON (((-8.04964 41.81636, -8.04910 41...  \n",
       "3  MULTIPOLYGON (((-6.79998 41.98916, -6.79790 41...  \n",
       "4  MULTIPOLYGON (((-7.29277 40.41613, -7.29026 40...  "
      ]
     },
     "execution_count": 3,
     "metadata": {},
     "output_type": "execute_result"
    }
   ],
   "source": [
    "gdf_pt_continente_distritos = geopandas.read_file(\n",
    "        DATA_PATH/\"datasets\"/\"geojson\"/\"continente_distritos.geojson\"\n",
    ")\n",
    "gdf_pt_continente_distritos.head()"
   ]
  },
  {
   "cell_type": "code",
   "execution_count": 4,
   "metadata": {
    "editable": true,
    "slideshow": {
     "slide_type": ""
    },
    "tags": []
   },
   "outputs": [
    {
     "data": {
      "text/html": [
       "<div>\n",
       "<style scoped>\n",
       "    .dataframe tbody tr th:only-of-type {\n",
       "        vertical-align: middle;\n",
       "    }\n",
       "\n",
       "    .dataframe tbody tr th {\n",
       "        vertical-align: top;\n",
       "    }\n",
       "\n",
       "    .dataframe thead th {\n",
       "        text-align: right;\n",
       "    }\n",
       "</style>\n",
       "<table border=\"1\" class=\"dataframe\">\n",
       "  <thead>\n",
       "    <tr style=\"text-align: right;\">\n",
       "      <th></th>\n",
       "      <th>ID1</th>\n",
       "      <th>Codigo</th>\n",
       "      <th>Ilha</th>\n",
       "      <th>DI</th>\n",
       "      <th>N_Freguesi</th>\n",
       "      <th>Area_Ha</th>\n",
       "      <th>N_Municipi</th>\n",
       "      <th>geometry</th>\n",
       "    </tr>\n",
       "  </thead>\n",
       "  <tbody>\n",
       "    <tr>\n",
       "      <th>0</th>\n",
       "      <td>487</td>\n",
       "      <td>02010105</td>\n",
       "      <td>Ilha de Porto Santo (Madeira)</td>\n",
       "      <td>32</td>\n",
       "      <td>1</td>\n",
       "      <td>4300.80000</td>\n",
       "      <td>1</td>\n",
       "      <td>MULTIPOLYGON (((-16.28613 33.12429, -16.28620 ...</td>\n",
       "    </tr>\n",
       "    <tr>\n",
       "      <th>1</th>\n",
       "      <td>491</td>\n",
       "      <td>02010105</td>\n",
       "      <td>Ilha da Madeira (Madeira)</td>\n",
       "      <td>31</td>\n",
       "      <td>53</td>\n",
       "      <td>75850.90000</td>\n",
       "      <td>10</td>\n",
       "      <td>MULTIPOLYGON (((-17.16369 32.86912, -17.16372 ...</td>\n",
       "    </tr>\n",
       "  </tbody>\n",
       "</table>\n",
       "</div>"
      ],
      "text/plain": [
       "   ID1    Codigo                           Ilha  DI N_Freguesi      Area_Ha  \\\n",
       "0  487  02010105  Ilha de Porto Santo (Madeira)  32          1   4300.80000   \n",
       "1  491  02010105      Ilha da Madeira (Madeira)  31         53  75850.90000   \n",
       "\n",
       "  N_Municipi                                           geometry  \n",
       "0          1  MULTIPOLYGON (((-16.28613 33.12429, -16.28620 ...  \n",
       "1         10  MULTIPOLYGON (((-17.16369 32.86912, -17.16372 ...  "
      ]
     },
     "execution_count": 4,
     "metadata": {},
     "output_type": "execute_result"
    }
   ],
   "source": [
    "gdf_pt_madeira_ilhas = geopandas.read_file(\n",
    "        DATA_PATH/\"datasets\"/\"geojson\"/\"madeira_ilhas.geojson\"\n",
    ")\n",
    "gdf_pt_madeira_ilhas.head()"
   ]
  },
  {
   "cell_type": "code",
   "execution_count": 5,
   "metadata": {
    "editable": true,
    "slideshow": {
     "slide_type": ""
    },
    "tags": []
   },
   "outputs": [
    {
     "data": {
      "text/html": [
       "<div>\n",
       "<style scoped>\n",
       "    .dataframe tbody tr th:only-of-type {\n",
       "        vertical-align: middle;\n",
       "    }\n",
       "\n",
       "    .dataframe tbody tr th {\n",
       "        vertical-align: top;\n",
       "    }\n",
       "\n",
       "    .dataframe thead th {\n",
       "        text-align: right;\n",
       "    }\n",
       "</style>\n",
       "<table border=\"1\" class=\"dataframe\">\n",
       "  <thead>\n",
       "    <tr style=\"text-align: right;\">\n",
       "      <th></th>\n",
       "      <th>NUT1_COD</th>\n",
       "      <th>NUT1_DSG</th>\n",
       "      <th>N_FREGUESI</th>\n",
       "      <th>AREA_HA</th>\n",
       "      <th>geometry</th>\n",
       "    </tr>\n",
       "  </thead>\n",
       "  <tbody>\n",
       "    <tr>\n",
       "      <th>0</th>\n",
       "      <td>2</td>\n",
       "      <td>REGIÃO AUTÓNOMA DOS AÇORES</td>\n",
       "      <td>156</td>\n",
       "      <td>232196.24</td>\n",
       "      <td>MULTIPOLYGON (((-28.47257 38.56002, -28.47230 ...</td>\n",
       "    </tr>\n",
       "    <tr>\n",
       "      <th>1</th>\n",
       "      <td>2</td>\n",
       "      <td>REGIÃO AUTÓNOMA DOS AÇORES</td>\n",
       "      <td>156</td>\n",
       "      <td>232196.24</td>\n",
       "      <td>MULTIPOLYGON (((-31.20810 39.52441, -31.20795 ...</td>\n",
       "    </tr>\n",
       "    <tr>\n",
       "      <th>2</th>\n",
       "      <td>2</td>\n",
       "      <td>REGIÃO AUTÓNOMA DOS AÇORES</td>\n",
       "      <td>156</td>\n",
       "      <td>232196.24</td>\n",
       "      <td>MULTIPOLYGON (((-25.08858 37.01656, -25.08853 ...</td>\n",
       "    </tr>\n",
       "  </tbody>\n",
       "</table>\n",
       "</div>"
      ],
      "text/plain": [
       "  NUT1_COD                    NUT1_DSG N_FREGUESI    AREA_HA  \\\n",
       "0        2  REGIÃO AUTÓNOMA DOS AÇORES        156  232196.24   \n",
       "1        2  REGIÃO AUTÓNOMA DOS AÇORES        156  232196.24   \n",
       "2        2  REGIÃO AUTÓNOMA DOS AÇORES        156  232196.24   \n",
       "\n",
       "                                            geometry  \n",
       "0  MULTIPOLYGON (((-28.47257 38.56002, -28.47230 ...  \n",
       "1  MULTIPOLYGON (((-31.20810 39.52441, -31.20795 ...  \n",
       "2  MULTIPOLYGON (((-25.08858 37.01656, -25.08853 ...  "
      ]
     },
     "execution_count": 5,
     "metadata": {},
     "output_type": "execute_result"
    }
   ],
   "source": [
    "gdf_pt_acores_ilhas = geopandas.read_file(\n",
    "        DATA_PATH/\"datasets\"/\"geojson\"/\"acores_ilhas.geojson\"\n",
    ")\n",
    "gdf_pt_acores_ilhas.head()"
   ]
  },
  {
   "cell_type": "code",
   "execution_count": 6,
   "metadata": {},
   "outputs": [
    {
     "data": {
      "text/html": [
       "<div>\n",
       "<style scoped>\n",
       "    .dataframe tbody tr th:only-of-type {\n",
       "        vertical-align: middle;\n",
       "    }\n",
       "\n",
       "    .dataframe tbody tr th {\n",
       "        vertical-align: top;\n",
       "    }\n",
       "\n",
       "    .dataframe thead th {\n",
       "        text-align: right;\n",
       "    }\n",
       "</style>\n",
       "<table border=\"1\" class=\"dataframe\">\n",
       "  <thead>\n",
       "    <tr style=\"text-align: right;\">\n",
       "      <th></th>\n",
       "      <th>region</th>\n",
       "      <th>poblacion_</th>\n",
       "      <th>cartodb_id</th>\n",
       "      <th>name</th>\n",
       "      <th>geometry</th>\n",
       "    </tr>\n",
       "  </thead>\n",
       "  <tbody>\n",
       "    <tr>\n",
       "      <th>0</th>\n",
       "      <td>01</td>\n",
       "      <td>8424102</td>\n",
       "      <td>161</td>\n",
       "      <td>Andalusia</td>\n",
       "      <td>MULTIPOLYGON (((-3.03454 35.93810, -3.03539 35...</td>\n",
       "    </tr>\n",
       "    <tr>\n",
       "      <th>1</th>\n",
       "      <td>02</td>\n",
       "      <td>1346293</td>\n",
       "      <td>116</td>\n",
       "      <td>Aragon</td>\n",
       "      <td>POLYGON ((0.22035 41.07143, 0.21970 41.07074, ...</td>\n",
       "    </tr>\n",
       "    <tr>\n",
       "      <th>2</th>\n",
       "      <td>03</td>\n",
       "      <td>1113114</td>\n",
       "      <td>7</td>\n",
       "      <td>Ilhas Baleares</td>\n",
       "      <td>MULTIPOLYGON (((1.47914 38.71071, 1.47907 38.7...</td>\n",
       "    </tr>\n",
       "    <tr>\n",
       "      <th>3</th>\n",
       "      <td>04</td>\n",
       "      <td>2126769</td>\n",
       "      <td>73</td>\n",
       "      <td>Ilhas Canarias</td>\n",
       "      <td>MULTIPOLYGON (((-18.16100 27.71877, -18.16105 ...</td>\n",
       "    </tr>\n",
       "    <tr>\n",
       "      <th>4</th>\n",
       "      <td>05</td>\n",
       "      <td>593121</td>\n",
       "      <td>39</td>\n",
       "      <td>Cantabria</td>\n",
       "      <td>MULTIPOLYGON (((-3.26022 43.26358, -3.25673 43...</td>\n",
       "    </tr>\n",
       "  </tbody>\n",
       "</table>\n",
       "</div>"
      ],
      "text/plain": [
       "  region  poblacion_  cartodb_id            name  \\\n",
       "0     01     8424102         161       Andalusia   \n",
       "1     02     1346293         116          Aragon   \n",
       "2     03     1113114           7  Ilhas Baleares   \n",
       "3     04     2126769          73  Ilhas Canarias   \n",
       "4     05      593121          39       Cantabria   \n",
       "\n",
       "                                            geometry  \n",
       "0  MULTIPOLYGON (((-3.03454 35.93810, -3.03539 35...  \n",
       "1  POLYGON ((0.22035 41.07143, 0.21970 41.07074, ...  \n",
       "2  MULTIPOLYGON (((1.47914 38.71071, 1.47907 38.7...  \n",
       "3  MULTIPOLYGON (((-18.16100 27.71877, -18.16105 ...  \n",
       "4  MULTIPOLYGON (((-3.26022 43.26358, -3.25673 43...  "
      ]
     },
     "execution_count": 6,
     "metadata": {},
     "output_type": "execute_result"
    }
   ],
   "source": [
    "gdf_es_communities = geopandas.read_file(\n",
    "        DATA_PATH/\"datasets\"/\"geojson\"/\"spain_communities.geojson\"\n",
    ")\n",
    "gdf_es_communities.head()"
   ]
  },
  {
   "cell_type": "markdown",
   "metadata": {},
   "source": [
    "## Merge geojsons"
   ]
  },
  {
   "cell_type": "code",
   "execution_count": 7,
   "metadata": {},
   "outputs": [
    {
     "data": {
      "text/html": [
       "<div>\n",
       "<style scoped>\n",
       "    .dataframe tbody tr th:only-of-type {\n",
       "        vertical-align: middle;\n",
       "    }\n",
       "\n",
       "    .dataframe tbody tr th {\n",
       "        vertical-align: top;\n",
       "    }\n",
       "\n",
       "    .dataframe thead th {\n",
       "        text-align: right;\n",
       "    }\n",
       "</style>\n",
       "<table border=\"1\" class=\"dataframe\">\n",
       "  <thead>\n",
       "    <tr style=\"text-align: right;\">\n",
       "      <th></th>\n",
       "      <th>location</th>\n",
       "      <th>geometry</th>\n",
       "    </tr>\n",
       "  </thead>\n",
       "  <tbody>\n",
       "    <tr>\n",
       "      <th>0</th>\n",
       "      <td>Aveiro</td>\n",
       "      <td>MULTIPOLYGON (((-8.27202 41.06475, -8.26862 41...</td>\n",
       "    </tr>\n",
       "    <tr>\n",
       "      <th>1</th>\n",
       "      <td>Beja</td>\n",
       "      <td>MULTIPOLYGON (((-7.28303 38.32993, -7.28298 38...</td>\n",
       "    </tr>\n",
       "    <tr>\n",
       "      <th>2</th>\n",
       "      <td>Braga</td>\n",
       "      <td>MULTIPOLYGON (((-8.04964 41.81636, -8.04910 41...</td>\n",
       "    </tr>\n",
       "    <tr>\n",
       "      <th>3</th>\n",
       "      <td>Bragança</td>\n",
       "      <td>MULTIPOLYGON (((-6.79998 41.98916, -6.79790 41...</td>\n",
       "    </tr>\n",
       "    <tr>\n",
       "      <th>4</th>\n",
       "      <td>Castelo Branco</td>\n",
       "      <td>MULTIPOLYGON (((-7.29277 40.41613, -7.29026 40...</td>\n",
       "    </tr>\n",
       "  </tbody>\n",
       "</table>\n",
       "</div>"
      ],
      "text/plain": [
       "         location                                           geometry\n",
       "0          Aveiro  MULTIPOLYGON (((-8.27202 41.06475, -8.26862 41...\n",
       "1            Beja  MULTIPOLYGON (((-7.28303 38.32993, -7.28298 38...\n",
       "2           Braga  MULTIPOLYGON (((-8.04964 41.81636, -8.04910 41...\n",
       "3        Bragança  MULTIPOLYGON (((-6.79998 41.98916, -6.79790 41...\n",
       "4  Castelo Branco  MULTIPOLYGON (((-7.29277 40.41613, -7.29026 40..."
      ]
     },
     "execution_count": 7,
     "metadata": {},
     "output_type": "execute_result"
    }
   ],
   "source": [
    "merged_regions = (\n",
    "    pd.concat([\n",
    "        gdf_pt_continente_distritos.filter([\"Distrito\", \"geometry\"]).rename(columns={\"Distrito\": \"location\"}).to_crs(\"WGS 84\"),\n",
    "        gdf_pt_madeira_ilhas.filter([\"Ilha\", \"geometry\"]).rename(columns={\"Ilha\": \"location\"}).to_crs(\"WGS 84\"),\n",
    "        gdf_pt_acores_ilhas.filter([\"NUT1_DSG\", \"geometry\"]).rename(columns={\"NUT1_DSG\": \"location\"}).to_crs(\"WGS 84\"),\n",
    "        gdf_es_communities.filter([\"name\", \"geometry\"]).rename(columns={\"name\": \"location\"}).to_crs(\"WGS 84\")\n",
    "    ])\n",
    "    .assign(location=lambda x: x[\"location\"].str.normalize(\"NFKC\").str.title())\n",
    ")\n",
    "merged_regions.head()"
   ]
  },
  {
   "cell_type": "markdown",
   "metadata": {},
   "source": [
    "## Export data"
   ]
  },
  {
   "cell_type": "raw",
   "metadata": {
    "editable": true,
    "slideshow": {
     "slide_type": ""
    },
    "tags": []
   },
   "source": [
    "merged_regions.to_file(DATA_PATH/\"datasets\"/\"geojson\"/\"merged_pt_es_islands.geojson\", driver=\"GeoJSON\")"
   ]
  },
  {
   "cell_type": "markdown",
   "metadata": {},
   "source": [
    "## Extra: show on map using Folium"
   ]
  },
  {
   "cell_type": "raw",
   "metadata": {
    "editable": true,
    "slideshow": {
     "slide_type": ""
    },
    "tags": []
   },
   "source": [
    "fig = Figure(width=900, height=600)\n",
    "\n",
    "M = folium.Map(\n",
    "    location=(39.6945, -8.1305),\n",
    "    width=900,\n",
    "    height=600,\n",
    "    tiles=None, \n",
    "    zoom_start=5,\n",
    "    world_copy_jump=True,\n",
    "    control_scale=True,\n",
    ")\n",
    "\n",
    "fig.add_child(M)\n",
    "\n",
    "folium.raster_layers.TileLayer(\"cartodbpositron\", control=False).add_to(M)\n",
    "\n",
    "folium.GeoJson(\n",
    "    merged_regions, \n",
    "    name=\"merged_regions\",\n",
    "    show=True,\n",
    "    zoom_on_click=True,\n",
    ").add_to(M)\n",
    "\n",
    "folium.LayerControl().add_to(M)\n",
    "M"
   ]
  }
 ],
 "metadata": {
  "kernelspec": {
   "display_name": "Python 3 (ipykernel)",
   "language": "python",
   "name": "python3"
  },
  "language_info": {
   "codemirror_mode": {
    "name": "ipython",
    "version": 3
   },
   "file_extension": ".py",
   "mimetype": "text/x-python",
   "name": "python",
   "nbconvert_exporter": "python",
   "pygments_lexer": "ipython3",
   "version": "3.11.9"
  }
 },
 "nbformat": 4,
 "nbformat_minor": 4
}
