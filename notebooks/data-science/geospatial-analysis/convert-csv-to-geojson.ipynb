{
 "cells": [
  {
   "cell_type": "markdown",
   "id": "9722852d-5391-446e-a224-34836798f59a",
   "metadata": {},
   "source": [
    "# Convert csv to to geojson using geopandas\n",
    "- [geopandas.org](https://geopandas.org/en/stable/index.html)"
   ]
  },
  {
   "cell_type": "code",
   "execution_count": 1,
   "id": "bdd1662d-5a2b-4e50-ad38-a76173ea8cc2",
   "metadata": {},
   "outputs": [],
   "source": [
    "from pathlib import Path\n",
    "\n",
    "import geopandas\n",
    "import pandas as pd"
   ]
  },
  {
   "cell_type": "code",
   "execution_count": 2,
   "id": "d504728f-2517-4b8e-bcb1-9c5e83ad2a68",
   "metadata": {
    "editable": true,
    "slideshow": {
     "slide_type": ""
    },
    "tags": []
   },
   "outputs": [
    {
     "name": "stdout",
     "output_type": "stream",
     "text": [
      "/home/pyuser/workspace/data\n"
     ]
    }
   ],
   "source": [
    "DATA_PATH = Path().resolve().parent.parent.parent/\"data\"\n",
    "print(DATA_PATH)"
   ]
  },
  {
   "cell_type": "markdown",
   "id": "9d7db935-be06-441f-b5c2-0d0f0315c147",
   "metadata": {},
   "source": [
    "## read raw data from csv file"
   ]
  },
  {
   "cell_type": "code",
   "execution_count": 3,
   "id": "692bc32b-3559-4fd7-aa0e-99acb439d0c9",
   "metadata": {
    "editable": true,
    "slideshow": {
     "slide_type": ""
    },
    "tags": []
   },
   "outputs": [
    {
     "data": {
      "text/html": [
       "<div>\n",
       "<style scoped>\n",
       "    .dataframe tbody tr th:only-of-type {\n",
       "        vertical-align: middle;\n",
       "    }\n",
       "\n",
       "    .dataframe tbody tr th {\n",
       "        vertical-align: top;\n",
       "    }\n",
       "\n",
       "    .dataframe thead th {\n",
       "        text-align: right;\n",
       "    }\n",
       "</style>\n",
       "<table border=\"1\" class=\"dataframe\">\n",
       "  <thead>\n",
       "    <tr style=\"text-align: right;\">\n",
       "      <th></th>\n",
       "      <th>city</th>\n",
       "      <th>city_ascii</th>\n",
       "      <th>lat</th>\n",
       "      <th>lng</th>\n",
       "      <th>country</th>\n",
       "      <th>iso2</th>\n",
       "      <th>iso3</th>\n",
       "      <th>admin_name</th>\n",
       "      <th>capital</th>\n",
       "      <th>population</th>\n",
       "      <th>id</th>\n",
       "    </tr>\n",
       "  </thead>\n",
       "  <tbody>\n",
       "    <tr>\n",
       "      <th>0</th>\n",
       "      <td>Tokyo</td>\n",
       "      <td>Tokyo</td>\n",
       "      <td>35.6897</td>\n",
       "      <td>139.6922</td>\n",
       "      <td>Japan</td>\n",
       "      <td>JP</td>\n",
       "      <td>JPN</td>\n",
       "      <td>Tōkyō</td>\n",
       "      <td>primary</td>\n",
       "      <td>37977000.0</td>\n",
       "      <td>1392685764</td>\n",
       "    </tr>\n",
       "    <tr>\n",
       "      <th>1</th>\n",
       "      <td>Jakarta</td>\n",
       "      <td>Jakarta</td>\n",
       "      <td>-6.2146</td>\n",
       "      <td>106.8451</td>\n",
       "      <td>Indonesia</td>\n",
       "      <td>ID</td>\n",
       "      <td>IDN</td>\n",
       "      <td>Jakarta</td>\n",
       "      <td>primary</td>\n",
       "      <td>34540000.0</td>\n",
       "      <td>1360771077</td>\n",
       "    </tr>\n",
       "    <tr>\n",
       "      <th>2</th>\n",
       "      <td>Delhi</td>\n",
       "      <td>Delhi</td>\n",
       "      <td>28.6600</td>\n",
       "      <td>77.2300</td>\n",
       "      <td>India</td>\n",
       "      <td>IN</td>\n",
       "      <td>IND</td>\n",
       "      <td>Delhi</td>\n",
       "      <td>admin</td>\n",
       "      <td>29617000.0</td>\n",
       "      <td>1356872604</td>\n",
       "    </tr>\n",
       "    <tr>\n",
       "      <th>3</th>\n",
       "      <td>Mumbai</td>\n",
       "      <td>Mumbai</td>\n",
       "      <td>18.9667</td>\n",
       "      <td>72.8333</td>\n",
       "      <td>India</td>\n",
       "      <td>IN</td>\n",
       "      <td>IND</td>\n",
       "      <td>Mahārāshtra</td>\n",
       "      <td>admin</td>\n",
       "      <td>23355000.0</td>\n",
       "      <td>1356226629</td>\n",
       "    </tr>\n",
       "    <tr>\n",
       "      <th>4</th>\n",
       "      <td>Manila</td>\n",
       "      <td>Manila</td>\n",
       "      <td>14.5958</td>\n",
       "      <td>120.9772</td>\n",
       "      <td>Philippines</td>\n",
       "      <td>PH</td>\n",
       "      <td>PHL</td>\n",
       "      <td>Manila</td>\n",
       "      <td>primary</td>\n",
       "      <td>23088000.0</td>\n",
       "      <td>1608618140</td>\n",
       "    </tr>\n",
       "  </tbody>\n",
       "</table>\n",
       "</div>"
      ],
      "text/plain": [
       "      city city_ascii      lat       lng      country iso2 iso3   admin_name  \\\n",
       "0    Tokyo      Tokyo  35.6897  139.6922        Japan   JP  JPN        Tōkyō   \n",
       "1  Jakarta    Jakarta  -6.2146  106.8451    Indonesia   ID  IDN      Jakarta   \n",
       "2    Delhi      Delhi  28.6600   77.2300        India   IN  IND        Delhi   \n",
       "3   Mumbai     Mumbai  18.9667   72.8333        India   IN  IND  Mahārāshtra   \n",
       "4   Manila     Manila  14.5958  120.9772  Philippines   PH  PHL       Manila   \n",
       "\n",
       "   capital  population          id  \n",
       "0  primary  37977000.0  1392685764  \n",
       "1  primary  34540000.0  1360771077  \n",
       "2    admin  29617000.0  1356872604  \n",
       "3    admin  23355000.0  1356226629  \n",
       "4  primary  23088000.0  1608618140  "
      ]
     },
     "execution_count": 3,
     "metadata": {},
     "output_type": "execute_result"
    }
   ],
   "source": [
    "raw_cities = pd.read_csv(DATA_PATH/\"datasets\"/\"simplemaps_worldcities.csv\")\n",
    "raw_cities.head()"
   ]
  },
  {
   "cell_type": "markdown",
   "id": "95a4d385-1487-4b28-a9b4-48ab04898427",
   "metadata": {},
   "source": [
    "## filter target data"
   ]
  },
  {
   "cell_type": "code",
   "execution_count": 4,
   "id": "c4cca002-435a-400b-ad7b-e40b94a4aef5",
   "metadata": {
    "editable": true,
    "slideshow": {
     "slide_type": ""
    },
    "tags": []
   },
   "outputs": [
    {
     "data": {
      "text/html": [
       "<div>\n",
       "<style scoped>\n",
       "    .dataframe tbody tr th:only-of-type {\n",
       "        vertical-align: middle;\n",
       "    }\n",
       "\n",
       "    .dataframe tbody tr th {\n",
       "        vertical-align: top;\n",
       "    }\n",
       "\n",
       "    .dataframe thead th {\n",
       "        text-align: right;\n",
       "    }\n",
       "</style>\n",
       "<table border=\"1\" class=\"dataframe\">\n",
       "  <thead>\n",
       "    <tr style=\"text-align: right;\">\n",
       "      <th></th>\n",
       "      <th>city</th>\n",
       "      <th>city_ascii</th>\n",
       "      <th>lat</th>\n",
       "      <th>lng</th>\n",
       "      <th>country</th>\n",
       "      <th>iso2</th>\n",
       "      <th>iso3</th>\n",
       "      <th>admin_name</th>\n",
       "      <th>capital</th>\n",
       "      <th>population</th>\n",
       "      <th>id</th>\n",
       "    </tr>\n",
       "  </thead>\n",
       "  <tbody>\n",
       "    <tr>\n",
       "      <th>163</th>\n",
       "      <td>Barcelona</td>\n",
       "      <td>Barcelona</td>\n",
       "      <td>41.3825</td>\n",
       "      <td>2.1769</td>\n",
       "      <td>Spain</td>\n",
       "      <td>ES</td>\n",
       "      <td>ESP</td>\n",
       "      <td>Catalonia</td>\n",
       "      <td>admin</td>\n",
       "      <td>4588000.0</td>\n",
       "      <td>1724594040</td>\n",
       "    </tr>\n",
       "    <tr>\n",
       "      <th>238</th>\n",
       "      <td>Madrid</td>\n",
       "      <td>Madrid</td>\n",
       "      <td>40.4189</td>\n",
       "      <td>-3.6919</td>\n",
       "      <td>Spain</td>\n",
       "      <td>ES</td>\n",
       "      <td>ESP</td>\n",
       "      <td>Madrid</td>\n",
       "      <td>primary</td>\n",
       "      <td>3266126.0</td>\n",
       "      <td>1724616994</td>\n",
       "    </tr>\n",
       "    <tr>\n",
       "      <th>586</th>\n",
       "      <td>Sevilla</td>\n",
       "      <td>Sevilla</td>\n",
       "      <td>37.3828</td>\n",
       "      <td>-5.9731</td>\n",
       "      <td>Spain</td>\n",
       "      <td>ES</td>\n",
       "      <td>ESP</td>\n",
       "      <td>Andalusia</td>\n",
       "      <td>admin</td>\n",
       "      <td>1212045.0</td>\n",
       "      <td>1724991838</td>\n",
       "    </tr>\n",
       "    <tr>\n",
       "      <th>748</th>\n",
       "      <td>Lisbon</td>\n",
       "      <td>Lisbon</td>\n",
       "      <td>38.7452</td>\n",
       "      <td>-9.1604</td>\n",
       "      <td>Portugal</td>\n",
       "      <td>PT</td>\n",
       "      <td>PRT</td>\n",
       "      <td>Lisboa</td>\n",
       "      <td>primary</td>\n",
       "      <td>506654.0</td>\n",
       "      <td>1620619017</td>\n",
       "    </tr>\n",
       "    <tr>\n",
       "      <th>968</th>\n",
       "      <td>Valencia</td>\n",
       "      <td>Valencia</td>\n",
       "      <td>39.4667</td>\n",
       "      <td>-0.3750</td>\n",
       "      <td>Spain</td>\n",
       "      <td>ES</td>\n",
       "      <td>ESP</td>\n",
       "      <td>Valencia</td>\n",
       "      <td>admin</td>\n",
       "      <td>794288.0</td>\n",
       "      <td>1724981666</td>\n",
       "    </tr>\n",
       "  </tbody>\n",
       "</table>\n",
       "</div>"
      ],
      "text/plain": [
       "          city city_ascii      lat     lng   country iso2 iso3 admin_name  \\\n",
       "163  Barcelona  Barcelona  41.3825  2.1769     Spain   ES  ESP  Catalonia   \n",
       "238     Madrid     Madrid  40.4189 -3.6919     Spain   ES  ESP     Madrid   \n",
       "586    Sevilla    Sevilla  37.3828 -5.9731     Spain   ES  ESP  Andalusia   \n",
       "748     Lisbon     Lisbon  38.7452 -9.1604  Portugal   PT  PRT     Lisboa   \n",
       "968   Valencia   Valencia  39.4667 -0.3750     Spain   ES  ESP   Valencia   \n",
       "\n",
       "     capital  population          id  \n",
       "163    admin   4588000.0  1724594040  \n",
       "238  primary   3266126.0  1724616994  \n",
       "586    admin   1212045.0  1724991838  \n",
       "748  primary    506654.0  1620619017  \n",
       "968    admin    794288.0  1724981666  "
      ]
     },
     "execution_count": 4,
     "metadata": {},
     "output_type": "execute_result"
    }
   ],
   "source": [
    "cities = raw_cities[raw_cities[\"country\"].isin([\"Portugal\", \"Spain\"])]\n",
    "cities.head()"
   ]
  },
  {
   "cell_type": "markdown",
   "id": "b8800a0e-fe1c-437f-ada1-5483050ad6b9",
   "metadata": {},
   "source": [
    "## convert to geojson"
   ]
  },
  {
   "cell_type": "markdown",
   "id": "fac688c1-a814-43b0-8dde-df96f467df9a",
   "metadata": {},
   "source": [
    "### create POINT geometry from coordinates"
   ]
  },
  {
   "cell_type": "code",
   "execution_count": 5,
   "id": "5d6f882b-4e8e-419f-b0e4-c4087b14e3f8",
   "metadata": {
    "editable": true,
    "slideshow": {
     "slide_type": ""
    },
    "tags": []
   },
   "outputs": [
    {
     "data": {
      "text/plain": [
       "<GeometryArray>\n",
       "[  <POINT (2.177 41.382)>,  <POINT (-3.692 40.419)>,  <POINT (-5.973 37.383)>,\n",
       "   <POINT (-9.16 38.745)>,  <POINT (-0.375 39.467)>,  <POINT (-0.883 41.648)>,\n",
       "  <POINT (-4.417 36.717)>,    <POINT (2.65 39.567)>,  <POINT (-1.142 37.987)>,\n",
       " <POINT (-15.431 28.127)>,\n",
       " ...\n",
       "  <POINT (-2.385 43.307)>,  <POINT (-7.541 40.818)>,  <POINT (-3.737 36.735)>,\n",
       " <POINT (-28.208 38.682)>,  <POINT (-7.244 39.413)>,   <POINT (-8.225 37.65)>,\n",
       "  <POINT (-9.375 38.851)>,  <POINT (-8.912 37.082)>,   <POINT (-7.733 40.85)>,\n",
       "  <POINT (-7.676 38.953)>]\n",
       "Length: 350, dtype: geometry"
      ]
     },
     "execution_count": 5,
     "metadata": {},
     "output_type": "execute_result"
    }
   ],
   "source": [
    "geometry = geopandas.points_from_xy(cities.lng, cities.lat)\n",
    "geometry"
   ]
  },
  {
   "cell_type": "markdown",
   "id": "0c44e4d6-21a2-479b-aaf6-62be84166dad",
   "metadata": {},
   "source": [
    "### create a geo DataFrame"
   ]
  },
  {
   "cell_type": "code",
   "execution_count": 6,
   "id": "ff63266f-2415-4b95-bc1a-192d91d045e4",
   "metadata": {
    "editable": true,
    "slideshow": {
     "slide_type": ""
    },
    "tags": []
   },
   "outputs": [
    {
     "data": {
      "text/html": [
       "<div>\n",
       "<style scoped>\n",
       "    .dataframe tbody tr th:only-of-type {\n",
       "        vertical-align: middle;\n",
       "    }\n",
       "\n",
       "    .dataframe tbody tr th {\n",
       "        vertical-align: top;\n",
       "    }\n",
       "\n",
       "    .dataframe thead th {\n",
       "        text-align: right;\n",
       "    }\n",
       "</style>\n",
       "<table border=\"1\" class=\"dataframe\">\n",
       "  <thead>\n",
       "    <tr style=\"text-align: right;\">\n",
       "      <th></th>\n",
       "      <th>city_ascii</th>\n",
       "      <th>country</th>\n",
       "      <th>iso2</th>\n",
       "      <th>iso3</th>\n",
       "      <th>admin_name</th>\n",
       "      <th>capital</th>\n",
       "      <th>population</th>\n",
       "      <th>geometry</th>\n",
       "    </tr>\n",
       "  </thead>\n",
       "  <tbody>\n",
       "    <tr>\n",
       "      <th>163</th>\n",
       "      <td>Barcelona</td>\n",
       "      <td>Spain</td>\n",
       "      <td>ES</td>\n",
       "      <td>ESP</td>\n",
       "      <td>Catalonia</td>\n",
       "      <td>admin</td>\n",
       "      <td>4588000</td>\n",
       "      <td>POINT (2.17690 41.38250)</td>\n",
       "    </tr>\n",
       "    <tr>\n",
       "      <th>238</th>\n",
       "      <td>Madrid</td>\n",
       "      <td>Spain</td>\n",
       "      <td>ES</td>\n",
       "      <td>ESP</td>\n",
       "      <td>Madrid</td>\n",
       "      <td>primary</td>\n",
       "      <td>3266126</td>\n",
       "      <td>POINT (-3.69190 40.41890)</td>\n",
       "    </tr>\n",
       "    <tr>\n",
       "      <th>586</th>\n",
       "      <td>Sevilla</td>\n",
       "      <td>Spain</td>\n",
       "      <td>ES</td>\n",
       "      <td>ESP</td>\n",
       "      <td>Andalusia</td>\n",
       "      <td>admin</td>\n",
       "      <td>1212045</td>\n",
       "      <td>POINT (-5.97310 37.38280)</td>\n",
       "    </tr>\n",
       "    <tr>\n",
       "      <th>748</th>\n",
       "      <td>Lisbon</td>\n",
       "      <td>Portugal</td>\n",
       "      <td>PT</td>\n",
       "      <td>PRT</td>\n",
       "      <td>Lisboa</td>\n",
       "      <td>primary</td>\n",
       "      <td>506654</td>\n",
       "      <td>POINT (-9.16040 38.74520)</td>\n",
       "    </tr>\n",
       "    <tr>\n",
       "      <th>968</th>\n",
       "      <td>Valencia</td>\n",
       "      <td>Spain</td>\n",
       "      <td>ES</td>\n",
       "      <td>ESP</td>\n",
       "      <td>Valencia</td>\n",
       "      <td>admin</td>\n",
       "      <td>794288</td>\n",
       "      <td>POINT (-0.37500 39.46670)</td>\n",
       "    </tr>\n",
       "  </tbody>\n",
       "</table>\n",
       "</div>"
      ],
      "text/plain": [
       "    city_ascii   country iso2 iso3 admin_name  capital  population  \\\n",
       "163  Barcelona     Spain   ES  ESP  Catalonia    admin     4588000   \n",
       "238     Madrid     Spain   ES  ESP     Madrid  primary     3266126   \n",
       "586    Sevilla     Spain   ES  ESP  Andalusia    admin     1212045   \n",
       "748     Lisbon  Portugal   PT  PRT     Lisboa  primary      506654   \n",
       "968   Valencia     Spain   ES  ESP   Valencia    admin      794288   \n",
       "\n",
       "                      geometry  \n",
       "163   POINT (2.17690 41.38250)  \n",
       "238  POINT (-3.69190 40.41890)  \n",
       "586  POINT (-5.97310 37.38280)  \n",
       "748  POINT (-9.16040 38.74520)  \n",
       "968  POINT (-0.37500 39.46670)  "
      ]
     },
     "execution_count": 6,
     "metadata": {},
     "output_type": "execute_result"
    }
   ],
   "source": [
    "geo_df = (\n",
    "    geopandas.GeoDataFrame(\n",
    "        cities.filter(\n",
    "            [\"city_ascii\", \"country\", \"iso2\", \"iso3\", \"admin_name\", \"capital\", \"population\"]\n",
    "        ),\n",
    "        geometry=geometry\n",
    "    )\n",
    "    .astype({\n",
    "        \"city_ascii\": \"string\",\n",
    "        \"country\": \"string\",\n",
    "        \"iso2\": \"string\",\n",
    "        \"iso3\": \"string\",\n",
    "        \"admin_name\": \"string\",\n",
    "        \"capital\": \"string\",\n",
    "        \"population\": \"int32\"\n",
    "    })\n",
    ")\n",
    "geo_df.head()"
   ]
  },
  {
   "cell_type": "code",
   "execution_count": 7,
   "id": "f4a7e4cb-e69b-4865-8f2e-19ed96f6f408",
   "metadata": {
    "editable": true,
    "slideshow": {
     "slide_type": ""
    },
    "tags": []
   },
   "outputs": [],
   "source": [
    "geo_df.to_file(DATA_PATH/\"datasets\"/\"geojson\"/\"cities_pt_es.geojson\", driver=\"GeoJSON\")"
   ]
  }
 ],
 "metadata": {
  "kernelspec": {
   "display_name": "Python 3 (ipykernel)",
   "language": "python",
   "name": "python3"
  },
  "language_info": {
   "codemirror_mode": {
    "name": "ipython",
    "version": 3
   },
   "file_extension": ".py",
   "mimetype": "text/x-python",
   "name": "python",
   "nbconvert_exporter": "python",
   "pygments_lexer": "ipython3",
   "version": "3.11.9"
  }
 },
 "nbformat": 4,
 "nbformat_minor": 5
}
