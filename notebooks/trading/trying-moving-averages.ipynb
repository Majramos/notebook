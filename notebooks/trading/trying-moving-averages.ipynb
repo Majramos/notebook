{
 "cells": [
  {
   "cell_type": "markdown",
   "id": "d66603dd-ce06-46b9-a965-7a914e13dfbc",
   "metadata": {},
   "source": [
    "# Trying out diferent moving averages\n",
    "- Commonly used moving averages are simple moving average (SMA) and exponential moving averages(EMA)"
   ]
  },
  {
   "cell_type": "code",
   "execution_count": 12,
   "id": "411aa089-5d9e-4558-ad05-30626dd08384",
   "metadata": {
    "execution": {
     "iopub.execute_input": "2023-10-01T13:40:33.070847Z",
     "iopub.status.busy": "2023-10-01T13:40:33.070224Z",
     "iopub.status.idle": "2023-10-01T13:40:33.075576Z",
     "shell.execute_reply": "2023-10-01T13:40:33.073855Z",
     "shell.execute_reply.started": "2023-10-01T13:40:33.070825Z"
    },
    "tags": []
   },
   "outputs": [],
   "source": [
    "import pandas as pd\n",
    "import yfinance as yf"
   ]
  },
  {
   "cell_type": "markdown",
   "id": "03af2f26-abb1-4e4d-b644-5afd8e31b2e4",
   "metadata": {},
   "source": [
    "## Pick stock for testing\n",
    "- [RENE.LS](https://finance.yahoo.com/quote/RENE.LS?p=RENE.LS)"
   ]
  },
  {
   "cell_type": "code",
   "execution_count": 11,
   "id": "66dd1994-7e09-4e81-b332-e7d9055994da",
   "metadata": {
    "execution": {
     "iopub.execute_input": "2023-10-01T13:40:16.380567Z",
     "iopub.status.busy": "2023-10-01T13:40:16.380102Z",
     "iopub.status.idle": "2023-10-01T13:40:17.100579Z",
     "shell.execute_reply": "2023-10-01T13:40:17.098804Z",
     "shell.execute_reply.started": "2023-10-01T13:40:16.380546Z"
    },
    "tags": []
   },
   "outputs": [
    {
     "name": "stdout",
     "output_type": "stream",
     "text": [
      "longName: REN - Redes Energéticas Nacionais, SGPS, S.A.\n",
      "sector:   Utilities\n",
      "symbol:   RENE.LS\n",
      "exchange: LIS\n"
     ]
    }
   ],
   "source": [
    "rene = yf.Ticker(\"RENE.LS\")\n",
    "rene_info = rene.info\n",
    "print(\"longName:\", rene_info.get(\"longName\"))\n",
    "print(\"sector:  \", rene_info.get(\"sector\"))\n",
    "print(\"symbol:  \", rene_info.get(\"symbol\"))\n",
    "print(\"exchange:\", rene_info.get(\"exchange\"))"
   ]
  },
  {
   "cell_type": "markdown",
   "id": "6c5cde03-94c0-4ef6-ba40-29debb4a0d64",
   "metadata": {
    "execution": {
     "iopub.execute_input": "2023-10-01T13:40:44.117748Z",
     "iopub.status.busy": "2023-10-01T13:40:44.116894Z",
     "iopub.status.idle": "2023-10-01T13:40:44.124413Z",
     "shell.execute_reply": "2023-10-01T13:40:44.122050Z",
     "shell.execute_reply.started": "2023-10-01T13:40:44.117728Z"
    },
    "tags": []
   },
   "source": [
    "### Dowload prices"
   ]
  },
  {
   "cell_type": "code",
   "execution_count": 15,
   "id": "8e1852f3-c927-4b06-85d3-5a7991ec9712",
   "metadata": {
    "execution": {
     "iopub.execute_input": "2023-10-01T14:01:58.363248Z",
     "iopub.status.busy": "2023-10-01T14:01:58.362993Z",
     "iopub.status.idle": "2023-10-01T14:01:58.963408Z",
     "shell.execute_reply": "2023-10-01T14:01:58.962064Z",
     "shell.execute_reply.started": "2023-10-01T14:01:58.363230Z"
    },
    "tags": []
   },
   "outputs": [
    {
     "data": {
      "text/html": [
       "<div>\n",
       "<style scoped>\n",
       "    .dataframe tbody tr th:only-of-type {\n",
       "        vertical-align: middle;\n",
       "    }\n",
       "\n",
       "    .dataframe tbody tr th {\n",
       "        vertical-align: top;\n",
       "    }\n",
       "\n",
       "    .dataframe thead th {\n",
       "        text-align: right;\n",
       "    }\n",
       "</style>\n",
       "<table border=\"1\" class=\"dataframe\">\n",
       "  <thead>\n",
       "    <tr style=\"text-align: right;\">\n",
       "      <th></th>\n",
       "      <th>Open</th>\n",
       "      <th>High</th>\n",
       "      <th>Low</th>\n",
       "      <th>Close</th>\n",
       "      <th>Volume</th>\n",
       "      <th>Dividends</th>\n",
       "      <th>Stock Splits</th>\n",
       "    </tr>\n",
       "    <tr>\n",
       "      <th>Date</th>\n",
       "      <th></th>\n",
       "      <th></th>\n",
       "      <th></th>\n",
       "      <th></th>\n",
       "      <th></th>\n",
       "      <th></th>\n",
       "      <th></th>\n",
       "    </tr>\n",
       "  </thead>\n",
       "  <tbody>\n",
       "    <tr>\n",
       "      <th>2018-10-01 00:00:00+01:00</th>\n",
       "      <td>1.768100</td>\n",
       "      <td>1.768100</td>\n",
       "      <td>1.749275</td>\n",
       "      <td>1.749275</td>\n",
       "      <td>339584</td>\n",
       "      <td>0.0</td>\n",
       "      <td>0.0</td>\n",
       "    </tr>\n",
       "    <tr>\n",
       "      <th>2018-10-02 00:00:00+01:00</th>\n",
       "      <td>1.752171</td>\n",
       "      <td>1.756515</td>\n",
       "      <td>1.729002</td>\n",
       "      <td>1.729002</td>\n",
       "      <td>1287618</td>\n",
       "      <td>0.0</td>\n",
       "      <td>0.0</td>\n",
       "    </tr>\n",
       "    <tr>\n",
       "      <th>2018-10-03 00:00:00+01:00</th>\n",
       "      <td>1.743482</td>\n",
       "      <td>1.744931</td>\n",
       "      <td>1.731898</td>\n",
       "      <td>1.731898</td>\n",
       "      <td>511745</td>\n",
       "      <td>0.0</td>\n",
       "      <td>0.0</td>\n",
       "    </tr>\n",
       "    <tr>\n",
       "      <th>2018-10-04 00:00:00+01:00</th>\n",
       "      <td>1.730450</td>\n",
       "      <td>1.733346</td>\n",
       "      <td>1.723209</td>\n",
       "      <td>1.729002</td>\n",
       "      <td>584299</td>\n",
       "      <td>0.0</td>\n",
       "      <td>0.0</td>\n",
       "    </tr>\n",
       "    <tr>\n",
       "      <th>2018-10-05 00:00:00+01:00</th>\n",
       "      <td>1.733346</td>\n",
       "      <td>1.733346</td>\n",
       "      <td>1.723210</td>\n",
       "      <td>1.726106</td>\n",
       "      <td>228660</td>\n",
       "      <td>0.0</td>\n",
       "      <td>0.0</td>\n",
       "    </tr>\n",
       "    <tr>\n",
       "      <th>...</th>\n",
       "      <td>...</td>\n",
       "      <td>...</td>\n",
       "      <td>...</td>\n",
       "      <td>...</td>\n",
       "      <td>...</td>\n",
       "      <td>...</td>\n",
       "      <td>...</td>\n",
       "    </tr>\n",
       "    <tr>\n",
       "      <th>2023-09-25 00:00:00+01:00</th>\n",
       "      <td>2.480000</td>\n",
       "      <td>2.490000</td>\n",
       "      <td>2.455000</td>\n",
       "      <td>2.465000</td>\n",
       "      <td>478274</td>\n",
       "      <td>0.0</td>\n",
       "      <td>0.0</td>\n",
       "    </tr>\n",
       "    <tr>\n",
       "      <th>2023-09-26 00:00:00+01:00</th>\n",
       "      <td>2.460000</td>\n",
       "      <td>2.480000</td>\n",
       "      <td>2.460000</td>\n",
       "      <td>2.470000</td>\n",
       "      <td>401940</td>\n",
       "      <td>0.0</td>\n",
       "      <td>0.0</td>\n",
       "    </tr>\n",
       "    <tr>\n",
       "      <th>2023-09-27 00:00:00+01:00</th>\n",
       "      <td>2.480000</td>\n",
       "      <td>2.480000</td>\n",
       "      <td>2.440000</td>\n",
       "      <td>2.440000</td>\n",
       "      <td>644921</td>\n",
       "      <td>0.0</td>\n",
       "      <td>0.0</td>\n",
       "    </tr>\n",
       "    <tr>\n",
       "      <th>2023-09-28 00:00:00+01:00</th>\n",
       "      <td>2.440000</td>\n",
       "      <td>2.455000</td>\n",
       "      <td>2.425000</td>\n",
       "      <td>2.425000</td>\n",
       "      <td>780016</td>\n",
       "      <td>0.0</td>\n",
       "      <td>0.0</td>\n",
       "    </tr>\n",
       "    <tr>\n",
       "      <th>2023-09-29 00:00:00+01:00</th>\n",
       "      <td>2.435000</td>\n",
       "      <td>2.450000</td>\n",
       "      <td>2.420000</td>\n",
       "      <td>2.420000</td>\n",
       "      <td>1495159</td>\n",
       "      <td>0.0</td>\n",
       "      <td>0.0</td>\n",
       "    </tr>\n",
       "  </tbody>\n",
       "</table>\n",
       "<p>1281 rows × 7 columns</p>\n",
       "</div>"
      ],
      "text/plain": [
       "                               Open      High       Low     Close   Volume   \n",
       "Date                                                                         \n",
       "2018-10-01 00:00:00+01:00  1.768100  1.768100  1.749275  1.749275   339584  \\\n",
       "2018-10-02 00:00:00+01:00  1.752171  1.756515  1.729002  1.729002  1287618   \n",
       "2018-10-03 00:00:00+01:00  1.743482  1.744931  1.731898  1.731898   511745   \n",
       "2018-10-04 00:00:00+01:00  1.730450  1.733346  1.723209  1.729002   584299   \n",
       "2018-10-05 00:00:00+01:00  1.733346  1.733346  1.723210  1.726106   228660   \n",
       "...                             ...       ...       ...       ...      ...   \n",
       "2023-09-25 00:00:00+01:00  2.480000  2.490000  2.455000  2.465000   478274   \n",
       "2023-09-26 00:00:00+01:00  2.460000  2.480000  2.460000  2.470000   401940   \n",
       "2023-09-27 00:00:00+01:00  2.480000  2.480000  2.440000  2.440000   644921   \n",
       "2023-09-28 00:00:00+01:00  2.440000  2.455000  2.425000  2.425000   780016   \n",
       "2023-09-29 00:00:00+01:00  2.435000  2.450000  2.420000  2.420000  1495159   \n",
       "\n",
       "                           Dividends  Stock Splits  \n",
       "Date                                                \n",
       "2018-10-01 00:00:00+01:00        0.0           0.0  \n",
       "2018-10-02 00:00:00+01:00        0.0           0.0  \n",
       "2018-10-03 00:00:00+01:00        0.0           0.0  \n",
       "2018-10-04 00:00:00+01:00        0.0           0.0  \n",
       "2018-10-05 00:00:00+01:00        0.0           0.0  \n",
       "...                              ...           ...  \n",
       "2023-09-25 00:00:00+01:00        0.0           0.0  \n",
       "2023-09-26 00:00:00+01:00        0.0           0.0  \n",
       "2023-09-27 00:00:00+01:00        0.0           0.0  \n",
       "2023-09-28 00:00:00+01:00        0.0           0.0  \n",
       "2023-09-29 00:00:00+01:00        0.0           0.0  \n",
       "\n",
       "[1281 rows x 7 columns]"
      ]
     },
     "execution_count": 15,
     "metadata": {},
     "output_type": "execute_result"
    }
   ],
   "source": [
    "rene_hist = rene.history(period=\"5y\")\n",
    "rene_hist"
   ]
  },
  {
   "cell_type": "markdown",
   "id": "3f7f917c-1e0a-47d9-be71-6eda73a72b4d",
   "metadata": {},
   "source": [
    "## Test ZMA moving average\n",
    "Based on [this](https://medium.com/@zimin.lu/zma-a-new-moving-average-ff826601dd9e) medium post"
   ]
  },
  {
   "cell_type": "raw",
   "id": "978a7b45-ed25-4873-b392-02ca24b7955c",
   "metadata": {},
   "source": [
    "In ZMA, we first calculate a cumsum() of the n data, z1=y1, z2=y1+y2, z3=y1+y2+y3,…zn=y1+y2+…yn. Then we do linear regression of the cumsum series z against x=1,2,…n, z~ ax +b.\n",
    "\n",
    "ZMA(y)= a = correl(x,z)*sigma(z)/sigma(x)\n",
    "\n",
    "where correl(x,z) is the correlation between the series of x and z in the time window n and sigma are the standard deviations.\n",
    "\n",
    "ZMA is smoother than SMA due to the integration (cumsum) and then differentiation (slope), which is important for point of change detections. \n",
    "\n",
    "In other words, it generates fewer false signals in technical analysis for trading.\n",
    "\n",
    "# TODO: find a way to test for false positives\n",
    "\n",
    "def zma(y):\n",
    "    z= y.cumsum()\n",
    "    x = np.arange(len(y))\n",
    "    return np.corrcoef(x, z)[0,1]*np.std(z)/np.std(x)"
   ]
  }
 ],
 "metadata": {
  "kernelspec": {
   "display_name": "Python 3 (ipykernel)",
   "language": "python",
   "name": "python3"
  },
  "language_info": {
   "codemirror_mode": {
    "name": "ipython",
    "version": 3
   },
   "file_extension": ".py",
   "mimetype": "text/x-python",
   "name": "python",
   "nbconvert_exporter": "python",
   "pygments_lexer": "ipython3",
   "version": "3.10.11"
  }
 },
 "nbformat": 4,
 "nbformat_minor": 5
}
