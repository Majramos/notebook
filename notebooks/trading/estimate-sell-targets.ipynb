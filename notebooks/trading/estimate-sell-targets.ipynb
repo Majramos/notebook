{
 "cells": [
  {
   "cell_type": "markdown",
   "id": "c8620e64-cb4a-4ae4-a3c1-4e65d3e68464",
   "metadata": {},
   "source": [
    "# Estimate Sell Price Targets\n",
    "Estimate the sell price targets of a stock trade\n",
    "Should take into account:\n",
    "- fees of trading, both fixed and variable\n",
    "- costs with forex if existing, in the case of the currency of market being diferent of the currency of the brokerage "
   ]
  },
  {
   "cell_type": "markdown",
   "id": "e0dacdfb-803a-42f1-97ad-93e40a0fd5d2",
   "metadata": {},
   "source": [
    "<div class=\"admonition note\">\n",
    "  <p class=\"admonition-title\">About the code for plots and tables</p>\n",
    "  <p>\n",
    "      The code for the plots and some tables is hidden on purpose.\n",
    "      This is to avoid repeating code. Go to the repo to find the code.\n",
    "  </p>\n",
    "</div>"
   ]
  },
  {
   "cell_type": "code",
   "execution_count": 1,
   "id": "5203b0af-8624-4cc4-9d41-3396dfde4c4f",
   "metadata": {
    "execution": {
     "iopub.execute_input": "2023-08-04T16:46:56.041723Z",
     "iopub.status.busy": "2023-08-04T16:46:56.041382Z",
     "iopub.status.idle": "2023-08-04T16:46:56.818691Z",
     "shell.execute_reply": "2023-08-04T16:46:56.817621Z",
     "shell.execute_reply.started": "2023-08-04T16:46:56.041684Z"
    },
    "tags": []
   },
   "outputs": [
    {
     "data": {
      "text/html": [
       "<style>\n",
       "        .bk-notebook-logo {\n",
       "            display: block;\n",
       "            width: 20px;\n",
       "            height: 20px;\n",
       "            background-image: url(data:image/png;base64,iVBORw0KGgoAAAANSUhEUgAAABQAAAAUCAYAAACNiR0NAAAABHNCSVQICAgIfAhkiAAAAAlwSFlzAAALEgAACxIB0t1+/AAAABx0RVh0U29mdHdhcmUAQWRvYmUgRmlyZXdvcmtzIENTNui8sowAAAOkSURBVDiNjZRtaJVlGMd/1/08zzln5zjP1LWcU9N0NkN8m2CYjpgQYQXqSs0I84OLIC0hkEKoPtiH3gmKoiJDU7QpLgoLjLIQCpEsNJ1vqUOdO7ppbuec5+V+rj4ctwzd8IIbbi6u+8f1539dt3A78eXC7QizUF7gyV1fD1Yqg4JWz84yffhm0qkFqBogB9rM8tZdtwVsPUhWhGcFJngGeWrPzHm5oaMmkfEg1usvLFyc8jLRqDOMru7AyC8saQr7GG7f5fvDeH7Ej8CM66nIF+8yngt6HWaKh7k49Soy9nXurCi1o3qUbS3zWfrYeQDTB/Qj6kX6Ybhw4B+bOYoLKCC9H3Nu/leUTZ1JdRWkkn2ldcCamzrcf47KKXdAJllSlxAOkRgyHsGC/zRday5Qld9DyoM4/q/rUoy/CXh3jzOu3bHUVZeU+DEn8FInkPBFlu3+nW3Nw0mk6vCDiWg8CeJaxEwuHS3+z5RgY+YBR6V1Z1nxSOfoaPa4LASWxxdNp+VWTk7+4vzaou8v8PN+xo+KY2xsw6une2frhw05CTYOmQvsEhjhWjn0bmXPjpE1+kplmmkP3suftwTubK9Vq22qKmrBhpY4jvd5afdRA3wGjFAgcnTK2s4hY0/GPNIb0nErGMCRxWOOX64Z8RAC4oCXdklmEvcL8o0BfkNK4lUg9HTl+oPlQxdNo3Mg4Nv175e/1LDGzZen30MEjRUtmXSfiTVu1kK8W4txyV6BMKlbgk3lMwYCiusNy9fVfvvwMxv8Ynl6vxoByANLTWplvuj/nF9m2+PDtt1eiHPBr1oIfhCChQMBw6Aw0UulqTKZdfVvfG7VcfIqLG9bcldL/+pdWTLxLUy8Qq38heUIjh4XlzZxzQm19lLFlr8vdQ97rjZVOLf8nclzckbcD4wxXMidpX30sFd37Fv/GtwwhzhxGVAprjbg0gCAEeIgwCZyTV2Z1REEW8O4py0wsjeloKoMr6iCY6dP92H6Vw/oTyICIthibxjm/DfN9lVz8IqtqKYLUXfoKVMVQVVJOElGjrnnUt9T9wbgp8AyYKaGlqingHZU/uG2NTZSVqwHQTWkx9hxjkpWDaCg6Ckj5qebgBVbT3V3NNXMSiWSDdGV3hrtzla7J+duwPOToIg42ChPQOQjspnSlp1V+Gjdged7+8UN5CRAV7a5EdFNwCjEaBR27b3W890TE7g24NAP/mMDXRWrGoFPQI9ls/MWO2dWFAar/xcOIImbbpA3zgAAAABJRU5ErkJggg==);\n",
       "        }\n",
       "    </style>\n",
       "    <div>\n",
       "        <a href=\"https://bokeh.org\" target=\"_blank\" class=\"bk-notebook-logo\"></a>\n",
       "        <span id=\"beed10cf-93db-4521-a2cb-64e3c0778bbd\">Loading BokehJS ...</span>\n",
       "    </div>\n"
      ]
     },
     "metadata": {},
     "output_type": "display_data"
    },
    {
     "data": {
      "application/javascript": [
       "(function(root) {\n",
       "  function now() {\n",
       "    return new Date();\n",
       "  }\n",
       "\n",
       "  const force = true;\n",
       "\n",
       "  if (typeof root._bokeh_onload_callbacks === \"undefined\" || force === true) {\n",
       "    root._bokeh_onload_callbacks = [];\n",
       "    root._bokeh_is_loading = undefined;\n",
       "  }\n",
       "\n",
       "const JS_MIME_TYPE = 'application/javascript';\n",
       "  const HTML_MIME_TYPE = 'text/html';\n",
       "  const EXEC_MIME_TYPE = 'application/vnd.bokehjs_exec.v0+json';\n",
       "  const CLASS_NAME = 'output_bokeh rendered_html';\n",
       "\n",
       "  /**\n",
       "   * Render data to the DOM node\n",
       "   */\n",
       "  function render(props, node) {\n",
       "    const script = document.createElement(\"script\");\n",
       "    node.appendChild(script);\n",
       "  }\n",
       "\n",
       "  /**\n",
       "   * Handle when an output is cleared or removed\n",
       "   */\n",
       "  function handleClearOutput(event, handle) {\n",
       "    const cell = handle.cell;\n",
       "\n",
       "    const id = cell.output_area._bokeh_element_id;\n",
       "    const server_id = cell.output_area._bokeh_server_id;\n",
       "    // Clean up Bokeh references\n",
       "    if (id != null && id in Bokeh.index) {\n",
       "      Bokeh.index[id].model.document.clear();\n",
       "      delete Bokeh.index[id];\n",
       "    }\n",
       "\n",
       "    if (server_id !== undefined) {\n",
       "      // Clean up Bokeh references\n",
       "      const cmd_clean = \"from bokeh.io.state import curstate; print(curstate().uuid_to_server['\" + server_id + \"'].get_sessions()[0].document.roots[0]._id)\";\n",
       "      cell.notebook.kernel.execute(cmd_clean, {\n",
       "        iopub: {\n",
       "          output: function(msg) {\n",
       "            const id = msg.content.text.trim();\n",
       "            if (id in Bokeh.index) {\n",
       "              Bokeh.index[id].model.document.clear();\n",
       "              delete Bokeh.index[id];\n",
       "            }\n",
       "          }\n",
       "        }\n",
       "      });\n",
       "      // Destroy server and session\n",
       "      const cmd_destroy = \"import bokeh.io.notebook as ion; ion.destroy_server('\" + server_id + \"')\";\n",
       "      cell.notebook.kernel.execute(cmd_destroy);\n",
       "    }\n",
       "  }\n",
       "\n",
       "  /**\n",
       "   * Handle when a new output is added\n",
       "   */\n",
       "  function handleAddOutput(event, handle) {\n",
       "    const output_area = handle.output_area;\n",
       "    const output = handle.output;\n",
       "\n",
       "    // limit handleAddOutput to display_data with EXEC_MIME_TYPE content only\n",
       "    if ((output.output_type != \"display_data\") || (!Object.prototype.hasOwnProperty.call(output.data, EXEC_MIME_TYPE))) {\n",
       "      return\n",
       "    }\n",
       "\n",
       "    const toinsert = output_area.element.find(\".\" + CLASS_NAME.split(' ')[0]);\n",
       "\n",
       "    if (output.metadata[EXEC_MIME_TYPE][\"id\"] !== undefined) {\n",
       "      toinsert[toinsert.length - 1].firstChild.textContent = output.data[JS_MIME_TYPE];\n",
       "      // store reference to embed id on output_area\n",
       "      output_area._bokeh_element_id = output.metadata[EXEC_MIME_TYPE][\"id\"];\n",
       "    }\n",
       "    if (output.metadata[EXEC_MIME_TYPE][\"server_id\"] !== undefined) {\n",
       "      const bk_div = document.createElement(\"div\");\n",
       "      bk_div.innerHTML = output.data[HTML_MIME_TYPE];\n",
       "      const script_attrs = bk_div.children[0].attributes;\n",
       "      for (let i = 0; i < script_attrs.length; i++) {\n",
       "        toinsert[toinsert.length - 1].firstChild.setAttribute(script_attrs[i].name, script_attrs[i].value);\n",
       "        toinsert[toinsert.length - 1].firstChild.textContent = bk_div.children[0].textContent\n",
       "      }\n",
       "      // store reference to server id on output_area\n",
       "      output_area._bokeh_server_id = output.metadata[EXEC_MIME_TYPE][\"server_id\"];\n",
       "    }\n",
       "  }\n",
       "\n",
       "  function register_renderer(events, OutputArea) {\n",
       "\n",
       "    function append_mime(data, metadata, element) {\n",
       "      // create a DOM node to render to\n",
       "      const toinsert = this.create_output_subarea(\n",
       "        metadata,\n",
       "        CLASS_NAME,\n",
       "        EXEC_MIME_TYPE\n",
       "      );\n",
       "      this.keyboard_manager.register_events(toinsert);\n",
       "      // Render to node\n",
       "      const props = {data: data, metadata: metadata[EXEC_MIME_TYPE]};\n",
       "      render(props, toinsert[toinsert.length - 1]);\n",
       "      element.append(toinsert);\n",
       "      return toinsert\n",
       "    }\n",
       "\n",
       "    /* Handle when an output is cleared or removed */\n",
       "    events.on('clear_output.CodeCell', handleClearOutput);\n",
       "    events.on('delete.Cell', handleClearOutput);\n",
       "\n",
       "    /* Handle when a new output is added */\n",
       "    events.on('output_added.OutputArea', handleAddOutput);\n",
       "\n",
       "    /**\n",
       "     * Register the mime type and append_mime function with output_area\n",
       "     */\n",
       "    OutputArea.prototype.register_mime_type(EXEC_MIME_TYPE, append_mime, {\n",
       "      /* Is output safe? */\n",
       "      safe: true,\n",
       "      /* Index of renderer in `output_area.display_order` */\n",
       "      index: 0\n",
       "    });\n",
       "  }\n",
       "\n",
       "  // register the mime type if in Jupyter Notebook environment and previously unregistered\n",
       "  if (root.Jupyter !== undefined) {\n",
       "    const events = require('base/js/events');\n",
       "    const OutputArea = require('notebook/js/outputarea').OutputArea;\n",
       "\n",
       "    if (OutputArea.prototype.mime_types().indexOf(EXEC_MIME_TYPE) == -1) {\n",
       "      register_renderer(events, OutputArea);\n",
       "    }\n",
       "  }\n",
       "  if (typeof (root._bokeh_timeout) === \"undefined\" || force === true) {\n",
       "    root._bokeh_timeout = Date.now() + 5000;\n",
       "    root._bokeh_failed_load = false;\n",
       "  }\n",
       "\n",
       "  const NB_LOAD_WARNING = {'data': {'text/html':\n",
       "     \"<div style='background-color: #fdd'>\\n\"+\n",
       "     \"<p>\\n\"+\n",
       "     \"BokehJS does not appear to have successfully loaded. If loading BokehJS from CDN, this \\n\"+\n",
       "     \"may be due to a slow or bad network connection. Possible fixes:\\n\"+\n",
       "     \"</p>\\n\"+\n",
       "     \"<ul>\\n\"+\n",
       "     \"<li>re-rerun `output_notebook()` to attempt to load from CDN again, or</li>\\n\"+\n",
       "     \"<li>use INLINE resources instead, as so:</li>\\n\"+\n",
       "     \"</ul>\\n\"+\n",
       "     \"<code>\\n\"+\n",
       "     \"from bokeh.resources import INLINE\\n\"+\n",
       "     \"output_notebook(resources=INLINE)\\n\"+\n",
       "     \"</code>\\n\"+\n",
       "     \"</div>\"}};\n",
       "\n",
       "  function display_loaded() {\n",
       "    const el = document.getElementById(\"beed10cf-93db-4521-a2cb-64e3c0778bbd\");\n",
       "    if (el != null) {\n",
       "      el.textContent = \"BokehJS is loading...\";\n",
       "    }\n",
       "    if (root.Bokeh !== undefined) {\n",
       "      if (el != null) {\n",
       "        el.textContent = \"BokehJS \" + root.Bokeh.version + \" successfully loaded.\";\n",
       "      }\n",
       "    } else if (Date.now() < root._bokeh_timeout) {\n",
       "      setTimeout(display_loaded, 100)\n",
       "    }\n",
       "  }\n",
       "\n",
       "  function run_callbacks() {\n",
       "    try {\n",
       "      root._bokeh_onload_callbacks.forEach(function(callback) {\n",
       "        if (callback != null)\n",
       "          callback();\n",
       "      });\n",
       "    } finally {\n",
       "      delete root._bokeh_onload_callbacks\n",
       "    }\n",
       "    console.debug(\"Bokeh: all callbacks have finished\");\n",
       "  }\n",
       "\n",
       "  function load_libs(css_urls, js_urls, callback) {\n",
       "    if (css_urls == null) css_urls = [];\n",
       "    if (js_urls == null) js_urls = [];\n",
       "\n",
       "    root._bokeh_onload_callbacks.push(callback);\n",
       "    if (root._bokeh_is_loading > 0) {\n",
       "      console.debug(\"Bokeh: BokehJS is being loaded, scheduling callback at\", now());\n",
       "      return null;\n",
       "    }\n",
       "    if (js_urls == null || js_urls.length === 0) {\n",
       "      run_callbacks();\n",
       "      return null;\n",
       "    }\n",
       "    console.debug(\"Bokeh: BokehJS not loaded, scheduling load and callback at\", now());\n",
       "    root._bokeh_is_loading = css_urls.length + js_urls.length;\n",
       "\n",
       "    function on_load() {\n",
       "      root._bokeh_is_loading--;\n",
       "      if (root._bokeh_is_loading === 0) {\n",
       "        console.debug(\"Bokeh: all BokehJS libraries/stylesheets loaded\");\n",
       "        run_callbacks()\n",
       "      }\n",
       "    }\n",
       "\n",
       "    function on_error(url) {\n",
       "      console.error(\"failed to load \" + url);\n",
       "    }\n",
       "\n",
       "    for (let i = 0; i < css_urls.length; i++) {\n",
       "      const url = css_urls[i];\n",
       "      const element = document.createElement(\"link\");\n",
       "      element.onload = on_load;\n",
       "      element.onerror = on_error.bind(null, url);\n",
       "      element.rel = \"stylesheet\";\n",
       "      element.type = \"text/css\";\n",
       "      element.href = url;\n",
       "      console.debug(\"Bokeh: injecting link tag for BokehJS stylesheet: \", url);\n",
       "      document.body.appendChild(element);\n",
       "    }\n",
       "\n",
       "    for (let i = 0; i < js_urls.length; i++) {\n",
       "      const url = js_urls[i];\n",
       "      const element = document.createElement('script');\n",
       "      element.onload = on_load;\n",
       "      element.onerror = on_error.bind(null, url);\n",
       "      element.async = false;\n",
       "      element.src = url;\n",
       "      console.debug(\"Bokeh: injecting script tag for BokehJS library: \", url);\n",
       "      document.head.appendChild(element);\n",
       "    }\n",
       "  };\n",
       "\n",
       "  function inject_raw_css(css) {\n",
       "    const element = document.createElement(\"style\");\n",
       "    element.appendChild(document.createTextNode(css));\n",
       "    document.body.appendChild(element);\n",
       "  }\n",
       "\n",
       "  const js_urls = [\"https://cdn.bokeh.org/bokeh/release/bokeh-3.1.1.min.js\", \"https://cdn.bokeh.org/bokeh/release/bokeh-gl-3.1.1.min.js\", \"https://cdn.bokeh.org/bokeh/release/bokeh-widgets-3.1.1.min.js\", \"https://cdn.bokeh.org/bokeh/release/bokeh-tables-3.1.1.min.js\", \"https://cdn.bokeh.org/bokeh/release/bokeh-mathjax-3.1.1.min.js\"];\n",
       "  const css_urls = [];\n",
       "\n",
       "  const inline_js = [    function(Bokeh) {\n",
       "      Bokeh.set_log_level(\"info\");\n",
       "    },\n",
       "function(Bokeh) {\n",
       "    }\n",
       "  ];\n",
       "\n",
       "  function run_inline_js() {\n",
       "    if (root.Bokeh !== undefined || force === true) {\n",
       "          for (let i = 0; i < inline_js.length; i++) {\n",
       "      inline_js[i].call(root, root.Bokeh);\n",
       "    }\n",
       "if (force === true) {\n",
       "        display_loaded();\n",
       "      }} else if (Date.now() < root._bokeh_timeout) {\n",
       "      setTimeout(run_inline_js, 100);\n",
       "    } else if (!root._bokeh_failed_load) {\n",
       "      console.log(\"Bokeh: BokehJS failed to load within specified timeout.\");\n",
       "      root._bokeh_failed_load = true;\n",
       "    } else if (force !== true) {\n",
       "      const cell = $(document.getElementById(\"beed10cf-93db-4521-a2cb-64e3c0778bbd\")).parents('.cell').data().cell;\n",
       "      cell.output_area.append_execute_result(NB_LOAD_WARNING)\n",
       "    }\n",
       "  }\n",
       "\n",
       "  if (root._bokeh_is_loading === 0) {\n",
       "    console.debug(\"Bokeh: BokehJS loaded, going straight to plotting\");\n",
       "    run_inline_js();\n",
       "  } else {\n",
       "    load_libs(css_urls, js_urls, function() {\n",
       "      console.debug(\"Bokeh: BokehJS plotting callback run at\", now());\n",
       "      run_inline_js();\n",
       "    });\n",
       "  }\n",
       "}(window));"
      ],
      "application/vnd.bokehjs_load.v0+json": "(function(root) {\n  function now() {\n    return new Date();\n  }\n\n  const force = true;\n\n  if (typeof root._bokeh_onload_callbacks === \"undefined\" || force === true) {\n    root._bokeh_onload_callbacks = [];\n    root._bokeh_is_loading = undefined;\n  }\n\n\n  if (typeof (root._bokeh_timeout) === \"undefined\" || force === true) {\n    root._bokeh_timeout = Date.now() + 5000;\n    root._bokeh_failed_load = false;\n  }\n\n  const NB_LOAD_WARNING = {'data': {'text/html':\n     \"<div style='background-color: #fdd'>\\n\"+\n     \"<p>\\n\"+\n     \"BokehJS does not appear to have successfully loaded. If loading BokehJS from CDN, this \\n\"+\n     \"may be due to a slow or bad network connection. Possible fixes:\\n\"+\n     \"</p>\\n\"+\n     \"<ul>\\n\"+\n     \"<li>re-rerun `output_notebook()` to attempt to load from CDN again, or</li>\\n\"+\n     \"<li>use INLINE resources instead, as so:</li>\\n\"+\n     \"</ul>\\n\"+\n     \"<code>\\n\"+\n     \"from bokeh.resources import INLINE\\n\"+\n     \"output_notebook(resources=INLINE)\\n\"+\n     \"</code>\\n\"+\n     \"</div>\"}};\n\n  function display_loaded() {\n    const el = document.getElementById(\"beed10cf-93db-4521-a2cb-64e3c0778bbd\");\n    if (el != null) {\n      el.textContent = \"BokehJS is loading...\";\n    }\n    if (root.Bokeh !== undefined) {\n      if (el != null) {\n        el.textContent = \"BokehJS \" + root.Bokeh.version + \" successfully loaded.\";\n      }\n    } else if (Date.now() < root._bokeh_timeout) {\n      setTimeout(display_loaded, 100)\n    }\n  }\n\n  function run_callbacks() {\n    try {\n      root._bokeh_onload_callbacks.forEach(function(callback) {\n        if (callback != null)\n          callback();\n      });\n    } finally {\n      delete root._bokeh_onload_callbacks\n    }\n    console.debug(\"Bokeh: all callbacks have finished\");\n  }\n\n  function load_libs(css_urls, js_urls, callback) {\n    if (css_urls == null) css_urls = [];\n    if (js_urls == null) js_urls = [];\n\n    root._bokeh_onload_callbacks.push(callback);\n    if (root._bokeh_is_loading > 0) {\n      console.debug(\"Bokeh: BokehJS is being loaded, scheduling callback at\", now());\n      return null;\n    }\n    if (js_urls == null || js_urls.length === 0) {\n      run_callbacks();\n      return null;\n    }\n    console.debug(\"Bokeh: BokehJS not loaded, scheduling load and callback at\", now());\n    root._bokeh_is_loading = css_urls.length + js_urls.length;\n\n    function on_load() {\n      root._bokeh_is_loading--;\n      if (root._bokeh_is_loading === 0) {\n        console.debug(\"Bokeh: all BokehJS libraries/stylesheets loaded\");\n        run_callbacks()\n      }\n    }\n\n    function on_error(url) {\n      console.error(\"failed to load \" + url);\n    }\n\n    for (let i = 0; i < css_urls.length; i++) {\n      const url = css_urls[i];\n      const element = document.createElement(\"link\");\n      element.onload = on_load;\n      element.onerror = on_error.bind(null, url);\n      element.rel = \"stylesheet\";\n      element.type = \"text/css\";\n      element.href = url;\n      console.debug(\"Bokeh: injecting link tag for BokehJS stylesheet: \", url);\n      document.body.appendChild(element);\n    }\n\n    for (let i = 0; i < js_urls.length; i++) {\n      const url = js_urls[i];\n      const element = document.createElement('script');\n      element.onload = on_load;\n      element.onerror = on_error.bind(null, url);\n      element.async = false;\n      element.src = url;\n      console.debug(\"Bokeh: injecting script tag for BokehJS library: \", url);\n      document.head.appendChild(element);\n    }\n  };\n\n  function inject_raw_css(css) {\n    const element = document.createElement(\"style\");\n    element.appendChild(document.createTextNode(css));\n    document.body.appendChild(element);\n  }\n\n  const js_urls = [\"https://cdn.bokeh.org/bokeh/release/bokeh-3.1.1.min.js\", \"https://cdn.bokeh.org/bokeh/release/bokeh-gl-3.1.1.min.js\", \"https://cdn.bokeh.org/bokeh/release/bokeh-widgets-3.1.1.min.js\", \"https://cdn.bokeh.org/bokeh/release/bokeh-tables-3.1.1.min.js\", \"https://cdn.bokeh.org/bokeh/release/bokeh-mathjax-3.1.1.min.js\"];\n  const css_urls = [];\n\n  const inline_js = [    function(Bokeh) {\n      Bokeh.set_log_level(\"info\");\n    },\nfunction(Bokeh) {\n    }\n  ];\n\n  function run_inline_js() {\n    if (root.Bokeh !== undefined || force === true) {\n          for (let i = 0; i < inline_js.length; i++) {\n      inline_js[i].call(root, root.Bokeh);\n    }\nif (force === true) {\n        display_loaded();\n      }} else if (Date.now() < root._bokeh_timeout) {\n      setTimeout(run_inline_js, 100);\n    } else if (!root._bokeh_failed_load) {\n      console.log(\"Bokeh: BokehJS failed to load within specified timeout.\");\n      root._bokeh_failed_load = true;\n    } else if (force !== true) {\n      const cell = $(document.getElementById(\"beed10cf-93db-4521-a2cb-64e3c0778bbd\")).parents('.cell').data().cell;\n      cell.output_area.append_execute_result(NB_LOAD_WARNING)\n    }\n  }\n\n  if (root._bokeh_is_loading === 0) {\n    console.debug(\"Bokeh: BokehJS loaded, going straight to plotting\");\n    run_inline_js();\n  } else {\n    load_libs(css_urls, js_urls, function() {\n      console.debug(\"Bokeh: BokehJS plotting callback run at\", now());\n      run_inline_js();\n    });\n  }\n}(window));"
     },
     "metadata": {},
     "output_type": "display_data"
    }
   ],
   "source": [
    "import numpy as np\n",
    "import pandas as pd\n",
    "import yfinance as yf\n",
    "from bokeh.layouts import row\n",
    "from bokeh.models import (ColumnDataSource, CrosshairTool, HoverTool, Label,\n",
    "                          NumeralTickFormatter, PrintfTickFormatter, Span,\n",
    "                          DataTable, TableColumn)\n",
    "from bokeh.plotting import figure, show, output_notebook\n",
    "from IPython.display import display_markdown\n",
    "\n",
    "output_notebook()"
   ]
  },
  {
   "cell_type": "markdown",
   "id": "a96d4201-55b9-4692-ba45-f8a1ef307449",
   "metadata": {},
   "source": [
    "## Trade Details"
   ]
  },
  {
   "cell_type": "code",
   "execution_count": 2,
   "id": "21334a53-73e9-4177-a682-e85c89c6eccc",
   "metadata": {
    "execution": {
     "iopub.execute_input": "2023-08-04T16:46:56.821447Z",
     "iopub.status.busy": "2023-08-04T16:46:56.820139Z",
     "iopub.status.idle": "2023-08-04T16:46:56.826482Z",
     "shell.execute_reply": "2023-08-04T16:46:56.825177Z",
     "shell.execute_reply.started": "2023-08-04T16:46:56.821426Z"
    },
    "tags": []
   },
   "outputs": [],
   "source": [
    "# number of shares bought in this specific trade\n",
    "trade_num_shares = 11\n",
    "# price currency of the country/stock exchange where the stock is traded ($)\n",
    "trade_price = 94.20\n",
    "# currency exchange price used in the trade (EUR/USD)\n",
    "trade_fx_price = 1.0697\n",
    "# trade variable fees if existing, set by broker\n",
    "# currency of the brokerage account (€)\n",
    "trade_var_fee = 0.25/100 #0.25%\n",
    "# trade fixed fees if existing, set by broker\n",
    "# currency of the brokerage account (€)\n",
    "trade_fixed_fee = 1"
   ]
  },
  {
   "cell_type": "markdown",
   "id": "8382e5cc-6c0f-4fb0-88de-2e579e966cb7",
   "metadata": {},
   "source": [
    "### Calculate trade value\n",
    "in both currencies"
   ]
  },
  {
   "cell_type": "code",
   "execution_count": 3,
   "id": "c80754b1-a39a-4e0d-9c15-9c89b3f1a301",
   "metadata": {
    "execution": {
     "iopub.execute_input": "2023-08-04T16:46:56.828392Z",
     "iopub.status.busy": "2023-08-04T16:46:56.828014Z",
     "iopub.status.idle": "2023-08-04T16:46:56.834763Z",
     "shell.execute_reply": "2023-08-04T16:46:56.833433Z",
     "shell.execute_reply.started": "2023-08-04T16:46:56.828373Z"
    },
    "tags": []
   },
   "outputs": [],
   "source": [
    "trade_total_value_usd = trade_num_shares*trade_price\n",
    "trade_total_value_eur = (trade_num_shares*trade_price)/trade_fx_price\n",
    "trade_price_eur = trade_price/trade_fx_price"
   ]
  },
  {
   "cell_type": "code",
   "execution_count": 4,
   "id": "af0331e0-5c35-4039-ba4f-a6675f5b1449",
   "metadata": {
    "execution": {
     "iopub.execute_input": "2023-08-04T16:46:56.837837Z",
     "iopub.status.busy": "2023-08-04T16:46:56.837467Z",
     "iopub.status.idle": "2023-08-04T16:46:56.862019Z",
     "shell.execute_reply": "2023-08-04T16:46:56.859483Z",
     "shell.execute_reply.started": "2023-08-04T16:46:56.837818Z"
    },
    "tags": [
     "remove_input"
    ]
   },
   "outputs": [
    {
     "data": {
      "text/html": [
       "<div>\n",
       "<style scoped>\n",
       "    .dataframe tbody tr th:only-of-type {\n",
       "        vertical-align: middle;\n",
       "    }\n",
       "\n",
       "    .dataframe tbody tr th {\n",
       "        vertical-align: top;\n",
       "    }\n",
       "\n",
       "    .dataframe thead th {\n",
       "        text-align: right;\n",
       "    }\n",
       "</style>\n",
       "<table border=\"1\" class=\"dataframe\">\n",
       "  <thead>\n",
       "    <tr style=\"text-align: right;\">\n",
       "      <th></th>\n",
       "      <th>trade value</th>\n",
       "      <th>shares</th>\n",
       "      <th>trade price</th>\n",
       "    </tr>\n",
       "  </thead>\n",
       "  <tbody>\n",
       "    <tr>\n",
       "      <th>exchange currency (USD)</th>\n",
       "      <td>\\$1,036.20</td>\n",
       "      <td>11</td>\n",
       "      <td>\\$94.20</td>\n",
       "    </tr>\n",
       "    <tr>\n",
       "      <th>account currency (EUR)</th>\n",
       "      <td>968.68€</td>\n",
       "      <td>11</td>\n",
       "      <td>88.06€</td>\n",
       "    </tr>\n",
       "  </tbody>\n",
       "</table>\n",
       "</div>"
      ],
      "text/plain": [
       "                        trade value  shares trade price\n",
       "exchange currency (USD)  \\$1,036.20      11     \\$94.20\n",
       "account currency (EUR)      968.68€      11      88.06€"
      ]
     },
     "execution_count": 4,
     "metadata": {},
     "output_type": "execute_result"
    }
   ],
   "source": [
    "pd.DataFrame.from_dict({\n",
    "    'exchange currency (USD)': (f'\\${trade_total_value_usd:,.2f}', trade_num_shares, f'\\${trade_price:,.2f}'),\n",
    "    'account currency (EUR)': (f'{trade_total_value_eur:,.2f}€', trade_num_shares, f'{trade_price_eur:,.2f}€'),\n",
    "}, orient='index', columns=['trade value', 'shares', 'trade price'])"
   ]
  },
  {
   "cell_type": "markdown",
   "id": "7b143596-2aa6-4afa-986a-3e6c92d4fe61",
   "metadata": {},
   "source": [
    "### Calculate costs\n",
    "in base/brokerage account currency"
   ]
  },
  {
   "cell_type": "code",
   "execution_count": 5,
   "id": "3e269c8f-fb17-45dd-82c6-8f7d2290da9e",
   "metadata": {
    "execution": {
     "iopub.execute_input": "2023-08-04T16:46:56.865341Z",
     "iopub.status.busy": "2023-08-04T16:46:56.864375Z",
     "iopub.status.idle": "2023-08-04T16:46:56.885462Z",
     "shell.execute_reply": "2023-08-04T16:46:56.883844Z",
     "shell.execute_reply.started": "2023-08-04T16:46:56.865276Z"
    },
    "tags": []
   },
   "outputs": [],
   "source": [
    "trade_var_fee_value = (trade_var_fee*trade_total_value_eur)*-1 # should be in negative value\n",
    "trade_fixed_fee_value = trade_fixed_fee*-1\n",
    "trade_total_cost_eur = trade_var_fee_value+trade_fixed_fee_value\n",
    "trade_unit_cost_eur = trade_total_cost_eur/trade_num_shares"
   ]
  },
  {
   "cell_type": "code",
   "execution_count": 6,
   "id": "c5808d0a-be38-41de-a1af-253c2121717e",
   "metadata": {
    "execution": {
     "iopub.execute_input": "2023-08-04T16:46:56.889688Z",
     "iopub.status.busy": "2023-08-04T16:46:56.889176Z",
     "iopub.status.idle": "2023-08-04T16:46:56.906782Z",
     "shell.execute_reply": "2023-08-04T16:46:56.904294Z",
     "shell.execute_reply.started": "2023-08-04T16:46:56.889659Z"
    },
    "tags": [
     "remove_input"
    ]
   },
   "outputs": [
    {
     "data": {
      "text/html": [
       "<div>\n",
       "<style scoped>\n",
       "    .dataframe tbody tr th:only-of-type {\n",
       "        vertical-align: middle;\n",
       "    }\n",
       "\n",
       "    .dataframe tbody tr th {\n",
       "        vertical-align: top;\n",
       "    }\n",
       "\n",
       "    .dataframe thead th {\n",
       "        text-align: right;\n",
       "    }\n",
       "</style>\n",
       "<table border=\"1\" class=\"dataframe\">\n",
       "  <thead>\n",
       "    <tr style=\"text-align: right;\">\n",
       "      <th></th>\n",
       "      <th>cost value</th>\n",
       "      <th>cost\\/share</th>\n",
       "    </tr>\n",
       "  </thead>\n",
       "  <tbody>\n",
       "    <tr>\n",
       "      <th>variable fee</th>\n",
       "      <td>-2.42€</td>\n",
       "      <td>-0.22€</td>\n",
       "    </tr>\n",
       "    <tr>\n",
       "      <th>fixed fee</th>\n",
       "      <td>-1.00€</td>\n",
       "      <td>-0.09€</td>\n",
       "    </tr>\n",
       "    <tr>\n",
       "      <th>total cost</th>\n",
       "      <td>-3.42€</td>\n",
       "      <td>-0.31€</td>\n",
       "    </tr>\n",
       "  </tbody>\n",
       "</table>\n",
       "</div>"
      ],
      "text/plain": [
       "             cost value cost\\/share\n",
       "variable fee     -2.42€      -0.22€\n",
       "fixed fee        -1.00€      -0.09€\n",
       " total cost      -3.42€      -0.31€"
      ]
     },
     "execution_count": 6,
     "metadata": {},
     "output_type": "execute_result"
    }
   ],
   "source": [
    "pd.DataFrame.from_dict(\n",
    "    {\n",
    "        \"variable fee\": (\n",
    "            f\"{trade_var_fee_value:,.2f}€\",\n",
    "            f\"{trade_var_fee_value/trade_num_shares:,.2f}€\",\n",
    "        ),\n",
    "        \"fixed fee\": (\n",
    "            f\"{trade_fixed_fee_value:,.2f}€\",\n",
    "            f\"{trade_fixed_fee_value/trade_num_shares:,.2f}€\",\n",
    "        ),\n",
    "        \" total cost\": (\n",
    "            f\"{trade_total_cost_eur:,.2f}€\",\n",
    "            f\"{trade_unit_cost_eur:,.2f}€\",\n",
    "        ),\n",
    "    },\n",
    "    orient=\"index\",\n",
    "    columns=[\"cost value\", \"cost\\/share\"],\n",
    ")"
   ]
  },
  {
   "cell_type": "markdown",
   "id": "e85c164d-b17f-4d72-8db0-544237e11734",
   "metadata": {},
   "source": [
    "## Calculate sell target prices\n",
    "- selling all shares in one single trade\n",
    "- use the most recent broker fees and fx rate"
   ]
  },
  {
   "cell_type": "code",
   "execution_count": 7,
   "id": "c1ed9b0c-5038-4466-9637-c26f8fa77168",
   "metadata": {
    "execution": {
     "iopub.execute_input": "2023-08-04T16:46:56.911295Z",
     "iopub.status.busy": "2023-08-04T16:46:56.910626Z",
     "iopub.status.idle": "2023-08-04T16:46:56.920132Z",
     "shell.execute_reply": "2023-08-04T16:46:56.918507Z",
     "shell.execute_reply.started": "2023-08-04T16:46:56.911259Z"
    },
    "tags": []
   },
   "outputs": [],
   "source": [
    "# Download currency exchange stuff\n",
    "eur_usd = yf.Ticker('EURUSD=X')"
   ]
  },
  {
   "cell_type": "code",
   "execution_count": 8,
   "id": "bd67a9b6-62f0-4230-9d6c-80185a74bfa1",
   "metadata": {
    "execution": {
     "iopub.execute_input": "2023-08-04T16:46:56.924887Z",
     "iopub.status.busy": "2023-08-04T16:46:56.923946Z",
     "iopub.status.idle": "2023-08-04T16:46:57.554300Z",
     "shell.execute_reply": "2023-08-04T16:46:57.552401Z",
     "shell.execute_reply.started": "2023-08-04T16:46:56.924845Z"
    },
    "tags": [
     "remove_input"
    ]
   },
   "outputs": [
    {
     "data": {
      "text/html": [
       "<div>\n",
       "<style scoped>\n",
       "    .dataframe tbody tr th:only-of-type {\n",
       "        vertical-align: middle;\n",
       "    }\n",
       "\n",
       "    .dataframe tbody tr th {\n",
       "        vertical-align: top;\n",
       "    }\n",
       "\n",
       "    .dataframe thead th {\n",
       "        text-align: right;\n",
       "    }\n",
       "</style>\n",
       "<table border=\"1\" class=\"dataframe\">\n",
       "  <thead>\n",
       "    <tr style=\"text-align: right;\">\n",
       "      <th></th>\n",
       "      <th>EUR/USD</th>\n",
       "    </tr>\n",
       "  </thead>\n",
       "  <tbody>\n",
       "    <tr>\n",
       "      <th>previous Close</th>\n",
       "      <td>1.0949€</td>\n",
       "    </tr>\n",
       "    <tr>\n",
       "      <th>52 Week Low</th>\n",
       "      <td>0.9540€</td>\n",
       "    </tr>\n",
       "    <tr>\n",
       "      <th>52 Week High</th>\n",
       "      <td>1.1276€</td>\n",
       "    </tr>\n",
       "    <tr>\n",
       "      <th>50 Day Average</th>\n",
       "      <td>1.0927€</td>\n",
       "    </tr>\n",
       "    <tr>\n",
       "      <th>200 Day Average</th>\n",
       "      <td>1.0730€</td>\n",
       "    </tr>\n",
       "  </tbody>\n",
       "</table>\n",
       "</div>"
      ],
      "text/plain": [
       "                 EUR/USD\n",
       "previous Close   1.0949€\n",
       "52 Week Low      0.9540€\n",
       "52 Week High     1.1276€\n",
       "50 Day Average   1.0927€\n",
       "200 Day Average  1.0730€"
      ]
     },
     "execution_count": 8,
     "metadata": {},
     "output_type": "execute_result"
    }
   ],
   "source": [
    "pd.DataFrame.from_dict(\n",
    "    {\n",
    "        \"previous Close\": f'{eur_usd.info[\"previousClose\"]:,.4f}€',\n",
    "        \"52 Week Low\": f'{eur_usd.info[\"fiftyTwoWeekLow\"]:,.4f}€',\n",
    "        \"52 Week High\": f'{eur_usd.info[\"fiftyTwoWeekHigh\"]:,.4f}€',\n",
    "        \"50 Day Average\": f'{eur_usd.info[\"fiftyDayAverage\"]:,.4f}€',\n",
    "        \"200 Day Average\": f'{eur_usd.info[\"twoHundredDayAverage\"]:,.4f}€',\n",
    "    },\n",
    "    orient=\"index\",\n",
    "    columns=[\"EUR/USD\"],\n",
    ")"
   ]
  },
  {
   "cell_type": "code",
   "execution_count": 9,
   "id": "afbf80e5-9a19-4376-8a0d-4c279c0f1327",
   "metadata": {
    "execution": {
     "iopub.execute_input": "2023-08-04T16:46:57.556880Z",
     "iopub.status.busy": "2023-08-04T16:46:57.556244Z",
     "iopub.status.idle": "2023-08-04T16:46:57.566479Z",
     "shell.execute_reply": "2023-08-04T16:46:57.564848Z",
     "shell.execute_reply.started": "2023-08-04T16:46:57.556841Z"
    },
    "tags": []
   },
   "outputs": [],
   "source": [
    "# fx value at the time of sale base on the last available price\n",
    "curr_fx_price = eur_usd.info['previousClose']\n",
    "\n",
    "sell_var_fee = 0.25/100 # set by broker 0.25%\n",
    "sell_fixed_fee = 2 # set by broker, currency of the brokerage account (€), value by trade\n",
    "\n",
    "# selling all shares\n",
    "sell_num_shares = trade_num_shares"
   ]
  },
  {
   "cell_type": "markdown",
   "id": "985d2d88-1b07-4810-80fa-0000e157cbfe",
   "metadata": {},
   "source": [
    "### Calculate Break Even Price (BEP)\n"
   ]
  },
  {
   "cell_type": "code",
   "execution_count": 10,
   "id": "576630c5-6bb4-45a2-91f4-09dc57e4e56e",
   "metadata": {
    "execution": {
     "iopub.execute_input": "2023-08-04T16:46:57.570845Z",
     "iopub.status.busy": "2023-08-04T16:46:57.569133Z",
     "iopub.status.idle": "2023-08-04T16:46:57.581160Z",
     "shell.execute_reply": "2023-08-04T16:46:57.579346Z",
     "shell.execute_reply.started": "2023-08-04T16:46:57.570778Z"
    },
    "tags": []
   },
   "outputs": [],
   "source": [
    "# calculate total trade value in euros before costs (GROSS) using latest FX costs\n",
    "gross_sell_bep_value_eur = (sell_num_shares*trade_price)/trade_fx_price\n",
    "gross_sell_bep_price_eur = gross_sell_bep_value_eur/sell_num_shares\n",
    "\n",
    "# should be in negative values\n",
    "sell_var_fee_value = (sell_var_fee*gross_sell_bep_value_eur)*-1\n",
    "sell_fixed_fee_value = sell_fixed_fee*-1\n",
    "sell_total_cost_value_eur = sell_var_fee_value+sell_fixed_fee_value+trade_total_cost_eur\n",
    "\n",
    "# calculate after costs (NET)\n",
    "net_sell_bep_value_eur = gross_sell_bep_value_eur-sell_total_cost_value_eur\n",
    "net_sell_bep_price_eur = net_sell_bep_value_eur/sell_num_shares"
   ]
  },
  {
   "cell_type": "code",
   "execution_count": 11,
   "id": "3f590eeb-9db8-49ef-bb6d-d9b49290657f",
   "metadata": {
    "execution": {
     "iopub.execute_input": "2023-08-04T16:46:57.583462Z",
     "iopub.status.busy": "2023-08-04T16:46:57.582895Z",
     "iopub.status.idle": "2023-08-04T16:46:57.597069Z",
     "shell.execute_reply": "2023-08-04T16:46:57.594962Z",
     "shell.execute_reply.started": "2023-08-04T16:46:57.583399Z"
    },
    "tags": [
     "remove_input"
    ]
   },
   "outputs": [
    {
     "data": {
      "text/html": [
       "<div>\n",
       "<style scoped>\n",
       "    .dataframe tbody tr th:only-of-type {\n",
       "        vertical-align: middle;\n",
       "    }\n",
       "\n",
       "    .dataframe tbody tr th {\n",
       "        vertical-align: top;\n",
       "    }\n",
       "\n",
       "    .dataframe thead th {\n",
       "        text-align: right;\n",
       "    }\n",
       "</style>\n",
       "<table border=\"1\" class=\"dataframe\">\n",
       "  <thead>\n",
       "    <tr style=\"text-align: right;\">\n",
       "      <th></th>\n",
       "      <th>current forex exchange</th>\n",
       "    </tr>\n",
       "  </thead>\n",
       "  <tbody>\n",
       "    <tr>\n",
       "      <th>EUR/USD</th>\n",
       "      <td>1.0949€</td>\n",
       "    </tr>\n",
       "  </tbody>\n",
       "</table>\n",
       "</div>"
      ],
      "text/plain": [
       "        current forex exchange\n",
       "EUR/USD                1.0949€"
      ]
     },
     "execution_count": 11,
     "metadata": {},
     "output_type": "execute_result"
    }
   ],
   "source": [
    "pd.DataFrame.from_dict(\n",
    "    {\"EUR/USD\": f\"{curr_fx_price:,.4f}€\"},\n",
    "    orient=\"index\",\n",
    "    columns=[\"current forex exchange\"],\n",
    ")"
   ]
  },
  {
   "cell_type": "code",
   "execution_count": 12,
   "id": "726607af-99f9-47fc-bb62-e79f8c2860de",
   "metadata": {
    "execution": {
     "iopub.execute_input": "2023-08-04T16:46:57.598489Z",
     "iopub.status.busy": "2023-08-04T16:46:57.598098Z",
     "iopub.status.idle": "2023-08-04T16:46:57.624714Z",
     "shell.execute_reply": "2023-08-04T16:46:57.620067Z",
     "shell.execute_reply.started": "2023-08-04T16:46:57.598452Z"
    },
    "tags": [
     "remove_input"
    ]
   },
   "outputs": [
    {
     "data": {
      "text/html": [
       "<div>\n",
       "<style scoped>\n",
       "    .dataframe tbody tr th:only-of-type {\n",
       "        vertical-align: middle;\n",
       "    }\n",
       "\n",
       "    .dataframe tbody tr th {\n",
       "        vertical-align: top;\n",
       "    }\n",
       "\n",
       "    .dataframe thead th {\n",
       "        text-align: right;\n",
       "    }\n",
       "</style>\n",
       "<table border=\"1\" class=\"dataframe\">\n",
       "  <thead>\n",
       "    <tr style=\"text-align: right;\">\n",
       "      <th></th>\n",
       "      <th>total value</th>\n",
       "      <th>total value</th>\n",
       "      <th>unit price</th>\n",
       "      <th>unit price</th>\n",
       "    </tr>\n",
       "  </thead>\n",
       "  <tbody>\n",
       "    <tr>\n",
       "      <th>gross BEP</th>\n",
       "      <td>968.68€</td>\n",
       "      <td>\\$1,060.64</td>\n",
       "      <td>88.06€</td>\n",
       "      <td>\\$96.42</td>\n",
       "    </tr>\n",
       "    <tr>\n",
       "      <th>variable sell fee</th>\n",
       "      <td>-2.42€</td>\n",
       "      <td></td>\n",
       "      <td>-0.22€</td>\n",
       "      <td></td>\n",
       "    </tr>\n",
       "    <tr>\n",
       "      <th>fixed sell fee</th>\n",
       "      <td>-2.00€</td>\n",
       "      <td></td>\n",
       "      <td>-0.18€</td>\n",
       "      <td></td>\n",
       "    </tr>\n",
       "    <tr>\n",
       "      <th>total cost (buy/sell)</th>\n",
       "      <td>-7.84€</td>\n",
       "      <td></td>\n",
       "      <td>-0.71€</td>\n",
       "      <td></td>\n",
       "    </tr>\n",
       "    <tr>\n",
       "      <th>net BEP</th>\n",
       "      <td>976.53€</td>\n",
       "      <td>\\$1,069.23</td>\n",
       "      <td>88.78€</td>\n",
       "      <td>\\$97.20</td>\n",
       "    </tr>\n",
       "  </tbody>\n",
       "</table>\n",
       "</div>"
      ],
      "text/plain": [
       "                      total value total value unit price unit price\n",
       "gross BEP                 968.68€  \\$1,060.64     88.06€    \\$96.42\n",
       "variable sell fee          -2.42€                 -0.22€           \n",
       "fixed sell fee             -2.00€                 -0.18€           \n",
       "total cost (buy/sell)      -7.84€                 -0.71€           \n",
       "net BEP                  976.53€   \\$1,069.23     88.78€    \\$97.20"
      ]
     },
     "execution_count": 12,
     "metadata": {},
     "output_type": "execute_result"
    }
   ],
   "source": [
    "pd.DataFrame.from_dict(\n",
    "    {\n",
    "        \"gross BEP\": (\n",
    "            f\"{gross_sell_bep_value_eur:,.2f}€\",\n",
    "            f\"\\${gross_sell_bep_value_eur*curr_fx_price:,.2f}\",\n",
    "            f\"{gross_sell_bep_price_eur:,.2f}€\",\n",
    "            f\"\\${gross_sell_bep_price_eur*curr_fx_price:,.2f}\",\n",
    "        ),\n",
    "        \"variable sell fee\": (\n",
    "            f\"{sell_var_fee_value:,.2f}€\",\n",
    "            \"\",\n",
    "            f\"{sell_var_fee_value/sell_num_shares:,.2f}€\",\n",
    "            \"\",\n",
    "        ),\n",
    "        \"fixed sell fee\": (\n",
    "            f\"{sell_fixed_fee_value:,.2f}€\",\n",
    "            \"\",\n",
    "            f\"{sell_fixed_fee_value/sell_num_shares:,.2f}€\",\n",
    "            \"\",\n",
    "        ),\n",
    "        \"total cost (buy/sell)\": (\n",
    "            f\"{sell_total_cost_value_eur:,.2f}€\",\n",
    "            \"\",\n",
    "            f\"{sell_total_cost_value_eur/sell_num_shares:,.2f}€\",\n",
    "            \"\",\n",
    "        ),\n",
    "        \"net BEP\": (\n",
    "            f\"{net_sell_bep_value_eur:,.2f}€ \",\n",
    "            f\"\\${net_sell_bep_value_eur*curr_fx_price:,.2f}\",\n",
    "            f\"{net_sell_bep_price_eur:,.2f}€\",\n",
    "            f\"\\${net_sell_bep_price_eur*curr_fx_price:,.2f}\",\n",
    "        ),\n",
    "    },\n",
    "    orient=\"index\",\n",
    "    columns=[\"total value\", \"total value\", \"unit price\", \"unit price\"],\n",
    ")"
   ]
  },
  {
   "cell_type": "markdown",
   "id": "9c9417d0-ac45-4ecb-8e02-dcffed179c48",
   "metadata": {},
   "source": [
    "### Calculate loss of selling at buy price"
   ]
  },
  {
   "cell_type": "code",
   "execution_count": 13,
   "id": "0c03fd94-e26d-410d-8885-4ad676662fa4",
   "metadata": {
    "execution": {
     "iopub.execute_input": "2023-08-04T16:46:57.630915Z",
     "iopub.status.busy": "2023-08-04T16:46:57.630531Z",
     "iopub.status.idle": "2023-08-04T16:46:57.638364Z",
     "shell.execute_reply": "2023-08-04T16:46:57.636926Z",
     "shell.execute_reply.started": "2023-08-04T16:46:57.630890Z"
    },
    "tags": []
   },
   "outputs": [],
   "source": [
    "pct_loss_buy_price = ((trade_price / trade_fx_price) - net_sell_bep_price_eur) / (\n",
    "    trade_price / trade_fx_price\n",
    ")"
   ]
  },
  {
   "cell_type": "markdown",
   "id": "5e4cdcb9-d598-47a8-a58f-9142ea52adba",
   "metadata": {},
   "source": [
    "### Estimate % target"
   ]
  },
  {
   "cell_type": "code",
   "execution_count": 14,
   "id": "b8756a9b-29ec-4643-87bf-22b28e38ee95",
   "metadata": {
    "execution": {
     "iopub.execute_input": "2023-08-04T16:46:57.642440Z",
     "iopub.status.busy": "2023-08-04T16:46:57.640545Z",
     "iopub.status.idle": "2023-08-04T16:46:57.650024Z",
     "shell.execute_reply": "2023-08-04T16:46:57.649134Z",
     "shell.execute_reply.started": "2023-08-04T16:46:57.642361Z"
    },
    "tags": []
   },
   "outputs": [],
   "source": [
    "target_grow = 0.15\n",
    "\n",
    "target_gross_price = gross_sell_bep_price_eur * (1 + target_grow)\n",
    "target_gross_value = target_gross_price * sell_num_shares\n",
    "\n",
    "# add the fixed and variable transaction fees\n",
    "target_net_value = (\n",
    "    (target_gross_value + sell_fixed_fee) / (1 - sell_var_fee)\n",
    ") - trade_total_cost_eur\n",
    "target_net_price = target_net_value / sell_num_shares"
   ]
  },
  {
   "cell_type": "code",
   "execution_count": 15,
   "id": "1db998cc-b8bc-4f9c-ae7f-b621f9ec2111",
   "metadata": {
    "execution": {
     "iopub.execute_input": "2023-08-04T16:46:57.651186Z",
     "iopub.status.busy": "2023-08-04T16:46:57.650907Z",
     "iopub.status.idle": "2023-08-04T16:46:57.662483Z",
     "shell.execute_reply": "2023-08-04T16:46:57.660860Z",
     "shell.execute_reply.started": "2023-08-04T16:46:57.651163Z"
    },
    "tags": [
     "remove_input"
    ]
   },
   "outputs": [
    {
     "data": {
      "text/markdown": [
       "\n",
       "| BEP price | grow target | net target price |\n",
       "|---:|---:|---:|\n",
       "| 88.78€ | 15.0% | 102.02€ |\n",
       "| \\$97.20 | 15.0% | \\$111.70 |\n"
      ]
     },
     "metadata": {},
     "output_type": "display_data"
    }
   ],
   "source": [
    "display_markdown(f\"\"\"\n",
    "| BEP price | grow target | net target price |\n",
    "|---:|---:|---:|\n",
    "| {net_sell_bep_price_eur:,.2f}€ | {target_grow:.1%} | {target_net_price:,.2f}€ |\n",
    "| \\${net_sell_bep_price_eur*curr_fx_price:,.2f} | {target_grow:.1%} | \\${target_net_price*curr_fx_price:,.2f} |\n",
    "\"\"\", raw=True)"
   ]
  },
  {
   "cell_type": "markdown",
   "id": "323c77c6-3746-48cc-965b-18509a91d01e",
   "metadata": {},
   "source": [
    "#### Estimate % targets"
   ]
  },
  {
   "cell_type": "code",
   "execution_count": 16,
   "id": "143570a5-8eaf-47e5-9ca4-cae653305d44",
   "metadata": {
    "execution": {
     "iopub.execute_input": "2023-08-04T16:46:57.664068Z",
     "iopub.status.busy": "2023-08-04T16:46:57.663808Z",
     "iopub.status.idle": "2023-08-04T16:46:57.673145Z",
     "shell.execute_reply": "2023-08-04T16:46:57.671466Z",
     "shell.execute_reply.started": "2023-08-04T16:46:57.664025Z"
    },
    "tags": []
   },
   "outputs": [],
   "source": [
    "# grow percentage targets between 0% (BEP) and 25%\n",
    "TARGETS = np.arange(0.0, 0.51, 0.01)\n",
    "\n",
    "def calc_target(target_grow, bep_price, num_shares, fixed_fee, var_fee, buy_costs):\n",
    "    gross_value = bep_price * (1 + target_grow) * num_shares\n",
    "\n",
    "    # add the fixed&variable transaction fees\n",
    "    net_value = (gross_value + fixed_fee) / (1 - var_fee) - buy_costs\n",
    "    return net_value / num_shares\n",
    "\n",
    "\n",
    "output_acc = []\n",
    "for t in TARGETS:\n",
    "    out = calc_target(\n",
    "        t,\n",
    "        gross_sell_bep_price_eur,\n",
    "        sell_num_shares,\n",
    "        sell_fixed_fee,\n",
    "        sell_var_fee,\n",
    "        trade_total_cost_eur,\n",
    "    )\n",
    "    output_acc.append(out)\n",
    "output_exc = list(map(lambda x: x * curr_fx_price, output_acc))"
   ]
  },
  {
   "cell_type": "code",
   "execution_count": 17,
   "id": "96515b8f-9bf3-4f96-9404-1ad5521893c6",
   "metadata": {
    "execution": {
     "iopub.execute_input": "2023-08-04T16:46:57.676446Z",
     "iopub.status.busy": "2023-08-04T16:46:57.675158Z",
     "iopub.status.idle": "2023-08-04T16:46:57.894684Z",
     "shell.execute_reply": "2023-08-04T16:46:57.893602Z",
     "shell.execute_reply.started": "2023-08-04T16:46:57.676413Z"
    },
    "tags": []
   },
   "outputs": [
    {
     "data": {
      "text/html": [
       "\n",
       "  <div id=\"eec3e014-c1b0-4d5d-828c-f797ca61237a\" data-root-id=\"p1110\" style=\"display: contents;\"></div>\n"
      ]
     },
     "metadata": {},
     "output_type": "display_data"
    },
    {
     "data": {
      "application/javascript": [
       "(function(root) {\n",
       "  function embed_document(root) {\n",
       "  const docs_json = {\"a37191e7-5524-4ccd-ba92-d9cc66e3be7f\":{\"version\":\"3.1.1\",\"title\":\"Bokeh Application\",\"defs\":[],\"roots\":[{\"type\":\"object\",\"name\":\"Row\",\"id\":\"p1110\",\"attributes\":{\"sizing_mode\":\"scale_width\",\"children\":[{\"type\":\"object\",\"name\":\"Figure\",\"id\":\"p1004\",\"attributes\":{\"sizing_mode\":\"stretch_width\",\"x_range\":{\"type\":\"object\",\"name\":\"DataRange1d\",\"id\":\"p1005\"},\"y_range\":{\"type\":\"object\",\"name\":\"DataRange1d\",\"id\":\"p1006\"},\"x_scale\":{\"type\":\"object\",\"name\":\"LinearScale\",\"id\":\"p1018\"},\"y_scale\":{\"type\":\"object\",\"name\":\"LinearScale\",\"id\":\"p1020\"},\"title\":{\"type\":\"object\",\"name\":\"Title\",\"id\":\"p1007\",\"attributes\":{\"text\":\"Target Prices\"}},\"renderers\":[{\"type\":\"object\",\"name\":\"GlyphRenderer\",\"id\":\"p1057\",\"attributes\":{\"name\":\"target_line\",\"data_source\":{\"type\":\"object\",\"name\":\"ColumnDataSource\",\"id\":\"p1001\",\"attributes\":{\"selected\":{\"type\":\"object\",\"name\":\"Selection\",\"id\":\"p1003\",\"attributes\":{\"indices\":[],\"line_indices\":[]}},\"selection_policy\":{\"type\":\"object\",\"name\":\"UnionRenderers\",\"id\":\"p1002\"},\"data\":{\"type\":\"map\",\"entries\":[[\"targets\",{\"type\":\"ndarray\",\"array\":{\"type\":\"bytes\",\"data\":\"AAAAAAAAAAB7FK5H4XqEP3sUrkfhepQ/uB6F61G4nj97FK5H4XqkP5qZmZmZmak/uB6F61G4rj/sUbgeheuxP3sUrkfherQ/CtejcD0Ktz+amZmZmZm5Pylcj8L1KLw/uB6F61G4vj+kcD0K16PAP+xRuB6F68E/MzMzMzMzwz97FK5H4XrEP8P1KFyPwsU/CtejcD0Kxz9SuB6F61HIP5qZmZmZmck/4XoUrkfhyj8pXI/C9SjMP3E9CtejcM0/uB6F61G4zj8AAAAAAADQP6RwPQrXo9A/SOF6FK5H0T/sUbgehevRP4/C9Shcj9I/MzMzMzMz0z/Xo3A9CtfTP3sUrkfhetQ/H4XrUbge1T/D9Shcj8LVP2dmZmZmZtY/CtejcD0K1z+uR+F6FK7XP1K4HoXrUdg/9ihcj8L12D+amZmZmZnZPz4K16NwPdo/4XoUrkfh2j+F61G4HoXbPylcj8L1KNw/zczMzMzM3D9xPQrXo3DdPxWuR+F6FN4/uB6F61G43j9cj8L1KFzfPwAAAAAAAOA/\"},\"shape\":[51],\"dtype\":\"float64\",\"order\":\"little\"}],[\"prices_exc\",[97.20367989468599,98.17031498385792,99.13695007302985,100.10358516220178,101.07022025137374,102.03685534054567,103.00349042971759,103.97012551888955,104.93676060806146,105.90339569723339,106.87003078640534,107.8366658755773,108.80330096474923,109.76993605392113,110.73657114309309,111.70320623226498,112.66984132143693,113.63647641060885,114.6031114997808,115.56974658895271,116.53638167812468,117.50301676729661,118.46965185646854,119.43628694564048,120.40292203481242,121.36955712398435,122.33619221315627,123.30282730232821,124.26946239150014,125.23609748067209,126.20273256984402,127.16936765901593,128.13600274818785,129.10263783735982,130.06927292653177,131.03590801570368,132.0025431048756,132.96917819404757,133.93581328321946,134.90244837239143,135.86908346156332,136.83571855073532,137.80235363990718,138.76898872907913,139.73562381825107,140.70225890742302,141.66889399659493,142.6355290857669,143.60216417493885,144.56879926411074,145.5354343532827]],[\"prices_acc\",[88.77611857070927,89.65894637500546,90.54177417930165,91.42460198359784,92.30742978789407,93.19025759219025,94.07308539648643,94.95591320078265,95.83874100507883,96.72156880937501,97.60439661367121,98.48722441796744,99.37005222226362,100.2528800265598,101.135707830856,102.01853563515216,102.90136343944837,103.78419124374456,104.66701904804076,105.54984685233694,106.43267465663317,107.31550246092935,108.19833026522555,109.08115806952173,109.96398587381795,110.84681367811413,111.72964148241032,112.61246928670651,113.49529709100271,114.37812489529891,115.2609526995951,116.14378050389128,117.02660830818746,117.90943611248368,118.79226391677989,119.67509172107607,120.55791952537224,121.44074732966847,122.32357513396464,123.20640293826085,124.089230742557,124.97205854685326,125.8548863511494,126.7377141554456,127.6205419597418,128.503369764038,129.38619756833418,130.2690253726304,131.1518531769266,132.03468098122278,132.917508785519]]]}}},\"view\":{\"type\":\"object\",\"name\":\"CDSView\",\"id\":\"p1058\",\"attributes\":{\"filter\":{\"type\":\"object\",\"name\":\"AllIndices\",\"id\":\"p1059\"}}},\"glyph\":{\"type\":\"object\",\"name\":\"Line\",\"id\":\"p1054\",\"attributes\":{\"x\":{\"type\":\"field\",\"field\":\"targets\"},\"y\":{\"type\":\"field\",\"field\":\"prices_acc\"}}},\"nonselection_glyph\":{\"type\":\"object\",\"name\":\"Line\",\"id\":\"p1055\",\"attributes\":{\"x\":{\"type\":\"field\",\"field\":\"targets\"},\"y\":{\"type\":\"field\",\"field\":\"prices_acc\"},\"line_alpha\":0.1}},\"muted_glyph\":{\"type\":\"object\",\"name\":\"Line\",\"id\":\"p1056\",\"attributes\":{\"x\":{\"type\":\"field\",\"field\":\"targets\"},\"y\":{\"type\":\"field\",\"field\":\"prices_acc\"},\"line_alpha\":0.2}}}},{\"type\":\"object\",\"name\":\"GlyphRenderer\",\"id\":\"p1068\",\"attributes\":{\"data_source\":{\"type\":\"object\",\"name\":\"ColumnDataSource\",\"id\":\"p1062\",\"attributes\":{\"selected\":{\"type\":\"object\",\"name\":\"Selection\",\"id\":\"p1064\",\"attributes\":{\"indices\":[],\"line_indices\":[]}},\"selection_policy\":{\"type\":\"object\",\"name\":\"UnionRenderers\",\"id\":\"p1063\"},\"data\":{\"type\":\"map\"}}},\"view\":{\"type\":\"object\",\"name\":\"CDSView\",\"id\":\"p1069\",\"attributes\":{\"filter\":{\"type\":\"object\",\"name\":\"AllIndices\",\"id\":\"p1070\"}}},\"glyph\":{\"type\":\"object\",\"name\":\"Circle\",\"id\":\"p1065\",\"attributes\":{\"x\":{\"type\":\"value\",\"value\":0.0},\"y\":{\"type\":\"value\",\"value\":88.77511111866538},\"size\":{\"type\":\"value\",\"value\":5},\"line_color\":{\"type\":\"value\",\"value\":\"green\"},\"fill_color\":{\"type\":\"value\",\"value\":\"green\"},\"hatch_color\":{\"type\":\"value\",\"value\":\"green\"}}},\"nonselection_glyph\":{\"type\":\"object\",\"name\":\"Circle\",\"id\":\"p1066\",\"attributes\":{\"x\":{\"type\":\"value\",\"value\":0.0},\"y\":{\"type\":\"value\",\"value\":88.77511111866538},\"size\":{\"type\":\"value\",\"value\":5},\"line_color\":{\"type\":\"value\",\"value\":\"green\"},\"line_alpha\":{\"type\":\"value\",\"value\":0.1},\"fill_color\":{\"type\":\"value\",\"value\":\"green\"},\"fill_alpha\":{\"type\":\"value\",\"value\":0.1},\"hatch_color\":{\"type\":\"value\",\"value\":\"green\"},\"hatch_alpha\":{\"type\":\"value\",\"value\":0.1}}},\"muted_glyph\":{\"type\":\"object\",\"name\":\"Circle\",\"id\":\"p1067\",\"attributes\":{\"x\":{\"type\":\"value\",\"value\":0.0},\"y\":{\"type\":\"value\",\"value\":88.77511111866538},\"size\":{\"type\":\"value\",\"value\":5},\"line_color\":{\"type\":\"value\",\"value\":\"green\"},\"line_alpha\":{\"type\":\"value\",\"value\":0.2},\"fill_color\":{\"type\":\"value\",\"value\":\"green\"},\"fill_alpha\":{\"type\":\"value\",\"value\":0.2},\"hatch_color\":{\"type\":\"value\",\"value\":\"green\"},\"hatch_alpha\":{\"type\":\"value\",\"value\":0.2}}}}},{\"type\":\"object\",\"name\":\"GlyphRenderer\",\"id\":\"p1079\",\"attributes\":{\"data_source\":{\"type\":\"object\",\"name\":\"ColumnDataSource\",\"id\":\"p1073\",\"attributes\":{\"selected\":{\"type\":\"object\",\"name\":\"Selection\",\"id\":\"p1075\",\"attributes\":{\"indices\":[],\"line_indices\":[]}},\"selection_policy\":{\"type\":\"object\",\"name\":\"UnionRenderers\",\"id\":\"p1074\"},\"data\":{\"type\":\"map\"}}},\"view\":{\"type\":\"object\",\"name\":\"CDSView\",\"id\":\"p1080\",\"attributes\":{\"filter\":{\"type\":\"object\",\"name\":\"AllIndices\",\"id\":\"p1081\"}}},\"glyph\":{\"type\":\"object\",\"name\":\"Circle\",\"id\":\"p1076\",\"attributes\":{\"x\":{\"type\":\"value\",\"value\":-0.008096988998262802},\"y\":{\"type\":\"value\",\"value\":88.06207347854539},\"size\":{\"type\":\"value\",\"value\":5},\"line_color\":{\"type\":\"value\",\"value\":\"orange\"},\"fill_color\":{\"type\":\"value\",\"value\":\"orange\"},\"hatch_color\":{\"type\":\"value\",\"value\":\"orange\"}}},\"nonselection_glyph\":{\"type\":\"object\",\"name\":\"Circle\",\"id\":\"p1077\",\"attributes\":{\"x\":{\"type\":\"value\",\"value\":-0.008096988998262802},\"y\":{\"type\":\"value\",\"value\":88.06207347854539},\"size\":{\"type\":\"value\",\"value\":5},\"line_color\":{\"type\":\"value\",\"value\":\"orange\"},\"line_alpha\":{\"type\":\"value\",\"value\":0.1},\"fill_color\":{\"type\":\"value\",\"value\":\"orange\"},\"fill_alpha\":{\"type\":\"value\",\"value\":0.1},\"hatch_color\":{\"type\":\"value\",\"value\":\"orange\"},\"hatch_alpha\":{\"type\":\"value\",\"value\":0.1}}},\"muted_glyph\":{\"type\":\"object\",\"name\":\"Circle\",\"id\":\"p1078\",\"attributes\":{\"x\":{\"type\":\"value\",\"value\":-0.008096988998262802},\"y\":{\"type\":\"value\",\"value\":88.06207347854539},\"size\":{\"type\":\"value\",\"value\":5},\"line_color\":{\"type\":\"value\",\"value\":\"orange\"},\"line_alpha\":{\"type\":\"value\",\"value\":0.2},\"fill_color\":{\"type\":\"value\",\"value\":\"orange\"},\"fill_alpha\":{\"type\":\"value\",\"value\":0.2},\"hatch_color\":{\"type\":\"value\",\"value\":\"orange\"},\"hatch_alpha\":{\"type\":\"value\",\"value\":0.2}}}}}],\"toolbar\":{\"type\":\"object\",\"name\":\"Toolbar\",\"id\":\"p1009\",\"attributes\":{\"autohide\":true,\"tools\":[{\"type\":\"object\",\"name\":\"PanTool\",\"id\":\"p1036\"},{\"type\":\"object\",\"name\":\"WheelZoomTool\",\"id\":\"p1037\"},{\"type\":\"object\",\"name\":\"BoxZoomTool\",\"id\":\"p1038\",\"attributes\":{\"overlay\":{\"type\":\"object\",\"name\":\"BoxAnnotation\",\"id\":\"p1039\",\"attributes\":{\"syncable\":false,\"level\":\"overlay\",\"visible\":false,\"left_units\":\"canvas\",\"right_units\":\"canvas\",\"bottom_units\":\"canvas\",\"top_units\":\"canvas\",\"line_color\":\"black\",\"line_alpha\":1.0,\"line_width\":2,\"line_dash\":[4,4],\"fill_color\":\"lightgrey\",\"fill_alpha\":0.5}}}},{\"type\":\"object\",\"name\":\"SaveTool\",\"id\":\"p1040\"},{\"type\":\"object\",\"name\":\"ResetTool\",\"id\":\"p1041\"},{\"type\":\"object\",\"name\":\"HelpTool\",\"id\":\"p1042\"},{\"type\":\"object\",\"name\":\"CrosshairTool\",\"id\":\"p1091\",\"attributes\":{\"dimensions\":\"height\"}},{\"type\":\"object\",\"name\":\"HoverTool\",\"id\":\"p1093\",\"attributes\":{\"renderers\":[{\"id\":\"p1057\"}],\"tooltips\":[[\"pct\",\"$snap_x{0.0%}\"],[\"price\",\"@prices_exc{0.00}\\u20ac - @prices_acc{$0.00}\"]],\"mode\":\"vline\"}}]}},\"toolbar_location\":\"above\",\"left\":[{\"type\":\"object\",\"name\":\"LinearAxis\",\"id\":\"p1029\",\"attributes\":{\"ticker\":{\"type\":\"object\",\"name\":\"BasicTicker\",\"id\":\"p1030\",\"attributes\":{\"mantissas\":[1,2,5]}},\"formatter\":{\"type\":\"object\",\"name\":\"PrintfTickFormatter\",\"id\":\"p1087\",\"attributes\":{\"format\":\"%0.2f \\u20ac\"}},\"axis_label\":\"stock price target EUR\",\"major_label_policy\":{\"type\":\"object\",\"name\":\"AllLabels\",\"id\":\"p1031\"}}}],\"below\":[{\"type\":\"object\",\"name\":\"LinearAxis\",\"id\":\"p1022\",\"attributes\":{\"ticker\":{\"type\":\"object\",\"name\":\"BasicTicker\",\"id\":\"p1023\",\"attributes\":{\"mantissas\":[1,2,5]}},\"formatter\":{\"type\":\"object\",\"name\":\"NumeralTickFormatter\",\"id\":\"p1089\",\"attributes\":{\"format\":\"0.0%\"}},\"axis_label\":\"grow target %\",\"major_label_policy\":{\"type\":\"object\",\"name\":\"AllLabels\",\"id\":\"p1024\"}}}],\"center\":[{\"type\":\"object\",\"name\":\"Grid\",\"id\":\"p1028\",\"attributes\":{\"axis\":{\"id\":\"p1022\"}}},{\"type\":\"object\",\"name\":\"Grid\",\"id\":\"p1035\",\"attributes\":{\"dimension\":1,\"axis\":{\"id\":\"p1029\"}}},{\"type\":\"object\",\"name\":\"Legend\",\"id\":\"p1060\",\"attributes\":{\"location\":\"top_left\",\"click_policy\":\"hide\",\"items\":[{\"type\":\"object\",\"name\":\"LegendItem\",\"id\":\"p1061\",\"attributes\":{\"label\":{\"type\":\"value\",\"value\":\"target\"},\"renderers\":[{\"id\":\"p1057\"}]}},{\"type\":\"object\",\"name\":\"LegendItem\",\"id\":\"p1071\",\"attributes\":{\"label\":{\"type\":\"value\",\"value\":\"BEP\"},\"renderers\":[{\"id\":\"p1068\"}]}},{\"type\":\"object\",\"name\":\"LegendItem\",\"id\":\"p1082\",\"attributes\":{\"label\":{\"type\":\"value\",\"value\":\"entry price\"},\"renderers\":[{\"id\":\"p1079\"}]}}]}},{\"type\":\"object\",\"name\":\"Span\",\"id\":\"p1072\",\"attributes\":{\"location\":88.77511111866538,\"line_color\":\"green\"}},{\"type\":\"object\",\"name\":\"Span\",\"id\":\"p1083\",\"attributes\":{\"location\":88.06207347854539,\"line_color\":\"orange\"}},{\"type\":\"object\",\"name\":\"Label\",\"id\":\"p1084\",\"attributes\":{\"text\":\"88.78\\u20ac\",\"text_color\":\"white\",\"text_font_size\":\"12px\",\"background_fill_color\":\"green\",\"border_line_color\":\"green\",\"border_line_width\":2,\"x\":2.5,\"x_units\":\"screen\",\"y\":88.77511111866538}},{\"type\":\"object\",\"name\":\"Label\",\"id\":\"p1085\",\"attributes\":{\"text\":\"88.06\\u20ac\",\"text_color\":\"white\",\"text_font_size\":\"12px\",\"text_baseline\":\"top\",\"background_fill_color\":\"orange\",\"border_line_color\":\"orange\",\"border_line_width\":2,\"x\":2.5,\"x_units\":\"screen\",\"y\":88.06207347854539}}]}},{\"type\":\"object\",\"name\":\"DataTable\",\"id\":\"p1104\",\"attributes\":{\"width\":300,\"height\":600,\"source\":{\"id\":\"p1001\"},\"view\":{\"type\":\"object\",\"name\":\"CDSView\",\"id\":\"p1108\",\"attributes\":{\"filter\":{\"type\":\"object\",\"name\":\"AllIndices\",\"id\":\"p1109\"}}},\"columns\":[{\"type\":\"object\",\"name\":\"TableColumn\",\"id\":\"p1095\",\"attributes\":{\"field\":\"targets\",\"title\":\"target Pct\",\"formatter\":{\"type\":\"object\",\"name\":\"StringFormatter\",\"id\":\"p1096\"},\"editor\":{\"type\":\"object\",\"name\":\"StringEditor\",\"id\":\"p1097\"}}},{\"type\":\"object\",\"name\":\"TableColumn\",\"id\":\"p1098\",\"attributes\":{\"field\":\"prices_acc\",\"title\":\"Price EUR\",\"formatter\":{\"type\":\"object\",\"name\":\"StringFormatter\",\"id\":\"p1099\"},\"editor\":{\"type\":\"object\",\"name\":\"StringEditor\",\"id\":\"p1100\"}}},{\"type\":\"object\",\"name\":\"TableColumn\",\"id\":\"p1101\",\"attributes\":{\"field\":\"prices_exc\",\"title\":\"Price USD\",\"formatter\":{\"type\":\"object\",\"name\":\"StringFormatter\",\"id\":\"p1102\"},\"editor\":{\"type\":\"object\",\"name\":\"StringEditor\",\"id\":\"p1103\"}}}],\"selectable\":false,\"index_position\":null}}]}}],\"callbacks\":{\"type\":\"map\"}}};\n",
       "  const render_items = [{\"docid\":\"a37191e7-5524-4ccd-ba92-d9cc66e3be7f\",\"roots\":{\"p1110\":\"eec3e014-c1b0-4d5d-828c-f797ca61237a\"},\"root_ids\":[\"p1110\"]}];\n",
       "  root.Bokeh.embed.embed_items_notebook(docs_json, render_items);\n",
       "  }\n",
       "  if (root.Bokeh !== undefined) {\n",
       "    embed_document(root);\n",
       "  } else {\n",
       "    let attempts = 0;\n",
       "    const timer = setInterval(function(root) {\n",
       "      if (root.Bokeh !== undefined) {\n",
       "        clearInterval(timer);\n",
       "        embed_document(root);\n",
       "      } else {\n",
       "        attempts++;\n",
       "        if (attempts > 100) {\n",
       "          clearInterval(timer);\n",
       "          console.log(\"Bokeh: ERROR: Unable to run BokehJS code because BokehJS library is missing\");\n",
       "        }\n",
       "      }\n",
       "    }, 10, root)\n",
       "  }\n",
       "})(window);"
      ],
      "application/vnd.bokehjs_exec.v0+json": ""
     },
     "metadata": {
      "application/vnd.bokehjs_exec.v0+json": {
       "id": "p1110"
      }
     },
     "output_type": "display_data"
    }
   ],
   "source": [
    "source = ColumnDataSource(\n",
    "    data=dict(targets=TARGETS, prices_exc=output_exc, prices_acc=output_acc)\n",
    ")\n",
    "\n",
    "\n",
    "fig = figure(\n",
    "    title=\"Target Prices\",\n",
    "    x_axis_label=\"grow target %\",\n",
    "    y_axis_label=\"stock price target EUR\",\n",
    "    toolbar_location=\"above\",\n",
    "    sizing_mode=\"stretch_width\",\n",
    "    height=600,\n",
    ")\n",
    "\n",
    "line = fig.line(\n",
    "    x=\"targets\",\n",
    "    y=\"prices_acc\",\n",
    "    legend_label=\"target\",\n",
    "    line_width=1,\n",
    "    source=source,\n",
    "    name=\"target_line\",\n",
    "    color=\"black\",\n",
    ")\n",
    "\n",
    "fig.circle(\n",
    "    0.0,\n",
    "    net_sell_bep_price_eur,  # , *curr_fx_price,\n",
    "    legend_label=\"BEP\",\n",
    "    color=\"green\",\n",
    "    size=5,\n",
    ")\n",
    "fig.add_layout(\n",
    "    Span(\n",
    "        location=net_sell_bep_price_eur,  # *curr_fx_price,\n",
    "        dimension=\"width\",\n",
    "        line_color=\"green\",\n",
    "        line_width=1,\n",
    "    )\n",
    ")\n",
    "\n",
    "fig.circle(\n",
    "    pct_loss_buy_price,\n",
    "    trade_price / trade_fx_price,\n",
    "    legend_label=\"entry price\",\n",
    "    color=\"orange\",\n",
    "    size=5,\n",
    ")\n",
    "fig.add_layout(\n",
    "    Span(\n",
    "        location=trade_price / trade_fx_price,\n",
    "        dimension=\"width\",\n",
    "        line_color=\"orange\",\n",
    "        line_width=1,\n",
    "    )\n",
    ")\n",
    "\n",
    "fig.add_layout(\n",
    "    Label(\n",
    "        x=2.5,\n",
    "        y=net_sell_bep_price_eur,\n",
    "        x_units=\"screen\",\n",
    "        text=f\"{net_sell_bep_price_eur:.2f}€\",\n",
    "        border_line_width=2,\n",
    "        border_line_color=\"green\",\n",
    "        background_fill_color=\"green\",\n",
    "        text_font_size=\"12px\",\n",
    "        text_color=\"white\",\n",
    "    )\n",
    ")\n",
    "\n",
    "fig.add_layout(\n",
    "    Label(\n",
    "        x=2.5,\n",
    "        y=trade_price / trade_fx_price,\n",
    "        x_units=\"screen\",\n",
    "        text=f\"{trade_price/trade_fx_price:.2f}€\",\n",
    "        border_line_width=2,\n",
    "        border_line_color=\"orange\",\n",
    "        background_fill_color=\"orange\",\n",
    "        text_font_size=\"12px\",\n",
    "        text_color=\"white\",\n",
    "        text_baseline=\"top\",\n",
    "    )\n",
    ")\n",
    "\n",
    "# fig.toolbar.logo = None\n",
    "fig.toolbar.autohide = True\n",
    "fig.legend.location = \"top_left\"\n",
    "fig.legend.click_policy = \"hide\"\n",
    "# fig.yaxis[0].formatter = NumeralTickFormatter(format=' 0.00')\n",
    "fig.yaxis[0].formatter = PrintfTickFormatter(format=\"%0.2f €\")\n",
    "fig.xaxis[0].formatter = NumeralTickFormatter(format=\"0.0%\")\n",
    "\n",
    "fig.add_tools(CrosshairTool(dimensions=\"height\"))\n",
    "tooltips = [\n",
    "    (\"pct\", \"$snap_x{0.0%}\"),\n",
    "    (\"price\", \"@prices_exc{0.00}€ - @prices_acc{$0.00}\"),\n",
    "]\n",
    "fig.add_tools(HoverTool(tooltips=tooltips, mode=\"vline\", renderers=[line]))\n",
    "\n",
    "\n",
    "columns = [\n",
    "    TableColumn(field=\"targets\", title=\"target Pct\"),\n",
    "    TableColumn(field=\"prices_acc\", title=\"Price EUR\"),\n",
    "    TableColumn(field=\"prices_exc\", title=\"Price USD\"),\n",
    "]\n",
    "data_table = DataTable(\n",
    "    source=source,\n",
    "    columns=columns,\n",
    "    width=300,\n",
    "    height=600,\n",
    "    selectable=False,\n",
    "    index_position=None,\n",
    ")\n",
    "\n",
    "show(row(fig, data_table, sizing_mode=\"scale_width\"))"
   ]
  }
 ],
 "metadata": {
  "kernelspec": {
   "display_name": "Python 3 (ipykernel)",
   "language": "python",
   "name": "python3"
  },
  "language_info": {
   "codemirror_mode": {
    "name": "ipython",
    "version": 3
   },
   "file_extension": ".py",
   "mimetype": "text/x-python",
   "name": "python",
   "nbconvert_exporter": "python",
   "pygments_lexer": "ipython3",
   "version": "3.10.11"
  },
  "toc-autonumbering": true,
  "toc-showcode": false,
  "toc-showmarkdowntxt": false,
  "toc-showtags": false
 },
 "nbformat": 4,
 "nbformat_minor": 5
}
