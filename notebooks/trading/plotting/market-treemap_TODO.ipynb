{
 "cells": [
  {
   "cell_type": "markdown",
   "id": "e1ad697f-0e21-4308-a803-4250fcb0e6e5",
   "metadata": {},
   "source": [
    "# Build a treemap for sp500 stocks market data using bokeh"
   ]
  },
  {
   "cell_type": "code",
   "execution_count": 1,
   "id": "2054641d-b889-450e-882b-52c4e524b90e",
   "metadata": {
    "execution": {
     "iopub.execute_input": "2023-10-04T23:28:35.146338Z",
     "iopub.status.busy": "2023-10-04T23:28:35.145482Z",
     "iopub.status.idle": "2023-10-04T23:28:35.514596Z",
     "shell.execute_reply": "2023-10-04T23:28:35.513823Z",
     "shell.execute_reply.started": "2023-10-04T23:28:35.146223Z"
    },
    "tags": []
   },
   "outputs": [],
   "source": [
    "from pathlib import Path\n",
    "\n",
    "import pandas as pd"
   ]
  },
  {
   "cell_type": "code",
   "execution_count": 2,
   "id": "1ba89df8-3db7-45b1-9217-dcd0d74b4566",
   "metadata": {
    "execution": {
     "iopub.execute_input": "2023-10-04T23:28:35.516841Z",
     "iopub.status.busy": "2023-10-04T23:28:35.516453Z",
     "iopub.status.idle": "2023-10-04T23:28:35.522777Z",
     "shell.execute_reply": "2023-10-04T23:28:35.521363Z",
     "shell.execute_reply.started": "2023-10-04T23:28:35.516822Z"
    },
    "tags": [
     "remove_cell"
    ]
   },
   "outputs": [],
   "source": [
    "data_path = Path().resolve().parent.parent.parent/\"data\"/\"trading\""
   ]
  },
  {
   "cell_type": "markdown",
   "id": "ebb62ea0-e826-486b-8785-d84ba34c35e4",
   "metadata": {},
   "source": [
    "## Load and transform data\n",
    "Data downloaded as in [get index stocks info](../get-index-stocks-info.ipynb)"
   ]
  },
  {
   "cell_type": "code",
   "execution_count": 5,
   "id": "16722bfa-d4eb-4d4f-a904-bf184919a6be",
   "metadata": {
    "execution": {
     "iopub.execute_input": "2023-10-04T23:42:07.075413Z",
     "iopub.status.busy": "2023-10-04T23:42:07.074903Z",
     "iopub.status.idle": "2023-10-04T23:42:07.148653Z",
     "shell.execute_reply": "2023-10-04T23:42:07.146460Z",
     "shell.execute_reply.started": "2023-10-04T23:42:07.075392Z"
    },
    "tags": []
   },
   "outputs": [
    {
     "data": {
      "text/html": [
       "<div>\n",
       "<style scoped>\n",
       "    .dataframe tbody tr th:only-of-type {\n",
       "        vertical-align: middle;\n",
       "    }\n",
       "\n",
       "    .dataframe tbody tr th {\n",
       "        vertical-align: top;\n",
       "    }\n",
       "\n",
       "    .dataframe thead th {\n",
       "        text-align: right;\n",
       "    }\n",
       "</style>\n",
       "<table border=\"1\" class=\"dataframe\">\n",
       "  <thead>\n",
       "    <tr style=\"text-align: right;\">\n",
       "      <th></th>\n",
       "      <th>currentPrice</th>\n",
       "      <th>industry</th>\n",
       "      <th>marketCap</th>\n",
       "      <th>previousClose</th>\n",
       "      <th>sector</th>\n",
       "      <th>shortName</th>\n",
       "      <th>symbol</th>\n",
       "    </tr>\n",
       "  </thead>\n",
       "  <tbody>\n",
       "    <tr>\n",
       "      <th>0</th>\n",
       "      <td>111.67</td>\n",
       "      <td>Diagnostics &amp; Research</td>\n",
       "      <td>32673189888</td>\n",
       "      <td>110.26</td>\n",
       "      <td>Healthcare</td>\n",
       "      <td>Agilent Technologies, Inc.</td>\n",
       "      <td>A</td>\n",
       "    </tr>\n",
       "    <tr>\n",
       "      <th>1</th>\n",
       "      <td>12.73</td>\n",
       "      <td>Airlines</td>\n",
       "      <td>8317297664</td>\n",
       "      <td>12.29</td>\n",
       "      <td>Industrials</td>\n",
       "      <td>American Airlines Group, Inc.</td>\n",
       "      <td>AAL</td>\n",
       "    </tr>\n",
       "    <tr>\n",
       "      <th>2</th>\n",
       "      <td>173.66</td>\n",
       "      <td>Consumer Electronics</td>\n",
       "      <td>2715035107328</td>\n",
       "      <td>172.40</td>\n",
       "      <td>Technology</td>\n",
       "      <td>Apple Inc.</td>\n",
       "      <td>AAPL</td>\n",
       "    </tr>\n",
       "    <tr>\n",
       "      <th>3</th>\n",
       "      <td>147.69</td>\n",
       "      <td>Drug Manufacturers - General</td>\n",
       "      <td>260680237056</td>\n",
       "      <td>147.43</td>\n",
       "      <td>Healthcare</td>\n",
       "      <td>AbbVie Inc.</td>\n",
       "      <td>ABBV</td>\n",
       "    </tr>\n",
       "    <tr>\n",
       "      <th>4</th>\n",
       "      <td>127.41</td>\n",
       "      <td>Travel Services</td>\n",
       "      <td>86917578752</td>\n",
       "      <td>127.73</td>\n",
       "      <td>Consumer Cyclical</td>\n",
       "      <td>Airbnb, Inc.</td>\n",
       "      <td>ABNB</td>\n",
       "    </tr>\n",
       "  </tbody>\n",
       "</table>\n",
       "</div>"
      ],
      "text/plain": [
       "   currentPrice                      industry      marketCap  previousClose   \n",
       "0        111.67        Diagnostics & Research    32673189888         110.26  \\\n",
       "1         12.73                      Airlines     8317297664          12.29   \n",
       "2        173.66          Consumer Electronics  2715035107328         172.40   \n",
       "3        147.69  Drug Manufacturers - General   260680237056         147.43   \n",
       "4        127.41               Travel Services    86917578752         127.73   \n",
       "\n",
       "              sector                      shortName symbol  \n",
       "0         Healthcare     Agilent Technologies, Inc.      A  \n",
       "1        Industrials  American Airlines Group, Inc.    AAL  \n",
       "2         Technology                     Apple Inc.   AAPL  \n",
       "3         Healthcare                    AbbVie Inc.   ABBV  \n",
       "4  Consumer Cyclical                   Airbnb, Inc.   ABNB  "
      ]
     },
     "execution_count": 5,
     "metadata": {},
     "output_type": "execute_result"
    }
   ],
   "source": [
    "raw_data = pd.read_parquet(data_path/\"sp500_stocks_info_20231004.parquet\")\n",
    "raw_data.head()"
   ]
  },
  {
   "cell_type": "code",
   "execution_count": 21,
   "id": "722f364a-9666-4ff8-a080-9cbe47b91efb",
   "metadata": {
    "execution": {
     "iopub.execute_input": "2023-10-04T23:51:21.708431Z",
     "iopub.status.busy": "2023-10-04T23:51:21.707670Z",
     "iopub.status.idle": "2023-10-04T23:51:21.734084Z",
     "shell.execute_reply": "2023-10-04T23:51:21.732379Z",
     "shell.execute_reply.started": "2023-10-04T23:51:21.708308Z"
    },
    "tags": []
   },
   "outputs": [
    {
     "data": {
      "text/html": [
       "<div>\n",
       "<style scoped>\n",
       "    .dataframe tbody tr th:only-of-type {\n",
       "        vertical-align: middle;\n",
       "    }\n",
       "\n",
       "    .dataframe tbody tr th {\n",
       "        vertical-align: top;\n",
       "    }\n",
       "\n",
       "    .dataframe thead th {\n",
       "        text-align: right;\n",
       "    }\n",
       "</style>\n",
       "<table border=\"1\" class=\"dataframe\">\n",
       "  <thead>\n",
       "    <tr style=\"text-align: right;\">\n",
       "      <th></th>\n",
       "      <th>currentPrice</th>\n",
       "      <th>industry</th>\n",
       "      <th>marketCap</th>\n",
       "      <th>previousClose</th>\n",
       "      <th>sector</th>\n",
       "      <th>shortName</th>\n",
       "      <th>symbol</th>\n",
       "      <th>var</th>\n",
       "      <th>var_pct</th>\n",
       "    </tr>\n",
       "  </thead>\n",
       "  <tbody>\n",
       "    <tr>\n",
       "      <th>346</th>\n",
       "      <td>16.32</td>\n",
       "      <td>Drug Manufacturers - General</td>\n",
       "      <td>4170869760</td>\n",
       "      <td>16.29</td>\n",
       "      <td>Healthcare</td>\n",
       "      <td>Organon &amp; Co.</td>\n",
       "      <td>OGN</td>\n",
       "      <td>0.03</td>\n",
       "      <td>0.001842</td>\n",
       "    </tr>\n",
       "    <tr>\n",
       "      <th>146</th>\n",
       "      <td>21.15</td>\n",
       "      <td>Information Technology Services</td>\n",
       "      <td>4339429888</td>\n",
       "      <td>21.16</td>\n",
       "      <td>Technology</td>\n",
       "      <td>DXC Technology Company</td>\n",
       "      <td>DXC</td>\n",
       "      <td>-0.01</td>\n",
       "      <td>-0.000473</td>\n",
       "    </tr>\n",
       "    <tr>\n",
       "      <th>23</th>\n",
       "      <td>36.13</td>\n",
       "      <td>Airlines</td>\n",
       "      <td>4596603392</td>\n",
       "      <td>35.80</td>\n",
       "      <td>Industrials</td>\n",
       "      <td>Alaska Air Group, Inc.</td>\n",
       "      <td>ALK</td>\n",
       "      <td>0.33</td>\n",
       "      <td>0.009218</td>\n",
       "    </tr>\n",
       "    <tr>\n",
       "      <th>407</th>\n",
       "      <td>31.90</td>\n",
       "      <td>Packaging &amp; Containers</td>\n",
       "      <td>4625500160</td>\n",
       "      <td>31.45</td>\n",
       "      <td>Consumer Cyclical</td>\n",
       "      <td>Sealed Air Corporation</td>\n",
       "      <td>SEE</td>\n",
       "      <td>0.45</td>\n",
       "      <td>0.014308</td>\n",
       "    </tr>\n",
       "    <tr>\n",
       "      <th>498</th>\n",
       "      <td>33.33</td>\n",
       "      <td>Banks - Regional</td>\n",
       "      <td>4937672704</td>\n",
       "      <td>32.92</td>\n",
       "      <td>Financial Services</td>\n",
       "      <td>Zions Bancorporation N.A.</td>\n",
       "      <td>ZION</td>\n",
       "      <td>0.41</td>\n",
       "      <td>0.012454</td>\n",
       "    </tr>\n",
       "  </tbody>\n",
       "</table>\n",
       "</div>"
      ],
      "text/plain": [
       "     currentPrice                         industry   marketCap  previousClose   \n",
       "346         16.32     Drug Manufacturers - General  4170869760          16.29  \\\n",
       "146         21.15  Information Technology Services  4339429888          21.16   \n",
       "23          36.13                         Airlines  4596603392          35.80   \n",
       "407         31.90           Packaging & Containers  4625500160          31.45   \n",
       "498         33.33                 Banks - Regional  4937672704          32.92   \n",
       "\n",
       "                 sector                  shortName symbol   var   var_pct  \n",
       "346          Healthcare              Organon & Co.    OGN  0.03  0.001842  \n",
       "146          Technology     DXC Technology Company    DXC -0.01 -0.000473  \n",
       "23          Industrials     Alaska Air Group, Inc.    ALK  0.33  0.009218  \n",
       "407   Consumer Cyclical     Sealed Air Corporation    SEE  0.45  0.014308  \n",
       "498  Financial Services  Zions Bancorporation N.A.   ZION  0.41  0.012454  "
      ]
     },
     "execution_count": 21,
     "metadata": {},
     "output_type": "execute_result"
    }
   ],
   "source": [
    "data = (\n",
    "    raw_data\n",
    "    .assign(\n",
    "        var=lambda x: x[\"currentPrice\"] - x[\"previousClose\"],\n",
    "        var_pct=lambda x: x[\"var\"] / x[\"previousClose\"]\n",
    "    )\n",
    "    .sort_values(\"marketCap\", ascending=True)\n",
    ")\n",
    "data.head()"
   ]
  },
  {
   "cell_type": "code",
   "execution_count": 29,
   "id": "44dcd2d4-470a-4800-85df-2552acea9bb0",
   "metadata": {
    "execution": {
     "iopub.execute_input": "2023-10-04T23:53:30.583953Z",
     "iopub.status.busy": "2023-10-04T23:53:30.583697Z",
     "iopub.status.idle": "2023-10-04T23:53:30.606442Z",
     "shell.execute_reply": "2023-10-04T23:53:30.605312Z",
     "shell.execute_reply.started": "2023-10-04T23:53:30.583936Z"
    },
    "tags": []
   },
   "outputs": [
    {
     "data": {
      "text/html": [
       "<div>\n",
       "<style scoped>\n",
       "    .dataframe tbody tr th:only-of-type {\n",
       "        vertical-align: middle;\n",
       "    }\n",
       "\n",
       "    .dataframe tbody tr th {\n",
       "        vertical-align: top;\n",
       "    }\n",
       "\n",
       "    .dataframe thead th {\n",
       "        text-align: right;\n",
       "    }\n",
       "</style>\n",
       "<table border=\"1\" class=\"dataframe\">\n",
       "  <thead>\n",
       "    <tr style=\"text-align: right;\">\n",
       "      <th></th>\n",
       "      <th>sector</th>\n",
       "      <th>marketCap</th>\n",
       "    </tr>\n",
       "  </thead>\n",
       "  <tbody>\n",
       "    <tr>\n",
       "      <th>0</th>\n",
       "      <td>Basic Materials</td>\n",
       "      <td>811546017792</td>\n",
       "    </tr>\n",
       "    <tr>\n",
       "      <th>10</th>\n",
       "      <td>Utilities</td>\n",
       "      <td>845592262656</td>\n",
       "    </tr>\n",
       "    <tr>\n",
       "      <th>8</th>\n",
       "      <td>Real Estate</td>\n",
       "      <td>854313592832</td>\n",
       "    </tr>\n",
       "    <tr>\n",
       "      <th>4</th>\n",
       "      <td>Energy</td>\n",
       "      <td>1652145815552</td>\n",
       "    </tr>\n",
       "    <tr>\n",
       "      <th>3</th>\n",
       "      <td>Consumer Defensive</td>\n",
       "      <td>2682719399936</td>\n",
       "    </tr>\n",
       "    <tr>\n",
       "      <th>7</th>\n",
       "      <td>Industrials</td>\n",
       "      <td>3027076624384</td>\n",
       "    </tr>\n",
       "    <tr>\n",
       "      <th>2</th>\n",
       "      <td>Consumer Cyclical</td>\n",
       "      <td>4272511754752</td>\n",
       "    </tr>\n",
       "    <tr>\n",
       "      <th>5</th>\n",
       "      <td>Financial Services</td>\n",
       "      <td>4847582654464</td>\n",
       "    </tr>\n",
       "    <tr>\n",
       "      <th>6</th>\n",
       "      <td>Healthcare</td>\n",
       "      <td>4929782422016</td>\n",
       "    </tr>\n",
       "    <tr>\n",
       "      <th>1</th>\n",
       "      <td>Communication Services</td>\n",
       "      <td>5439905757696</td>\n",
       "    </tr>\n",
       "    <tr>\n",
       "      <th>9</th>\n",
       "      <td>Technology</td>\n",
       "      <td>10492291257856</td>\n",
       "    </tr>\n",
       "  </tbody>\n",
       "</table>\n",
       "</div>"
      ],
      "text/plain": [
       "                    sector       marketCap\n",
       "0          Basic Materials    811546017792\n",
       "10               Utilities    845592262656\n",
       "8              Real Estate    854313592832\n",
       "4                   Energy   1652145815552\n",
       "3       Consumer Defensive   2682719399936\n",
       "7              Industrials   3027076624384\n",
       "2        Consumer Cyclical   4272511754752\n",
       "5       Financial Services   4847582654464\n",
       "6               Healthcare   4929782422016\n",
       "1   Communication Services   5439905757696\n",
       "9               Technology  10492291257856"
      ]
     },
     "execution_count": 29,
     "metadata": {},
     "output_type": "execute_result"
    }
   ],
   "source": [
    "sectors = data[\"sector\"].sort_values().unique().tolist()\n",
    "\n",
    "mktcap_by_sector = data.filter([\"sector\", \"marketCap\"]).groupby(\"sector\", as_index=False).sum().sort_values(by=\"marketCap\")\n",
    "mktcap_by_sector"
   ]
  },
  {
   "cell_type": "code",
   "execution_count": null,
   "id": "8305018b-a03d-4573-a16a-56dd0cc6b7f6",
   "metadata": {},
   "outputs": [],
   "source": []
  },
  {
   "cell_type": "markdown",
   "id": "34497706-2703-4fbe-92df-925d3334a851",
   "metadata": {},
   "source": [
    "https://docs.bokeh.org/en/3.1.1/docs/examples/topics/hierarchical/treemap.html\n",
    "https://finviz.com/map.ashx"
   ]
  }
 ],
 "metadata": {
  "kernelspec": {
   "display_name": "Python 3 (ipykernel)",
   "language": "python",
   "name": "python3"
  },
  "language_info": {
   "codemirror_mode": {
    "name": "ipython",
    "version": 3
   },
   "file_extension": ".py",
   "mimetype": "text/x-python",
   "name": "python",
   "nbconvert_exporter": "python",
   "pygments_lexer": "ipython3",
   "version": "3.10.11"
  }
 },
 "nbformat": 4,
 "nbformat_minor": 5
}
