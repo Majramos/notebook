{
 "cells": [
  {
   "cell_type": "markdown",
   "id": "7608b431-453f-4e84-8c4b-f724623d386f",
   "metadata": {},
   "source": [
    "# Trading indicators in python"
   ]
  },
  {
   "cell_type": "code",
   "execution_count": 1,
   "id": "01ca9a96-f89d-49e1-9ade-9d56d50dae2c",
   "metadata": {},
   "outputs": [],
   "source": [
    "import pandas as pd"
   ]
  },
  {
   "cell_type": "markdown",
   "id": "17851785-8650-4a2c-963b-9ba66e59dada",
   "metadata": {},
   "source": [
    "## Relative Strength Index"
   ]
  },
  {
   "cell_type": "code",
   "execution_count": 2,
   "id": "81e711c4-86b9-4149-94a2-a52df1b2243c",
   "metadata": {},
   "outputs": [],
   "source": [
    "def get_relative_strength_index(df: pd.DataFrame, column: str, periods: int) -> pd.DataFrame:\n",
    "    \"\"\" Returns the Relative Strength Index for a given column in a dataframe.\n",
    "    The relative strength index is based on the observation that price \n",
    "    movements tend to be confined between upper and lower extremes. The index \n",
    "    shows whether these price movements are strong or weak.\n",
    "    \n",
    "    Parameters\n",
    "    ----------\n",
    "    df: The dataframe containing the column.\n",
    "    column: The column to be used.\n",
    "    period: The period to be used.\n",
    "    \n",
    "    Returns\n",
    "    -------\n",
    "    : The dataframe with the Bollinger Bands columns.\n",
    "    \"\"\"\n",
    "    close_delta = df[column].diff()\n",
    "\n",
    "    up = close_delta.clip(lower=0)\n",
    "    down = -1 * close_delta.clip(upper=0)\n",
    "    \n",
    "    ma_up = up.ewm(com = periods - 1, adjust=True, min_periods = periods).mean()\n",
    "    ma_down = down.ewm(com = periods - 1, adjust=True, min_periods = periods).mean()\n",
    "        \n",
    "    rs = ma_up / ma_down\n",
    "    df['{}_rsi'.format(column)] = 100 - (100/(1 + rs))\n",
    "    \n",
    "    return df"
   ]
  },
  {
   "cell_type": "markdown",
   "id": "bc9b1dcf-3ee9-4a23-8874-47ea80851ea6",
   "metadata": {},
   "source": [
    "## Bollinger Bands"
   ]
  },
  {
   "cell_type": "code",
   "execution_count": 3,
   "id": "d8e9a8e0-8ef8-4b17-b0b8-034c4a6917cf",
   "metadata": {},
   "outputs": [],
   "source": [
    "def get_bollinger_bands(df: pd.DataFrame, column: str, period: int,\n",
    "                        std_dev: float) -> pd.DataFrame:\n",
    "    \"\"\" Calculates the Bollinger Bands for a given column in a dataframe.\n",
    "    Bollinger bands are a technical analysis indicator that can be used to \n",
    "    identify when securities are overbought or oversold. For example, when the \n",
    "    price is approaching the upper band — it deviates from its standard value\n",
    "    and therefore is closer to being overbought. However, the opposite is true\n",
    "    for the direction down.\n",
    "    \n",
    "    Parameters\n",
    "    ----------\n",
    "    df: The dataframe containing the column.\n",
    "    column: The column to be used.\n",
    "    period: The period to be used.\n",
    "\n",
    "    Returns\n",
    "    -------\n",
    "    : The dataframe with the Bollinger Bands columns.\n",
    "    \"\"\"\n",
    "\n",
    "    df['{}_upper_band'.format(column)] = df[column].rolling(period).mean() + (df[column].rolling(period).std() * std_dev)\n",
    "    df['{}_lower_band'.format(column)] = df[column].rolling(period).mean() - (df[column].rolling(period).std() * std_dev)\n",
    "    return df"
   ]
  },
  {
   "cell_type": "markdown",
   "id": "da3c424f-cf8c-4d05-b9b5-1e42219eda98",
   "metadata": {},
   "source": [
    "##  Moving average convergence divergence (MACD)"
   ]
  },
  {
   "cell_type": "code",
   "execution_count": 4,
   "id": "d3dc6dba-50ed-491f-bea0-2d2328260148",
   "metadata": {},
   "outputs": [],
   "source": [
    "def get_macd(df: pd.DataFrame, column: str, period1: int, period2: int,\n",
    "             period3: int) -> pd.DataFrame:\n",
    "    \"\"\" Calculates the MACD for a given column in a dataframe.\n",
    "    Moving average convergence divergence (MACD) is a technical analysis \n",
    "    indicator that measures the difference between a security’s 26-period and \n",
    "    12-period moving averages. MACD is calculated by subtracting the 26-period \n",
    "    moving average from the 12-period moving average. If MACD is positive, it \n",
    "    indicates that the 12-period moving average is above the 26-period moving \n",
    "    average, and vice versa.\n",
    "    \n",
    "    Parameters\n",
    "    ----------\n",
    "    df: The dataframe containing the column.\n",
    "    column: The column to be used.\n",
    "    period1: The first period to be used.\n",
    "    period2: The second period to be used.\n",
    "    period3: The third period to be used.\n",
    "    \n",
    "    Returns\n",
    "    -------\n",
    "    : The dataframe with the  MACD columns.\n",
    "    \"\"\"\n",
    "\n",
    "    df['{}_macd'.format(column)] = df[column].ewm(span=period1).mean() - df[column].ewm(span=period2).mean()\n",
    "    df['{}_signal'.format(column)] = df['{}_macd'.format(column)].ewm(span=period3).mean()\n",
    "    return df"
   ]
  },
  {
   "cell_type": "markdown",
   "id": "2b0965a4-b6eb-47eb-96a8-f0999bb3e2e7",
   "metadata": {},
   "source": [
    "## Return Percentage"
   ]
  },
  {
   "cell_type": "code",
   "execution_count": 5,
   "id": "82cfb265-fce5-46b6-beeb-86efb20573b4",
   "metadata": {},
   "outputs": [],
   "source": [
    "def calculate_return_percentage(starting_value: float, ending_value: float,\n",
    "                                period: int) -> float:\n",
    "    \"\"\" Calculates the return percentage over period.\n",
    "    Gives a reasonable estimation of the profitability of an asset.\n",
    "    \n",
    "    Parameters\n",
    "    ----------\n",
    "    starting_value: The starting value.\n",
    "    ending_value: The ending value.\n",
    "    period: The period.\n",
    "    \n",
    "    Returns\n",
    "    -------\n",
    "    : The annual return percentage.\n",
    "    \"\"\"\n",
    "\n",
    "    if period <= 0:\n",
    "        raise ValueError(\"Period must be greater than 0\")\n",
    "\n",
    "    return_value = (ending_value - starting_value) / starting_value\n",
    "    return (1 + return_value) ** (1 / period) - 1"
   ]
  },
  {
   "cell_type": "markdown",
   "id": "d5abc34d-7e85-43ce-af3c-f28b0a443e02",
   "metadata": {},
   "source": [
    "## Logarithmic Returns"
   ]
  },
  {
   "cell_type": "code",
   "execution_count": 6,
   "id": "026e9f55-5435-4c18-bb79-33ce0d122e8d",
   "metadata": {},
   "outputs": [],
   "source": [
    "def get_log_returns(df: pd.DataFrame, column: str) -> pd.DataFrame:\n",
    "    \"\"\" Calculates the log returns for a given column in a dataframe.\n",
    "    Logarithmic returns are a critical aspect of financial planning. They \n",
    "    represent the relationship between investment growth and time. This method \n",
    "    is also a frequent “building block” for other indicators as you see down \n",
    "    the line.\n",
    "\n",
    "    Parameters\n",
    "    ----------\n",
    "    df: The dataframe containing the column.\n",
    "    column: The column to be used.\n",
    "\n",
    "    Returns\n",
    "    -------\n",
    "    : The series with the log returns column.\n",
    "    \"\"\"\n",
    "    returns = np.log(df[column]/df[column].shift(1))\n",
    "    returns.fillna(0, inplace=True)\n",
    "    \n",
    "    return returns"
   ]
  },
  {
   "cell_type": "markdown",
   "id": "ca4546b2-0faa-4bed-86bb-0a4f8b695190",
   "metadata": {},
   "source": [
    "## Volatility"
   ]
  },
  {
   "cell_type": "code",
   "execution_count": 7,
   "id": "99572114-cce7-45e0-a784-9cd807ae6ce6",
   "metadata": {},
   "outputs": [],
   "source": [
    "def get_volatility(df: pd.DataFrame, periods: int, column: str) -> pd.DataFrame:\n",
    "    \"\"\" Calculates the volatility for a given column in a dataframe.\n",
    "    Volatility is the term used to describe the fluctuations in the price of a \n",
    "    security. It helps estimate the stability of the price and therefore risks \n",
    "    related to investment in the asset.\n",
    "    \n",
    "    Parameters\n",
    "    ----------\n",
    "    df: The dataframe containing the column.\n",
    "    periods: The periods to be used.\n",
    "    column: The column to be used.\n",
    " \n",
    "    Returns\n",
    "    -------\n",
    "    : The volatility series column and mean volatility.\n",
    "    \"\"\"\n",
    "\n",
    "    returns = get_log_returns(df, column)\n",
    "    volatility_series = returns.rolling(window=periods).std() * np.sqrt(periods)\n",
    "\n",
    "    return volatility_series, volatility_series.mean()"
   ]
  },
  {
   "cell_type": "markdown",
   "id": "6e824340-ab29-488e-98ce-18d8fc0daaee",
   "metadata": {},
   "source": [
    "## Sharpe Ratio"
   ]
  },
  {
   "cell_type": "code",
   "execution_count": 8,
   "id": "b66b4d6c-5214-4952-b720-8d0db5530d8c",
   "metadata": {},
   "outputs": [],
   "source": [
    "def get_sharpe_ratio(df: pd.DataFrame, periods: int, column: str) -> pd.DataFrame:\n",
    "    \"\"\" Calculates the Sharpe ratio for a given column in a dataframe.\n",
    "    Sharpe Ratio is an indicator that represents the spread of risks across \n",
    "    periods by measuring the relations between returns and volatility risks \n",
    "    during the designated period.\n",
    "\n",
    "    Parameters\n",
    "    ----------\n",
    "    df: The dataframe containing the column.\n",
    "    periods: The periods to be used.\n",
    "    column: The column to be used.\n",
    "    \n",
    "    Returns\n",
    "    -------\n",
    "    : The Sharpe ratio.\n",
    "    \"\"\"\n",
    "\n",
    "    returns = get_log_returns(df, column)\n",
    "    volatility = get_volatility(df, periods, column)[0]\n",
    "\n",
    "    return returns.mean()/volatility"
   ]
  }
 ],
 "metadata": {
  "kernelspec": {
   "display_name": "Python 3 (ipykernel)",
   "language": "python",
   "name": "python3"
  },
  "language_info": {
   "codemirror_mode": {
    "name": "ipython",
    "version": 3
   },
   "file_extension": ".py",
   "mimetype": "text/x-python",
   "name": "python",
   "nbconvert_exporter": "python",
   "pygments_lexer": "ipython3",
   "version": "3.11.9"
  }
 },
 "nbformat": 4,
 "nbformat_minor": 5
}
